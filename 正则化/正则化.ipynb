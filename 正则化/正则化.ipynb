{
 "cells": [
  {
   "cell_type": "markdown",
   "id": "fc55633b",
   "metadata": {},
   "source": [
    "### 套索回归【alpha大小对结果影响】"
   ]
  },
  {
   "cell_type": "code",
   "execution_count": 1,
   "id": "1210a349",
   "metadata": {},
   "outputs": [],
   "source": [
    "import matplotlib.pyplot as plt\n",
    "import numpy as np"
   ]
  },
  {
   "cell_type": "code",
   "execution_count": 2,
   "id": "9333b09e",
   "metadata": {
    "ExecuteTime": {
     "end_time": "2022-06-06T12:13:45.384735Z",
     "start_time": "2022-06-06T12:13:45.279067Z"
    }
   },
   "outputs": [
    {
     "data": {
      "image/png": "[encoded data removed]",
      "text/plain": [
       "<Figure size 640x480 with 1 Axes>"
      ]
     },
     "metadata": {},
     "output_type": "display_data"
    }
   ],
   "source": [
    "# 只绘制第一象限，假设 1 = α*（）\n",
    "# α的值是1   \n",
    "# 1 = x + y  # w1 + w2\n",
    "# y = 1 -x\n",
    "f = lambda x : 1- x\n",
    "x = np.linspace(0,1,100)\n",
    "plt.axis('equal')\n",
    "plt.plot(x, f(x), color = 'green')\n",
    "\n",
    "# α 的值是：3\n",
    "# 1 = 3 * x + 3 * y\n",
    "# y = 1/3 -x\n",
    "f2 = lambda x : 1/3 - x \n",
    "x2 = np.linspace(0,1/3,100)\n",
    "plt.plot(x2, f2(x2),color = 'red')\n",
    "\n",
    "# 1 = -3 * x + 3 * y\n",
    "# y = 1/3 + x\n",
    "f2 = lambda x : 1/3 + x \n",
    "x2 = np.linspace(-1/3,0,100)\n",
    "plt.plot(x2,f2(x2),color = 'red')\n",
    "\n",
    "# 1 = -3 * x - 3 * y\n",
    "# y = -1/3 - x\n",
    "f2 = lambda x : -1/3 - x \n",
    "x2 = np.linspace(-1/3,0,100)\n",
    "plt.plot(x2,f2(x2),color = 'red')\n",
    "\n",
    "# 1 = 3 * x - 3 * y\n",
    "# y = -1/3 + x\n",
    "f2 = lambda x : -1/3 + x \n",
    "x2 = np.linspace(0,1/3,100)\n",
    "plt.plot(x2,f2(x2),color = 'red')\n",
    "\n",
    "# 一些列设置\n",
    "plt.xlim(-2,2)\n",
    "plt.ylim(-2,2)\n",
    "ax = plt.gca()\n",
    "ax.spines['right'].set_color('None')  # 将图片的右框隐藏\n",
    "ax.spines['top'].set_color('None')  # 将图片的上边框隐藏\n",
    "ax.spines['bottom'].set_position(('data', 0)) # x轴出现在y轴的-1 位置\n",
    "ax.spines['left'].set_position(('data', 0))"
   ]
  },
  {
   "cell_type": "markdown",
   "id": "5c564256",
   "metadata": {},
   "source": [
    "### Lasso回归公式"
   ]
  },
  {
   "cell_type": "markdown",
   "id": "64d8dea5",
   "metadata": {},
   "source": [
    "<font size = 18>$\\min_{w} { \\frac{1}{2n_{\\text{samples}}} ||X w - y||_2 ^ 2 + \\alpha ||w||_1}$</font>"
   ]
  },
  {
   "cell_type": "markdown",
   "id": "35040eec",
   "metadata": {},
   "source": [
    "### 岭回归公式"
   ]
  },
  {
   "cell_type": "markdown",
   "id": "a22a12fd",
   "metadata": {},
   "source": [
    "<font size = 18>$\\min_{w} || X w - y||_2^2 + \\alpha ||w||_2^2$</font>"
   ]
  },
  {
   "cell_type": "markdown",
   "id": "7fd4a519",
   "metadata": {},
   "source": [
    "### 代码演示Lasso套索回归使用"
   ]
  },
  {
   "cell_type": "markdown",
   "id": "73de15eb",
   "metadata": {},
   "source": [
    "什么时候使用Lasso回归：  \n",
    "- 特征冗余，如特征200多个，使用Lasso回归把一些特征的权重衰减到0\n",
    "- 防止过拟合  \n",
    "\n",
    "什么时候使用普通SGDRegressor：\n",
    "- 一般问题，没有特征冗余\n",
    "- 没有过拟合问题"
   ]
  },
  {
   "cell_type": "markdown",
   "id": "117ff80e",
   "metadata": {},
   "source": [
    "#### Lasso套索回归"
   ]
  },
  {
   "cell_type": "code",
   "execution_count": 3,
   "id": "3c2a2230",
   "metadata": {},
   "outputs": [],
   "source": [
    "import numpy as np\n",
    "from sklearn.linear_model import Lasso\n",
    "from sklearn.linear_model import SGDRegressor"
   ]
  },
  {
   "cell_type": "code",
   "execution_count": 4,
   "id": "f121c5f6",
   "metadata": {
    "ExecuteTime": {
     "end_time": "2022-06-06T12:35:22.897146Z",
     "start_time": "2022-06-06T12:35:22.038001Z"
    }
   },
   "outputs": [
    {
     "name": "stdout",
     "output_type": "stream",
     "text": [
      "原始方程的斜率： [ 0.88895193  1.22789004  0.40080718  1.57522539 -1.89840708  0.44115019\n",
      " -1.11324901  1.61478837  0.61445601  1.56382859 -0.02806955 -0.4287223\n",
      "  0.7878842  -1.4401645  -1.99202802 -0.63358862  0.09349938  0.35151361\n",
      " -0.08474652 -1.21604684]\n",
      "原始方程的截距： [3]\n"
     ]
    }
   ],
   "source": [
    "# 1、创建数据集X，y\n",
    "X = 2*np.random.rand(100, 20)\n",
    "w = np.random.randn(20,1) # 随机生成的系数，正态分布\n",
    "b = np.random.randint(1,10,size = 1)\n",
    "y = X.dot(w) + b + np.random.randn(100, 1)\n",
    "\n",
    "print('原始方程的斜率：',w.ravel())\n",
    "print('原始方程的截距：',b)\n",
    "# 这是真实答案"
   ]
  },
  {
   "cell_type": "code",
   "execution_count": 5,
   "id": "6d6dffc1",
   "metadata": {
    "ExecuteTime": {
     "end_time": "2022-06-06T12:50:05.587087Z",
     "start_time": "2022-06-06T12:50:05.571883Z"
    }
   },
   "outputs": [
    {
     "name": "stdout",
     "output_type": "stream",
     "text": [
      "套索回归求解的斜率： [ 0.07372228  0.45023307  0.          0.78077411 -1.31196081  0.\n",
      " -0.33581643  1.26663785  0.          1.22980033 -0.         -0.03890531\n",
      "  0.33597893 -0.43269881 -0.89654805 -0.45110998  0.          0.\n",
      " -0.         -0.52543228]\n",
      "套索回归求解的截距： [3.71338437]\n"
     ]
    }
   ],
   "source": [
    "lasso = Lasso(alpha= 0.2) # alpha = 0相当于普通的线性回归，正则项没有了\n",
    "lasso.fit(X, y)\n",
    "print('套索回归求解的斜率：',lasso.coef_)\n",
    "print('套索回归求解的截距：',lasso.intercept_)\n",
    "# 正则化，防止过拟合\n",
    "# 具体数据体现：系数缩小，一部分被缩小到0"
   ]
  },
  {
   "cell_type": "code",
   "execution_count": 6,
   "id": "8e297646",
   "metadata": {},
   "outputs": [
    {
     "name": "stdout",
     "output_type": "stream",
     "text": [
      "套索回归求解的斜率： [ 0.  0.  0.  0. -0.  0. -0.  0.  0.  0. -0. -0.  0. -0. -0. -0.  0.  0.\n",
      " -0. -0.]\n",
      "套索回归求解的截距： [4.01309617]\n"
     ]
    }
   ],
   "source": [
    "lasso = Lasso(alpha= 1) # alpha = 0相当于普通的线性回归\n",
    "lasso.fit(X, y) \n",
    "print('套索回归求解的斜率：',lasso.coef_)\n",
    "print('套索回归求解的截距：',lasso.intercept_)\n",
    "# 正则化，防止过拟合\n",
    "# 具体数据体现：系数缩小，一部分被缩小到0"
   ]
  },
  {
   "cell_type": "markdown",
   "id": "2e964585",
   "metadata": {},
   "source": [
    "#### 线性回归梯度下降SGDRegressor"
   ]
  },
  {
   "cell_type": "code",
   "execution_count": 7,
   "id": "6fe5c900",
   "metadata": {
    "ExecuteTime": {
     "end_time": "2022-06-06T12:48:58.838156Z",
     "start_time": "2022-06-06T12:48:58.817713Z"
    }
   },
   "outputs": [
    {
     "name": "stdout",
     "output_type": "stream",
     "text": [
      "随机梯度下降求解的斜率是： [ 1.01989441  1.19459951 -0.01574583  1.51133019 -1.98320753  0.76722946\n",
      " -0.94636816  1.84344744  0.70729784  1.97330137  0.33078375 -0.39676245\n",
      "  0.5681757  -1.54732468 -2.02042127 -0.51950215  0.1823495   0.13984088\n",
      " -0.30459975 -1.44791626]\n",
      "随机梯度下降求解的截距是： [1.7113744]\n"
     ]
    }
   ],
   "source": [
    "# 线性回归梯度下降方法\n",
    "# 随机梯度下降\n",
    "from sklearn.linear_model import SGDRegressor\n",
    "\n",
    "sgd = SGDRegressor(penalty='l1',alpha=0,eta0=0.05,max_iter=10000,learning_rate = 'constant')\n",
    "sgd.fit(X, y.reshape(-1,))\n",
    "print('随机梯度下降求解的斜率是：',sgd.coef_)\n",
    "print('随机梯度下降求解的截距是：',sgd.intercept_)"
   ]
  },
  {
   "cell_type": "markdown",
   "id": "55e51213",
   "metadata": {},
   "source": [
    "#### 对比LinearRegression "
   ]
  },
  {
   "cell_type": "code",
   "execution_count": 29,
   "id": "ce5d5345",
   "metadata": {
    "ExecuteTime": {
     "end_time": "2022-06-06T12:52:41.913925Z",
     "start_time": "2022-06-06T12:52:41.895954Z"
    }
   },
   "outputs": [],
   "source": [
    "from sklearn.linear_model import LinearRegression \n",
    "\n",
    "# 正规方程，进行的求解\n",
    "# 和梯度下降，完全不同的方式"
   ]
  },
  {
   "cell_type": "markdown",
   "id": "322a8ab1",
   "metadata": {},
   "source": [
    "### Ridge岭回归代码演示使用"
   ]
  },
  {
   "cell_type": "markdown",
   "id": "bb5fbd4b",
   "metadata": {},
   "source": [
    "什么时候使用Ridge岭回归：\n",
    "- 出现过拟合\n",
    "- 特征冗余，需要筛选特征，根据coefficient比较小，可以删除相应的特征   \n",
    "\n",
    "什么时候使用一般LinearRegression：\n",
    "- 一般不用，除非问题特别简单"
   ]
  },
  {
   "cell_type": "markdown",
   "id": "83de3ff4",
   "metadata": {},
   "source": [
    "#### Ridge岭回归"
   ]
  },
  {
   "cell_type": "code",
   "execution_count": 8,
   "id": "45314c9e",
   "metadata": {
    "ExecuteTime": {
     "end_time": "2022-06-06T13:22:37.651628Z",
     "start_time": "2022-06-06T13:22:37.639560Z"
    }
   },
   "outputs": [
    {
     "name": "stdout",
     "output_type": "stream",
     "text": [
      "原始方程的斜率： [9 2 3 4 1]\n",
      "原始方程的截距： [2]\n"
     ]
    }
   ],
   "source": [
    "import numpy as np\n",
    "from sklearn.linear_model import Ridge\n",
    "from sklearn.linear_model import SGDRegressor\n",
    "\n",
    "# 1、创建数据集X，y\n",
    "X = 2*np.random.rand(100, 5)\n",
    "w = np.random.randint(1,10,size = (5,1))\n",
    "b = np.random.randint(1,10,size = 1)\n",
    "y = X.dot(w) + b + np.random.randn(100, 1)\n",
    "\n",
    "print('原始方程的斜率：',w.ravel())\n",
    "print('原始方程的截距：',b)"
   ]
  },
  {
   "cell_type": "code",
   "execution_count": 9,
   "id": "a5867655",
   "metadata": {
    "ExecuteTime": {
     "end_time": "2022-06-06T13:34:28.356647Z",
     "start_time": "2022-06-06T13:34:28.341644Z"
    }
   },
   "outputs": [
    {
     "name": "stdout",
     "output_type": "stream",
     "text": [
      "岭回归求解的斜率： [[8.39936516 1.98397157 2.96550306 3.74278113 0.80272275]]\n",
      "岭回归求解的截距： [3.14880391]\n"
     ]
    }
   ],
   "source": [
    "ridge = Ridge(alpha= 1, solver='sag') # 'sag' uses a Stochastic Average Gradient descent\n",
    "ridge.fit(X, y)\n",
    "print('岭回归求解的斜率：',ridge.coef_)\n",
    "print('岭回归求解的截距：',ridge.intercept_)\n",
    "# 对比原方程，这里求解的结果有一个下降趋势\n",
    "# 权重变低了，一定程度上防止过拟合"
   ]
  },
  {
   "cell_type": "markdown",
   "id": "175fa2f9",
   "metadata": {},
   "source": [
    "#### 线性回归梯度下降SGDRegressor"
   ]
  },
  {
   "cell_type": "code",
   "execution_count": 12,
   "id": "4f0f91f4",
   "metadata": {
    "ExecuteTime": {
     "end_time": "2022-06-06T13:39:50.463238Z",
     "start_time": "2022-06-06T13:39:50.456221Z"
    }
   },
   "outputs": [
    {
     "name": "stdout",
     "output_type": "stream",
     "text": [
      "随机梯度下降求解的斜率是： [8.56620419 1.97100028 3.06263096 3.80988078 0.80881628]\n",
      "随机梯度下降求解的截距是： [2.69623426]\n"
     ]
    }
   ],
   "source": [
    "# 线性回归梯度下降方法\n",
    "sgd = SGDRegressor(penalty='l2',alpha=0.0001,eta0=0.1)\n",
    "sgd.fit(X, y.reshape(-1,))\n",
    "print('随机梯度下降求解的斜率是：',sgd.coef_)\n",
    "print('随机梯度下降求解的截距是：',sgd.intercept_)"
   ]
  },
  {
   "cell_type": "markdown",
   "id": "256e8453",
   "metadata": {},
   "source": [
    "#### 对比LinearRegression"
   ]
  },
  {
   "cell_type": "code",
   "execution_count": 11,
   "id": "4463f2d9",
   "metadata": {
    "ExecuteTime": {
     "end_time": "2022-06-06T13:30:26.802693Z",
     "start_time": "2022-06-06T13:30:26.774754Z"
    }
   },
   "outputs": [
    {
     "name": "stdout",
     "output_type": "stream",
     "text": [
      "正规方程系数： [[8.63653233 2.01943267 3.08586879 3.82393712 0.85318268]]\n",
      "正规方程截距： [2.5880882]\n"
     ]
    }
   ],
   "source": [
    "# 使用正规方程\n",
    "from sklearn.linear_model import LinearRegression\n",
    "\n",
    "model = LinearRegression()\n",
    "model.fit(X,y)\n",
    "print('正规方程系数：',model.coef_)\n",
    "print('正规方程截距：',model.intercept_)"
   ]
  },
  {
   "cell_type": "code",
   "execution_count": 10,
   "id": "4aff7055",
   "metadata": {},
   "outputs": [
    {
     "name": "stdout",
     "output_type": "stream",
     "text": [
      "岭回归求解的斜率： [[8.63627885 2.01958827 3.08580101 3.823819   0.8534682 ]]\n",
      "岭回归求解的截距： [2.58815144]\n"
     ]
    }
   ],
   "source": [
    "ridge = Ridge(alpha= 0, solver='sag')  # 不加正则项，结果类似正规方程的解\n",
    "ridge.fit(X, y)\n",
    "print('岭回归求解的斜率：',ridge.coef_)\n",
    "print('岭回归求解的截距：',ridge.intercept_)"
   ]
  },
  {
   "cell_type": "markdown",
   "id": "83bba788",
   "metadata": {},
   "source": [
    "### 弹性网络代码演示"
   ]
  },
  {
   "cell_type": "markdown",
   "id": "bfef84b3",
   "metadata": {},
   "source": [
    "#### ElasticNet"
   ]
  },
  {
   "cell_type": "code",
   "execution_count": 13,
   "id": "098eef15",
   "metadata": {
    "ExecuteTime": {
     "end_time": "2022-06-06T13:45:03.709533Z",
     "start_time": "2022-06-06T13:45:03.696577Z"
    }
   },
   "outputs": [
    {
     "name": "stdout",
     "output_type": "stream",
     "text": [
      "原始方程的斜率： [ 0.36176756  1.93756756  0.05576597  0.40298604 -1.12446031  1.08983435\n",
      " -1.38747671  0.9604531   0.17410098 -0.47016883 -0.80412702  0.18518081\n",
      " -1.58501795 -0.41893187  0.62719645  0.67846607  0.04675234  0.01354382\n",
      "  0.38972612  0.23754304]\n",
      "原始方程的截距： [2]\n"
     ]
    }
   ],
   "source": [
    "import numpy as np\n",
    "from sklearn.linear_model import ElasticNet\n",
    "from sklearn.linear_model import SGDRegressor\n",
    "\n",
    "# 1、创建数据集X，y\n",
    "X = 2*np.random.rand(100, 20) # 20个特征\n",
    "w = np.random.randn(20,1)\n",
    "b = np.random.randint(1,10,size = 1)\n",
    "y = X.dot(w) + b + np.random.randn(100, 1)\n",
    "\n",
    "print('原始方程的斜率：',w.ravel())\n",
    "print('原始方程的截距：',b)"
   ]
  },
  {
   "cell_type": "code",
   "execution_count": 14,
   "id": "5dbc1dd6",
   "metadata": {},
   "outputs": [
    {
     "name": "stdout",
     "output_type": "stream",
     "text": [
      "弹性网络回归求解的斜率： [ 0.  0.  0.  0. -0.  0. -0.  0.  0. -0. -0.  0. -0. -0.  0.  0. -0. -0.\n",
      "  0. -0.]\n",
      "弹性网络回归求解的截距： [3.3465895]\n"
     ]
    }
   ],
   "source": [
    "# 对比一下l1_ratio\n",
    "model = ElasticNet(alpha= 1, l1_ratio = 0.7)\n",
    "model.fit(X, y)\n",
    "print('弹性网络回归求解的斜率：',model.coef_)\n",
    "print('弹性网络回归求解的截距：',model.intercept_)"
   ]
  },
  {
   "cell_type": "code",
   "execution_count": 15,
   "id": "7f6d26cd",
   "metadata": {
    "ExecuteTime": {
     "end_time": "2022-06-06T13:45:57.493833Z",
     "start_time": "2022-06-06T13:45:57.477897Z"
    }
   },
   "outputs": [
    {
     "name": "stdout",
     "output_type": "stream",
     "text": [
      "弹性网络回归求解的斜率： [ 0.12556813  0.37622938  0.03531726  0.         -0.08639557  0.19949014\n",
      " -0.14244506  0.13680631  0.0480925  -0.03118003 -0.          0.\n",
      " -0.4069032  -0.06043526  0.00521301  0.         -0.         -0.\n",
      "  0.10514435 -0.        ]\n",
      "弹性网络回归求解的截距： [3.07301232]\n"
     ]
    }
   ],
   "source": [
    "model = ElasticNet(alpha= 1, l1_ratio = 0.1)\n",
    "model.fit(X, y)\n",
    "print('弹性网络回归求解的斜率：',model.coef_)\n",
    "print('弹性网络回归求解的截距：',model.intercept_)"
   ]
  },
  {
   "cell_type": "markdown",
   "id": "3a25f6a1",
   "metadata": {},
   "source": [
    "#### SGDRegressor"
   ]
  },
  {
   "cell_type": "code",
   "execution_count": 16,
   "id": "1ccadda3",
   "metadata": {
    "ExecuteTime": {
     "end_time": "2022-06-06T13:52:01.751392Z",
     "start_time": "2022-06-06T13:52:01.726956Z"
    }
   },
   "outputs": [
    {
     "name": "stdout",
     "output_type": "stream",
     "text": [
      "随机梯度下降求解的斜率是： [ 0.78074569  1.69921311  0.23223792  0.32729637 -0.54805828  0.90953105\n",
      " -1.00167562  0.81202515  0.29360939 -0.3261801  -0.36225945  0.31398104\n",
      " -1.44628729 -0.36156749  0.51296104  0.38006713  0.04763394 -0.02422936\n",
      "  0.67535295  0.04191144]\n",
      "随机梯度下降求解的截距是： [0.3625131]\n"
     ]
    }
   ],
   "source": [
    "# 线性回归梯度下降方法\n",
    "sgd = SGDRegressor(penalty='elasticnet',alpha=0.01, l1_ratio=0.5)\n",
    "sgd.fit(X, y.reshape(-1,))\n",
    "print('随机梯度下降求解的斜率是：',sgd.coef_)\n",
    "print('随机梯度下降求解的截距是：',sgd.intercept_)"
   ]
  },
  {
   "cell_type": "markdown",
   "id": "a1707c4a",
   "metadata": {},
   "source": [
    "### 多项式实战 正规方程"
   ]
  },
  {
   "cell_type": "code",
   "execution_count": null,
   "id": "41bd30a0",
   "metadata": {},
   "outputs": [],
   "source": [
    "# LinearRegression \n",
    "# 正规方程，没有进行梯度下降，不会出现有的特征找最优解找得快，有的慢\n",
    "# 所以可以不进行归一化"
   ]
  },
  {
   "cell_type": "code",
   "execution_count": 17,
   "id": "8a164c3e",
   "metadata": {},
   "outputs": [],
   "source": [
    "import numpy as np\n",
    "import matplotlib.pyplot as plt\n",
    "from sklearn.linear_model import LinearRegression # 正规方程，没有进行梯度下降"
   ]
  },
  {
   "cell_type": "code",
   "execution_count": 20,
   "id": "410e2952",
   "metadata": {},
   "outputs": [
    {
     "data": {
      "text/plain": [
       "[<matplotlib.lines.Line2D at 0x15f4da88940>]"
      ]
     },
     "execution_count": 20,
     "metadata": {},
     "output_type": "execute_result"
    },
    {
     "data": {
      "image/png": "[encoded data removed]",
      "text/plain": [
       "<Figure size 640x480 with 1 Axes>"
      ]
     },
     "metadata": {},
     "output_type": "display_data"
    }
   ],
   "source": [
    "# 1、创建数据，并进行可视化\n",
    "X = np.linspace(-1,11,num = 100)\n",
    "y = (X - 5)**2 + 3*X -12 + np.random.randn(100)\n",
    "X = X.reshape(-1,1)  # x只有一列\n",
    "plt.scatter(X,y)\n",
    "\n",
    "# 2、创建预测数据\n",
    "X_test = np.linspace(-2,12,num = 200).reshape(-1,1)\n",
    "\n",
    "# 3、不进行升维 + 正规方程线性回归\n",
    "model_1 = LinearRegression()\n",
    "model_1.fit(X,y)\n",
    "y_test_1 = model_1.predict(X_test)\n",
    "plt.plot(X_test,y_test_1,color = 'red')"
   ]
  },
  {
   "cell_type": "code",
   "execution_count": null,
   "id": "5cac5b19",
   "metadata": {},
   "outputs": [],
   "source": [
    "## 红色线欠拟合"
   ]
  },
  {
   "cell_type": "code",
   "execution_count": 21,
   "id": "00b4ccc0",
   "metadata": {
    "ExecuteTime": {
     "end_time": "2022-06-06T14:08:00.732413Z",
     "start_time": "2022-06-06T14:08:00.585907Z"
    }
   },
   "outputs": [
    {
     "data": {
      "text/plain": [
       "[<matplotlib.lines.Line2D at 0x15f4dfeb400>]"
      ]
     },
     "execution_count": 21,
     "metadata": {},
     "output_type": "execute_result"
    },
    {
     "data": {
      "image/png": "[encoded data removed]",
      "text/plain": [
       "<Figure size 640x480 with 1 Axes>"
      ]
     },
     "metadata": {},
     "output_type": "display_data"
    }
   ],
   "source": [
    "# # 1、创建数据，并进行可视化\n",
    "# X = np.linspace(-1,11,num = 100)\n",
    "# y = (X - 5)**2 + 3*X -12 + np.random.randn(100)\n",
    "# X = X.reshape(-1,1)\n",
    "plt.scatter(X,y)\n",
    "\n",
    "# 4、多项式升维 + 正规方程线性回归\n",
    "# 画龙点睛之步\n",
    "X = np.concatenate([X,X**2],axis = 1) # 升维，特征变多，多了一列，平方\n",
    "model_2 = LinearRegression()\n",
    "model_2.fit(X,y)\n",
    "\n",
    "# 5、测试数据处理，并预测\n",
    "X_test = np.concatenate([X_test,X_test**2],axis = 1)  # 增加了一列特征，测试数据也要增加一列\n",
    "y_test_2 = model_2.predict(X_test) #预测\n",
    "\n",
    "# 6、数据可视化，切片操作\n",
    "plt.plot(X_test[:,0],y_test_2,color = 'green')  # X中第一列才是原始数据，画线用的横坐标"
   ]
  },
  {
   "cell_type": "markdown",
   "id": "60c75d14",
   "metadata": {},
   "source": [
    "### 多项式实战【2.0】SGDRegressor"
   ]
  },
  {
   "cell_type": "code",
   "execution_count": 22,
   "id": "b8f6d027",
   "metadata": {},
   "outputs": [
    {
     "data": {
      "text/plain": [
       "<matplotlib.collections.PathCollection at 0x15f4e01ea40>"
      ]
     },
     "execution_count": 22,
     "metadata": {},
     "output_type": "execute_result"
    },
    {
     "data": {
      "image/png": "[encoded data removed]",
      "text/plain": [
       "<Figure size 640x480 with 1 Axes>"
      ]
     },
     "metadata": {},
     "output_type": "display_data"
    }
   ],
   "source": [
    "# import numpy as np\n",
    "# import matplotlib.pyplot as plt\n",
    "# # PolynomialFeatures 多项式特征\n",
    "# from sklearn.preprocessing import PolynomialFeatures,StandardScaler # 标准化\n",
    "# from sklearn.linear_model import SGDRegressor # 梯度下降的线性回归\n",
    "\n",
    "# # 1、创建数据，并进行可视化\n",
    "# X = np.linspace(-1,11,num = 100)\n",
    "# y = (X - 5)**2 + 3*X -12 + np.random.randn(100)\n",
    "# X = X.reshape(-1,1)\n",
    "# plt.scatter(X,y)"
   ]
  },
  {
   "cell_type": "code",
   "execution_count": 78,
   "id": "15ff6cb1",
   "metadata": {
    "ExecuteTime": {
     "end_time": "2022-06-06T14:25:23.978793Z",
     "start_time": "2022-06-06T14:25:23.848181Z"
    }
   },
   "outputs": [
    {
     "data": {
      "text/plain": [
       "[<matplotlib.lines.Line2D at 0x232d8691370>]"
      ]
     },
     "execution_count": 78,
     "metadata": {},
     "output_type": "execute_result"
    },
    {
     "data": {
      "image/png": "[encoded data removed]",
      "text/plain": [
       "<Figure size 432x288 with 1 Axes>"
      ]
     },
     "metadata": {
      "needs_background": "light"
     },
     "output_type": "display_data"
    }
   ],
   "source": [
    "import numpy as np\n",
    "import matplotlib.pyplot as plt\n",
    "# PolynomialFeatures 多项式特征\n",
    "from sklearn.preprocessing import PolynomialFeatures,StandardScaler # 标准化\n",
    "from sklearn.linear_model import SGDRegressor # 梯度下降的线性回归\n",
    "\n",
    "# 1、创建数据，并进行可视化\n",
    "X = np.linspace(-1,11,num = 100)\n",
    "y = (X - 5)**2 + 3*X -12 + np.random.randn(100)\n",
    "X = X.reshape(-1,1)\n",
    "plt.scatter(X,y)\n",
    "\n",
    "# 2、创建预测数据\n",
    "X_test = np.linspace(-2,12,num = 200).reshape(-1,1)\n",
    "\n",
    "# 3、使用PolynomialFeatures进行特征升维\n",
    "poly = PolynomialFeatures()\n",
    "poly.fit(X,y)\n",
    "X = poly.transform(X)\n",
    "\n",
    "model = SGDRegressor(penalty='l2',eta0 = 0.0001,max_iter=100000,learning_rate='constant')\n",
    "model.fit(X,y)\n",
    "\n",
    "# 4、预测数据\n",
    "X_test = poly.transform(X_test)\n",
    "y_test = model.predict(X_test)\n",
    "plt.plot(X_test[:,1],y_test,color = 'green')"
   ]
  },
  {
   "cell_type": "code",
   "execution_count": null,
   "id": "a62db012",
   "metadata": {},
   "outputs": [],
   "source": [
    "# 没有归一化，欠拟合"
   ]
  },
  {
   "cell_type": "markdown",
   "id": "bb5c4048",
   "metadata": {},
   "source": [
    "#### 对比是否归一化的结果"
   ]
  },
  {
   "cell_type": "code",
   "execution_count": null,
   "id": "a69838db",
   "metadata": {},
   "outputs": [],
   "source": [
    "# 使用了梯度下降，需要进行归一化"
   ]
  },
  {
   "cell_type": "code",
   "execution_count": 28,
   "id": "51919aee",
   "metadata": {
    "ExecuteTime": {
     "end_time": "2022-06-06T14:23:22.646050Z",
     "start_time": "2022-06-06T14:23:22.524456Z"
    }
   },
   "outputs": [
    {
     "data": {
      "text/plain": [
       "[<matplotlib.lines.Line2D at 0x15f4d981780>]"
      ]
     },
     "execution_count": 28,
     "metadata": {},
     "output_type": "execute_result"
    },
    {
     "data": {
      "image/png": "[encoded data removed]",
      "text/plain": [
       "<Figure size 640x480 with 1 Axes>"
      ]
     },
     "metadata": {},
     "output_type": "display_data"
    }
   ],
   "source": [
    "import numpy as np\n",
    "import matplotlib.pyplot as plt\n",
    "# PolynomialFeatures 多项式特征\n",
    "from sklearn.preprocessing import PolynomialFeatures,StandardScaler # 标准化\n",
    "from sklearn.linear_model import SGDRegressor # 梯度下降的线性回归\n",
    "\n",
    "# 1、创建数据，并进行可视化\n",
    "X = np.linspace(-1,11,num = 100)\n",
    "y = (X - 5)**2 + 3*X -12 + np.random.randn(100)\n",
    "X = X.reshape(-1,1)\n",
    "plt.scatter(X,y)\n",
    "\n",
    "# 2、创建预测数据\n",
    "X_test = np.linspace(-2,12,num = 200).reshape(-1,1)\n",
    "\n",
    "# 3、使用PolynomialFeatures进行特征升维\n",
    "poly = PolynomialFeatures()\n",
    "poly.fit(X,y)\n",
    "X = poly.transform(X)\n",
    "\n",
    "s = StandardScaler()\n",
    "X = s.fit_transform(X) # 归一化\n",
    "\n",
    "model = SGDRegressor(penalty='l2',eta0 = 0.01,max_iter=100000,learning_rate='constant')\n",
    "model.fit(X,y)\n",
    "\n",
    "# 4、预测数据\n",
    "X_test = poly.transform(X_test)\n",
    "X_test_norm = s.transform(X_test) # 对预测值，进行了归一化；对训练数据进行了归一化，那么对测试数据也必须进行归一化\n",
    "y_test = model.predict(X_test_norm)\n",
    "\n",
    "plt.plot(X_test[:,1],y_test,color = 'green')"
   ]
  },
  {
   "cell_type": "markdown",
   "id": "6975c4de",
   "metadata": {},
   "source": [
    "#### PolynomialFeatures"
   ]
  },
  {
   "cell_type": "code",
   "execution_count": 23,
   "id": "6c7dfd12",
   "metadata": {
    "ExecuteTime": {
     "end_time": "2022-06-06T14:15:08.107087Z",
     "start_time": "2022-06-06T14:15:08.092614Z"
    }
   },
   "outputs": [
    {
     "data": {
      "text/plain": [
       "array([[9, 9],\n",
       "       [3, 4],\n",
       "       [0, 4],\n",
       "       [5, 7],\n",
       "       [6, 9]])"
      ]
     },
     "metadata": {},
     "output_type": "display_data"
    }
   ],
   "source": [
    "X = np.random.randint(0,10,size = (5,2))\n",
    "display(X)"
   ]
  },
  {
   "cell_type": "code",
   "execution_count": 25,
   "id": "e8447b00",
   "metadata": {
    "ExecuteTime": {
     "end_time": "2022-06-06T14:16:46.268153Z",
     "start_time": "2022-06-06T14:16:46.255233Z"
    }
   },
   "outputs": [
    {
     "data": {
      "text/plain": [
       "array([[ 1.,  9.,  9., 81.],\n",
       "       [ 1.,  3.,  4., 12.],\n",
       "       [ 1.,  0.,  4.,  0.],\n",
       "       [ 1.,  5.,  7., 35.],\n",
       "       [ 1.,  6.,  9., 54.]])"
      ]
     },
     "execution_count": 25,
     "metadata": {},
     "output_type": "execute_result"
    }
   ],
   "source": [
    "# interaction_only=True 只能特征之间相乘，不能自乘\n",
    "poly = PolynomialFeatures(degree=2,interaction_only=True,include_bias=True)\n",
    "poly.fit_transform(X)\n",
    "# 第一列是截距项"
   ]
  },
  {
   "cell_type": "code",
   "execution_count": 26,
   "id": "a82befc6",
   "metadata": {
    "ExecuteTime": {
     "end_time": "2022-06-06T14:17:04.571416Z",
     "start_time": "2022-06-06T14:17:04.559410Z"
    }
   },
   "outputs": [
    {
     "data": {
      "text/plain": [
       "array([[ 9.,  9., 81.],\n",
       "       [ 3.,  4., 12.],\n",
       "       [ 0.,  4.,  0.],\n",
       "       [ 5.,  7., 35.],\n",
       "       [ 6.,  9., 54.]])"
      ]
     },
     "execution_count": 26,
     "metadata": {},
     "output_type": "execute_result"
    }
   ],
   "source": [
    "# include_bias=False\n",
    "poly = PolynomialFeatures(degree=2,interaction_only=True,include_bias=False)\n",
    "poly.fit_transform(X)"
   ]
  },
  {
   "cell_type": "code",
   "execution_count": 27,
   "id": "6d9db787",
   "metadata": {},
   "outputs": [
    {
     "data": {
      "text/plain": [
       "array([[ 9.,  9., 81., 81., 81.],\n",
       "       [ 3.,  4.,  9., 12., 16.],\n",
       "       [ 0.,  4.,  0.,  0., 16.],\n",
       "       [ 5.,  7., 25., 35., 49.],\n",
       "       [ 6.,  9., 36., 54., 81.]])"
      ]
     },
     "execution_count": 27,
     "metadata": {},
     "output_type": "execute_result"
    }
   ],
   "source": [
    "# interaction_only=False  不仅特征间相乘，还有自乘\n",
    "poly = PolynomialFeatures(degree=2,interaction_only=False,include_bias=False)\n",
    "poly.fit_transform(X)"
   ]
  },
  {
   "cell_type": "code",
   "execution_count": null,
   "id": "70ecaf6f",
   "metadata": {},
   "outputs": [],
   "source": []
  }
 ],
 "metadata": {
  "hide_input": false,
  "kernelspec": {
   "display_name": "Python 3 (ipykernel)",
   "language": "python",
   "name": "python3"
  },
  "language_info": {
   "codemirror_mode": {
    "name": "ipython",
    "version": 3
   },
   "file_extension": ".py",
   "mimetype": "text/x-python",
   "name": "python",
   "nbconvert_exporter": "python",
   "pygments_lexer": "ipython3",
   "version": "3.10.13"
  },
  "toc": {
   "base_numbering": 1,
   "nav_menu": {},
   "number_sections": true,
   "sideBar": true,
   "skip_h1_title": false,
   "title_cell": "Table of Contents",
   "title_sidebar": "Contents",
   "toc_cell": false,
   "toc_position": {
    "height": "calc(100% - 180px)",
    "left": "10px",
    "top": "150px",
    "width": "245.75px"
   },
   "toc_section_display": true,
   "toc_window_display": true
  }
 },
 "nbformat": 4,
 "nbformat_minor": 5
}
