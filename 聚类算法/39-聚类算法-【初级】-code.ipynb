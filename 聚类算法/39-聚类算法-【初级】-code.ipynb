{
 "cells": [
  {
   "cell_type": "markdown",
   "id": "93c1148b",
   "metadata": {},
   "source": [
    "### 亚洲足球国家队分类"
   ]
  },
  {
   "cell_type": "markdown",
   "id": "7f68ea76",
   "metadata": {},
   "source": [
    "#### 加载数据"
   ]
  },
  {
   "cell_type": "code",
   "execution_count": 1,
   "id": "6cd686c5",
   "metadata": {
    "ExecuteTime": {
     "end_time": "2022-08-03T13:31:24.555598Z",
     "start_time": "2022-08-03T13:31:23.154965Z"
    }
   },
   "outputs": [],
   "source": [
    "import numpy as np\n",
    "import matplotlib.pyplot as plt\n",
    "from sklearn.cluster import KMeans\n",
    "import pandas as pd"
   ]
  },
  {
   "cell_type": "code",
   "execution_count": 2,
   "id": "bbdc8da1",
   "metadata": {
    "ExecuteTime": {
     "end_time": "2022-08-03T13:31:37.466319Z",
     "start_time": "2022-08-03T13:31:37.426406Z"
    },
    "collapsed": true
   },
   "outputs": [
    {
     "data": {
      "text/html": [
       "<div>\n",
       "<style scoped>\n",
       "    .dataframe tbody tr th:only-of-type {\n",
       "        vertical-align: middle;\n",
       "    }\n",
       "\n",
       "    .dataframe tbody tr th {\n",
       "        vertical-align: top;\n",
       "    }\n",
       "\n",
       "    .dataframe thead th {\n",
       "        text-align: right;\n",
       "    }\n",
       "</style>\n",
       "<table border=\"1\" class=\"dataframe\">\n",
       "  <thead>\n",
       "    <tr style=\"text-align: right;\">\n",
       "      <th></th>\n",
       "      <th>国家</th>\n",
       "      <th>2006年世界杯</th>\n",
       "      <th>2010年世界杯</th>\n",
       "      <th>2007亚洲杯</th>\n",
       "    </tr>\n",
       "  </thead>\n",
       "  <tbody>\n",
       "    <tr>\n",
       "      <th>0</th>\n",
       "      <td>中国</td>\n",
       "      <td>50</td>\n",
       "      <td>50</td>\n",
       "      <td>9</td>\n",
       "    </tr>\n",
       "    <tr>\n",
       "      <th>1</th>\n",
       "      <td>日本</td>\n",
       "      <td>28</td>\n",
       "      <td>9</td>\n",
       "      <td>4</td>\n",
       "    </tr>\n",
       "    <tr>\n",
       "      <th>2</th>\n",
       "      <td>韩国</td>\n",
       "      <td>17</td>\n",
       "      <td>15</td>\n",
       "      <td>3</td>\n",
       "    </tr>\n",
       "    <tr>\n",
       "      <th>3</th>\n",
       "      <td>伊朗</td>\n",
       "      <td>25</td>\n",
       "      <td>40</td>\n",
       "      <td>5</td>\n",
       "    </tr>\n",
       "    <tr>\n",
       "      <th>4</th>\n",
       "      <td>沙特</td>\n",
       "      <td>28</td>\n",
       "      <td>40</td>\n",
       "      <td>2</td>\n",
       "    </tr>\n",
       "    <tr>\n",
       "      <th>5</th>\n",
       "      <td>伊拉克</td>\n",
       "      <td>50</td>\n",
       "      <td>50</td>\n",
       "      <td>1</td>\n",
       "    </tr>\n",
       "    <tr>\n",
       "      <th>6</th>\n",
       "      <td>卡塔尔</td>\n",
       "      <td>50</td>\n",
       "      <td>40</td>\n",
       "      <td>9</td>\n",
       "    </tr>\n",
       "    <tr>\n",
       "      <th>7</th>\n",
       "      <td>阿联酋</td>\n",
       "      <td>50</td>\n",
       "      <td>40</td>\n",
       "      <td>9</td>\n",
       "    </tr>\n",
       "    <tr>\n",
       "      <th>8</th>\n",
       "      <td>乌兹别克斯坦</td>\n",
       "      <td>40</td>\n",
       "      <td>40</td>\n",
       "      <td>5</td>\n",
       "    </tr>\n",
       "    <tr>\n",
       "      <th>9</th>\n",
       "      <td>泰国</td>\n",
       "      <td>50</td>\n",
       "      <td>50</td>\n",
       "      <td>9</td>\n",
       "    </tr>\n",
       "    <tr>\n",
       "      <th>10</th>\n",
       "      <td>越南</td>\n",
       "      <td>50</td>\n",
       "      <td>50</td>\n",
       "      <td>5</td>\n",
       "    </tr>\n",
       "    <tr>\n",
       "      <th>11</th>\n",
       "      <td>阿曼</td>\n",
       "      <td>50</td>\n",
       "      <td>50</td>\n",
       "      <td>9</td>\n",
       "    </tr>\n",
       "    <tr>\n",
       "      <th>12</th>\n",
       "      <td>巴林</td>\n",
       "      <td>40</td>\n",
       "      <td>40</td>\n",
       "      <td>9</td>\n",
       "    </tr>\n",
       "    <tr>\n",
       "      <th>13</th>\n",
       "      <td>朝鲜</td>\n",
       "      <td>40</td>\n",
       "      <td>32</td>\n",
       "      <td>17</td>\n",
       "    </tr>\n",
       "    <tr>\n",
       "      <th>14</th>\n",
       "      <td>印尼</td>\n",
       "      <td>50</td>\n",
       "      <td>50</td>\n",
       "      <td>9</td>\n",
       "    </tr>\n",
       "  </tbody>\n",
       "</table>\n",
       "</div>"
      ],
      "text/plain": [
       "        国家  2006年世界杯  2010年世界杯  2007亚洲杯\n",
       "0       中国        50        50        9\n",
       "1       日本        28         9        4\n",
       "2       韩国        17        15        3\n",
       "3       伊朗        25        40        5\n",
       "4       沙特        28        40        2\n",
       "5      伊拉克        50        50        1\n",
       "6      卡塔尔        50        40        9\n",
       "7      阿联酋        50        40        9\n",
       "8   乌兹别克斯坦        40        40        5\n",
       "9       泰国        50        50        9\n",
       "10      越南        50        50        5\n",
       "11      阿曼        50        50        9\n",
       "12      巴林        40        40        9\n",
       "13      朝鲜        40        32       17\n",
       "14      印尼        50        50        9"
      ]
     },
     "execution_count": 2,
     "metadata": {},
     "output_type": "execute_result"
    }
   ],
   "source": [
    "data = pd.read_csv('./AsiaFootball.txt')\n",
    "data"
   ]
  },
  {
   "cell_type": "code",
   "execution_count": 12,
   "id": "667e7bb3",
   "metadata": {
    "ExecuteTime": {
     "end_time": "2022-08-03T13:40:34.663688Z",
     "start_time": "2022-08-03T13:40:34.645749Z"
    },
    "collapsed": true
   },
   "outputs": [
    {
     "data": {
      "text/html": [
       "<div>\n",
       "<style scoped>\n",
       "    .dataframe tbody tr th:only-of-type {\n",
       "        vertical-align: middle;\n",
       "    }\n",
       "\n",
       "    .dataframe tbody tr th {\n",
       "        vertical-align: top;\n",
       "    }\n",
       "\n",
       "    .dataframe thead th {\n",
       "        text-align: right;\n",
       "    }\n",
       "</style>\n",
       "<table border=\"1\" class=\"dataframe\">\n",
       "  <thead>\n",
       "    <tr style=\"text-align: right;\">\n",
       "      <th></th>\n",
       "      <th>2006年世界杯</th>\n",
       "      <th>2010年世界杯</th>\n",
       "      <th>2007亚洲杯</th>\n",
       "    </tr>\n",
       "  </thead>\n",
       "  <tbody>\n",
       "    <tr>\n",
       "      <th>0</th>\n",
       "      <td>50</td>\n",
       "      <td>50</td>\n",
       "      <td>9</td>\n",
       "    </tr>\n",
       "    <tr>\n",
       "      <th>1</th>\n",
       "      <td>28</td>\n",
       "      <td>9</td>\n",
       "      <td>4</td>\n",
       "    </tr>\n",
       "    <tr>\n",
       "      <th>2</th>\n",
       "      <td>17</td>\n",
       "      <td>15</td>\n",
       "      <td>3</td>\n",
       "    </tr>\n",
       "    <tr>\n",
       "      <th>3</th>\n",
       "      <td>25</td>\n",
       "      <td>40</td>\n",
       "      <td>5</td>\n",
       "    </tr>\n",
       "    <tr>\n",
       "      <th>4</th>\n",
       "      <td>28</td>\n",
       "      <td>40</td>\n",
       "      <td>2</td>\n",
       "    </tr>\n",
       "    <tr>\n",
       "      <th>5</th>\n",
       "      <td>50</td>\n",
       "      <td>50</td>\n",
       "      <td>1</td>\n",
       "    </tr>\n",
       "    <tr>\n",
       "      <th>6</th>\n",
       "      <td>50</td>\n",
       "      <td>40</td>\n",
       "      <td>9</td>\n",
       "    </tr>\n",
       "    <tr>\n",
       "      <th>7</th>\n",
       "      <td>50</td>\n",
       "      <td>40</td>\n",
       "      <td>9</td>\n",
       "    </tr>\n",
       "    <tr>\n",
       "      <th>8</th>\n",
       "      <td>40</td>\n",
       "      <td>40</td>\n",
       "      <td>5</td>\n",
       "    </tr>\n",
       "    <tr>\n",
       "      <th>9</th>\n",
       "      <td>50</td>\n",
       "      <td>50</td>\n",
       "      <td>9</td>\n",
       "    </tr>\n",
       "    <tr>\n",
       "      <th>10</th>\n",
       "      <td>50</td>\n",
       "      <td>50</td>\n",
       "      <td>5</td>\n",
       "    </tr>\n",
       "    <tr>\n",
       "      <th>11</th>\n",
       "      <td>50</td>\n",
       "      <td>50</td>\n",
       "      <td>9</td>\n",
       "    </tr>\n",
       "    <tr>\n",
       "      <th>12</th>\n",
       "      <td>40</td>\n",
       "      <td>40</td>\n",
       "      <td>9</td>\n",
       "    </tr>\n",
       "    <tr>\n",
       "      <th>13</th>\n",
       "      <td>40</td>\n",
       "      <td>32</td>\n",
       "      <td>17</td>\n",
       "    </tr>\n",
       "    <tr>\n",
       "      <th>14</th>\n",
       "      <td>50</td>\n",
       "      <td>50</td>\n",
       "      <td>9</td>\n",
       "    </tr>\n",
       "  </tbody>\n",
       "</table>\n",
       "</div>"
      ],
      "text/plain": [
       "    2006年世界杯  2010年世界杯  2007亚洲杯\n",
       "0         50        50        9\n",
       "1         28         9        4\n",
       "2         17        15        3\n",
       "3         25        40        5\n",
       "4         28        40        2\n",
       "5         50        50        1\n",
       "6         50        40        9\n",
       "7         50        40        9\n",
       "8         40        40        5\n",
       "9         50        50        9\n",
       "10        50        50        5\n",
       "11        50        50        9\n",
       "12        40        40        9\n",
       "13        40        32       17\n",
       "14        50        50        9"
      ]
     },
     "execution_count": 12,
     "metadata": {},
     "output_type": "execute_result"
    }
   ],
   "source": [
    "X = data.iloc[:,1:]\n",
    "X"
   ]
  },
  {
   "cell_type": "markdown",
   "id": "b2a7cf70",
   "metadata": {},
   "source": [
    "#### 建模"
   ]
  },
  {
   "cell_type": "code",
   "execution_count": 13,
   "id": "ac345006",
   "metadata": {
    "ExecuteTime": {
     "end_time": "2022-08-03T13:40:34.739433Z",
     "start_time": "2022-08-03T13:40:34.665679Z"
    }
   },
   "outputs": [
    {
     "data": {
      "text/html": [
       "<style>#sk-container-id-3 {color: black;background-color: white;}#sk-container-id-3 pre{padding: 0;}#sk-container-id-3 div.sk-toggleable {background-color: white;}#sk-container-id-3 label.sk-toggleable__label {cursor: pointer;display: block;width: 100%;margin-bottom: 0;padding: 0.3em;box-sizing: border-box;text-align: center;}#sk-container-id-3 label.sk-toggleable__label-arrow:before {content: \"▸\";float: left;margin-right: 0.25em;color: #696969;}#sk-container-id-3 label.sk-toggleable__label-arrow:hover:before {color: black;}#sk-container-id-3 div.sk-estimator:hover label.sk-toggleable__label-arrow:before {color: black;}#sk-container-id-3 div.sk-toggleable__content {max-height: 0;max-width: 0;overflow: hidden;text-align: left;background-color: #f0f8ff;}#sk-container-id-3 div.sk-toggleable__content pre {margin: 0.2em;color: black;border-radius: 0.25em;background-color: #f0f8ff;}#sk-container-id-3 input.sk-toggleable__control:checked~div.sk-toggleable__content {max-height: 200px;max-width: 100%;overflow: auto;}#sk-container-id-3 input.sk-toggleable__control:checked~label.sk-toggleable__label-arrow:before {content: \"▾\";}#sk-container-id-3 div.sk-estimator input.sk-toggleable__control:checked~label.sk-toggleable__label {background-color: #d4ebff;}#sk-container-id-3 div.sk-label input.sk-toggleable__control:checked~label.sk-toggleable__label {background-color: #d4ebff;}#sk-container-id-3 input.sk-hidden--visually {border: 0;clip: rect(1px 1px 1px 1px);clip: rect(1px, 1px, 1px, 1px);height: 1px;margin: -1px;overflow: hidden;padding: 0;position: absolute;width: 1px;}#sk-container-id-3 div.sk-estimator {font-family: monospace;background-color: #f0f8ff;border: 1px dotted black;border-radius: 0.25em;box-sizing: border-box;margin-bottom: 0.5em;}#sk-container-id-3 div.sk-estimator:hover {background-color: #d4ebff;}#sk-container-id-3 div.sk-parallel-item::after {content: \"\";width: 100%;border-bottom: 1px solid gray;flex-grow: 1;}#sk-container-id-3 div.sk-label:hover label.sk-toggleable__label {background-color: #d4ebff;}#sk-container-id-3 div.sk-serial::before {content: \"\";position: absolute;border-left: 1px solid gray;box-sizing: border-box;top: 0;bottom: 0;left: 50%;z-index: 0;}#sk-container-id-3 div.sk-serial {display: flex;flex-direction: column;align-items: center;background-color: white;padding-right: 0.2em;padding-left: 0.2em;position: relative;}#sk-container-id-3 div.sk-item {position: relative;z-index: 1;}#sk-container-id-3 div.sk-parallel {display: flex;align-items: stretch;justify-content: center;background-color: white;position: relative;}#sk-container-id-3 div.sk-item::before, #sk-container-id-3 div.sk-parallel-item::before {content: \"\";position: absolute;border-left: 1px solid gray;box-sizing: border-box;top: 0;bottom: 0;left: 50%;z-index: -1;}#sk-container-id-3 div.sk-parallel-item {display: flex;flex-direction: column;z-index: 1;position: relative;background-color: white;}#sk-container-id-3 div.sk-parallel-item:first-child::after {align-self: flex-end;width: 50%;}#sk-container-id-3 div.sk-parallel-item:last-child::after {align-self: flex-start;width: 50%;}#sk-container-id-3 div.sk-parallel-item:only-child::after {width: 0;}#sk-container-id-3 div.sk-dashed-wrapped {border: 1px dashed gray;margin: 0 0.4em 0.5em 0.4em;box-sizing: border-box;padding-bottom: 0.4em;background-color: white;}#sk-container-id-3 div.sk-label label {font-family: monospace;font-weight: bold;display: inline-block;line-height: 1.2em;}#sk-container-id-3 div.sk-label-container {text-align: center;}#sk-container-id-3 div.sk-container {/* jupyter's `normalize.less` sets `[hidden] { display: none; }` but bootstrap.min.css set `[hidden] { display: none !important; }` so we also need the `!important` here to be able to override the default hidden behavior on the sphinx rendered scikit-learn.org. See: https://github.com/scikit-learn/scikit-learn/issues/21755 */display: inline-block !important;position: relative;}#sk-container-id-3 div.sk-text-repr-fallback {display: none;}</style><div id=\"sk-container-id-3\" class=\"sk-top-container\"><div class=\"sk-text-repr-fallback\"><pre>KMeans(n_clusters=3)</pre><b>In a Jupyter environment, please rerun this cell to show the HTML representation or trust the notebook. <br />On GitHub, the HTML representation is unable to render, please try loading this page with nbviewer.org.</b></div><div class=\"sk-container\" hidden><div class=\"sk-item\"><div class=\"sk-estimator sk-toggleable\"><input class=\"sk-toggleable__control sk-hidden--visually\" id=\"sk-estimator-id-3\" type=\"checkbox\" checked><label for=\"sk-estimator-id-3\" class=\"sk-toggleable__label sk-toggleable__label-arrow\">KMeans</label><div class=\"sk-toggleable__content\"><pre>KMeans(n_clusters=3)</pre></div></div></div></div></div>"
      ],
      "text/plain": [
       "KMeans(n_clusters=3)"
      ]
     },
     "execution_count": 13,
     "metadata": {},
     "output_type": "execute_result"
    }
   ],
   "source": [
    "kmeans = KMeans(n_clusters=3)\n",
    "# 建模，训练\n",
    "kmeans.fit(X) # 无监督学习,随机给聚类中心"
   ]
  },
  {
   "cell_type": "code",
   "execution_count": 14,
   "id": "d708a6df",
   "metadata": {
    "ExecuteTime": {
     "end_time": "2022-08-03T13:40:34.754372Z",
     "start_time": "2022-08-03T13:40:34.741425Z"
    }
   },
   "outputs": [
    {
     "data": {
      "text/plain": [
       "array([2, 1, 1, 0, 0, 2, 2, 2, 0, 2, 2, 2, 0, 0, 2])"
      ]
     },
     "execution_count": 14,
     "metadata": {},
     "output_type": "execute_result"
    }
   ],
   "source": [
    "y_ = kmeans.predict(X)\n",
    "y_ #array([2, 1, 1, 0, 0, 2, 2, 2, 0, 2, 2, 2, 0, 0, 2])"
   ]
  },
  {
   "cell_type": "code",
   "execution_count": 15,
   "id": "a859f584",
   "metadata": {
    "ExecuteTime": {
     "end_time": "2022-08-03T13:40:34.770318Z",
     "start_time": "2022-08-03T13:40:34.757361Z"
    }
   },
   "outputs": [
    {
     "data": {
      "text/plain": [
       "array(['中国', '日本', '韩国', '伊朗', '沙特', '伊拉克', '卡塔尔', '阿联酋', '乌兹别克斯坦', '泰国',\n",
       "       '越南', '阿曼', '巴林', '朝鲜', '印尼'], dtype=object)"
      ]
     },
     "execution_count": 15,
     "metadata": {},
     "output_type": "execute_result"
    }
   ],
   "source": [
    "c = data['国家'].values\n",
    "c"
   ]
  },
  {
   "cell_type": "code",
   "execution_count": 16,
   "id": "b59d39c8",
   "metadata": {
    "ExecuteTime": {
     "end_time": "2022-08-03T13:40:34.786266Z",
     "start_time": "2022-08-03T13:40:34.773309Z"
    }
   },
   "outputs": [
    {
     "name": "stdout",
     "output_type": "stream",
     "text": [
      "类别是0国家有： ['伊朗' '沙特' '乌兹别克斯坦' '巴林' '朝鲜']\n",
      "类别是1国家有： ['日本' '韩国']\n",
      "类别是2国家有： ['中国' '伊拉克' '卡塔尔' '阿联酋' '泰国' '越南' '阿曼' '印尼']\n"
     ]
    }
   ],
   "source": [
    "for i in range(3):\n",
    "    cond = y_ == i\n",
    "    print('类别是%d国家有：'%(i),c[cond])"
   ]
  },
  {
   "cell_type": "markdown",
   "id": "0b01d65b",
   "metadata": {},
   "source": [
    "#### 可视化"
   ]
  },
  {
   "cell_type": "code",
   "execution_count": 17,
   "id": "28d6b09d",
   "metadata": {
    "ExecuteTime": {
     "end_time": "2022-08-03T13:42:34.474093Z",
     "start_time": "2022-08-03T13:42:34.455754Z"
    }
   },
   "outputs": [],
   "source": [
    "from matplotlib import font_manager"
   ]
  },
  {
   "cell_type": "code",
   "execution_count": 18,
   "id": "2a83e0f9",
   "metadata": {
    "ExecuteTime": {
     "end_time": "2022-08-03T13:42:45.857268Z",
     "start_time": "2022-08-03T13:42:45.158572Z"
    }
   },
   "outputs": [],
   "source": [
    "fm = font_manager.FontManager()"
   ]
  },
  {
   "cell_type": "code",
   "execution_count": 19,
   "id": "19701008",
   "metadata": {
    "ExecuteTime": {
     "end_time": "2022-08-03T13:43:16.806051Z",
     "start_time": "2022-08-03T13:43:16.787626Z"
    },
    "collapsed": true
   },
   "outputs": [
    {
     "data": {
      "text/plain": [
       "['DejaVu Sans Mono',\n",
       " 'STIXSizeTwoSym',\n",
       " 'DejaVu Serif',\n",
       " 'DejaVu Serif',\n",
       " 'STIXSizeFourSym',\n",
       " 'STIXNonUnicode',\n",
       " 'STIXSizeFourSym',\n",
       " 'cmtt10',\n",
       " 'DejaVu Sans',\n",
       " 'STIXGeneral',\n",
       " 'cmb10',\n",
       " 'cmr10',\n",
       " 'STIXSizeOneSym',\n",
       " 'cmss10',\n",
       " 'STIXSizeThreeSym',\n",
       " 'STIXSizeTwoSym',\n",
       " 'STIXGeneral',\n",
       " 'DejaVu Sans',\n",
       " 'DejaVu Sans Display',\n",
       " 'STIXNonUnicode',\n",
       " 'STIXNonUnicode',\n",
       " 'STIXSizeFiveSym',\n",
       " 'STIXSizeOneSym',\n",
       " 'cmmi10',\n",
       " 'DejaVu Sans Mono',\n",
       " 'DejaVu Sans',\n",
       " 'DejaVu Sans Mono',\n",
       " 'DejaVu Sans',\n",
       " 'cmsy10',\n",
       " 'cmex10',\n",
       " 'DejaVu Serif',\n",
       " 'DejaVu Serif Display',\n",
       " 'STIXGeneral',\n",
       " 'DejaVu Serif',\n",
       " 'STIXNonUnicode',\n",
       " 'STIXGeneral',\n",
       " 'DejaVu Sans Mono',\n",
       " 'STIXSizeThreeSym',\n",
       " 'Microsoft PhagsPa',\n",
       " 'Felix Titling',\n",
       " 'STXingkai',\n",
       " 'Garamond',\n",
       " 'Consolas',\n",
       " 'Century Schoolbook',\n",
       " 'Chiller',\n",
       " 'Lucida Sans',\n",
       " 'Segoe UI Variable',\n",
       " 'Lucida Sans',\n",
       " 'Bodoni MT',\n",
       " 'Dubai',\n",
       " 'Lucida Fax',\n",
       " 'Palatino Linotype',\n",
       " 'Constantia',\n",
       " 'Maiandra GD',\n",
       " 'Microsoft YaHei',\n",
       " 'Calibri',\n",
       " 'Bodoni MT',\n",
       " 'STHupo',\n",
       " 'Cambria',\n",
       " 'Broadway',\n",
       " 'Microsoft Sans Serif',\n",
       " 'Franklin Gothic Medium',\n",
       " 'DengXian',\n",
       " 'Goudy Old Style',\n",
       " 'Ravie',\n",
       " 'Gill Sans MT Condensed',\n",
       " 'Microsoft Yi Baiti',\n",
       " 'Arial',\n",
       " 'MS Reference Specialty',\n",
       " 'Microsoft Tai Le',\n",
       " 'Ebrima',\n",
       " 'Arial',\n",
       " 'Gill Sans MT',\n",
       " 'Segoe MDL2 Assets',\n",
       " 'Bodoni MT',\n",
       " 'Impact',\n",
       " 'SimSun-ExtB',\n",
       " 'Juice ITC',\n",
       " 'Courier New',\n",
       " 'Courier New',\n",
       " 'Malgun Gothic',\n",
       " 'Myanmar Text',\n",
       " 'Century Gothic',\n",
       " 'Corbel',\n",
       " 'MS Outlook',\n",
       " 'Californian FB',\n",
       " 'Times New Roman',\n",
       " 'Candara',\n",
       " 'FZShuTi',\n",
       " 'Eras Medium ITC',\n",
       " 'Comic Sans MS',\n",
       " 'Palatino Linotype',\n",
       " 'DejaVu Sans Mono',\n",
       " 'Consolas',\n",
       " 'Tw Cen MT',\n",
       " 'STLiti',\n",
       " 'Showcard Gothic',\n",
       " 'Bodoni MT',\n",
       " 'Comic Sans MS',\n",
       " 'Bodoni MT',\n",
       " 'Tw Cen MT',\n",
       " 'Rockwell',\n",
       " 'Sitka',\n",
       " 'Lucida Bright',\n",
       " 'Calibri',\n",
       " 'Cambria',\n",
       " 'Playbill',\n",
       " 'Calisto MT',\n",
       " 'Leelawadee UI',\n",
       " 'Perpetua',\n",
       " 'Bodoni MT',\n",
       " 'FangSong',\n",
       " 'Calisto MT',\n",
       " 'SimHei',\n",
       " 'Californian FB',\n",
       " 'Berlin Sans FB',\n",
       " 'SimSun',\n",
       " 'DengXian',\n",
       " 'Jokerman',\n",
       " 'Dubai',\n",
       " 'Rage Italic',\n",
       " 'MS Reference Sans Serif',\n",
       " 'Bell MT',\n",
       " 'Century Schoolbook',\n",
       " 'DejaVu Sans Mono',\n",
       " 'Gadugi',\n",
       " 'Malgun Gothic',\n",
       " 'Trebuchet MS',\n",
       " 'Myanmar Text',\n",
       " 'Microsoft YaHei',\n",
       " 'Goudy Old Style',\n",
       " 'Harrington',\n",
       " 'Courier New',\n",
       " 'Bahnschrift',\n",
       " 'FZYaoTi',\n",
       " 'Bodoni MT',\n",
       " 'Century Gothic',\n",
       " 'Sitka',\n",
       " 'Tw Cen MT Condensed',\n",
       " 'Times New Roman',\n",
       " 'Perpetua',\n",
       " 'Yu Gothic',\n",
       " 'Magneto',\n",
       " 'Gill Sans Ultra Bold',\n",
       " 'OCR A Extended',\n",
       " 'Arial',\n",
       " 'Javanese Text',\n",
       " 'Bell MT',\n",
       " 'Yu Gothic',\n",
       " 'Gill Sans MT',\n",
       " 'Palatino Linotype',\n",
       " 'Elephant',\n",
       " 'Consolas',\n",
       " 'Verdana',\n",
       " 'Gigi',\n",
       " 'Candara',\n",
       " 'DengXian',\n",
       " 'YouYuan',\n",
       " 'Lucida Console',\n",
       " 'Wide Latin',\n",
       " 'MV Boli',\n",
       " 'Stencil',\n",
       " 'Microsoft Himalaya',\n",
       " 'STSong',\n",
       " 'Baskerville Old Face',\n",
       " 'Bookman Old Style',\n",
       " 'Papyrus',\n",
       " 'STCaiyun',\n",
       " 'Snap ITC',\n",
       " 'Segoe UI',\n",
       " 'Book Antiqua',\n",
       " 'Franklin Gothic Book',\n",
       " 'Forte',\n",
       " 'Segoe Print',\n",
       " 'Algerian',\n",
       " 'Old English Text MT',\n",
       " 'Imprint MT Shadow',\n",
       " 'Rockwell Condensed',\n",
       " 'Georgia',\n",
       " 'Garamond',\n",
       " 'MT Extra',\n",
       " 'Lucida Sans Typewriter',\n",
       " 'Kunstler Script',\n",
       " 'Lucida Handwriting',\n",
       " 'Leelawadee UI',\n",
       " 'Bodoni MT',\n",
       " 'Verdana',\n",
       " 'Segoe UI',\n",
       " 'Tw Cen MT Condensed',\n",
       " 'Candara',\n",
       " 'Microsoft Uighur',\n",
       " 'Consolas',\n",
       " 'Rockwell Condensed',\n",
       " 'Lucida Sans',\n",
       " 'DejaVu Sans Mono',\n",
       " 'Segoe Script',\n",
       " 'Rockwell',\n",
       " 'Leelawadee',\n",
       " 'Britannic Bold',\n",
       " 'Corbel',\n",
       " 'Franklin Gothic Heavy',\n",
       " 'Bell MT',\n",
       " 'HoloLens MDL2 Assets',\n",
       " 'Engravers MT',\n",
       " 'Corbel',\n",
       " 'Trebuchet MS',\n",
       " 'Castellar',\n",
       " 'Candara',\n",
       " 'Century Schoolbook',\n",
       " 'Segoe UI Symbol',\n",
       " 'Bookman Old Style',\n",
       " 'Microsoft PhagsPa',\n",
       " 'Arial',\n",
       " 'Berlin Sans FB',\n",
       " 'Agency FB',\n",
       " 'Courier New',\n",
       " 'STXihei',\n",
       " 'Constantia',\n",
       " 'Poor Richard',\n",
       " 'Trebuchet MS',\n",
       " 'Bodoni MT',\n",
       " 'Lucida Bright',\n",
       " 'Tahoma',\n",
       " 'Symbol',\n",
       " 'Bodoni MT',\n",
       " 'Segoe UI',\n",
       " 'Haettenschweiler',\n",
       " 'Eras Demi ITC',\n",
       " 'Franklin Gothic Medium Cond',\n",
       " 'Book Antiqua',\n",
       " 'Microsoft JhengHei',\n",
       " 'STZhongsong',\n",
       " 'Onyx',\n",
       " 'Century Gothic',\n",
       " 'Nirmala UI',\n",
       " 'Lucida Fax',\n",
       " 'Leelawadee',\n",
       " 'Calisto MT',\n",
       " 'Segoe UI',\n",
       " 'Segoe UI Emoji',\n",
       " 'Informal Roman',\n",
       " 'Franklin Gothic Heavy',\n",
       " 'Book Antiqua',\n",
       " 'Gill Sans Ultra Bold Condensed',\n",
       " 'Microsoft Uighur',\n",
       " 'Tahoma',\n",
       " 'Dubai',\n",
       " 'Gadugi',\n",
       " 'Arial',\n",
       " 'DejaVu Sans Mono',\n",
       " 'Book Antiqua',\n",
       " 'Palatino Linotype',\n",
       " 'Matura MT Script Capitals',\n",
       " 'Mongolian Baiti',\n",
       " 'Bookman Old Style',\n",
       " 'Lucida Sans Typewriter',\n",
       " 'MingLiU-ExtB',\n",
       " 'Calisto MT',\n",
       " 'Sylfaen',\n",
       " 'Georgia',\n",
       " 'Yu Gothic',\n",
       " 'Georgia',\n",
       " 'Parchment',\n",
       " 'Cambria',\n",
       " 'Segoe UI',\n",
       " 'KaiTi',\n",
       " 'Palace Script MT',\n",
       " 'Gill Sans MT',\n",
       " 'Franklin Gothic Demi Cond',\n",
       " 'High Tower Text',\n",
       " 'Gill Sans MT',\n",
       " 'Georgia',\n",
       " 'French Script MT',\n",
       " 'Edwardian Script ITC',\n",
       " 'Tw Cen MT',\n",
       " 'Dubai',\n",
       " 'Segoe UI',\n",
       " 'Microsoft New Tai Lue',\n",
       " 'Garamond',\n",
       " 'Wingdings 2',\n",
       " 'Blackadder ITC',\n",
       " 'Freestyle Script',\n",
       " 'Segoe UI',\n",
       " 'Ink Free',\n",
       " 'Malgun Gothic',\n",
       " 'Kristen ITC',\n",
       " 'Perpetua',\n",
       " 'Verdana',\n",
       " 'Segoe Fluent Icons',\n",
       " 'Arial Rounded MT Bold',\n",
       " 'Comic Sans MS',\n",
       " 'Lucida Sans Typewriter',\n",
       " 'Perpetua',\n",
       " 'Mistral',\n",
       " 'Calibri',\n",
       " 'Calibri',\n",
       " 'Bookshelf Symbol 7',\n",
       " 'Constantia',\n",
       " 'Nirmala UI',\n",
       " 'Nirmala UI',\n",
       " 'Century Schoolbook',\n",
       " 'Franklin Gothic Medium',\n",
       " 'Colonna MT',\n",
       " 'Yu Gothic',\n",
       " 'Corbel',\n",
       " 'Footlight MT Light',\n",
       " 'Comic Sans MS',\n",
       " 'Tw Cen MT Condensed Extra Bold',\n",
       " 'Constantia',\n",
       " 'Segoe UI',\n",
       " 'Leelawadee UI',\n",
       " 'Webdings',\n",
       " 'Tw Cen MT',\n",
       " 'Wingdings 3',\n",
       " 'Copperplate Gothic Light',\n",
       " 'Times New Roman',\n",
       " 'Perpetua Titling MT',\n",
       " 'Lucida Fax',\n",
       " 'Gloucester MT Extra Condensed',\n",
       " 'Berlin Sans FB Demi',\n",
       " 'Viner Hand ITC',\n",
       " 'Rockwell',\n",
       " 'Verdana',\n",
       " 'Bodoni MT',\n",
       " 'Arial',\n",
       " 'Pristina',\n",
       " 'Curlz MT',\n",
       " 'Copperplate Gothic Bold',\n",
       " 'Agency FB',\n",
       " 'Calibri',\n",
       " 'High Tower Text',\n",
       " 'Bookman Old Style',\n",
       " 'Corbel',\n",
       " 'Harlow Solid Italic',\n",
       " 'Tempus Sans ITC',\n",
       " 'STFangsong',\n",
       " 'Modern No. 20',\n",
       " 'LiSu',\n",
       " 'Franklin Gothic Book',\n",
       " 'Eras Bold ITC',\n",
       " 'Franklin Gothic Demi',\n",
       " 'Perpetua Titling MT',\n",
       " 'Segoe UI Historic',\n",
       " 'Candara',\n",
       " 'Segoe UI',\n",
       " 'Arial',\n",
       " 'Lucida Sans',\n",
       " 'Segoe Script',\n",
       " 'Candara',\n",
       " 'Bauhaus 93',\n",
       " 'Goudy Old Style',\n",
       " 'Niagara Engraved',\n",
       " 'Vivaldi',\n",
       " 'Microsoft Tai Le',\n",
       " 'Microsoft New Tai Lue',\n",
       " 'Gill Sans MT Ext Condensed Bold',\n",
       " 'Segoe Print',\n",
       " 'Rockwell',\n",
       " 'Rockwell Extra Bold',\n",
       " 'Wingdings',\n",
       " 'Segoe UI',\n",
       " 'MS Gothic',\n",
       " 'Gabriola',\n",
       " 'Calibri',\n",
       " 'Lucida Sans Typewriter',\n",
       " 'Bradley Hand ITC',\n",
       " 'Microsoft JhengHei',\n",
       " 'Monotype Corsiva',\n",
       " 'Lucida Sans Unicode',\n",
       " 'Century',\n",
       " 'Bernard MT Condensed',\n",
       " 'Centaur',\n",
       " 'Corbel',\n",
       " 'Cooper Black',\n",
       " 'Arial',\n",
       " 'Script MT Bold',\n",
       " 'Lucida Bright',\n",
       " 'Californian FB',\n",
       " 'Cambria',\n",
       " 'Marlett',\n",
       " 'Brush Script MT',\n",
       " 'Century Gothic',\n",
       " 'Lucida Calligraphy',\n",
       " 'Ebrima',\n",
       " 'Segoe UI',\n",
       " 'STXinwei',\n",
       " 'Microsoft YaHei',\n",
       " 'Trebuchet MS',\n",
       " 'Arial',\n",
       " 'Segoe UI',\n",
       " 'STKaiti',\n",
       " 'Microsoft JhengHei',\n",
       " 'Franklin Gothic Demi',\n",
       " 'Times New Roman',\n",
       " 'Niagara Solid',\n",
       " 'Lucida Fax',\n",
       " 'Lucida Bright',\n",
       " 'Elephant',\n",
       " 'Goudy Stout',\n",
       " 'Eras Light ITC',\n",
       " 'Vladimir Script']"
      ]
     },
     "execution_count": 19,
     "metadata": {},
     "output_type": "execute_result"
    }
   ],
   "source": [
    "[font.name for font in fm.ttflist]"
   ]
  },
  {
   "cell_type": "code",
   "execution_count": 21,
   "id": "319847e1",
   "metadata": {
    "ExecuteTime": {
     "end_time": "2022-08-03T13:48:11.909713Z",
     "start_time": "2022-08-03T13:48:11.894895Z"
    }
   },
   "outputs": [],
   "source": [
    "from mpl_toolkits.mplot3d import Axes3D"
   ]
  },
  {
   "cell_type": "code",
   "execution_count": 24,
   "id": "bd114980",
   "metadata": {
    "ExecuteTime": {
     "end_time": "2022-08-03T13:49:04.159696Z",
     "start_time": "2022-08-03T13:49:03.984226Z"
    }
   },
   "outputs": [
    {
     "data": {
      "image/png": "[encoded data removed]",
      "text/plain": [
       "<Figure size 864x648 with 1 Axes>"
      ]
     },
     "metadata": {
      "needs_background": "light"
     },
     "output_type": "display_data"
    }
   ],
   "source": [
    "\n",
    "plt.rcParams['font.family'] = 'KaiTi'\n",
    "\n",
    "fig = plt.figure(figsize=(12,9))\n",
    "\n",
    "ax = plt.axes(projection = '3d')\n",
    "\n",
    "ax.scatter(X.iloc[:,0],X.iloc[:,1],X.iloc[:,2],c = y_,s = 100)\n",
    "\n",
    "ax.set_xlabel('2006年世界杯',fontsize = 18)\n",
    "ax.set_ylabel('2010年世界杯',fontsize = 18)\n",
    "ax.set_zlabel('2007年亚洲杯',fontsize = 18)\n",
    "\n",
    "ax.view_init(60,60)"
   ]
  },
  {
   "cell_type": "markdown",
   "id": "5f124652",
   "metadata": {},
   "source": [
    "### K值选择"
   ]
  },
  {
   "cell_type": "markdown",
   "id": "1b028732",
   "metadata": {},
   "source": [
    "#### 导包"
   ]
  },
  {
   "cell_type": "code",
   "execution_count": 25,
   "id": "d466f7e7",
   "metadata": {
    "ExecuteTime": {
     "end_time": "2022-08-03T13:54:46.765514Z",
     "start_time": "2022-08-03T13:54:46.704694Z"
    }
   },
   "outputs": [],
   "source": [
    "import numpy as np\n",
    "from sklearn import datasets\n",
    "from sklearn.cluster import KMeans\n",
    "import matplotlib.pyplot as plt\n",
    "# 聚类：轮廓系数，对聚类的评价指标，对应数学公式\n",
    "from sklearn.metrics import silhouette_score"
   ]
  },
  {
   "cell_type": "markdown",
   "id": "e50bee09",
   "metadata": {},
   "source": [
    "#### 创建数据"
   ]
  },
  {
   "cell_type": "code",
   "execution_count": 29,
   "id": "1b0ac812",
   "metadata": {
    "ExecuteTime": {
     "end_time": "2022-08-03T13:57:08.793747Z",
     "start_time": "2022-08-03T13:57:08.786765Z"
    }
   },
   "outputs": [],
   "source": [
    "plt.rcParams['axes.unicode_minus'] = False"
   ]
  },
  {
   "cell_type": "code",
   "execution_count": 30,
   "id": "5da5dad8",
   "metadata": {
    "ExecuteTime": {
     "end_time": "2022-08-03T13:57:10.776672Z",
     "start_time": "2022-08-03T13:57:10.673475Z"
    }
   },
   "outputs": [
    {
     "data": {
      "text/plain": [
       "<matplotlib.collections.PathCollection at 0x11e72e1e9d0>"
      ]
     },
     "execution_count": 30,
     "metadata": {},
     "output_type": "execute_result"
    },
    {
     "data": {
      "image/png": "[encoded data removed]",
      "text/plain": [
       "<Figure size 432x288 with 1 Axes>"
      ]
     },
     "metadata": {
      "needs_background": "light"
     },
     "output_type": "display_data"
    }
   ],
   "source": [
    "# 创建数据\n",
    "# 假数据，数据X划分成3类\n",
    "X,y = datasets.make_blobs(centers=3,random_state=100)\n",
    "plt.scatter(X[:,0],X[:,1],c = y)"
   ]
  },
  {
   "cell_type": "markdown",
   "id": "1898f9f6",
   "metadata": {},
   "source": [
    "#### 根据评价指标筛选K值"
   ]
  },
  {
   "cell_type": "code",
   "execution_count": 34,
   "id": "9866ff54",
   "metadata": {
    "ExecuteTime": {
     "end_time": "2022-08-03T14:03:47.060544Z",
     "start_time": "2022-08-03T14:03:46.437985Z"
    }
   },
   "outputs": [
    {
     "data": {
      "text/plain": [
       "Text(0, 0.5, '轮廓系数')"
      ]
     },
     "execution_count": 34,
     "metadata": {},
     "output_type": "execute_result"
    },
    {
     "data": {
      "image/png": "[encoded data removed]",
      "text/plain": [
       "<Figure size 648x432 with 1 Axes>"
      ]
     },
     "metadata": {
      "needs_background": "light"
     },
     "output_type": "display_data"
    }
   ],
   "source": [
    "# 算法，实战，AB测试\n",
    "# 用户5000W，100W拿出来，使用算法，100W不使用算法，1个月对比\n",
    "# 不同算法，3个算法，分别拿去3个100W用户，3组用户群，使用不同的算法策略，运行一段时间，对比！！！\n",
    "plt.rcParams['font.size'] = 20\n",
    "plt.figure(figsize=(9,6))\n",
    "scores = []\n",
    "for k in range(2,10):\n",
    "    kmeans = KMeans(n_clusters=k)\n",
    "    kmeans.fit(X)\n",
    "    y_ = kmeans.predict(X)# 预测类别 == 标签\n",
    "    scores.append(silhouette_score(X,y_)) # 不同聚类个数k，轮廓系数得分\n",
    "\n",
    "\n",
    "plt.plot(range(2,10),scores)\n",
    "plt.xlabel('K值')\n",
    "plt.ylabel('轮廓系数',c = 'red')"
   ]
  },
  {
   "cell_type": "code",
   "execution_count": null,
   "id": "657132e2",
   "metadata": {},
   "outputs": [],
   "source": []
  }
 ],
 "metadata": {
  "kernelspec": {
   "display_name": "Python 3 (ipykernel)",
   "language": "python",
   "name": "python3"
  },
  "language_info": {
   "codemirror_mode": {
    "name": "ipython",
    "version": 3
   },
   "file_extension": ".py",
   "mimetype": "text/x-python",
   "name": "python",
   "nbconvert_exporter": "python",
   "pygments_lexer": "ipython3",
   "version": "3.9.6"
  },
  "toc": {
   "base_numbering": 1,
   "nav_menu": {},
   "number_sections": true,
   "sideBar": true,
   "skip_h1_title": false,
   "title_cell": "Table of Contents",
   "title_sidebar": "Contents",
   "toc_cell": false,
   "toc_position": {},
   "toc_section_display": true,
   "toc_window_display": true
  }
 },
 "nbformat": 4,
 "nbformat_minor": 5
}
