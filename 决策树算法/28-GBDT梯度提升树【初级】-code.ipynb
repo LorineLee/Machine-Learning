{
 "cells": [
  {
   "cell_type": "markdown",
   "id": "a2687a65",
   "metadata": {},
   "source": [
    "### GBDT应用"
   ]
  },
  {
   "cell_type": "markdown",
   "id": "66f539df",
   "metadata": {},
   "source": [
    "#### 加载数据"
   ]
  },
  {
   "cell_type": "code",
   "execution_count": 1,
   "id": "d646c8fc",
   "metadata": {
    "ExecuteTime": {
     "end_time": "2022-07-06T12:03:03.433345Z",
     "start_time": "2022-07-06T12:03:02.559020Z"
    }
   },
   "outputs": [],
   "source": [
    "import numpy as np\n",
    "from sklearn import datasets\n",
    "from sklearn.model_selection import train_test_split\n",
    "from sklearn.ensemble import GradientBoostingClassifier\n",
    "from sklearn.tree import DecisionTreeClassifier\n",
    "\n",
    "X,y = datasets.load_iris(return_X_y = True)\n",
    "X_train,X_test,y_train,y_test = train_test_split(X,y,random_state = 1124)"
   ]
  },
  {
   "cell_type": "markdown",
   "id": "d3516a45",
   "metadata": {},
   "source": [
    "#### 一棵决策树"
   ]
  },
  {
   "cell_type": "code",
   "execution_count": 2,
   "id": "5725116e",
   "metadata": {
    "ExecuteTime": {
     "end_time": "2022-07-06T12:03:03.464256Z",
     "start_time": "2022-07-06T12:03:03.435338Z"
    }
   },
   "outputs": [
    {
     "name": "stdout",
     "output_type": "stream",
     "text": [
      "0.868421052631579\n"
     ]
    },
    {
     "data": {
      "text/plain": [
       "array([[1., 0., 0.],\n",
       "       [1., 0., 0.],\n",
       "       [0., 0., 1.],\n",
       "       [1., 0., 0.],\n",
       "       [0., 1., 0.],\n",
       "       [0., 0., 1.],\n",
       "       [0., 1., 0.],\n",
       "       [0., 1., 0.],\n",
       "       [0., 1., 0.],\n",
       "       [0., 0., 1.],\n",
       "       [0., 1., 0.],\n",
       "       [0., 0., 1.],\n",
       "       [0., 1., 0.],\n",
       "       [0., 1., 0.],\n",
       "       [0., 0., 1.],\n",
       "       [0., 1., 0.],\n",
       "       [0., 0., 1.],\n",
       "       [0., 0., 1.],\n",
       "       [0., 0., 1.],\n",
       "       [0., 0., 1.],\n",
       "       [0., 1., 0.],\n",
       "       [0., 0., 1.],\n",
       "       [0., 1., 0.],\n",
       "       [0., 1., 0.],\n",
       "       [0., 0., 1.],\n",
       "       [1., 0., 0.],\n",
       "       [0., 0., 1.],\n",
       "       [1., 0., 0.],\n",
       "       [0., 0., 1.],\n",
       "       [1., 0., 0.],\n",
       "       [0., 1., 0.],\n",
       "       [1., 0., 0.],\n",
       "       [0., 0., 1.],\n",
       "       [1., 0., 0.],\n",
       "       [0., 1., 0.],\n",
       "       [1., 0., 0.],\n",
       "       [0., 0., 1.],\n",
       "       [0., 1., 0.]])"
      ]
     },
     "execution_count": 2,
     "metadata": {},
     "output_type": "execute_result"
    }
   ],
   "source": [
    "model = DecisionTreeClassifier()\n",
    "model.fit(X_train,y_train)\n",
    "print(model.score(X_test,y_test))\n",
    "model.predict_proba(X_test)"
   ]
  },
  {
   "cell_type": "markdown",
   "id": "13be6e69",
   "metadata": {},
   "source": [
    "#### GBDT【集成算法】"
   ]
  },
  {
   "cell_type": "code",
   "execution_count": 3,
   "id": "c097067d",
   "metadata": {
    "ExecuteTime": {
     "end_time": "2022-07-06T12:03:03.480190Z",
     "start_time": "2022-07-06T12:03:03.467246Z"
    }
   },
   "outputs": [
    {
     "data": {
      "text/plain": [
       "array([0, 0, 0, 0, 0, 0, 0, 0, 0, 0, 0, 0, 0, 0, 0, 0, 0, 0, 0, 0, 0, 0,\n",
       "       0, 0, 0, 0, 0, 0, 0, 0, 0, 0, 0, 0, 0, 0, 0, 0, 0, 0, 0, 0, 0, 0,\n",
       "       0, 0, 0, 0, 0, 0, 1, 1, 1, 1, 1, 1, 1, 1, 1, 1, 1, 1, 1, 1, 1, 1,\n",
       "       1, 1, 1, 1, 1, 1, 1, 1, 1, 1, 1, 1, 1, 1, 1, 1, 1, 1, 1, 1, 1, 1,\n",
       "       1, 1, 1, 1, 1, 1, 1, 1, 1, 1, 1, 1, 2, 2, 2, 2, 2, 2, 2, 2, 2, 2,\n",
       "       2, 2, 2, 2, 2, 2, 2, 2, 2, 2, 2, 2, 2, 2, 2, 2, 2, 2, 2, 2, 2, 2,\n",
       "       2, 2, 2, 2, 2, 2, 2, 2, 2, 2, 2, 2, 2, 2, 2, 2, 2, 2])"
      ]
     },
     "execution_count": 3,
     "metadata": {},
     "output_type": "execute_result"
    }
   ],
   "source": [
    "y"
   ]
  },
  {
   "cell_type": "code",
   "execution_count": 4,
   "id": "233f4d3a",
   "metadata": {
    "ExecuteTime": {
     "end_time": "2022-07-06T12:03:03.621595Z",
     "start_time": "2022-07-06T12:03:03.482193Z"
    }
   },
   "outputs": [
    {
     "name": "stdout",
     "output_type": "stream",
     "text": [
      "0.9473684210526315\n"
     ]
    },
    {
     "data": {
      "text/plain": [
       "array([[0.51595789, 0.22644293, 0.25759917],\n",
       "       [0.51595789, 0.22644293, 0.25759917],\n",
       "       [0.32518074, 0.37104691, 0.30377235],\n",
       "       [0.51595789, 0.22644293, 0.25759917],\n",
       "       [0.28158056, 0.45535061, 0.26306884],\n",
       "       [0.32518074, 0.37104691, 0.30377235],\n",
       "       [0.28204504, 0.44156908, 0.27638588],\n",
       "       [0.28038337, 0.43647118, 0.28314544],\n",
       "       [0.28157908, 0.45535154, 0.26306938],\n",
       "       [0.27800699, 0.22831686, 0.49367614],\n",
       "       [0.28157371, 0.45535495, 0.26307135],\n",
       "       [0.27800699, 0.22831686, 0.49367614],\n",
       "       [0.28157909, 0.45535154, 0.26306937],\n",
       "       [0.28986632, 0.4393313 , 0.27080237],\n",
       "       [0.27800699, 0.22831686, 0.49367614],\n",
       "       [0.28604779, 0.41030349, 0.30364871],\n",
       "       [0.27800699, 0.22831686, 0.49367614],\n",
       "       [0.28330405, 0.29585181, 0.42084415],\n",
       "       [0.27800699, 0.22831686, 0.49367614],\n",
       "       [0.27800707, 0.22831692, 0.49367601],\n",
       "       [0.28157908, 0.45535154, 0.26306938],\n",
       "       [0.27800738, 0.22831708, 0.49367554],\n",
       "       [0.28157908, 0.45535154, 0.26306938],\n",
       "       [0.28157908, 0.45535154, 0.26306938],\n",
       "       [0.27798824, 0.22830685, 0.49370491],\n",
       "       [0.51595789, 0.22644293, 0.25759917],\n",
       "       [0.28020997, 0.2525076 , 0.46728243],\n",
       "       [0.51595789, 0.22644293, 0.25759917],\n",
       "       [0.28573646, 0.28285961, 0.43140393],\n",
       "       [0.51595789, 0.22644293, 0.25759917],\n",
       "       [0.28157354, 0.455355  , 0.26307146],\n",
       "       [0.51595789, 0.22644293, 0.25759917],\n",
       "       [0.27800699, 0.22831686, 0.49367614],\n",
       "       [0.51595789, 0.22644293, 0.25759917],\n",
       "       [0.28157908, 0.45535154, 0.26306938],\n",
       "       [0.51595789, 0.22644293, 0.25759917],\n",
       "       [0.32518074, 0.37104691, 0.30377235],\n",
       "       [0.28156877, 0.45535793, 0.2630733 ]])"
      ]
     },
     "execution_count": 4,
     "metadata": {},
     "output_type": "execute_result"
    }
   ],
   "source": [
    "model = GradientBoostingClassifier(n_estimators=50,\n",
    "                                   subsample=0.8,\n",
    "                                   learning_rate=0.005,max_depth=None)\n",
    "model.fit(X_train,y_train)\n",
    "print(model.score(X_test,y_test))\n",
    "model.predict_proba(X_test)"
   ]
  },
  {
   "cell_type": "markdown",
   "id": "1a211743",
   "metadata": {},
   "source": [
    "### 模拟数据GBDT建模可视化"
   ]
  },
  {
   "cell_type": "code",
   "execution_count": 5,
   "id": "ec60c47f",
   "metadata": {
    "ExecuteTime": {
     "end_time": "2022-07-06T12:03:03.668901Z",
     "start_time": "2022-07-06T12:03:03.623566Z"
    }
   },
   "outputs": [],
   "source": [
    "import numpy as np\n",
    "# 集成，集成算法\n",
    "from sklearn.ensemble import GradientBoostingClassifier\n",
    "from sklearn import tree\n",
    "import graphviz"
   ]
  },
  {
   "cell_type": "markdown",
   "id": "0d03b29e",
   "metadata": {},
   "source": [
    "#### 创建数据"
   ]
  },
  {
   "cell_type": "code",
   "execution_count": 6,
   "id": "4c5671f7",
   "metadata": {
    "ExecuteTime": {
     "end_time": "2022-07-06T12:03:03.684862Z",
     "start_time": "2022-07-06T12:03:03.671920Z"
    }
   },
   "outputs": [
    {
     "data": {
      "text/plain": [
       "array([[ 1],\n",
       "       [ 2],\n",
       "       [ 3],\n",
       "       [ 4],\n",
       "       [ 5],\n",
       "       [ 6],\n",
       "       [ 7],\n",
       "       [ 8],\n",
       "       [ 9],\n",
       "       [10]])"
      ]
     },
     "execution_count": 6,
     "metadata": {},
     "output_type": "execute_result"
    }
   ],
   "source": [
    "X = np.arange(1,11).reshape(-1,1)\n",
    "X"
   ]
  },
  {
   "cell_type": "code",
   "execution_count": 7,
   "id": "20ff0f60",
   "metadata": {
    "ExecuteTime": {
     "end_time": "2022-07-06T12:03:03.699871Z",
     "start_time": "2022-07-06T12:03:03.688945Z"
    }
   },
   "outputs": [
    {
     "data": {
      "text/plain": [
       "array([0, 0, 0, 1, 1, 0, 0, 0, 1, 1])"
      ]
     },
     "execution_count": 7,
     "metadata": {},
     "output_type": "execute_result"
    }
   ],
   "source": [
    "y = np.array([0,0,0,1,1]*2)\n",
    "y"
   ]
  },
  {
   "cell_type": "markdown",
   "id": "502c3dfa",
   "metadata": {},
   "source": [
    "#### 构建GBDT训练和预测"
   ]
  },
  {
   "cell_type": "code",
   "execution_count": 8,
   "id": "d907e566",
   "metadata": {
    "ExecuteTime": {
     "end_time": "2022-07-06T12:03:03.729697Z",
     "start_time": "2022-07-06T12:03:03.705782Z"
    }
   },
   "outputs": [
    {
     "data": {
      "text/html": [
       "<style>#sk-container-id-1 {color: black;background-color: white;}#sk-container-id-1 pre{padding: 0;}#sk-container-id-1 div.sk-toggleable {background-color: white;}#sk-container-id-1 label.sk-toggleable__label {cursor: pointer;display: block;width: 100%;margin-bottom: 0;padding: 0.3em;box-sizing: border-box;text-align: center;}#sk-container-id-1 label.sk-toggleable__label-arrow:before {content: \"▸\";float: left;margin-right: 0.25em;color: #696969;}#sk-container-id-1 label.sk-toggleable__label-arrow:hover:before {color: black;}#sk-container-id-1 div.sk-estimator:hover label.sk-toggleable__label-arrow:before {color: black;}#sk-container-id-1 div.sk-toggleable__content {max-height: 0;max-width: 0;overflow: hidden;text-align: left;background-color: #f0f8ff;}#sk-container-id-1 div.sk-toggleable__content pre {margin: 0.2em;color: black;border-radius: 0.25em;background-color: #f0f8ff;}#sk-container-id-1 input.sk-toggleable__control:checked~div.sk-toggleable__content {max-height: 200px;max-width: 100%;overflow: auto;}#sk-container-id-1 input.sk-toggleable__control:checked~label.sk-toggleable__label-arrow:before {content: \"▾\";}#sk-container-id-1 div.sk-estimator input.sk-toggleable__control:checked~label.sk-toggleable__label {background-color: #d4ebff;}#sk-container-id-1 div.sk-label input.sk-toggleable__control:checked~label.sk-toggleable__label {background-color: #d4ebff;}#sk-container-id-1 input.sk-hidden--visually {border: 0;clip: rect(1px 1px 1px 1px);clip: rect(1px, 1px, 1px, 1px);height: 1px;margin: -1px;overflow: hidden;padding: 0;position: absolute;width: 1px;}#sk-container-id-1 div.sk-estimator {font-family: monospace;background-color: #f0f8ff;border: 1px dotted black;border-radius: 0.25em;box-sizing: border-box;margin-bottom: 0.5em;}#sk-container-id-1 div.sk-estimator:hover {background-color: #d4ebff;}#sk-container-id-1 div.sk-parallel-item::after {content: \"\";width: 100%;border-bottom: 1px solid gray;flex-grow: 1;}#sk-container-id-1 div.sk-label:hover label.sk-toggleable__label {background-color: #d4ebff;}#sk-container-id-1 div.sk-serial::before {content: \"\";position: absolute;border-left: 1px solid gray;box-sizing: border-box;top: 0;bottom: 0;left: 50%;z-index: 0;}#sk-container-id-1 div.sk-serial {display: flex;flex-direction: column;align-items: center;background-color: white;padding-right: 0.2em;padding-left: 0.2em;position: relative;}#sk-container-id-1 div.sk-item {position: relative;z-index: 1;}#sk-container-id-1 div.sk-parallel {display: flex;align-items: stretch;justify-content: center;background-color: white;position: relative;}#sk-container-id-1 div.sk-item::before, #sk-container-id-1 div.sk-parallel-item::before {content: \"\";position: absolute;border-left: 1px solid gray;box-sizing: border-box;top: 0;bottom: 0;left: 50%;z-index: -1;}#sk-container-id-1 div.sk-parallel-item {display: flex;flex-direction: column;z-index: 1;position: relative;background-color: white;}#sk-container-id-1 div.sk-parallel-item:first-child::after {align-self: flex-end;width: 50%;}#sk-container-id-1 div.sk-parallel-item:last-child::after {align-self: flex-start;width: 50%;}#sk-container-id-1 div.sk-parallel-item:only-child::after {width: 0;}#sk-container-id-1 div.sk-dashed-wrapped {border: 1px dashed gray;margin: 0 0.4em 0.5em 0.4em;box-sizing: border-box;padding-bottom: 0.4em;background-color: white;}#sk-container-id-1 div.sk-label label {font-family: monospace;font-weight: bold;display: inline-block;line-height: 1.2em;}#sk-container-id-1 div.sk-label-container {text-align: center;}#sk-container-id-1 div.sk-container {/* jupyter's `normalize.less` sets `[hidden] { display: none; }` but bootstrap.min.css set `[hidden] { display: none !important; }` so we also need the `!important` here to be able to override the default hidden behavior on the sphinx rendered scikit-learn.org. See: https://github.com/scikit-learn/scikit-learn/issues/21755 */display: inline-block !important;position: relative;}#sk-container-id-1 div.sk-text-repr-fallback {display: none;}</style><div id=\"sk-container-id-1\" class=\"sk-top-container\"><div class=\"sk-text-repr-fallback\"><pre>GradientBoostingClassifier(max_depth=1, n_estimators=3)</pre><b>In a Jupyter environment, please rerun this cell to show the HTML representation or trust the notebook. <br />On GitHub, the HTML representation is unable to render, please try loading this page with nbviewer.org.</b></div><div class=\"sk-container\" hidden><div class=\"sk-item\"><div class=\"sk-estimator sk-toggleable\"><input class=\"sk-toggleable__control sk-hidden--visually\" id=\"sk-estimator-id-1\" type=\"checkbox\" checked><label for=\"sk-estimator-id-1\" class=\"sk-toggleable__label sk-toggleable__label-arrow\">GradientBoostingClassifier</label><div class=\"sk-toggleable__content\"><pre>GradientBoostingClassifier(max_depth=1, n_estimators=3)</pre></div></div></div></div></div>"
      ],
      "text/plain": [
       "GradientBoostingClassifier(max_depth=1, n_estimators=3)"
      ]
     },
     "execution_count": 8,
     "metadata": {},
     "output_type": "execute_result"
    }
   ],
   "source": [
    "model = GradientBoostingClassifier(n_estimators=3,\n",
    "                                   learning_rate=0.1,\n",
    "                                   max_depth=1)\n",
    "\n",
    "model.fit(X,y)# 建模，找规律！"
   ]
  },
  {
   "cell_type": "code",
   "execution_count": 9,
   "id": "68217aec",
   "metadata": {
    "ExecuteTime": {
     "end_time": "2022-07-06T12:03:03.745638Z",
     "start_time": "2022-07-06T12:03:03.732682Z"
    }
   },
   "outputs": [
    {
     "name": "stdout",
     "output_type": "stream",
     "text": [
      "真实类别： [0 0 0 1 1 0 0 0 1 1]\n",
      "预测类别： [0 0 0 0 0 0 0 0 1 1]\n"
     ]
    }
   ],
   "source": [
    "y_ = model.predict(X)\n",
    "print('真实类别：',y)\n",
    "print('预测类别：',y_)"
   ]
  },
  {
   "cell_type": "code",
   "execution_count": 10,
   "id": "e0ed0e40",
   "metadata": {
    "ExecuteTime": {
     "end_time": "2022-07-06T12:03:03.761346Z",
     "start_time": "2022-07-06T12:03:03.750638Z"
    },
    "collapsed": true,
    "jupyter": {
     "outputs_hidden": true
    }
   },
   "outputs": [
    {
     "data": {
      "text/plain": [
       "array([[0.66466915, 0.33533085],\n",
       "       [0.66466915, 0.33533085],\n",
       "       [0.66466915, 0.33533085],\n",
       "       [0.6126304 , 0.3873696 ],\n",
       "       [0.6126304 , 0.3873696 ],\n",
       "       [0.6126304 , 0.3873696 ],\n",
       "       [0.6126304 , 0.3873696 ],\n",
       "       [0.6126304 , 0.3873696 ],\n",
       "       [0.46804618, 0.53195382],\n",
       "       [0.46804618, 0.53195382]])"
      ]
     },
     "execution_count": 10,
     "metadata": {},
     "output_type": "execute_result"
    }
   ],
   "source": [
    "proba_ = model.predict_proba(X)\n",
    "proba_"
   ]
  },
  {
   "cell_type": "markdown",
   "id": "d04f7ea2",
   "metadata": {},
   "source": [
    "#### 可视化"
   ]
  },
  {
   "cell_type": "code",
   "execution_count": 11,
   "id": "20ed7a6f",
   "metadata": {
    "ExecuteTime": {
     "end_time": "2022-07-06T12:03:03.776566Z",
     "start_time": "2022-07-06T12:03:03.763337Z"
    }
   },
   "outputs": [
    {
     "data": {
      "text/html": [
       "<style>#sk-container-id-2 {color: black;background-color: white;}#sk-container-id-2 pre{padding: 0;}#sk-container-id-2 div.sk-toggleable {background-color: white;}#sk-container-id-2 label.sk-toggleable__label {cursor: pointer;display: block;width: 100%;margin-bottom: 0;padding: 0.3em;box-sizing: border-box;text-align: center;}#sk-container-id-2 label.sk-toggleable__label-arrow:before {content: \"▸\";float: left;margin-right: 0.25em;color: #696969;}#sk-container-id-2 label.sk-toggleable__label-arrow:hover:before {color: black;}#sk-container-id-2 div.sk-estimator:hover label.sk-toggleable__label-arrow:before {color: black;}#sk-container-id-2 div.sk-toggleable__content {max-height: 0;max-width: 0;overflow: hidden;text-align: left;background-color: #f0f8ff;}#sk-container-id-2 div.sk-toggleable__content pre {margin: 0.2em;color: black;border-radius: 0.25em;background-color: #f0f8ff;}#sk-container-id-2 input.sk-toggleable__control:checked~div.sk-toggleable__content {max-height: 200px;max-width: 100%;overflow: auto;}#sk-container-id-2 input.sk-toggleable__control:checked~label.sk-toggleable__label-arrow:before {content: \"▾\";}#sk-container-id-2 div.sk-estimator input.sk-toggleable__control:checked~label.sk-toggleable__label {background-color: #d4ebff;}#sk-container-id-2 div.sk-label input.sk-toggleable__control:checked~label.sk-toggleable__label {background-color: #d4ebff;}#sk-container-id-2 input.sk-hidden--visually {border: 0;clip: rect(1px 1px 1px 1px);clip: rect(1px, 1px, 1px, 1px);height: 1px;margin: -1px;overflow: hidden;padding: 0;position: absolute;width: 1px;}#sk-container-id-2 div.sk-estimator {font-family: monospace;background-color: #f0f8ff;border: 1px dotted black;border-radius: 0.25em;box-sizing: border-box;margin-bottom: 0.5em;}#sk-container-id-2 div.sk-estimator:hover {background-color: #d4ebff;}#sk-container-id-2 div.sk-parallel-item::after {content: \"\";width: 100%;border-bottom: 1px solid gray;flex-grow: 1;}#sk-container-id-2 div.sk-label:hover label.sk-toggleable__label {background-color: #d4ebff;}#sk-container-id-2 div.sk-serial::before {content: \"\";position: absolute;border-left: 1px solid gray;box-sizing: border-box;top: 0;bottom: 0;left: 50%;z-index: 0;}#sk-container-id-2 div.sk-serial {display: flex;flex-direction: column;align-items: center;background-color: white;padding-right: 0.2em;padding-left: 0.2em;position: relative;}#sk-container-id-2 div.sk-item {position: relative;z-index: 1;}#sk-container-id-2 div.sk-parallel {display: flex;align-items: stretch;justify-content: center;background-color: white;position: relative;}#sk-container-id-2 div.sk-item::before, #sk-container-id-2 div.sk-parallel-item::before {content: \"\";position: absolute;border-left: 1px solid gray;box-sizing: border-box;top: 0;bottom: 0;left: 50%;z-index: -1;}#sk-container-id-2 div.sk-parallel-item {display: flex;flex-direction: column;z-index: 1;position: relative;background-color: white;}#sk-container-id-2 div.sk-parallel-item:first-child::after {align-self: flex-end;width: 50%;}#sk-container-id-2 div.sk-parallel-item:last-child::after {align-self: flex-start;width: 50%;}#sk-container-id-2 div.sk-parallel-item:only-child::after {width: 0;}#sk-container-id-2 div.sk-dashed-wrapped {border: 1px dashed gray;margin: 0 0.4em 0.5em 0.4em;box-sizing: border-box;padding-bottom: 0.4em;background-color: white;}#sk-container-id-2 div.sk-label label {font-family: monospace;font-weight: bold;display: inline-block;line-height: 1.2em;}#sk-container-id-2 div.sk-label-container {text-align: center;}#sk-container-id-2 div.sk-container {/* jupyter's `normalize.less` sets `[hidden] { display: none; }` but bootstrap.min.css set `[hidden] { display: none !important; }` so we also need the `!important` here to be able to override the default hidden behavior on the sphinx rendered scikit-learn.org. See: https://github.com/scikit-learn/scikit-learn/issues/21755 */display: inline-block !important;position: relative;}#sk-container-id-2 div.sk-text-repr-fallback {display: none;}</style><div id=\"sk-container-id-2\" class=\"sk-top-container\"><div class=\"sk-text-repr-fallback\"><pre>DecisionTreeRegressor(criterion=&#x27;friedman_mse&#x27;, max_depth=1,\n",
       "                      random_state=RandomState(MT19937) at 0x208FC755140)</pre><b>In a Jupyter environment, please rerun this cell to show the HTML representation or trust the notebook. <br />On GitHub, the HTML representation is unable to render, please try loading this page with nbviewer.org.</b></div><div class=\"sk-container\" hidden><div class=\"sk-item\"><div class=\"sk-estimator sk-toggleable\"><input class=\"sk-toggleable__control sk-hidden--visually\" id=\"sk-estimator-id-2\" type=\"checkbox\" checked><label for=\"sk-estimator-id-2\" class=\"sk-toggleable__label sk-toggleable__label-arrow\">DecisionTreeRegressor</label><div class=\"sk-toggleable__content\"><pre>DecisionTreeRegressor(criterion=&#x27;friedman_mse&#x27;, max_depth=1,\n",
       "                      random_state=RandomState(MT19937) at 0x208FC755140)</pre></div></div></div></div></div>"
      ],
      "text/plain": [
       "DecisionTreeRegressor(criterion='friedman_mse', max_depth=1,\n",
       "                      random_state=RandomState(MT19937) at 0x208FC755140)"
      ]
     },
     "execution_count": 11,
     "metadata": {},
     "output_type": "execute_result"
    }
   ],
   "source": [
    "model[0,0]"
   ]
  },
  {
   "cell_type": "code",
   "execution_count": 12,
   "id": "c9cbf6e8",
   "metadata": {
    "ExecuteTime": {
     "end_time": "2022-07-06T12:03:03.982405Z",
     "start_time": "2022-07-06T12:03:03.779556Z"
    },
    "scrolled": true
   },
   "outputs": [
    {
     "data": {
      "image/svg+xml": [
       "<?xml version=\"1.0\" encoding=\"UTF-8\" standalone=\"no\"?>\n",
       "<!DOCTYPE svg PUBLIC \"-//W3C//DTD SVG 1.1//EN\"\n",
       " \"http://www.w3.org/Graphics/SVG/1.1/DTD/svg11.dtd\">\n",
       "<!-- Generated by graphviz version 2.48.0 (20210717.1556)\n",
       " -->\n",
       "<!-- Title: Tree Pages: 1 -->\n",
       "<svg width=\"336pt\" height=\"165pt\"\n",
       " viewBox=\"0.00 0.00 336.00 165.00\" xmlns=\"http://www.w3.org/2000/svg\" xmlns:xlink=\"http://www.w3.org/1999/xlink\">\n",
       "<g id=\"graph0\" class=\"graph\" transform=\"scale(1 1) rotate(0) translate(4 161)\">\n",
       "<title>Tree</title>\n",
       "<polygon fill=\"white\" stroke=\"transparent\" points=\"-4,4 -4,-161 332,-161 332,4 -4,4\"/>\n",
       "<!-- 0 -->\n",
       "<g id=\"node1\" class=\"node\">\n",
       "<title>0</title>\n",
       "<polygon fill=\"#fae6d7\" stroke=\"black\" points=\"242.5,-157 90.5,-157 90.5,-89 242.5,-89 242.5,-157\"/>\n",
       "<text text-anchor=\"middle\" x=\"166.5\" y=\"-141.8\" font-family=\"Helvetica,sans-Serif\" font-size=\"14.00\">X[0] &lt;= 8.5</text>\n",
       "<text text-anchor=\"middle\" x=\"166.5\" y=\"-126.8\" font-family=\"Helvetica,sans-Serif\" font-size=\"14.00\">friedman_mse = 0.24</text>\n",
       "<text text-anchor=\"middle\" x=\"166.5\" y=\"-111.8\" font-family=\"Helvetica,sans-Serif\" font-size=\"14.00\">samples = 10</text>\n",
       "<text text-anchor=\"middle\" x=\"166.5\" y=\"-96.8\" font-family=\"Helvetica,sans-Serif\" font-size=\"14.00\">value = &#45;0.0</text>\n",
       "</g>\n",
       "<!-- 1 -->\n",
       "<g id=\"node2\" class=\"node\">\n",
       "<title>1</title>\n",
       "<polygon fill=\"#ffffff\" stroke=\"black\" points=\"161,-53 0,-53 0,0 161,0 161,-53\"/>\n",
       "<text text-anchor=\"middle\" x=\"80.5\" y=\"-37.8\" font-family=\"Helvetica,sans-Serif\" font-size=\"14.00\">friedman_mse = 0.188</text>\n",
       "<text text-anchor=\"middle\" x=\"80.5\" y=\"-22.8\" font-family=\"Helvetica,sans-Serif\" font-size=\"14.00\">samples = 8</text>\n",
       "<text text-anchor=\"middle\" x=\"80.5\" y=\"-7.8\" font-family=\"Helvetica,sans-Serif\" font-size=\"14.00\">value = &#45;0.625</text>\n",
       "</g>\n",
       "<!-- 0&#45;&gt;1 -->\n",
       "<g id=\"edge1\" class=\"edge\">\n",
       "<title>0&#45;&gt;1</title>\n",
       "<path fill=\"none\" stroke=\"black\" d=\"M136.42,-88.95C128.1,-79.8 119.06,-69.87 110.73,-60.71\"/>\n",
       "<polygon fill=\"black\" stroke=\"black\" points=\"113.24,-58.28 103.92,-53.24 108.06,-62.99 113.24,-58.28\"/>\n",
       "<text text-anchor=\"middle\" x=\"102.75\" y=\"-74.51\" font-family=\"Helvetica,sans-Serif\" font-size=\"14.00\">True</text>\n",
       "</g>\n",
       "<!-- 2 -->\n",
       "<g id=\"node3\" class=\"node\">\n",
       "<title>2</title>\n",
       "<polygon fill=\"#e58139\" stroke=\"black\" points=\"328,-53 179,-53 179,0 328,0 328,-53\"/>\n",
       "<text text-anchor=\"middle\" x=\"253.5\" y=\"-37.8\" font-family=\"Helvetica,sans-Serif\" font-size=\"14.00\">friedman_mse = &#45;0.0</text>\n",
       "<text text-anchor=\"middle\" x=\"253.5\" y=\"-22.8\" font-family=\"Helvetica,sans-Serif\" font-size=\"14.00\">samples = 2</text>\n",
       "<text text-anchor=\"middle\" x=\"253.5\" y=\"-7.8\" font-family=\"Helvetica,sans-Serif\" font-size=\"14.00\">value = 2.5</text>\n",
       "</g>\n",
       "<!-- 0&#45;&gt;2 -->\n",
       "<g id=\"edge2\" class=\"edge\">\n",
       "<title>0&#45;&gt;2</title>\n",
       "<path fill=\"none\" stroke=\"black\" d=\"M196.93,-88.95C205.35,-79.8 214.49,-69.87 222.92,-60.71\"/>\n",
       "<polygon fill=\"black\" stroke=\"black\" points=\"225.61,-62.96 229.81,-53.24 220.46,-58.22 225.61,-62.96\"/>\n",
       "<text text-anchor=\"middle\" x=\"230.84\" y=\"-74.52\" font-family=\"Helvetica,sans-Serif\" font-size=\"14.00\">False</text>\n",
       "</g>\n",
       "</g>\n",
       "</svg>\n"
      ],
      "text/plain": [
       "<graphviz.sources.Source at 0x208ffa1a5b0>"
      ]
     },
     "execution_count": 12,
     "metadata": {},
     "output_type": "execute_result"
    }
   ],
   "source": [
    "# 第一棵树\n",
    "data = tree.export_graphviz(model[0,0],filled=True)\n",
    "graphviz.Source(data)"
   ]
  },
  {
   "cell_type": "code",
   "execution_count": 13,
   "id": "85014eb5",
   "metadata": {
    "ExecuteTime": {
     "end_time": "2022-07-06T12:03:03.997261Z",
     "start_time": "2022-07-06T12:03:03.983397Z"
    }
   },
   "outputs": [
    {
     "data": {
      "text/plain": [
       "0.15"
      ]
     },
     "execution_count": 13,
     "metadata": {},
     "output_type": "execute_result"
    }
   ],
   "source": [
    "np.round(0.8 * 0.188,2)"
   ]
  },
  {
   "cell_type": "code",
   "execution_count": 14,
   "id": "bf6f7cf9",
   "metadata": {
    "ExecuteTime": {
     "end_time": "2022-07-06T12:03:04.151359Z",
     "start_time": "2022-07-06T12:03:03.999254Z"
    }
   },
   "outputs": [
    {
     "data": {
      "image/svg+xml": [
       "<?xml version=\"1.0\" encoding=\"UTF-8\" standalone=\"no\"?>\n",
       "<!DOCTYPE svg PUBLIC \"-//W3C//DTD SVG 1.1//EN\"\n",
       " \"http://www.w3.org/Graphics/SVG/1.1/DTD/svg11.dtd\">\n",
       "<!-- Generated by graphviz version 2.48.0 (20210717.1556)\n",
       " -->\n",
       "<!-- Title: Tree Pages: 1 -->\n",
       "<svg width=\"332pt\" height=\"165pt\"\n",
       " viewBox=\"0.00 0.00 331.50 165.00\" xmlns=\"http://www.w3.org/2000/svg\" xmlns:xlink=\"http://www.w3.org/1999/xlink\">\n",
       "<g id=\"graph0\" class=\"graph\" transform=\"scale(1 1) rotate(0) translate(4 161)\">\n",
       "<title>Tree</title>\n",
       "<polygon fill=\"white\" stroke=\"transparent\" points=\"-4,4 -4,-161 327.5,-161 327.5,4 -4,4\"/>\n",
       "<!-- 0 -->\n",
       "<g id=\"node1\" class=\"node\">\n",
       "<title>0</title>\n",
       "<polygon fill=\"#fae5d6\" stroke=\"black\" points=\"246,-157 85,-157 85,-89 246,-89 246,-157\"/>\n",
       "<text text-anchor=\"middle\" x=\"165.5\" y=\"-141.8\" font-family=\"Helvetica,sans-Serif\" font-size=\"14.00\">X[0] &lt;= 8.5</text>\n",
       "<text text-anchor=\"middle\" x=\"165.5\" y=\"-126.8\" font-family=\"Helvetica,sans-Serif\" font-size=\"14.00\">friedman_mse = 0.223</text>\n",
       "<text text-anchor=\"middle\" x=\"165.5\" y=\"-111.8\" font-family=\"Helvetica,sans-Serif\" font-size=\"14.00\">samples = 10</text>\n",
       "<text text-anchor=\"middle\" x=\"165.5\" y=\"-96.8\" font-family=\"Helvetica,sans-Serif\" font-size=\"14.00\">value = &#45;0.0</text>\n",
       "</g>\n",
       "<!-- 1 -->\n",
       "<g id=\"node2\" class=\"node\">\n",
       "<title>1</title>\n",
       "<polygon fill=\"#ffffff\" stroke=\"black\" points=\"161,-53 0,-53 0,0 161,0 161,-53\"/>\n",
       "<text text-anchor=\"middle\" x=\"80.5\" y=\"-37.8\" font-family=\"Helvetica,sans-Serif\" font-size=\"14.00\">friedman_mse = 0.187</text>\n",
       "<text text-anchor=\"middle\" x=\"80.5\" y=\"-22.8\" font-family=\"Helvetica,sans-Serif\" font-size=\"14.00\">samples = 8</text>\n",
       "<text text-anchor=\"middle\" x=\"80.5\" y=\"-7.8\" font-family=\"Helvetica,sans-Serif\" font-size=\"14.00\">value = &#45;0.571</text>\n",
       "</g>\n",
       "<!-- 0&#45;&gt;1 -->\n",
       "<g id=\"edge1\" class=\"edge\">\n",
       "<title>0&#45;&gt;1</title>\n",
       "<path fill=\"none\" stroke=\"black\" d=\"M135.77,-88.95C127.54,-79.8 118.61,-69.87 110.37,-60.71\"/>\n",
       "<polygon fill=\"black\" stroke=\"black\" points=\"112.94,-58.33 103.65,-53.24 107.73,-63.01 112.94,-58.33\"/>\n",
       "<text text-anchor=\"middle\" x=\"102.33\" y=\"-74.5\" font-family=\"Helvetica,sans-Serif\" font-size=\"14.00\">True</text>\n",
       "</g>\n",
       "<!-- 2 -->\n",
       "<g id=\"node3\" class=\"node\">\n",
       "<title>2</title>\n",
       "<polygon fill=\"#e58139\" stroke=\"black\" points=\"323.5,-53 179.5,-53 179.5,0 323.5,0 323.5,-53\"/>\n",
       "<text text-anchor=\"middle\" x=\"251.5\" y=\"-37.8\" font-family=\"Helvetica,sans-Serif\" font-size=\"14.00\">friedman_mse = 0.0</text>\n",
       "<text text-anchor=\"middle\" x=\"251.5\" y=\"-22.8\" font-family=\"Helvetica,sans-Serif\" font-size=\"14.00\">samples = 2</text>\n",
       "<text text-anchor=\"middle\" x=\"251.5\" y=\"-7.8\" font-family=\"Helvetica,sans-Serif\" font-size=\"14.00\">value = 2.168</text>\n",
       "</g>\n",
       "<!-- 0&#45;&gt;2 -->\n",
       "<g id=\"edge2\" class=\"edge\">\n",
       "<title>0&#45;&gt;2</title>\n",
       "<path fill=\"none\" stroke=\"black\" d=\"M195.58,-88.95C203.9,-79.8 212.94,-69.87 221.27,-60.71\"/>\n",
       "<polygon fill=\"black\" stroke=\"black\" points=\"223.94,-62.99 228.08,-53.24 218.76,-58.28 223.94,-62.99\"/>\n",
       "<text text-anchor=\"middle\" x=\"229.25\" y=\"-74.51\" font-family=\"Helvetica,sans-Serif\" font-size=\"14.00\">False</text>\n",
       "</g>\n",
       "</g>\n",
       "</svg>\n"
      ],
      "text/plain": [
       "<graphviz.sources.Source at 0x2089d1ec310>"
      ]
     },
     "execution_count": 14,
     "metadata": {},
     "output_type": "execute_result"
    }
   ],
   "source": [
    "# 第二棵树\n",
    "data = tree.export_graphviz(model[1,0],filled=True)\n",
    "graphviz.Source(data)"
   ]
  },
  {
   "cell_type": "code",
   "execution_count": 33,
   "id": "bad37517",
   "metadata": {
    "ExecuteTime": {
     "end_time": "2022-07-06T12:09:54.593580Z",
     "start_time": "2022-07-06T12:09:54.575911Z"
    }
   },
   "outputs": [
    {
     "data": {
      "text/plain": [
       "0.15"
      ]
     },
     "execution_count": 33,
     "metadata": {},
     "output_type": "execute_result"
    }
   ],
   "source": [
    "np.round(0.8 * 0.187,2)"
   ]
  },
  {
   "cell_type": "code",
   "execution_count": 15,
   "id": "726d2388",
   "metadata": {
    "ExecuteTime": {
     "end_time": "2022-07-06T12:03:04.274947Z",
     "start_time": "2022-07-06T12:03:04.153348Z"
    }
   },
   "outputs": [
    {
     "data": {
      "image/svg+xml": [
       "<?xml version=\"1.0\" encoding=\"UTF-8\" standalone=\"no\"?>\n",
       "<!DOCTYPE svg PUBLIC \"-//W3C//DTD SVG 1.1//EN\"\n",
       " \"http://www.w3.org/Graphics/SVG/1.1/DTD/svg11.dtd\">\n",
       "<!-- Generated by graphviz version 2.48.0 (20210717.1556)\n",
       " -->\n",
       "<!-- Title: Tree Pages: 1 -->\n",
       "<svg width=\"332pt\" height=\"165pt\"\n",
       " viewBox=\"0.00 0.00 331.50 165.00\" xmlns=\"http://www.w3.org/2000/svg\" xmlns:xlink=\"http://www.w3.org/1999/xlink\">\n",
       "<g id=\"graph0\" class=\"graph\" transform=\"scale(1 1) rotate(0) translate(4 161)\">\n",
       "<title>Tree</title>\n",
       "<polygon fill=\"white\" stroke=\"transparent\" points=\"-4,4 -4,-161 327.5,-161 327.5,4 -4,4\"/>\n",
       "<!-- 0 -->\n",
       "<g id=\"node1\" class=\"node\">\n",
       "<title>0</title>\n",
       "<polygon fill=\"#eda673\" stroke=\"black\" points=\"237.5,-157 76.5,-157 76.5,-89 237.5,-89 237.5,-157\"/>\n",
       "<text text-anchor=\"middle\" x=\"157\" y=\"-141.8\" font-family=\"Helvetica,sans-Serif\" font-size=\"14.00\">X[0] &lt;= 3.5</text>\n",
       "<text text-anchor=\"middle\" x=\"157\" y=\"-126.8\" font-family=\"Helvetica,sans-Serif\" font-size=\"14.00\">friedman_mse = 0.209</text>\n",
       "<text text-anchor=\"middle\" x=\"157\" y=\"-111.8\" font-family=\"Helvetica,sans-Serif\" font-size=\"14.00\">samples = 10</text>\n",
       "<text text-anchor=\"middle\" x=\"157\" y=\"-96.8\" font-family=\"Helvetica,sans-Serif\" font-size=\"14.00\">value = &#45;0.0</text>\n",
       "</g>\n",
       "<!-- 1 -->\n",
       "<g id=\"node2\" class=\"node\">\n",
       "<title>1</title>\n",
       "<polygon fill=\"#ffffff\" stroke=\"black\" points=\"144,-53 0,-53 0,0 144,0 144,-53\"/>\n",
       "<text text-anchor=\"middle\" x=\"72\" y=\"-37.8\" font-family=\"Helvetica,sans-Serif\" font-size=\"14.00\">friedman_mse = 0.0</text>\n",
       "<text text-anchor=\"middle\" x=\"72\" y=\"-22.8\" font-family=\"Helvetica,sans-Serif\" font-size=\"14.00\">samples = 3</text>\n",
       "<text text-anchor=\"middle\" x=\"72\" y=\"-7.8\" font-family=\"Helvetica,sans-Serif\" font-size=\"14.00\">value = &#45;1.592</text>\n",
       "</g>\n",
       "<!-- 0&#45;&gt;1 -->\n",
       "<g id=\"edge1\" class=\"edge\">\n",
       "<title>0&#45;&gt;1</title>\n",
       "<path fill=\"none\" stroke=\"black\" d=\"M127.27,-88.95C119.04,-79.8 110.11,-69.87 101.87,-60.71\"/>\n",
       "<polygon fill=\"black\" stroke=\"black\" points=\"104.44,-58.33 95.15,-53.24 99.23,-63.01 104.44,-58.33\"/>\n",
       "<text text-anchor=\"middle\" x=\"93.83\" y=\"-74.5\" font-family=\"Helvetica,sans-Serif\" font-size=\"14.00\">True</text>\n",
       "</g>\n",
       "<!-- 2 -->\n",
       "<g id=\"node3\" class=\"node\">\n",
       "<title>2</title>\n",
       "<polygon fill=\"#e58139\" stroke=\"black\" points=\"323.5,-53 162.5,-53 162.5,0 323.5,0 323.5,-53\"/>\n",
       "<text text-anchor=\"middle\" x=\"243\" y=\"-37.8\" font-family=\"Helvetica,sans-Serif\" font-size=\"14.00\">friedman_mse = 0.214</text>\n",
       "<text text-anchor=\"middle\" x=\"243\" y=\"-22.8\" font-family=\"Helvetica,sans-Serif\" font-size=\"14.00\">samples = 7</text>\n",
       "<text text-anchor=\"middle\" x=\"243\" y=\"-7.8\" font-family=\"Helvetica,sans-Serif\" font-size=\"14.00\">value = 0.666</text>\n",
       "</g>\n",
       "<!-- 0&#45;&gt;2 -->\n",
       "<g id=\"edge2\" class=\"edge\">\n",
       "<title>0&#45;&gt;2</title>\n",
       "<path fill=\"none\" stroke=\"black\" d=\"M187.08,-88.95C195.4,-79.8 204.44,-69.87 212.77,-60.71\"/>\n",
       "<polygon fill=\"black\" stroke=\"black\" points=\"215.44,-62.99 219.58,-53.24 210.26,-58.28 215.44,-62.99\"/>\n",
       "<text text-anchor=\"middle\" x=\"220.75\" y=\"-74.51\" font-family=\"Helvetica,sans-Serif\" font-size=\"14.00\">False</text>\n",
       "</g>\n",
       "</g>\n",
       "</svg>\n"
      ],
      "text/plain": [
       "<graphviz.sources.Source at 0x2089d23c970>"
      ]
     },
     "execution_count": 15,
     "metadata": {},
     "output_type": "execute_result"
    }
   ],
   "source": [
    "# 第三棵树\n",
    "data = tree.export_graphviz(model[2,0],filled=True)\n",
    "graphviz.Source(data)"
   ]
  },
  {
   "cell_type": "markdown",
   "id": "3a303ebc",
   "metadata": {},
   "source": [
    "### 算法模拟【自己写代码实现上述过程】【原理】"
   ]
  },
  {
   "cell_type": "markdown",
   "id": "b36061a7",
   "metadata": {},
   "source": [
    "#### 初始值计算"
   ]
  },
  {
   "cell_type": "code",
   "execution_count": 51,
   "id": "9f609b8f",
   "metadata": {
    "ExecuteTime": {
     "end_time": "2022-07-06T13:37:38.676999Z",
     "start_time": "2022-07-06T13:37:38.664509Z"
    }
   },
   "outputs": [
    {
     "data": {
      "text/plain": [
       "2.718281828459045"
      ]
     },
     "execution_count": 51,
     "metadata": {},
     "output_type": "execute_result"
    }
   ],
   "source": [
    "np.e"
   ]
  },
  {
   "cell_type": "code",
   "execution_count": 50,
   "id": "d333e961",
   "metadata": {
    "ExecuteTime": {
     "end_time": "2022-07-06T13:37:32.096571Z",
     "start_time": "2022-07-06T13:37:32.087178Z"
    }
   },
   "outputs": [
    {
     "data": {
      "text/plain": [
       "1.0"
      ]
     },
     "execution_count": 50,
     "metadata": {},
     "output_type": "execute_result"
    }
   ],
   "source": [
    "np.log(np.e)"
   ]
  },
  {
   "cell_type": "code",
   "execution_count": 48,
   "id": "43639493",
   "metadata": {
    "ExecuteTime": {
     "end_time": "2022-07-06T13:36:53.786715Z",
     "start_time": "2022-07-06T13:36:53.771770Z"
    }
   },
   "outputs": [
    {
     "data": {
      "text/plain": [
       "0.6931471805599453"
      ]
     },
     "execution_count": 48,
     "metadata": {},
     "output_type": "execute_result"
    }
   ],
   "source": [
    "np.log(2)"
   ]
  },
  {
   "cell_type": "code",
   "execution_count": 16,
   "id": "512b87bf",
   "metadata": {
    "ExecuteTime": {
     "end_time": "2022-07-06T12:03:04.290888Z",
     "start_time": "2022-07-06T12:03:04.276935Z"
    }
   },
   "outputs": [
    {
     "data": {
      "text/plain": [
       "-0.40546510810816444"
      ]
     },
     "execution_count": 16,
     "metadata": {},
     "output_type": "execute_result"
    }
   ],
   "source": [
    "# np.log == ln\n",
    "F0 = np.log(y.sum()/(1 - y).sum())\n",
    "F0"
   ]
  },
  {
   "cell_type": "code",
   "execution_count": 17,
   "id": "e4201352",
   "metadata": {
    "ExecuteTime": {
     "end_time": "2022-07-06T12:03:04.306835Z",
     "start_time": "2022-07-06T12:03:04.293880Z"
    }
   },
   "outputs": [
    {
     "data": {
      "text/plain": [
       "array([-0.40546511, -0.40546511, -0.40546511, -0.40546511, -0.40546511,\n",
       "       -0.40546511, -0.40546511, -0.40546511, -0.40546511, -0.40546511])"
      ]
     },
     "execution_count": 17,
     "metadata": {},
     "output_type": "execute_result"
    }
   ],
   "source": [
    "# 10个样本，一开始时候，10个样本，都是这个初始值\n",
    "# 随着梯度进行，差异就出现了\n",
    "F0 = np.array([F0] * 10)\n",
    "F0"
   ]
  },
  {
   "cell_type": "markdown",
   "id": "e97ce819",
   "metadata": {},
   "source": [
    "#### 计算残差"
   ]
  },
  {
   "cell_type": "code",
   "execution_count": 18,
   "id": "d04e6df6",
   "metadata": {
    "ExecuteTime": {
     "end_time": "2022-07-06T12:03:04.322782Z",
     "start_time": "2022-07-06T12:03:04.309830Z"
    }
   },
   "outputs": [
    {
     "data": {
      "text/plain": [
       "array([-0.4, -0.4, -0.4,  0.6,  0.6, -0.4, -0.4, -0.4,  0.6,  0.6])"
      ]
     },
     "execution_count": 18,
     "metadata": {},
     "output_type": "execute_result"
    }
   ],
   "source": [
    "residual0 = y - 1/(1 + np.exp(-F0))\n",
    "residual0"
   ]
  },
  {
   "cell_type": "code",
   "execution_count": 19,
   "id": "c181a2eb",
   "metadata": {
    "ExecuteTime": {
     "end_time": "2022-07-06T12:03:04.338728Z",
     "start_time": "2022-07-06T12:03:04.324785Z"
    }
   },
   "outputs": [
    {
     "data": {
      "text/plain": [
       "0.24"
      ]
     },
     "execution_count": 19,
     "metadata": {},
     "output_type": "execute_result"
    }
   ],
   "source": [
    "mse = ((residual0 - residual0.mean())**2).mean()\n",
    "mse"
   ]
  },
  {
   "cell_type": "markdown",
   "id": "d9318dbb",
   "metadata": {},
   "source": [
    "#### 拟合第一棵树"
   ]
  },
  {
   "cell_type": "code",
   "execution_count": 20,
   "id": "de9e11c8",
   "metadata": {
    "ExecuteTime": {
     "end_time": "2022-07-06T12:03:04.353678Z",
     "start_time": "2022-07-06T12:03:04.340737Z"
    }
   },
   "outputs": [
    {
     "data": {
      "text/plain": [
       "array([-0.4, -0.4, -0.4,  0.6,  0.6, -0.4, -0.4, -0.4,  0.6,  0.6])"
      ]
     },
     "execution_count": 20,
     "metadata": {},
     "output_type": "execute_result"
    }
   ],
   "source": [
    "residual0"
   ]
  },
  {
   "cell_type": "code",
   "execution_count": 21,
   "id": "e9a162f0",
   "metadata": {
    "ExecuteTime": {
     "end_time": "2022-07-06T12:03:04.369627Z",
     "start_time": "2022-07-06T12:03:04.355676Z"
    }
   },
   "outputs": [
    {
     "data": {
      "text/plain": [
       "array([ 1,  2,  3,  4,  5,  6,  7,  8,  9, 10])"
      ]
     },
     "execution_count": 21,
     "metadata": {},
     "output_type": "execute_result"
    }
   ],
   "source": [
    "X.ravel()"
   ]
  },
  {
   "cell_type": "code",
   "execution_count": 22,
   "id": "52ad5287",
   "metadata": {
    "ExecuteTime": {
     "end_time": "2022-07-06T12:03:04.385572Z",
     "start_time": "2022-07-06T12:03:04.371618Z"
    }
   },
   "outputs": [
    {
     "name": "stdout",
     "output_type": "stream",
     "text": [
      "最小的mse是： 0.15\n",
      "最佳的裂分条件是： {'X[0] <= ': 8.5}\n"
     ]
    }
   ],
   "source": [
    "lower_mse = 0.24# 初始\n",
    "best_split = {}\n",
    "for i in range(0,10):# i 从数字0开始\n",
    "    if i == 9:\n",
    "        mse = ((residual0 - residual0.mean())**2).mean()\n",
    "    else:\n",
    "        left = residual0[:i+1] # 左闭右开\n",
    "        right = residual0[i+1:]\n",
    "        left_mse = ((left - left.mean())**2).mean()\n",
    "        right_mse = ((right - right.mean())**2).mean()\n",
    "        mse = left_mse * (i+1)/10 + right_mse * (10 -i -1)/10\n",
    "    if lower_mse > mse:\n",
    "        lower_mse = mse\n",
    "        best_split.clear()\n",
    "        best_split['X[0] <= '] = X[i:i+2].mean()\n",
    "        \n",
    "print('最小的mse是：',lower_mse)\n",
    "print('最佳的裂分条件是：',best_split)"
   ]
  },
  {
   "cell_type": "code",
   "execution_count": 23,
   "id": "6fc3ac58",
   "metadata": {
    "ExecuteTime": {
     "end_time": "2022-07-06T12:03:04.401525Z",
     "start_time": "2022-07-06T12:03:04.387564Z"
    }
   },
   "outputs": [
    {
     "data": {
      "text/plain": [
       "-0.625"
      ]
     },
     "execution_count": 23,
     "metadata": {},
     "output_type": "execute_result"
    }
   ],
   "source": [
    "# 计算叶节点的value\n",
    "gamma1 = residual0[:8].sum()/((y[:8] - residual0[:8])*(1-y[:8] + residual0[:8])).sum()\n",
    "np.round(gamma1,3)"
   ]
  },
  {
   "cell_type": "code",
   "execution_count": 24,
   "id": "84a91429",
   "metadata": {
    "ExecuteTime": {
     "end_time": "2022-07-06T12:03:04.417584Z",
     "start_time": "2022-07-06T12:03:04.403511Z"
    }
   },
   "outputs": [
    {
     "data": {
      "text/plain": [
       "2.5"
      ]
     },
     "execution_count": 24,
     "metadata": {},
     "output_type": "execute_result"
    }
   ],
   "source": [
    "gamma2 = residual0[8:].sum()/((y[8:] - residual0[8:])*(1-y[8:] + residual0[8:])).sum()\n",
    "np.round(gamma2,3)"
   ]
  },
  {
   "cell_type": "code",
   "execution_count": 25,
   "id": "4c101abd",
   "metadata": {
    "ExecuteTime": {
     "end_time": "2022-07-06T12:03:04.433530Z",
     "start_time": "2022-07-06T12:03:04.420574Z"
    }
   },
   "outputs": [
    {
     "data": {
      "text/plain": [
       "array([-0.46796511, -0.46796511, -0.46796511, -0.46796511, -0.46796511,\n",
       "       -0.46796511, -0.46796511, -0.46796511, -0.15546511, -0.15546511])"
      ]
     },
     "execution_count": 25,
     "metadata": {},
     "output_type": "execute_result"
    }
   ],
   "source": [
    "# 梯度提升\n",
    "gamma = np.array([gamma1]*8 + [gamma2]*2)\n",
    "learning_rate = 0.1\n",
    "F1 = F0 + gamma * learning_rate\n",
    "F1"
   ]
  },
  {
   "cell_type": "markdown",
   "id": "17b83e60",
   "metadata": {},
   "source": [
    "#### 拟合第二棵树【F1】"
   ]
  },
  {
   "cell_type": "code",
   "execution_count": 28,
   "id": "a166fc6b",
   "metadata": {
    "ExecuteTime": {
     "end_time": "2022-07-06T12:05:09.017196Z",
     "start_time": "2022-07-06T12:05:09.007708Z"
    }
   },
   "outputs": [
    {
     "data": {
      "text/plain": [
       "array([-0.38509799, -0.38509799, -0.38509799,  0.61490201,  0.61490201,\n",
       "       -0.38509799, -0.38509799, -0.38509799,  0.53878818,  0.53878818])"
      ]
     },
     "execution_count": 28,
     "metadata": {},
     "output_type": "execute_result"
    }
   ],
   "source": [
    "# 根据F1计算残差\n",
    "residual1 = y - 1/(1 + np.exp(-F1))\n",
    "residual1"
   ]
  },
  {
   "cell_type": "code",
   "execution_count": 30,
   "id": "20dd2f8e",
   "metadata": {
    "ExecuteTime": {
     "end_time": "2022-07-06T12:06:44.655407Z",
     "start_time": "2022-07-06T12:06:44.642426Z"
    }
   },
   "outputs": [
    {
     "data": {
      "text/plain": [
       "0.223"
      ]
     },
     "execution_count": 30,
     "metadata": {},
     "output_type": "execute_result"
    }
   ],
   "source": [
    "mse = ((residual1 - residual1.mean())**2).mean()\n",
    "np.round(mse,3)"
   ]
  },
  {
   "cell_type": "code",
   "execution_count": 31,
   "id": "e75fa8f0",
   "metadata": {
    "ExecuteTime": {
     "end_time": "2022-07-06T12:08:43.716050Z",
     "start_time": "2022-07-06T12:08:43.693530Z"
    }
   },
   "outputs": [
    {
     "name": "stdout",
     "output_type": "stream",
     "text": [
      "最小的mse是： 0.15\n",
      "最佳的裂分条件是： {'X[0] <= ': 8.5}\n"
     ]
    }
   ],
   "source": [
    "# 有了残差，就可以裂分\n",
    "lower_mse = 0.223# 初始\n",
    "best_split = {}\n",
    "for i in range(0,10):# i 从数字0开始\n",
    "    if i == 9:\n",
    "        mse = ((residual1 - residual1.mean())**2).mean()\n",
    "    else:\n",
    "        left = residual1[:i+1] # 左闭右开\n",
    "        right = residual1[i+1:]\n",
    "        left_mse = ((left - left.mean())**2).mean()\n",
    "        right_mse = ((right - right.mean())**2).mean()\n",
    "        mse = left_mse * (i+1)/10 + right_mse * (10 -i -1)/10\n",
    "    if lower_mse > mse:\n",
    "        lower_mse = mse\n",
    "        best_split.clear()\n",
    "        best_split['X[0] <= '] = X[i:i+2].mean()\n",
    "        \n",
    "print('最小的mse是：',lower_mse)\n",
    "print('最佳的裂分条件是：',best_split)"
   ]
  },
  {
   "cell_type": "code",
   "execution_count": 34,
   "id": "137c65aa",
   "metadata": {
    "ExecuteTime": {
     "end_time": "2022-07-06T12:12:26.331029Z",
     "start_time": "2022-07-06T12:12:26.319562Z"
    }
   },
   "outputs": [
    {
     "name": "stdout",
     "output_type": "stream",
     "text": [
      "-0.571\n",
      "2.168\n"
     ]
    }
   ],
   "source": [
    "# 计算叶节点gamma，value，负梯度\n",
    "# 计算叶节点的value\n",
    "gamma1 = residual1[:8].sum()/((y[:8] - residual1[:8])*(1-y[:8] + residual1[:8])).sum()\n",
    "print(np.round(gamma1,3))\n",
    "\n",
    "gamma2 = residual1[8:].sum()/((y[8:] - residual1[8:])*(1-y[8:] + residual1[8:])).sum()\n",
    "print(np.round(gamma2,3))"
   ]
  },
  {
   "cell_type": "code",
   "execution_count": 35,
   "id": "39e683d1",
   "metadata": {
    "ExecuteTime": {
     "end_time": "2022-07-06T12:14:25.112593Z",
     "start_time": "2022-07-06T12:14:25.098422Z"
    }
   },
   "outputs": [
    {
     "data": {
      "text/plain": [
       "array([-0.57052111, -0.57052111, -0.57052111, -0.57052111, -0.57052111,\n",
       "       -0.57052111, -0.57052111, -0.57052111,  2.16820117,  2.16820117])"
      ]
     },
     "execution_count": 35,
     "metadata": {},
     "output_type": "execute_result"
    }
   ],
   "source": [
    "# 声明叶节点，负梯度\n",
    "gamma = np.array([gamma1] * 8 + [gamma2]*2)\n",
    "gamma"
   ]
  },
  {
   "cell_type": "code",
   "execution_count": 36,
   "id": "1be4dcef",
   "metadata": {
    "ExecuteTime": {
     "end_time": "2022-07-06T12:15:01.080716Z",
     "start_time": "2022-07-06T12:15:01.068228Z"
    }
   },
   "outputs": [
    {
     "data": {
      "text/plain": [
       "array([-0.52501722, -0.52501722, -0.52501722, -0.52501722, -0.52501722,\n",
       "       -0.52501722, -0.52501722, -0.52501722,  0.06135501,  0.06135501])"
      ]
     },
     "execution_count": 36,
     "metadata": {},
     "output_type": "execute_result"
    }
   ],
   "source": [
    "# 梯度提升\n",
    "F2 = F1 + gamma * learning_rate\n",
    "F2"
   ]
  },
  {
   "cell_type": "markdown",
   "id": "f18f731b",
   "metadata": {},
   "source": [
    "#### 拟合第三棵树【F2】"
   ]
  },
  {
   "cell_type": "code",
   "execution_count": 37,
   "id": "59dc8281",
   "metadata": {
    "ExecuteTime": {
     "end_time": "2022-07-06T12:16:12.732422Z",
     "start_time": "2022-07-06T12:16:12.711935Z"
    }
   },
   "outputs": [
    {
     "data": {
      "text/plain": [
       "array([-0.37167979, -0.37167979, -0.37167979,  0.62832021,  0.62832021,\n",
       "       -0.37167979, -0.37167979, -0.37167979,  0.48466606,  0.48466606])"
      ]
     },
     "execution_count": 37,
     "metadata": {},
     "output_type": "execute_result"
    }
   ],
   "source": [
    "residual2 = y - 1/(1 + np.exp(-F2))\n",
    "residual2"
   ]
  },
  {
   "cell_type": "code",
   "execution_count": 38,
   "id": "e6b9a7d4",
   "metadata": {
    "ExecuteTime": {
     "end_time": "2022-07-06T12:17:17.549248Z",
     "start_time": "2022-07-06T12:17:17.532307Z"
    }
   },
   "outputs": [
    {
     "data": {
      "text/plain": [
       "0.209"
      ]
     },
     "execution_count": 38,
     "metadata": {},
     "output_type": "execute_result"
    }
   ],
   "source": [
    "# mse\n",
    "mse = ((residual2 - residual2.mean())**2).mean()\n",
    "np.round(mse,3)"
   ]
  },
  {
   "cell_type": "code",
   "execution_count": 39,
   "id": "734b352a",
   "metadata": {
    "ExecuteTime": {
     "end_time": "2022-07-06T12:18:11.582136Z",
     "start_time": "2022-07-06T12:18:11.564675Z"
    }
   },
   "outputs": [
    {
     "name": "stdout",
     "output_type": "stream",
     "text": [
      "最小的mse是： 0.1497502190152274\n",
      "最佳的裂分条件是： {'X[0] <= ': 3.5}\n"
     ]
    }
   ],
   "source": [
    "# 有了残差，就可以裂分\n",
    "lower_mse = 0.223# 初始\n",
    "best_split = {}\n",
    "for i in range(0,10):# i 从数字0开始\n",
    "    if i == 9:\n",
    "        mse = ((residual2 - residual2.mean())**2).mean()\n",
    "    else:\n",
    "        left = residual2[:i+1] # 左闭右开\n",
    "        right = residual2[i+1:]\n",
    "        left_mse = ((left - left.mean())**2).mean()\n",
    "        right_mse = ((right - right.mean())**2).mean()\n",
    "        mse = left_mse * (i+1)/10 + right_mse * (10 -i -1)/10\n",
    "    if lower_mse > mse:\n",
    "        lower_mse = mse\n",
    "        best_split.clear()\n",
    "        best_split['X[0] <= '] = X[i:i+2].mean()\n",
    "        \n",
    "print('最小的mse是：',lower_mse)\n",
    "print('最佳的裂分条件是：',best_split)"
   ]
  },
  {
   "cell_type": "code",
   "execution_count": 42,
   "id": "343bb425",
   "metadata": {
    "ExecuteTime": {
     "end_time": "2022-07-06T12:22:28.755789Z",
     "start_time": "2022-07-06T12:22:28.734741Z"
    }
   },
   "outputs": [
    {
     "name": "stdout",
     "output_type": "stream",
     "text": [
      "-1.592\n",
      "0.666\n"
     ]
    }
   ],
   "source": [
    "# 计算叶节点gamma，value，负梯度\n",
    "# 计算叶节点的value\n",
    "gamma1 = residual2[:3].sum()/((y[:3] - residual2[:3])*(1-y[:3] + residual2[:3])).sum()\n",
    "print(np.round(gamma1,3))\n",
    "\n",
    "gamma2 = residual2[3:].sum()/((y[3:] - residual2[3:])*(1-y[3:] + residual2[3:])).sum()\n",
    "print(np.round(gamma2,3))"
   ]
  },
  {
   "cell_type": "code",
   "execution_count": 43,
   "id": "3918a145",
   "metadata": {
    "ExecuteTime": {
     "end_time": "2022-07-06T12:23:09.879199Z",
     "start_time": "2022-07-06T12:23:09.857244Z"
    }
   },
   "outputs": [
    {
     "data": {
      "text/plain": [
       "array([-1.59154518, -1.59154518, -1.59154518,  0.66634692,  0.66634692,\n",
       "        0.66634692,  0.66634692,  0.66634692,  0.66634692,  0.66634692])"
      ]
     },
     "execution_count": 43,
     "metadata": {},
     "output_type": "execute_result"
    }
   ],
   "source": [
    "gamma = np.array([gamma1]*3 + [gamma2]*7)\n",
    "gamma"
   ]
  },
  {
   "cell_type": "code",
   "execution_count": 44,
   "id": "6359985a",
   "metadata": {
    "ExecuteTime": {
     "end_time": "2022-07-06T12:23:46.284509Z",
     "start_time": "2022-07-06T12:23:46.276535Z"
    }
   },
   "outputs": [
    {
     "data": {
      "text/plain": [
       "array([-0.68417174, -0.68417174, -0.68417174, -0.45838253, -0.45838253,\n",
       "       -0.45838253, -0.45838253, -0.45838253,  0.1279897 ,  0.1279897 ])"
      ]
     },
     "execution_count": 44,
     "metadata": {},
     "output_type": "execute_result"
    }
   ],
   "source": [
    "# 决策树最终的结果，这个就是决策树的值\n",
    "# 需要对F3进行sigmoid转换\n",
    "F3 = F2 + gamma * learning_rate\n",
    "F3"
   ]
  },
  {
   "cell_type": "code",
   "execution_count": 47,
   "id": "1741890e",
   "metadata": {
    "ExecuteTime": {
     "end_time": "2022-07-06T12:32:34.063564Z",
     "start_time": "2022-07-06T12:32:34.052593Z"
    },
    "collapsed": true,
    "jupyter": {
     "outputs_hidden": true
    }
   },
   "outputs": [
    {
     "data": {
      "text/plain": [
       "array([[0.66466915, 0.33533085],\n",
       "       [0.66466915, 0.33533085],\n",
       "       [0.66466915, 0.33533085],\n",
       "       [0.6126304 , 0.3873696 ],\n",
       "       [0.6126304 , 0.3873696 ],\n",
       "       [0.6126304 , 0.3873696 ],\n",
       "       [0.6126304 , 0.3873696 ],\n",
       "       [0.6126304 , 0.3873696 ],\n",
       "       [0.46804618, 0.53195382],\n",
       "       [0.46804618, 0.53195382]])"
      ]
     },
     "execution_count": 47,
     "metadata": {},
     "output_type": "execute_result"
    }
   ],
   "source": [
    "p = 1/(1 + np.exp(-F3))\n",
    "np.c_[1-p,p]"
   ]
  },
  {
   "cell_type": "code",
   "execution_count": 46,
   "id": "37092a78",
   "metadata": {
    "ExecuteTime": {
     "end_time": "2022-07-06T12:27:14.979684Z",
     "start_time": "2022-07-06T12:27:14.964767Z"
    },
    "collapsed": true,
    "jupyter": {
     "outputs_hidden": true
    }
   },
   "outputs": [
    {
     "data": {
      "text/plain": [
       "array([[0.66466915, 0.33533085],\n",
       "       [0.66466915, 0.33533085],\n",
       "       [0.66466915, 0.33533085],\n",
       "       [0.6126304 , 0.3873696 ],\n",
       "       [0.6126304 , 0.3873696 ],\n",
       "       [0.6126304 , 0.3873696 ],\n",
       "       [0.6126304 , 0.3873696 ],\n",
       "       [0.6126304 , 0.3873696 ],\n",
       "       [0.46804618, 0.53195382],\n",
       "       [0.46804618, 0.53195382]])"
      ]
     },
     "execution_count": 46,
     "metadata": {},
     "output_type": "execute_result"
    }
   ],
   "source": [
    "proba_"
   ]
  },
  {
   "cell_type": "code",
   "execution_count": null,
   "id": "1d46cd3d",
   "metadata": {},
   "outputs": [],
   "source": []
  }
 ],
 "metadata": {
  "kernelspec": {
   "display_name": "Python 3 (ipykernel)",
   "language": "python",
   "name": "python3"
  },
  "language_info": {
   "codemirror_mode": {
    "name": "ipython",
    "version": 3
   },
   "file_extension": ".py",
   "mimetype": "text/x-python",
   "name": "python",
   "nbconvert_exporter": "python",
   "pygments_lexer": "ipython3",
   "version": "3.10.13"
  },
  "toc": {
   "base_numbering": 1,
   "nav_menu": {},
   "number_sections": true,
   "sideBar": true,
   "skip_h1_title": false,
   "title_cell": "Table of Contents",
   "title_sidebar": "Contents",
   "toc_cell": false,
   "toc_position": {
    "height": "calc(100% - 180px)",
    "left": "10px",
    "top": "150px",
    "width": "245.76px"
   },
   "toc_section_display": true,
   "toc_window_display": true
  }
 },
 "nbformat": 4,
 "nbformat_minor": 5
}
