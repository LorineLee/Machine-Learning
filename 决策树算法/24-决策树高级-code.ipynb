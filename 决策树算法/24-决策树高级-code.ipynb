{
 "cells": [
  {
   "cell_type": "markdown",
   "id": "7783c00d",
   "metadata": {},
   "source": [
    "### 决策树可视化"
   ]
  },
  {
   "cell_type": "code",
   "execution_count": 1,
   "id": "8734af25",
   "metadata": {
    "ExecuteTime": {
     "end_time": "2022-06-27T12:05:41.866756Z",
     "start_time": "2022-06-27T12:05:41.231868Z"
    }
   },
   "outputs": [
    {
     "name": "stdout",
     "output_type": "stream",
     "text": [
      "['N' 'Y' 'Y' 'Y' 'Y' 'Y' 'N' 'Y' 'Y' 'N']\n"
     ]
    },
    {
     "data": {
      "text/html": [
       "<div>\n",
       "<style scoped>\n",
       "    .dataframe tbody tr th:only-of-type {\n",
       "        vertical-align: middle;\n",
       "    }\n",
       "\n",
       "    .dataframe tbody tr th {\n",
       "        vertical-align: top;\n",
       "    }\n",
       "\n",
       "    .dataframe thead th {\n",
       "        text-align: right;\n",
       "    }\n",
       "</style>\n",
       "<table border=\"1\" class=\"dataframe\">\n",
       "  <thead>\n",
       "    <tr style=\"text-align: right;\">\n",
       "      <th></th>\n",
       "      <th>日志密度</th>\n",
       "      <th>好友密度</th>\n",
       "      <th>真实头像</th>\n",
       "    </tr>\n",
       "  </thead>\n",
       "  <tbody>\n",
       "    <tr>\n",
       "      <th>0</th>\n",
       "      <td>s</td>\n",
       "      <td>s</td>\n",
       "      <td>N</td>\n",
       "    </tr>\n",
       "    <tr>\n",
       "      <th>1</th>\n",
       "      <td>s</td>\n",
       "      <td>l</td>\n",
       "      <td>Y</td>\n",
       "    </tr>\n",
       "    <tr>\n",
       "      <th>2</th>\n",
       "      <td>l</td>\n",
       "      <td>m</td>\n",
       "      <td>Y</td>\n",
       "    </tr>\n",
       "    <tr>\n",
       "      <th>3</th>\n",
       "      <td>m</td>\n",
       "      <td>m</td>\n",
       "      <td>Y</td>\n",
       "    </tr>\n",
       "    <tr>\n",
       "      <th>4</th>\n",
       "      <td>l</td>\n",
       "      <td>m</td>\n",
       "      <td>Y</td>\n",
       "    </tr>\n",
       "    <tr>\n",
       "      <th>5</th>\n",
       "      <td>m</td>\n",
       "      <td>l</td>\n",
       "      <td>N</td>\n",
       "    </tr>\n",
       "    <tr>\n",
       "      <th>6</th>\n",
       "      <td>m</td>\n",
       "      <td>s</td>\n",
       "      <td>Y</td>\n",
       "    </tr>\n",
       "    <tr>\n",
       "      <th>7</th>\n",
       "      <td>l</td>\n",
       "      <td>m</td>\n",
       "      <td>Y</td>\n",
       "    </tr>\n",
       "    <tr>\n",
       "      <th>8</th>\n",
       "      <td>m</td>\n",
       "      <td>s</td>\n",
       "      <td>Y</td>\n",
       "    </tr>\n",
       "    <tr>\n",
       "      <th>9</th>\n",
       "      <td>s</td>\n",
       "      <td>s</td>\n",
       "      <td>Y</td>\n",
       "    </tr>\n",
       "  </tbody>\n",
       "</table>\n",
       "</div>"
      ],
      "text/plain": [
       "  日志密度 好友密度 真实头像\n",
       "0    s    s    N\n",
       "1    s    l    Y\n",
       "2    l    m    Y\n",
       "3    m    m    Y\n",
       "4    l    m    Y\n",
       "5    m    l    N\n",
       "6    m    s    Y\n",
       "7    l    m    Y\n",
       "8    m    s    Y\n",
       "9    s    s    Y"
      ]
     },
     "execution_count": 1,
     "metadata": {},
     "output_type": "execute_result"
    }
   ],
   "source": [
    "import numpy as np\n",
    "import pandas as pd\n",
    "y = np.array(list('NYYYYYNYYN'))\n",
    "print(y)\n",
    "X = pd.DataFrame({'日志密度':list('sslmlmmlms'),\n",
    "                  '好友密度':list('slmmmlsmss'),\n",
    "                  '真实头像':list('NYYYYNYYYY')})\n",
    "X"
   ]
  },
  {
   "cell_type": "code",
   "execution_count": 2,
   "id": "55eaa073",
   "metadata": {
    "ExecuteTime": {
     "end_time": "2022-06-27T12:05:41.896720Z",
     "start_time": "2022-06-27T12:05:41.871733Z"
    }
   },
   "outputs": [
    {
     "data": {
      "text/html": [
       "<div>\n",
       "<style scoped>\n",
       "    .dataframe tbody tr th:only-of-type {\n",
       "        vertical-align: middle;\n",
       "    }\n",
       "\n",
       "    .dataframe tbody tr th {\n",
       "        vertical-align: top;\n",
       "    }\n",
       "\n",
       "    .dataframe thead th {\n",
       "        text-align: right;\n",
       "    }\n",
       "</style>\n",
       "<table border=\"1\" class=\"dataframe\">\n",
       "  <thead>\n",
       "    <tr style=\"text-align: right;\">\n",
       "      <th></th>\n",
       "      <th>日志密度</th>\n",
       "      <th>好友密度</th>\n",
       "      <th>真实头像</th>\n",
       "    </tr>\n",
       "  </thead>\n",
       "  <tbody>\n",
       "    <tr>\n",
       "      <th>0</th>\n",
       "      <td>0</td>\n",
       "      <td>0</td>\n",
       "      <td>0</td>\n",
       "    </tr>\n",
       "    <tr>\n",
       "      <th>1</th>\n",
       "      <td>0</td>\n",
       "      <td>2</td>\n",
       "      <td>1</td>\n",
       "    </tr>\n",
       "    <tr>\n",
       "      <th>2</th>\n",
       "      <td>2</td>\n",
       "      <td>1</td>\n",
       "      <td>1</td>\n",
       "    </tr>\n",
       "    <tr>\n",
       "      <th>3</th>\n",
       "      <td>1</td>\n",
       "      <td>1</td>\n",
       "      <td>1</td>\n",
       "    </tr>\n",
       "    <tr>\n",
       "      <th>4</th>\n",
       "      <td>2</td>\n",
       "      <td>1</td>\n",
       "      <td>1</td>\n",
       "    </tr>\n",
       "    <tr>\n",
       "      <th>5</th>\n",
       "      <td>1</td>\n",
       "      <td>2</td>\n",
       "      <td>0</td>\n",
       "    </tr>\n",
       "    <tr>\n",
       "      <th>6</th>\n",
       "      <td>1</td>\n",
       "      <td>0</td>\n",
       "      <td>1</td>\n",
       "    </tr>\n",
       "    <tr>\n",
       "      <th>7</th>\n",
       "      <td>2</td>\n",
       "      <td>1</td>\n",
       "      <td>1</td>\n",
       "    </tr>\n",
       "    <tr>\n",
       "      <th>8</th>\n",
       "      <td>1</td>\n",
       "      <td>0</td>\n",
       "      <td>1</td>\n",
       "    </tr>\n",
       "    <tr>\n",
       "      <th>9</th>\n",
       "      <td>0</td>\n",
       "      <td>0</td>\n",
       "      <td>1</td>\n",
       "    </tr>\n",
       "  </tbody>\n",
       "</table>\n",
       "</div>"
      ],
      "text/plain": [
       "   日志密度  好友密度  真实头像\n",
       "0     0     0     0\n",
       "1     0     2     1\n",
       "2     2     1     1\n",
       "3     1     1     1\n",
       "4     2     1     1\n",
       "5     1     2     0\n",
       "6     1     0     1\n",
       "7     2     1     1\n",
       "8     1     0     1\n",
       "9     0     0     1"
      ]
     },
     "execution_count": 2,
     "metadata": {},
     "output_type": "execute_result"
    }
   ],
   "source": [
    "X['日志密度'] = X['日志密度'].map({'s':0,'m':1,'l':2})\n",
    "X['好友密度'] = X['好友密度'].map({'s':0,'m':1,'l':2})\n",
    "X['真实头像'] = X['真实头像'].map({'N':0,'Y':1})\n",
    "X"
   ]
  },
  {
   "cell_type": "code",
   "execution_count": 3,
   "id": "4ad2c964",
   "metadata": {
    "ExecuteTime": {
     "end_time": "2022-06-27T12:05:44.137394Z",
     "start_time": "2022-06-27T12:05:41.900661Z"
    }
   },
   "outputs": [
    {
     "data": {
      "image/png": "[encoded data removed]",
      "text/plain": [
       "<Figure size 864x1152 with 1 Axes>"
      ]
     },
     "metadata": {
      "needs_background": "light"
     },
     "output_type": "display_data"
    }
   ],
   "source": [
    "import matplotlib.pyplot as plt\n",
    "from sklearn.tree import DecisionTreeClassifier\n",
    "from sklearn import tree\n",
    "\n",
    "# 使用信息熵，作为分裂标准\n",
    "model = DecisionTreeClassifier(criterion='entropy')\n",
    "model.fit(X,y)\n",
    "plt.rcParams['font.family'] = 'STKaiti'\n",
    "plt.figure(figsize=(12,16))\n",
    "fn = X.columns\n",
    "_ = tree.plot_tree(model,filled = True,feature_names=fn)\n",
    "plt.savefig('./iris.jpg')"
   ]
  },
  {
   "cell_type": "markdown",
   "id": "f3642ba2",
   "metadata": {},
   "source": [
    "### 另一种可视化方式"
   ]
  },
  {
   "cell_type": "code",
   "execution_count": 4,
   "id": "bf29efe0",
   "metadata": {
    "ExecuteTime": {
     "end_time": "2022-06-27T12:05:44.152322Z",
     "start_time": "2022-06-27T12:05:44.141359Z"
    }
   },
   "outputs": [
    {
     "data": {
      "text/plain": [
       "Index(['日志密度', '好友密度', '真实头像'], dtype='object')"
      ]
     },
     "execution_count": 4,
     "metadata": {},
     "output_type": "execute_result"
    }
   ],
   "source": [
    "X.columns"
   ]
  },
  {
   "cell_type": "code",
   "execution_count": 5,
   "id": "e6cbcf12",
   "metadata": {
    "ExecuteTime": {
     "end_time": "2022-06-27T12:05:44.167367Z",
     "start_time": "2022-06-27T12:05:44.154378Z"
    }
   },
   "outputs": [
    {
     "data": {
      "text/plain": [
       "array(['N', 'Y'], dtype='<U1')"
      ]
     },
     "execution_count": 5,
     "metadata": {},
     "output_type": "execute_result"
    }
   ],
   "source": [
    "np.unique(y)"
   ]
  },
  {
   "cell_type": "code",
   "execution_count": 6,
   "id": "7ddd9a27",
   "metadata": {
    "ExecuteTime": {
     "end_time": "2022-06-27T12:05:44.672134Z",
     "start_time": "2022-06-27T12:05:44.170262Z"
    },
    "scrolled": false
   },
   "outputs": [
    {
     "data": {
      "image/svg+xml": [
       "<?xml version=\"1.0\" encoding=\"UTF-8\" standalone=\"no\"?>\n",
       "<!DOCTYPE svg PUBLIC \"-//W3C//DTD SVG 1.1//EN\"\n",
       " \"http://www.w3.org/Graphics/SVG/1.1/DTD/svg11.dtd\">\n",
       "<!-- Generated by graphviz version 2.48.0 (20210717.1556)\n",
       " -->\n",
       "<!-- Title: Tree Pages: 1 -->\n",
       "<svg width=\"297pt\" height=\"314pt\"\n",
       " viewBox=\"0.00 0.00 297.00 314.00\" xmlns=\"http://www.w3.org/2000/svg\" xmlns:xlink=\"http://www.w3.org/1999/xlink\">\n",
       "<g id=\"graph0\" class=\"graph\" transform=\"scale(1 1) rotate(0) translate(4 310)\">\n",
       "<title>Tree</title>\n",
       "<polygon fill=\"white\" stroke=\"transparent\" points=\"-4,4 -4,-310 293,-310 293,4 -4,4\"/>\n",
       "<!-- 0 -->\n",
       "<g id=\"node1\" class=\"node\">\n",
       "<title>0</title>\n",
       "<path fill=\"#8ec7f0\" stroke=\"black\" d=\"M224,-306C224,-306 124,-306 124,-306 118,-306 112,-300 112,-294 112,-294 112,-235 112,-235 112,-229 118,-223 124,-223 124,-223 224,-223 224,-223 230,-223 236,-229 236,-235 236,-235 236,-294 236,-294 236,-300 230,-306 224,-306\"/>\n",
       "<text text-anchor=\"middle\" x=\"174\" y=\"-290.8\" font-family=\"Helvetica,sans-Serif\" font-size=\"14.00\">好友密度 &lt;= 0.5</text>\n",
       "<text text-anchor=\"middle\" x=\"174\" y=\"-275.8\" font-family=\"Helvetica,sans-Serif\" font-size=\"14.00\">entropy = 0.881</text>\n",
       "<text text-anchor=\"middle\" x=\"174\" y=\"-260.8\" font-family=\"Helvetica,sans-Serif\" font-size=\"14.00\">samples = 10</text>\n",
       "<text text-anchor=\"middle\" x=\"174\" y=\"-245.8\" font-family=\"Helvetica,sans-Serif\" font-size=\"14.00\">value = [3, 7]</text>\n",
       "<text text-anchor=\"middle\" x=\"174\" y=\"-230.8\" font-family=\"Helvetica,sans-Serif\" font-size=\"14.00\">class = Y</text>\n",
       "</g>\n",
       "<!-- 1 -->\n",
       "<g id=\"node2\" class=\"node\">\n",
       "<title>1</title>\n",
       "<path fill=\"#eeab7b\" stroke=\"black\" d=\"M159,-187C159,-187 59,-187 59,-187 53,-187 47,-181 47,-175 47,-175 47,-116 47,-116 47,-110 53,-104 59,-104 59,-104 159,-104 159,-104 165,-104 171,-110 171,-116 171,-116 171,-175 171,-175 171,-181 165,-187 159,-187\"/>\n",
       "<text text-anchor=\"middle\" x=\"109\" y=\"-171.8\" font-family=\"Helvetica,sans-Serif\" font-size=\"14.00\">日志密度 &lt;= 0.5</text>\n",
       "<text text-anchor=\"middle\" x=\"109\" y=\"-156.8\" font-family=\"Helvetica,sans-Serif\" font-size=\"14.00\">entropy = 0.811</text>\n",
       "<text text-anchor=\"middle\" x=\"109\" y=\"-141.8\" font-family=\"Helvetica,sans-Serif\" font-size=\"14.00\">samples = 4</text>\n",
       "<text text-anchor=\"middle\" x=\"109\" y=\"-126.8\" font-family=\"Helvetica,sans-Serif\" font-size=\"14.00\">value = [3, 1]</text>\n",
       "<text text-anchor=\"middle\" x=\"109\" y=\"-111.8\" font-family=\"Helvetica,sans-Serif\" font-size=\"14.00\">class = N</text>\n",
       "</g>\n",
       "<!-- 0&#45;&gt;1 -->\n",
       "<g id=\"edge1\" class=\"edge\">\n",
       "<title>0&#45;&gt;1</title>\n",
       "<path fill=\"none\" stroke=\"black\" d=\"M151.45,-222.91C146.61,-214.2 141.44,-204.9 136.44,-195.89\"/>\n",
       "<polygon fill=\"black\" stroke=\"black\" points=\"139.43,-194.06 131.51,-187.02 133.31,-197.46 139.43,-194.06\"/>\n",
       "<text text-anchor=\"middle\" x=\"124.64\" y=\"-207.36\" font-family=\"Helvetica,sans-Serif\" font-size=\"14.00\">True</text>\n",
       "</g>\n",
       "<!-- 4 -->\n",
       "<g id=\"node5\" class=\"node\">\n",
       "<title>4</title>\n",
       "<path fill=\"#399de5\" stroke=\"black\" d=\"M277,-179.5C277,-179.5 201,-179.5 201,-179.5 195,-179.5 189,-173.5 189,-167.5 189,-167.5 189,-123.5 189,-123.5 189,-117.5 195,-111.5 201,-111.5 201,-111.5 277,-111.5 277,-111.5 283,-111.5 289,-117.5 289,-123.5 289,-123.5 289,-167.5 289,-167.5 289,-173.5 283,-179.5 277,-179.5\"/>\n",
       "<text text-anchor=\"middle\" x=\"239\" y=\"-164.3\" font-family=\"Helvetica,sans-Serif\" font-size=\"14.00\">entropy = 0.0</text>\n",
       "<text text-anchor=\"middle\" x=\"239\" y=\"-149.3\" font-family=\"Helvetica,sans-Serif\" font-size=\"14.00\">samples = 6</text>\n",
       "<text text-anchor=\"middle\" x=\"239\" y=\"-134.3\" font-family=\"Helvetica,sans-Serif\" font-size=\"14.00\">value = [0, 6]</text>\n",
       "<text text-anchor=\"middle\" x=\"239\" y=\"-119.3\" font-family=\"Helvetica,sans-Serif\" font-size=\"14.00\">class = Y</text>\n",
       "</g>\n",
       "<!-- 0&#45;&gt;4 -->\n",
       "<g id=\"edge4\" class=\"edge\">\n",
       "<title>0&#45;&gt;4</title>\n",
       "<path fill=\"none\" stroke=\"black\" d=\"M196.55,-222.91C202.74,-211.76 209.47,-199.66 215.7,-188.44\"/>\n",
       "<polygon fill=\"black\" stroke=\"black\" points=\"218.78,-190.11 220.57,-179.67 212.66,-186.71 218.78,-190.11\"/>\n",
       "<text text-anchor=\"middle\" x=\"227.44\" y=\"-200.01\" font-family=\"Helvetica,sans-Serif\" font-size=\"14.00\">False</text>\n",
       "</g>\n",
       "<!-- 2 -->\n",
       "<g id=\"node3\" class=\"node\">\n",
       "<title>2</title>\n",
       "<path fill=\"#e58139\" stroke=\"black\" d=\"M88,-68C88,-68 12,-68 12,-68 6,-68 0,-62 0,-56 0,-56 0,-12 0,-12 0,-6 6,0 12,0 12,0 88,0 88,0 94,0 100,-6 100,-12 100,-12 100,-56 100,-56 100,-62 94,-68 88,-68\"/>\n",
       "<text text-anchor=\"middle\" x=\"50\" y=\"-52.8\" font-family=\"Helvetica,sans-Serif\" font-size=\"14.00\">entropy = 0.0</text>\n",
       "<text text-anchor=\"middle\" x=\"50\" y=\"-37.8\" font-family=\"Helvetica,sans-Serif\" font-size=\"14.00\">samples = 2</text>\n",
       "<text text-anchor=\"middle\" x=\"50\" y=\"-22.8\" font-family=\"Helvetica,sans-Serif\" font-size=\"14.00\">value = [2, 0]</text>\n",
       "<text text-anchor=\"middle\" x=\"50\" y=\"-7.8\" font-family=\"Helvetica,sans-Serif\" font-size=\"14.00\">class = N</text>\n",
       "</g>\n",
       "<!-- 1&#45;&gt;2 -->\n",
       "<g id=\"edge2\" class=\"edge\">\n",
       "<title>1&#45;&gt;2</title>\n",
       "<path fill=\"none\" stroke=\"black\" d=\"M87.03,-103.73C82.36,-95.06 77.42,-85.9 72.73,-77.18\"/>\n",
       "<polygon fill=\"black\" stroke=\"black\" points=\"75.77,-75.44 67.94,-68.3 69.6,-78.76 75.77,-75.44\"/>\n",
       "</g>\n",
       "<!-- 3 -->\n",
       "<g id=\"node4\" class=\"node\">\n",
       "<title>3</title>\n",
       "<path fill=\"#ffffff\" stroke=\"black\" d=\"M206,-68C206,-68 130,-68 130,-68 124,-68 118,-62 118,-56 118,-56 118,-12 118,-12 118,-6 124,0 130,0 130,0 206,0 206,0 212,0 218,-6 218,-12 218,-12 218,-56 218,-56 218,-62 212,-68 206,-68\"/>\n",
       "<text text-anchor=\"middle\" x=\"168\" y=\"-52.8\" font-family=\"Helvetica,sans-Serif\" font-size=\"14.00\">entropy = 1.0</text>\n",
       "<text text-anchor=\"middle\" x=\"168\" y=\"-37.8\" font-family=\"Helvetica,sans-Serif\" font-size=\"14.00\">samples = 2</text>\n",
       "<text text-anchor=\"middle\" x=\"168\" y=\"-22.8\" font-family=\"Helvetica,sans-Serif\" font-size=\"14.00\">value = [1, 1]</text>\n",
       "<text text-anchor=\"middle\" x=\"168\" y=\"-7.8\" font-family=\"Helvetica,sans-Serif\" font-size=\"14.00\">class = N</text>\n",
       "</g>\n",
       "<!-- 1&#45;&gt;3 -->\n",
       "<g id=\"edge3\" class=\"edge\">\n",
       "<title>1&#45;&gt;3</title>\n",
       "<path fill=\"none\" stroke=\"black\" d=\"M130.97,-103.73C135.64,-95.06 140.58,-85.9 145.27,-77.18\"/>\n",
       "<polygon fill=\"black\" stroke=\"black\" points=\"148.4,-78.76 150.06,-68.3 142.23,-75.44 148.4,-78.76\"/>\n",
       "</g>\n",
       "</g>\n",
       "</svg>\n"
      ],
      "text/plain": [
       "<graphviz.sources.Source at 0x22c72d6da00>"
      ]
     },
     "execution_count": 6,
     "metadata": {},
     "output_type": "execute_result"
    }
   ],
   "source": [
    "from sklearn.datasets import load_iris\n",
    "from sklearn.tree import DecisionTreeClassifier\n",
    "import graphviz # 第三方库，pip install graghviz\n",
    "# 这个库，有一些依赖：\n",
    "\n",
    "from sklearn import tree\n",
    "model = DecisionTreeClassifier(criterion='entropy')\n",
    "model.fit(X,y)\n",
    "# 图片数据\n",
    "dot_data = tree.export_graphviz(model, out_file=None, \n",
    "                            feature_names= X.columns,# 特征名\n",
    "                            class_names=np.unique(y),# 类别名\n",
    "                            filled=True, # 填充颜色\n",
    "                            rounded=True) # 圆角\n",
    "\n",
    "graph = graphviz.Source(dot_data)\n",
    "# graph.render('Account',format='png')\n",
    "graph"
   ]
  },
  {
   "cell_type": "code",
   "execution_count": 7,
   "id": "5059ae62",
   "metadata": {
    "ExecuteTime": {
     "end_time": "2022-06-27T12:05:44.687102Z",
     "start_time": "2022-06-27T12:05:44.674128Z"
    }
   },
   "outputs": [
    {
     "data": {
      "text/plain": [
       "0.3244"
      ]
     },
     "execution_count": 7,
     "metadata": {},
     "output_type": "execute_result"
    }
   ],
   "source": [
    "0.811 * 0.4"
   ]
  },
  {
   "cell_type": "markdown",
   "id": "bc3980f3",
   "metadata": {},
   "source": [
    "#### 修改字体显示中文"
   ]
  },
  {
   "cell_type": "code",
   "execution_count": 8,
   "id": "d0442862",
   "metadata": {
    "ExecuteTime": {
     "end_time": "2022-06-27T12:05:45.373113Z",
     "start_time": "2022-06-27T12:05:44.689087Z"
    },
    "collapsed": true
   },
   "outputs": [
    {
     "data": {
      "text/plain": [
       "['cmss10',\n",
       " 'STIXSizeFourSym',\n",
       " 'STIXNonUnicode',\n",
       " 'DejaVu Serif',\n",
       " 'STIXSizeThreeSym',\n",
       " 'STIXSizeTwoSym',\n",
       " 'DejaVu Sans',\n",
       " 'STIXSizeThreeSym',\n",
       " 'DejaVu Serif',\n",
       " 'STIXGeneral',\n",
       " 'DejaVu Serif Display',\n",
       " 'STIXNonUnicode',\n",
       " 'STIXSizeOneSym',\n",
       " 'DejaVu Serif',\n",
       " 'DejaVu Serif',\n",
       " 'cmtt10',\n",
       " 'DejaVu Sans',\n",
       " 'STIXSizeOneSym',\n",
       " 'cmex10',\n",
       " 'STIXSizeFiveSym',\n",
       " 'cmb10',\n",
       " 'DejaVu Sans Mono',\n",
       " 'cmsy10',\n",
       " 'STIXNonUnicode',\n",
       " 'STIXSizeFourSym',\n",
       " 'STIXNonUnicode',\n",
       " 'DejaVu Sans',\n",
       " 'STIXGeneral',\n",
       " 'STIXGeneral',\n",
       " 'cmmi10',\n",
       " 'STIXGeneral',\n",
       " 'STIXSizeTwoSym',\n",
       " 'cmr10',\n",
       " 'DejaVu Sans Mono',\n",
       " 'DejaVu Sans Display',\n",
       " 'DejaVu Sans Mono',\n",
       " 'DejaVu Sans',\n",
       " 'DejaVu Sans Mono',\n",
       " 'Jokerman',\n",
       " 'Vivaldi',\n",
       " 'Leelawadee UI',\n",
       " 'Bodoni MT',\n",
       " 'Corbel',\n",
       " 'Calibri',\n",
       " 'Gigi',\n",
       " 'Eras Medium ITC',\n",
       " 'Ink Free',\n",
       " 'Book Antiqua',\n",
       " 'Kunstler Script',\n",
       " 'SimSun-ExtB',\n",
       " 'Franklin Gothic Demi Cond',\n",
       " 'Corbel',\n",
       " 'Consolas',\n",
       " 'Trebuchet MS',\n",
       " 'Sitka',\n",
       " 'Segoe Print',\n",
       " 'Microsoft New Tai Lue',\n",
       " 'Franklin Gothic Heavy',\n",
       " 'SimHei',\n",
       " 'MS Outlook',\n",
       " 'FZShuTi',\n",
       " 'Lucida Fax',\n",
       " 'Dubai',\n",
       " 'Segoe UI',\n",
       " 'Franklin Gothic Book',\n",
       " 'Javanese Text',\n",
       " 'Georgia',\n",
       " 'Gill Sans Ultra Bold Condensed',\n",
       " 'Candara',\n",
       " 'Calisto MT',\n",
       " 'Curlz MT',\n",
       " 'Footlight MT Light',\n",
       " 'Lucida Bright',\n",
       " 'Tw Cen MT Condensed Extra Bold',\n",
       " 'Leelawadee UI',\n",
       " 'Calibri',\n",
       " 'MV Boli',\n",
       " 'Lucida Sans Typewriter',\n",
       " 'Copperplate Gothic Light',\n",
       " 'Segoe Script',\n",
       " 'Eras Light ITC',\n",
       " 'Lucida Sans',\n",
       " 'Georgia',\n",
       " 'Rockwell Extra Bold',\n",
       " 'Trebuchet MS',\n",
       " 'Harrington',\n",
       " 'Franklin Gothic Medium Cond',\n",
       " 'Courier New',\n",
       " 'Monotype Corsiva',\n",
       " 'Lucida Fax',\n",
       " 'Segoe UI',\n",
       " 'Arial',\n",
       " 'Imprint MT Shadow',\n",
       " 'Times New Roman',\n",
       " 'Microsoft Sans Serif',\n",
       " 'Rockwell',\n",
       " 'Gill Sans MT Condensed',\n",
       " 'DejaVu Sans Mono',\n",
       " 'Bodoni MT',\n",
       " 'Goudy Old Style',\n",
       " 'Verdana',\n",
       " 'Tw Cen MT Condensed',\n",
       " 'Nirmala UI',\n",
       " 'Century Schoolbook',\n",
       " 'Book Antiqua',\n",
       " 'Onyx',\n",
       " 'Franklin Gothic Medium',\n",
       " 'Candara',\n",
       " 'Wide Latin',\n",
       " 'Palatino Linotype',\n",
       " 'Bernard MT Condensed',\n",
       " 'Corbel',\n",
       " 'Microsoft Yi Baiti',\n",
       " 'Perpetua',\n",
       " 'Haettenschweiler',\n",
       " 'Forte',\n",
       " 'DejaVu Sans Mono',\n",
       " 'Microsoft JhengHei',\n",
       " 'Georgia',\n",
       " 'Informal Roman',\n",
       " 'Consolas',\n",
       " 'Bodoni MT',\n",
       " 'Sylfaen',\n",
       " 'Gill Sans MT',\n",
       " 'Arial Rounded MT Bold',\n",
       " 'Wingdings 2',\n",
       " 'Wingdings',\n",
       " 'Courier New',\n",
       " 'Papyrus',\n",
       " 'DengXian',\n",
       " 'Microsoft Uighur',\n",
       " 'Bodoni MT',\n",
       " 'Segoe Script',\n",
       " 'Playbill',\n",
       " 'Goudy Stout',\n",
       " 'Calibri',\n",
       " 'Bodoni MT',\n",
       " 'Sitka',\n",
       " 'Lucida Sans',\n",
       " 'Bookman Old Style',\n",
       " 'Tw Cen MT',\n",
       " 'Perpetua Titling MT',\n",
       " 'Wingdings 3',\n",
       " 'Book Antiqua',\n",
       " 'Microsoft Tai Le',\n",
       " 'Cambria',\n",
       " 'Matura MT Script Capitals',\n",
       " 'Century Schoolbook',\n",
       " 'Snap ITC',\n",
       " 'Old English Text MT',\n",
       " 'Arial',\n",
       " 'Yu Gothic',\n",
       " 'Nirmala UI',\n",
       " 'Stencil',\n",
       " 'Yu Gothic',\n",
       " 'Berlin Sans FB',\n",
       " 'Yu Gothic',\n",
       " 'Berlin Sans FB Demi',\n",
       " 'Lucida Sans Typewriter',\n",
       " 'STXihei',\n",
       " 'Tw Cen MT',\n",
       " 'Eras Demi ITC',\n",
       " 'Leelawadee UI',\n",
       " 'Verdana',\n",
       " 'Lucida Bright',\n",
       " 'Segoe UI',\n",
       " 'Century Schoolbook',\n",
       " 'Verdana',\n",
       " 'Calisto MT',\n",
       " 'Edwardian Script ITC',\n",
       " 'DengXian',\n",
       " 'Century Gothic',\n",
       " 'Microsoft Uighur',\n",
       " 'Californian FB',\n",
       " 'Mongolian Baiti',\n",
       " 'Franklin Gothic Medium',\n",
       " 'Ebrima',\n",
       " 'Nirmala UI',\n",
       " 'Microsoft JhengHei',\n",
       " 'Bodoni MT',\n",
       " 'MT Extra',\n",
       " 'Broadway',\n",
       " 'Segoe UI Emoji',\n",
       " 'Elephant',\n",
       " 'Tahoma',\n",
       " 'Palatino Linotype',\n",
       " 'Tw Cen MT Condensed',\n",
       " 'Times New Roman',\n",
       " 'Bell MT',\n",
       " 'Marlett',\n",
       " 'Microsoft JhengHei',\n",
       " 'Segoe Fluent Icons',\n",
       " 'Arial',\n",
       " 'Segoe UI',\n",
       " 'Impact',\n",
       " 'Lucida Fax',\n",
       " 'Palatino Linotype',\n",
       " 'Bookman Old Style',\n",
       " 'Corbel',\n",
       " 'Bookman Old Style',\n",
       " 'High Tower Text',\n",
       " 'Perpetua',\n",
       " 'Bauhaus 93',\n",
       " 'Corbel',\n",
       " 'Trebuchet MS',\n",
       " 'Palatino Linotype',\n",
       " 'Segoe Print',\n",
       " 'Comic Sans MS',\n",
       " 'Magneto',\n",
       " 'Eras Bold ITC',\n",
       " 'Times New Roman',\n",
       " 'Tahoma',\n",
       " 'Ebrima',\n",
       " 'Calibri',\n",
       " 'Segoe UI',\n",
       " 'Perpetua',\n",
       " 'Lucida Console',\n",
       " 'Trebuchet MS',\n",
       " 'Consolas',\n",
       " 'STZhongsong',\n",
       " 'STXinwei',\n",
       " 'Century Gothic',\n",
       " 'Arial',\n",
       " 'Consolas',\n",
       " 'Calibri',\n",
       " 'Rockwell',\n",
       " 'Franklin Gothic Book',\n",
       " 'MS Reference Sans Serif',\n",
       " 'Segoe UI Symbol',\n",
       " 'Lucida Sans',\n",
       " 'Brush Script MT',\n",
       " 'Calisto MT',\n",
       " 'Bodoni MT',\n",
       " 'MS Gothic',\n",
       " 'Cambria',\n",
       " 'Tw Cen MT',\n",
       " 'French Script MT',\n",
       " 'Gill Sans MT',\n",
       " 'Bell MT',\n",
       " 'Ravie',\n",
       " 'Comic Sans MS',\n",
       " 'Lucida Handwriting',\n",
       " 'Segoe MDL2 Assets',\n",
       " 'FangSong',\n",
       " 'Lucida Sans',\n",
       " 'Showcard Gothic',\n",
       " 'Book Antiqua',\n",
       " 'Rockwell',\n",
       " 'Blackadder ITC',\n",
       " 'Century Gothic',\n",
       " 'Niagara Engraved',\n",
       " 'Bodoni MT',\n",
       " 'Segoe UI',\n",
       " 'Viner Hand ITC',\n",
       " 'Comic Sans MS',\n",
       " 'MingLiU-ExtB',\n",
       " 'Parchment',\n",
       " 'Gloucester MT Extra Condensed',\n",
       " 'Dubai',\n",
       " 'Rockwell Condensed',\n",
       " 'STKaiti',\n",
       " 'Harlow Solid Italic',\n",
       " 'DejaVu Sans Mono',\n",
       " 'Segoe UI',\n",
       " 'Courier New',\n",
       " 'Candara',\n",
       " 'Cambria',\n",
       " 'HoloLens MDL2 Assets',\n",
       " 'Constantia',\n",
       " 'Tempus Sans ITC',\n",
       " 'Algerian',\n",
       " 'Segoe UI Variable',\n",
       " 'Courier New',\n",
       " 'Lucida Sans Typewriter',\n",
       " 'Malgun Gothic',\n",
       " 'Yu Gothic',\n",
       " 'Microsoft YaHei',\n",
       " 'Constantia',\n",
       " 'Microsoft PhagsPa',\n",
       " 'Goudy Old Style',\n",
       " 'Lucida Bright',\n",
       " 'Poor Richard',\n",
       " 'Modern No. 20',\n",
       " 'Goudy Old Style',\n",
       " 'STHupo',\n",
       " 'Segoe UI',\n",
       " 'Segoe UI',\n",
       " 'High Tower Text',\n",
       " 'Candara',\n",
       " 'Rockwell Condensed',\n",
       " 'Bookman Old Style',\n",
       " 'Bodoni MT',\n",
       " 'Franklin Gothic Heavy',\n",
       " 'Garamond',\n",
       " 'Dubai',\n",
       " 'Cambria',\n",
       " 'Britannic Bold',\n",
       " 'Century Gothic',\n",
       " 'FZYaoTi',\n",
       " 'Garamond',\n",
       " 'Lucida Sans Unicode',\n",
       " 'STCaiyun',\n",
       " 'Segoe UI',\n",
       " 'DejaVu Sans Mono',\n",
       " 'KaiTi',\n",
       " 'Californian FB',\n",
       " 'Cooper Black',\n",
       " 'Century Schoolbook',\n",
       " 'Leelawadee',\n",
       " 'Script MT Bold',\n",
       " 'Calibri',\n",
       " 'STSong',\n",
       " 'Verdana',\n",
       " 'Calisto MT',\n",
       " 'Constantia',\n",
       " 'Symbol',\n",
       " 'Agency FB',\n",
       " 'Palace Script MT',\n",
       " 'Copperplate Gothic Bold',\n",
       " 'Pristina',\n",
       " 'Georgia',\n",
       " 'Rockwell',\n",
       " 'Century',\n",
       " 'Lucida Sans Typewriter',\n",
       " 'Constantia',\n",
       " 'Perpetua',\n",
       " 'Leelawadee',\n",
       " 'Gill Sans MT',\n",
       " 'Franklin Gothic Demi',\n",
       " 'STXingkai',\n",
       " 'Bell MT',\n",
       " 'Berlin Sans FB',\n",
       " 'Kristen ITC',\n",
       " 'Tw Cen MT',\n",
       " 'Malgun Gothic',\n",
       " 'Elephant',\n",
       " 'Vladimir Script',\n",
       " 'Gadugi',\n",
       " 'Candara',\n",
       " 'Segoe UI Historic',\n",
       " 'Microsoft Tai Le',\n",
       " 'YouYuan',\n",
       " 'Rage Italic',\n",
       " 'Centaur',\n",
       " 'Malgun Gothic',\n",
       " 'Lucida Fax',\n",
       " 'Garamond',\n",
       " 'Arial',\n",
       " 'SimSun',\n",
       " 'Microsoft Himalaya',\n",
       " 'MS Reference Specialty',\n",
       " 'Californian FB',\n",
       " 'Bookshelf Symbol 7',\n",
       " 'Bodoni MT',\n",
       " 'Mistral',\n",
       " 'Myanmar Text',\n",
       " 'STLiti',\n",
       " 'DengXian',\n",
       " 'Castellar',\n",
       " 'Engravers MT',\n",
       " 'Microsoft YaHei',\n",
       " 'Microsoft PhagsPa',\n",
       " 'Bodoni MT',\n",
       " 'Gill Sans Ultra Bold',\n",
       " 'Segoe UI',\n",
       " 'Dubai',\n",
       " 'Arial',\n",
       " 'Webdings',\n",
       " 'Gabriola',\n",
       " 'Myanmar Text',\n",
       " 'LiSu',\n",
       " 'Microsoft New Tai Lue',\n",
       " 'Franklin Gothic Demi',\n",
       " 'Candara',\n",
       " 'Niagara Solid',\n",
       " 'Juice ITC',\n",
       " 'Colonna MT',\n",
       " 'Maiandra GD',\n",
       " 'STFangsong',\n",
       " 'Agency FB',\n",
       " 'Lucida Bright',\n",
       " 'Lucida Calligraphy',\n",
       " 'Gill Sans MT',\n",
       " 'Perpetua Titling MT',\n",
       " 'Gadugi',\n",
       " 'Microsoft YaHei',\n",
       " 'Gill Sans MT Ext Condensed Bold',\n",
       " 'Corbel',\n",
       " 'Segoe UI',\n",
       " 'Arial',\n",
       " 'Arial',\n",
       " 'Felix Titling',\n",
       " 'Arial',\n",
       " 'OCR A Extended',\n",
       " 'Bahnschrift',\n",
       " 'Baskerville Old Face',\n",
       " 'Freestyle Script',\n",
       " 'Bradley Hand ITC',\n",
       " 'Chiller',\n",
       " 'Times New Roman',\n",
       " 'Comic Sans MS']"
      ]
     },
     "execution_count": 8,
     "metadata": {},
     "output_type": "execute_result"
    }
   ],
   "source": [
    "from matplotlib import font_manager\n",
    "fm = font_manager.FontManager()\n",
    "[font.name for font in fm.ttflist]"
   ]
  },
  {
   "cell_type": "code",
   "execution_count": 9,
   "id": "c6fc56fd",
   "metadata": {
    "ExecuteTime": {
     "end_time": "2022-06-27T12:05:45.387978Z",
     "start_time": "2022-06-27T12:05:45.375062Z"
    }
   },
   "outputs": [],
   "source": [
    "import re\n",
    "f = open('./Account','r',encoding='utf8')\n",
    "\n",
    "with open('./Account2','w',encoding='utf8') as fp:\n",
    "    result = re.sub(r'fontname=\"helvetica\"','fontname=\"FangSong\"',f.read())\n",
    "    fp.write(result)\n",
    "f.close()"
   ]
  },
  {
   "cell_type": "code",
   "execution_count": 10,
   "id": "1d0bbd44",
   "metadata": {
    "ExecuteTime": {
     "end_time": "2022-06-27T12:05:45.559137Z",
     "start_time": "2022-06-27T12:05:45.391964Z"
    }
   },
   "outputs": [
    {
     "data": {
      "text/plain": [
       "'决策树.pdf'"
      ]
     },
     "execution_count": 10,
     "metadata": {},
     "output_type": "execute_result"
    }
   ],
   "source": [
    "graph = graphviz.Source.from_file('./Account2')\n",
    "graph.render('./决策树')"
   ]
  },
  {
   "cell_type": "markdown",
   "id": "36998a9b",
   "metadata": {},
   "source": [
    "### 分裂条件的计算【信息熵】"
   ]
  },
  {
   "cell_type": "markdown",
   "id": "5e4d8ef6",
   "metadata": {},
   "source": [
    "#### 计算一下未分类的信息熵"
   ]
  },
  {
   "cell_type": "code",
   "execution_count": 11,
   "id": "dd249276",
   "metadata": {
    "ExecuteTime": {
     "end_time": "2022-06-27T12:05:45.575085Z",
     "start_time": "2022-06-27T12:05:45.563106Z"
    }
   },
   "outputs": [
    {
     "data": {
      "text/html": [
       "<div>\n",
       "<style scoped>\n",
       "    .dataframe tbody tr th:only-of-type {\n",
       "        vertical-align: middle;\n",
       "    }\n",
       "\n",
       "    .dataframe tbody tr th {\n",
       "        vertical-align: top;\n",
       "    }\n",
       "\n",
       "    .dataframe thead th {\n",
       "        text-align: right;\n",
       "    }\n",
       "</style>\n",
       "<table border=\"1\" class=\"dataframe\">\n",
       "  <thead>\n",
       "    <tr style=\"text-align: right;\">\n",
       "      <th></th>\n",
       "      <th>日志密度</th>\n",
       "      <th>好友密度</th>\n",
       "      <th>真实头像</th>\n",
       "      <th>真实用户</th>\n",
       "    </tr>\n",
       "  </thead>\n",
       "  <tbody>\n",
       "    <tr>\n",
       "      <th>0</th>\n",
       "      <td>0</td>\n",
       "      <td>0</td>\n",
       "      <td>0</td>\n",
       "      <td>N</td>\n",
       "    </tr>\n",
       "    <tr>\n",
       "      <th>1</th>\n",
       "      <td>0</td>\n",
       "      <td>2</td>\n",
       "      <td>1</td>\n",
       "      <td>Y</td>\n",
       "    </tr>\n",
       "    <tr>\n",
       "      <th>2</th>\n",
       "      <td>2</td>\n",
       "      <td>1</td>\n",
       "      <td>1</td>\n",
       "      <td>Y</td>\n",
       "    </tr>\n",
       "    <tr>\n",
       "      <th>3</th>\n",
       "      <td>1</td>\n",
       "      <td>1</td>\n",
       "      <td>1</td>\n",
       "      <td>Y</td>\n",
       "    </tr>\n",
       "    <tr>\n",
       "      <th>4</th>\n",
       "      <td>2</td>\n",
       "      <td>1</td>\n",
       "      <td>1</td>\n",
       "      <td>Y</td>\n",
       "    </tr>\n",
       "    <tr>\n",
       "      <th>5</th>\n",
       "      <td>1</td>\n",
       "      <td>2</td>\n",
       "      <td>0</td>\n",
       "      <td>Y</td>\n",
       "    </tr>\n",
       "    <tr>\n",
       "      <th>6</th>\n",
       "      <td>1</td>\n",
       "      <td>0</td>\n",
       "      <td>1</td>\n",
       "      <td>N</td>\n",
       "    </tr>\n",
       "    <tr>\n",
       "      <th>7</th>\n",
       "      <td>2</td>\n",
       "      <td>1</td>\n",
       "      <td>1</td>\n",
       "      <td>Y</td>\n",
       "    </tr>\n",
       "    <tr>\n",
       "      <th>8</th>\n",
       "      <td>1</td>\n",
       "      <td>0</td>\n",
       "      <td>1</td>\n",
       "      <td>Y</td>\n",
       "    </tr>\n",
       "    <tr>\n",
       "      <th>9</th>\n",
       "      <td>0</td>\n",
       "      <td>0</td>\n",
       "      <td>1</td>\n",
       "      <td>N</td>\n",
       "    </tr>\n",
       "  </tbody>\n",
       "</table>\n",
       "</div>"
      ],
      "text/plain": [
       "   日志密度  好友密度  真实头像 真实用户\n",
       "0     0     0     0    N\n",
       "1     0     2     1    Y\n",
       "2     2     1     1    Y\n",
       "3     1     1     1    Y\n",
       "4     2     1     1    Y\n",
       "5     1     2     0    Y\n",
       "6     1     0     1    N\n",
       "7     2     1     1    Y\n",
       "8     1     0     1    Y\n",
       "9     0     0     1    N"
      ]
     },
     "execution_count": 11,
     "metadata": {},
     "output_type": "execute_result"
    }
   ],
   "source": [
    "X['真实用户'] = y # 数据合并\n",
    "X"
   ]
  },
  {
   "cell_type": "code",
   "execution_count": 12,
   "id": "b4407e46",
   "metadata": {
    "ExecuteTime": {
     "end_time": "2022-06-27T12:05:45.591030Z",
     "start_time": "2022-06-27T12:05:45.579044Z"
    }
   },
   "outputs": [
    {
     "data": {
      "text/plain": [
       "0.8812908992306926"
      ]
     },
     "execution_count": 12,
     "metadata": {},
     "output_type": "execute_result"
    }
   ],
   "source": [
    "s = X['真实用户']\n",
    "p = s.value_counts()/s.size # 这个就是各个类别的比例，百分比\n",
    "\n",
    "# 信息熵【没有根据条件进行划分的信息熵】\n",
    "(p * np.log2(1/p)).sum()"
   ]
  },
  {
   "cell_type": "markdown",
   "id": "ca5d4f48",
   "metadata": {},
   "source": [
    "#### 按照日志密度进行划分"
   ]
  },
  {
   "cell_type": "code",
   "execution_count": 13,
   "id": "463aeb81",
   "metadata": {
    "ExecuteTime": {
     "end_time": "2022-06-27T12:05:45.620787Z",
     "start_time": "2022-06-27T12:05:45.593994Z"
    }
   },
   "outputs": [
    {
     "name": "stdout",
     "output_type": "stream",
     "text": [
      "0.5 0.689659695223976\n",
      "1.5 0.689659695223976\n"
     ]
    }
   ],
   "source": [
    "x = X['日志密度'].unique()\n",
    "x.sort() # 排序，从小到大\n",
    "# 如何划分，分成两部分\n",
    "for i in range(len(x) - 1):\n",
    "    split = x[i:i+2].mean() # 切片一次切两个，求平均值【裂分点】\n",
    "    cond = X['日志密度'] <= split # 条件判断，拆分条件 0.5\n",
    "    p = cond.value_counts()/cond.size # p就是比例\n",
    "    # 按照条件划分，两边情况\n",
    "    indexes = p.index\n",
    "    entropy = 0\n",
    "    for index in indexes: # True,False\n",
    "        user = X[cond == index]['真实用户']\n",
    "        # 分别计算分成的两边的信息熵\n",
    "        p_user = user.value_counts()/user.size\n",
    "        # 一边的信息熵，乘以这一边占全部数据的比例\n",
    "        entropy += (p_user * np.log2(1/p_user)).sum() * p[index]\n",
    "    print(split,entropy)"
   ]
  },
  {
   "cell_type": "markdown",
   "id": "697e387c",
   "metadata": {},
   "source": [
    "#### 按照好友密度进行划分"
   ]
  },
  {
   "cell_type": "code",
   "execution_count": 14,
   "id": "9570c9a4",
   "metadata": {
    "ExecuteTime": {
     "end_time": "2022-06-27T12:05:45.667081Z",
     "start_time": "2022-06-27T12:05:45.626333Z"
    }
   },
   "outputs": [
    {
     "name": "stdout",
     "output_type": "stream",
     "text": [
      "False    0.6\n",
      "True     0.4\n",
      "Name: 好友密度, dtype: float64\n",
      "0.5 0.32451124978365314\n",
      "True     0.8\n",
      "False    0.2\n",
      "Name: 好友密度, dtype: float64\n",
      "1.5 0.763547202339972\n"
     ]
    }
   ],
   "source": [
    "x = X['好友密度'].unique()\n",
    "x.sort() # 排序，从小到大\n",
    "# 如何划分，分成两部分\n",
    "for i in range(len(x) - 1):\n",
    "    split = x[i:i+2].mean() # 切片一次切两个，求平均值【裂分点】\n",
    "    cond = X['好友密度'] <= split # 条件判断，拆分条件 0.5\n",
    "    p = cond.value_counts()/cond.size # p就是比例\n",
    "    print(p)\n",
    "    # 按照条件划分，两边情况\n",
    "    indexes = p.index\n",
    "    entropy = 0\n",
    "    for index in indexes: # True,False\n",
    "        user = X[cond == index]['真实用户']\n",
    "        # 分别计算分成的两边的信息熵\n",
    "        p_user = user.value_counts()/user.size\n",
    "        # 一边的信息熵，乘以这一边占全部数据的比例\n",
    "        entropy += (p_user * np.log2(1/p_user)).sum() * p[index]\n",
    "    print(split,entropy)"
   ]
  },
  {
   "cell_type": "markdown",
   "id": "0e130ed2",
   "metadata": {},
   "source": [
    "#### 信息增益"
   ]
  },
  {
   "cell_type": "code",
   "execution_count": 15,
   "id": "7ae8f55d",
   "metadata": {
    "ExecuteTime": {
     "end_time": "2022-06-27T12:05:45.682952Z",
     "start_time": "2022-06-27T12:05:45.671539Z"
    }
   },
   "outputs": [
    {
     "data": {
      "text/plain": [
       "0.5565"
      ]
     },
     "execution_count": 15,
     "metadata": {},
     "output_type": "execute_result"
    }
   ],
   "source": [
    "# 0.5 划分，信息增益\n",
    "0.881 - 0.3245"
   ]
  },
  {
   "cell_type": "code",
   "execution_count": 16,
   "id": "ca8348bd",
   "metadata": {
    "ExecuteTime": {
     "end_time": "2022-06-27T12:05:45.698509Z",
     "start_time": "2022-06-27T12:05:45.686723Z"
    }
   },
   "outputs": [
    {
     "data": {
      "text/plain": [
       "0.11750000000000005"
      ]
     },
     "execution_count": 16,
     "metadata": {},
     "output_type": "execute_result"
    }
   ],
   "source": [
    "# 1.5 划分，信息增益\n",
    "0.881 - 0.7635"
   ]
  },
  {
   "cell_type": "markdown",
   "id": "92760300",
   "metadata": {},
   "source": [
    "### 多个特征进行最佳裂分条件筛选"
   ]
  },
  {
   "cell_type": "code",
   "execution_count": 18,
   "id": "9614f578",
   "metadata": {
    "ExecuteTime": {
     "end_time": "2022-06-27T12:06:06.626443Z",
     "start_time": "2022-06-27T12:06:06.589537Z"
    },
    "collapsed": true
   },
   "outputs": [
    {
     "name": "stdout",
     "output_type": "stream",
     "text": [
      "日志密度 0.5 0.689659695223976\n",
      "日志密度 1.5 0.689659695223976\n",
      "好友密度 0.5 0.32451124978365314\n",
      "好友密度 1.5 0.763547202339972\n",
      "真实头像 0.5 0.8490224995673064\n",
      "最佳裂分条件是： {'好友密度': 0.5}\n"
     ]
    }
   ],
   "source": [
    "columns = ['日志密度','好友密度','真实头像']\n",
    "lower_entropy = 1 # 记录，最低信息熵，是多少\n",
    "condition = {} # 记录最佳裂分点\n",
    "for col in columns:\n",
    "    x = X[col].unique()\n",
    "    x.sort()\n",
    "    # 如何划分问题\n",
    "    for i in range(len(x) -1):\n",
    "        split = x[i:i+2].mean()\n",
    "        cond = X[col] <= split\n",
    "        p = cond.value_counts()/cond.size\n",
    "        indexes = p.index\n",
    "        entropy = 0\n",
    "        for index in indexes:\n",
    "            user = X[cond == index]['真实用户']\n",
    "            p_user = user.value_counts()/user.size\n",
    "            entropy += (p_user * np.log2(1/p_user)).sum() * p[index]\n",
    "        print(col,split,entropy)\n",
    "        if entropy < lower_entropy:\n",
    "            condition.clear()\n",
    "            lower_entropy = entropy\n",
    "            condition[col] = split\n",
    "print('最佳裂分条件是：',condition)"
   ]
  },
  {
   "cell_type": "markdown",
   "id": "697b5305",
   "metadata": {},
   "source": [
    "### 继续裂分，树枝如何裂分【选择】"
   ]
  },
  {
   "cell_type": "code",
   "execution_count": 20,
   "id": "468b68c8",
   "metadata": {
    "ExecuteTime": {
     "end_time": "2022-06-27T12:10:05.482382Z",
     "start_time": "2022-06-27T12:10:05.456471Z"
    }
   },
   "outputs": [
    {
     "name": "stdout",
     "output_type": "stream",
     "text": [
      "日志密度 0.5 0.5\n",
      "真实头像 0.5 0.6887218755408671\n",
      "最佳裂分条件是： {'日志密度': 0.5}\n"
     ]
    }
   ],
   "source": [
    "columns = ['日志密度','真实头像']\n",
    "lower_entropy = 1 # 记录，最低信息熵，是多少\n",
    "condition = {} # 记录最佳裂分点\n",
    "cond = X['好友密度'] <= 0.5\n",
    "X = X[cond] # 更新了数据X\n",
    "for col in columns:\n",
    "    x = X[col].unique()\n",
    "    x.sort()\n",
    "    # 如何划分问题\n",
    "    for i in range(len(x) -1):\n",
    "        split = x[i:i+2].mean()\n",
    "        cond = X[col] <= split\n",
    "        p = cond.value_counts()/cond.size\n",
    "        indexes = p.index\n",
    "        entropy = 0\n",
    "        for index in indexes:\n",
    "            user = X[cond == index]['真实用户']\n",
    "            p_user = user.value_counts()/user.size\n",
    "            entropy += (p_user * np.log2(1/p_user)).sum() * p[index]\n",
    "        print(col,split,entropy)\n",
    "        if entropy < lower_entropy:\n",
    "            condition.clear()\n",
    "            lower_entropy = entropy\n",
    "            condition[col] = split\n",
    "print('最佳裂分条件是：',condition)"
   ]
  },
  {
   "cell_type": "code",
   "execution_count": 21,
   "id": "97610923",
   "metadata": {
    "ExecuteTime": {
     "end_time": "2022-06-27T12:10:33.588995Z",
     "start_time": "2022-06-27T12:10:33.580044Z"
    }
   },
   "outputs": [
    {
     "data": {
      "text/html": [
       "<div>\n",
       "<style scoped>\n",
       "    .dataframe tbody tr th:only-of-type {\n",
       "        vertical-align: middle;\n",
       "    }\n",
       "\n",
       "    .dataframe tbody tr th {\n",
       "        vertical-align: top;\n",
       "    }\n",
       "\n",
       "    .dataframe thead th {\n",
       "        text-align: right;\n",
       "    }\n",
       "</style>\n",
       "<table border=\"1\" class=\"dataframe\">\n",
       "  <thead>\n",
       "    <tr style=\"text-align: right;\">\n",
       "      <th></th>\n",
       "      <th>日志密度</th>\n",
       "      <th>好友密度</th>\n",
       "      <th>真实头像</th>\n",
       "      <th>真实用户</th>\n",
       "    </tr>\n",
       "  </thead>\n",
       "  <tbody>\n",
       "    <tr>\n",
       "      <th>0</th>\n",
       "      <td>0</td>\n",
       "      <td>0</td>\n",
       "      <td>0</td>\n",
       "      <td>N</td>\n",
       "    </tr>\n",
       "    <tr>\n",
       "      <th>6</th>\n",
       "      <td>1</td>\n",
       "      <td>0</td>\n",
       "      <td>1</td>\n",
       "      <td>N</td>\n",
       "    </tr>\n",
       "    <tr>\n",
       "      <th>8</th>\n",
       "      <td>1</td>\n",
       "      <td>0</td>\n",
       "      <td>1</td>\n",
       "      <td>Y</td>\n",
       "    </tr>\n",
       "    <tr>\n",
       "      <th>9</th>\n",
       "      <td>0</td>\n",
       "      <td>0</td>\n",
       "      <td>1</td>\n",
       "      <td>N</td>\n",
       "    </tr>\n",
       "  </tbody>\n",
       "</table>\n",
       "</div>"
      ],
      "text/plain": [
       "   日志密度  好友密度  真实头像 真实用户\n",
       "0     0     0     0    N\n",
       "6     1     0     1    N\n",
       "8     1     0     1    Y\n",
       "9     0     0     1    N"
      ]
     },
     "execution_count": 21,
     "metadata": {},
     "output_type": "execute_result"
    }
   ],
   "source": [
    "X"
   ]
  },
  {
   "cell_type": "code",
   "execution_count": null,
   "id": "456d9dba",
   "metadata": {},
   "outputs": [],
   "source": []
  }
 ],
 "metadata": {
  "kernelspec": {
   "display_name": "Python 3 (ipykernel)",
   "language": "python",
   "name": "python3"
  },
  "language_info": {
   "codemirror_mode": {
    "name": "ipython",
    "version": 3
   },
   "file_extension": ".py",
   "mimetype": "text/x-python",
   "name": "python",
   "nbconvert_exporter": "python",
   "pygments_lexer": "ipython3",
   "version": "3.9.6"
  },
  "toc": {
   "base_numbering": 1,
   "nav_menu": {},
   "number_sections": true,
   "sideBar": true,
   "skip_h1_title": false,
   "title_cell": "Table of Contents",
   "title_sidebar": "Contents",
   "toc_cell": false,
   "toc_position": {
    "height": "calc(100% - 180px)",
    "left": "10px",
    "top": "150px",
    "width": "245.76px"
   },
   "toc_section_display": true,
   "toc_window_display": true
  }
 },
 "nbformat": 4,
 "nbformat_minor": 5
}
