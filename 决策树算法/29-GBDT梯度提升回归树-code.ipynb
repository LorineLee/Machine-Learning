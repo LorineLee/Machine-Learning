{
 "cells": [
  {
   "cell_type": "markdown",
   "id": "eb5a7a7f",
   "metadata": {},
   "source": [
    "# 1. 自建集成算法"
   ]
  },
  {
   "cell_type": "code",
   "execution_count": 1,
   "id": "0686998c",
   "metadata": {
    "ExecuteTime": {
     "end_time": "2022-07-08T12:29:36.829191Z",
     "start_time": "2022-07-08T12:29:36.820215Z"
    }
   },
   "outputs": [],
   "source": [
    "# 随机森林、极限森林、GBDT【现成】"
   ]
  },
  {
   "cell_type": "markdown",
   "id": "78aefd18",
   "metadata": {},
   "source": [
    "## 1.1 导包创建数据"
   ]
  },
  {
   "cell_type": "code",
   "execution_count": 2,
   "id": "0b5a7870",
   "metadata": {
    "ExecuteTime": {
     "end_time": "2022-07-08T12:32:59.460559Z",
     "start_time": "2022-07-08T12:32:57.884077Z"
    }
   },
   "outputs": [],
   "source": [
    "import numpy as np\n",
    "from sklearn.neighbors import KNeighborsClassifier\n",
    "from sklearn.ensemble import BaggingClassifier # 集成，bagging套袋法\n",
    "from sklearn import datasets\n",
    "from sklearn.model_selection import train_test_split\n",
    "from sklearn.linear_model import LogisticRegression\n",
    "from sklearn.tree import DecisionTreeClassifier\n",
    "\n",
    "X,y = datasets.load_wine(return_X_y = True) # 葡萄酒数据\n",
    "X_train,X_test,y_train,y_test = train_test_split(X,y,random_state = 1024)"
   ]
  },
  {
   "cell_type": "markdown",
   "id": "77f7be7b",
   "metadata": {},
   "source": [
    "## 1.2 KNN和集成算法差距"
   ]
  },
  {
   "cell_type": "code",
   "execution_count": 3,
   "id": "75666d26",
   "metadata": {
    "ExecuteTime": {
     "end_time": "2022-07-08T12:33:53.890829Z",
     "start_time": "2022-07-08T12:33:53.857926Z"
    }
   },
   "outputs": [
    {
     "data": {
      "text/plain": [
       "0.6222222222222222"
      ]
     },
     "execution_count": 3,
     "metadata": {},
     "output_type": "execute_result"
    }
   ],
   "source": [
    "knn = KNeighborsClassifier(n_neighbors=5)\n",
    "knn.fit(X_train,y_train)\n",
    "\n",
    "knn.score(X_test,y_test)"
   ]
  },
  {
   "cell_type": "code",
   "execution_count": 9,
   "id": "1528720e",
   "metadata": {
    "ExecuteTime": {
     "end_time": "2022-07-08T12:40:28.909815Z",
     "start_time": "2022-07-08T12:40:28.771626Z"
    }
   },
   "outputs": [
    {
     "data": {
      "text/plain": [
       "0.9555555555555556"
      ]
     },
     "execution_count": 9,
     "metadata": {},
     "output_type": "execute_result"
    }
   ],
   "source": [
    "model = BaggingClassifier(base_estimator=KNeighborsClassifier(n_neighbors=5),\n",
    "                          n_estimators=100,\n",
    "                          max_samples=1.0,  # max_samples=1.0 浮点数表示百分比；int表示抽int个\n",
    "                          max_features=1)  # 抽取特征\n",
    "model.fit(X_train,y_train)\n",
    "\n",
    "model.score(X_test,y_test)"
   ]
  },
  {
   "cell_type": "markdown",
   "id": "656c4221",
   "metadata": {},
   "source": [
    "## 1.3 逻辑斯蒂回归"
   ]
  },
  {
   "cell_type": "code",
   "execution_count": null,
   "id": "82b63fa8-8a87-4446-a277-a8a22a4890da",
   "metadata": {},
   "outputs": [],
   "source": [
    "import warnings\n",
    "warnings.filterwarnings('ignore')"
   ]
  },
  {
   "cell_type": "code",
   "execution_count": 11,
   "id": "787a8c17",
   "metadata": {
    "ExecuteTime": {
     "end_time": "2022-07-08T12:42:49.752317Z",
     "start_time": "2022-07-08T12:42:42.483763Z"
    }
   },
   "outputs": [
    {
     "name": "stdout",
     "output_type": "stream",
     "text": [
      "单一逻辑斯蒂算法，得分是： 0.9333333333333333\n",
      "逻辑斯蒂集成算法，得分是： 0.9111111111111111\n"
     ]
    }
   ],
   "source": [
    "lr = LogisticRegression()\n",
    "lr.fit(X_train,y_train)\n",
    "print('单一逻辑斯蒂算法，得分是：',lr.score(X_test,y_test))\n",
    "\n",
    "# 偶尔效果会好\n",
    "bag = BaggingClassifier(base_estimator=LogisticRegression(),n_estimators=500,\n",
    "                        max_samples=1.0, max_features=1.0)\n",
    "bag.fit(X_train,y_train)\n",
    "print('逻辑斯蒂集成算法，得分是：', bag.score(X_test,y_test))"
   ]
  },
  {
   "cell_type": "markdown",
   "id": "fe9b89e5",
   "metadata": {},
   "source": [
    "## 1.4 DecisionTreeClassifier"
   ]
  },
  {
   "cell_type": "code",
   "execution_count": 12,
   "id": "45bdedda",
   "metadata": {
    "ExecuteTime": {
     "end_time": "2022-07-08T12:44:04.685696Z",
     "start_time": "2022-07-08T12:44:04.514208Z"
    }
   },
   "outputs": [
    {
     "name": "stdout",
     "output_type": "stream",
     "text": [
      "单棵决策树，得分是： 0.8444444444444444\n",
      "决策树集成算法，得分是： 0.9555555555555556\n"
     ]
    }
   ],
   "source": [
    "clf = DecisionTreeClassifier()\n",
    "clf.fit(X_train,y_train)\n",
    "print('单棵决策树，得分是：',clf.score(X_test,y_test))\n",
    "\n",
    "# 相当于 随机森林\n",
    "bag = BaggingClassifier(base_estimator=DecisionTreeClassifier(),n_estimators=100,\n",
    "                        max_samples=1.0,max_features=0.5)\n",
    "bag.fit(X_train,y_train)\n",
    "print('决策树集成算法，得分是：',bag.score(X_test,y_test))"
   ]
  },
  {
   "cell_type": "code",
   "execution_count": 13,
   "id": "b8bdd9f0",
   "metadata": {
    "ExecuteTime": {
     "end_time": "2022-07-08T12:45:27.381774Z",
     "start_time": "2022-07-08T12:45:27.252630Z"
    }
   },
   "outputs": [
    {
     "data": {
      "text/plain": [
       "0.9555555555555556"
      ]
     },
     "execution_count": 13,
     "metadata": {},
     "output_type": "execute_result"
    }
   ],
   "source": [
    "from sklearn.ensemble import RandomForestClassifier\n",
    "\n",
    "# 超参数调优，过程，一个个，试验\n",
    "model = RandomForestClassifier(n_estimators=100,max_samples=1.0,max_features=0.5)\n",
    "\n",
    "model.fit(X_train,y_train)\n",
    "\n",
    "model.score(X_test,y_test)"
   ]
  },
  {
   "cell_type": "markdown",
   "id": "c923d09d",
   "metadata": {},
   "source": [
    "# 2. 天池工业蒸汽量预测"
   ]
  },
  {
   "cell_type": "markdown",
   "id": "a03d935e",
   "metadata": {},
   "source": [
    "#### 普通线性回归"
   ]
  },
  {
   "cell_type": "code",
   "execution_count": 14,
   "id": "0921c327",
   "metadata": {
    "ExecuteTime": {
     "end_time": "2022-07-08T12:58:09.855461Z",
     "start_time": "2022-07-08T12:58:09.848488Z"
    }
   },
   "outputs": [],
   "source": [
    "from sklearn.linear_model import LinearRegression,Ridge"
   ]
  },
  {
   "cell_type": "code",
   "execution_count": 15,
   "id": "20c39da8",
   "metadata": {
    "ExecuteTime": {
     "end_time": "2022-07-08T12:58:17.060999Z",
     "start_time": "2022-07-08T12:58:16.515730Z"
    }
   },
   "outputs": [],
   "source": [
    "import pandas as pd"
   ]
  },
  {
   "cell_type": "code",
   "execution_count": 17,
   "id": "7aa39e57",
   "metadata": {
    "ExecuteTime": {
     "end_time": "2022-07-08T12:58:49.324091Z",
     "start_time": "2022-07-08T12:58:49.281185Z"
    },
    "collapsed": true,
    "jupyter": {
     "outputs_hidden": true
    }
   },
   "outputs": [
    {
     "data": {
      "text/html": [
       "<div>\n",
       "<style scoped>\n",
       "    .dataframe tbody tr th:only-of-type {\n",
       "        vertical-align: middle;\n",
       "    }\n",
       "\n",
       "    .dataframe tbody tr th {\n",
       "        vertical-align: top;\n",
       "    }\n",
       "\n",
       "    .dataframe thead th {\n",
       "        text-align: right;\n",
       "    }\n",
       "</style>\n",
       "<table border=\"1\" class=\"dataframe\">\n",
       "  <thead>\n",
       "    <tr style=\"text-align: right;\">\n",
       "      <th></th>\n",
       "      <th>V0</th>\n",
       "      <th>V1</th>\n",
       "      <th>V2</th>\n",
       "      <th>V3</th>\n",
       "      <th>V4</th>\n",
       "      <th>V5</th>\n",
       "      <th>V6</th>\n",
       "      <th>V7</th>\n",
       "      <th>V8</th>\n",
       "      <th>V9</th>\n",
       "      <th>...</th>\n",
       "      <th>V29</th>\n",
       "      <th>V30</th>\n",
       "      <th>V31</th>\n",
       "      <th>V32</th>\n",
       "      <th>V33</th>\n",
       "      <th>V34</th>\n",
       "      <th>V35</th>\n",
       "      <th>V36</th>\n",
       "      <th>V37</th>\n",
       "      <th>target</th>\n",
       "    </tr>\n",
       "  </thead>\n",
       "  <tbody>\n",
       "    <tr>\n",
       "      <th>0</th>\n",
       "      <td>0.566</td>\n",
       "      <td>0.016</td>\n",
       "      <td>-0.143</td>\n",
       "      <td>0.407</td>\n",
       "      <td>0.452</td>\n",
       "      <td>-0.901</td>\n",
       "      <td>-1.812</td>\n",
       "      <td>-2.360</td>\n",
       "      <td>-0.436</td>\n",
       "      <td>-2.114</td>\n",
       "      <td>...</td>\n",
       "      <td>0.136</td>\n",
       "      <td>0.109</td>\n",
       "      <td>-0.615</td>\n",
       "      <td>0.327</td>\n",
       "      <td>-4.627</td>\n",
       "      <td>-4.789</td>\n",
       "      <td>-5.101</td>\n",
       "      <td>-2.608</td>\n",
       "      <td>-3.508</td>\n",
       "      <td>0.175</td>\n",
       "    </tr>\n",
       "    <tr>\n",
       "      <th>1</th>\n",
       "      <td>0.968</td>\n",
       "      <td>0.437</td>\n",
       "      <td>0.066</td>\n",
       "      <td>0.566</td>\n",
       "      <td>0.194</td>\n",
       "      <td>-0.893</td>\n",
       "      <td>-1.566</td>\n",
       "      <td>-2.360</td>\n",
       "      <td>0.332</td>\n",
       "      <td>-2.114</td>\n",
       "      <td>...</td>\n",
       "      <td>-0.128</td>\n",
       "      <td>0.124</td>\n",
       "      <td>0.032</td>\n",
       "      <td>0.600</td>\n",
       "      <td>-0.843</td>\n",
       "      <td>0.160</td>\n",
       "      <td>0.364</td>\n",
       "      <td>-0.335</td>\n",
       "      <td>-0.730</td>\n",
       "      <td>0.676</td>\n",
       "    </tr>\n",
       "    <tr>\n",
       "      <th>2</th>\n",
       "      <td>1.013</td>\n",
       "      <td>0.568</td>\n",
       "      <td>0.235</td>\n",
       "      <td>0.370</td>\n",
       "      <td>0.112</td>\n",
       "      <td>-0.797</td>\n",
       "      <td>-1.367</td>\n",
       "      <td>-2.360</td>\n",
       "      <td>0.396</td>\n",
       "      <td>-2.114</td>\n",
       "      <td>...</td>\n",
       "      <td>-0.009</td>\n",
       "      <td>0.361</td>\n",
       "      <td>0.277</td>\n",
       "      <td>-0.116</td>\n",
       "      <td>-0.843</td>\n",
       "      <td>0.160</td>\n",
       "      <td>0.364</td>\n",
       "      <td>0.765</td>\n",
       "      <td>-0.589</td>\n",
       "      <td>0.633</td>\n",
       "    </tr>\n",
       "    <tr>\n",
       "      <th>3</th>\n",
       "      <td>0.733</td>\n",
       "      <td>0.368</td>\n",
       "      <td>0.283</td>\n",
       "      <td>0.165</td>\n",
       "      <td>0.599</td>\n",
       "      <td>-0.679</td>\n",
       "      <td>-1.200</td>\n",
       "      <td>-2.086</td>\n",
       "      <td>0.403</td>\n",
       "      <td>-2.114</td>\n",
       "      <td>...</td>\n",
       "      <td>0.015</td>\n",
       "      <td>0.417</td>\n",
       "      <td>0.279</td>\n",
       "      <td>0.603</td>\n",
       "      <td>-0.843</td>\n",
       "      <td>-0.065</td>\n",
       "      <td>0.364</td>\n",
       "      <td>0.333</td>\n",
       "      <td>-0.112</td>\n",
       "      <td>0.206</td>\n",
       "    </tr>\n",
       "    <tr>\n",
       "      <th>4</th>\n",
       "      <td>0.684</td>\n",
       "      <td>0.638</td>\n",
       "      <td>0.260</td>\n",
       "      <td>0.209</td>\n",
       "      <td>0.337</td>\n",
       "      <td>-0.454</td>\n",
       "      <td>-1.073</td>\n",
       "      <td>-2.086</td>\n",
       "      <td>0.314</td>\n",
       "      <td>-2.114</td>\n",
       "      <td>...</td>\n",
       "      <td>0.183</td>\n",
       "      <td>1.078</td>\n",
       "      <td>0.328</td>\n",
       "      <td>0.418</td>\n",
       "      <td>-0.843</td>\n",
       "      <td>-0.215</td>\n",
       "      <td>0.364</td>\n",
       "      <td>-0.280</td>\n",
       "      <td>-0.028</td>\n",
       "      <td>0.384</td>\n",
       "    </tr>\n",
       "  </tbody>\n",
       "</table>\n",
       "<p>5 rows × 39 columns</p>\n",
       "</div>"
      ],
      "text/plain": [
       "      V0     V1     V2     V3     V4     V5     V6     V7     V8     V9  ...  \\\n",
       "0  0.566  0.016 -0.143  0.407  0.452 -0.901 -1.812 -2.360 -0.436 -2.114  ...   \n",
       "1  0.968  0.437  0.066  0.566  0.194 -0.893 -1.566 -2.360  0.332 -2.114  ...   \n",
       "2  1.013  0.568  0.235  0.370  0.112 -0.797 -1.367 -2.360  0.396 -2.114  ...   \n",
       "3  0.733  0.368  0.283  0.165  0.599 -0.679 -1.200 -2.086  0.403 -2.114  ...   \n",
       "4  0.684  0.638  0.260  0.209  0.337 -0.454 -1.073 -2.086  0.314 -2.114  ...   \n",
       "\n",
       "     V29    V30    V31    V32    V33    V34    V35    V36    V37  target  \n",
       "0  0.136  0.109 -0.615  0.327 -4.627 -4.789 -5.101 -2.608 -3.508   0.175  \n",
       "1 -0.128  0.124  0.032  0.600 -0.843  0.160  0.364 -0.335 -0.730   0.676  \n",
       "2 -0.009  0.361  0.277 -0.116 -0.843  0.160  0.364  0.765 -0.589   0.633  \n",
       "3  0.015  0.417  0.279  0.603 -0.843 -0.065  0.364  0.333 -0.112   0.206  \n",
       "4  0.183  1.078  0.328  0.418 -0.843 -0.215  0.364 -0.280 -0.028   0.384  \n",
       "\n",
       "[5 rows x 39 columns]"
      ]
     },
     "execution_count": 17,
     "metadata": {},
     "output_type": "execute_result"
    }
   ],
   "source": [
    "data = pd.read_csv('./zhengqi_train.txt',sep='\\t')\n",
    "data.head()"
   ]
  },
  {
   "cell_type": "code",
   "execution_count": 18,
   "id": "58caaf8a",
   "metadata": {
    "ExecuteTime": {
     "end_time": "2022-07-08T13:00:58.340909Z",
     "start_time": "2022-07-08T13:00:58.329742Z"
    }
   },
   "outputs": [],
   "source": [
    "# 训练数据\n",
    "X_train = data.iloc[:,:-1]\n",
    "y_train = data['target']"
   ]
  },
  {
   "cell_type": "code",
   "execution_count": 20,
   "id": "2cf645e3",
   "metadata": {
    "ExecuteTime": {
     "end_time": "2022-07-08T13:01:29.435558Z",
     "start_time": "2022-07-08T13:01:29.392197Z"
    },
    "collapsed": true,
    "jupyter": {
     "outputs_hidden": true
    }
   },
   "outputs": [
    {
     "data": {
      "text/html": [
       "<div>\n",
       "<style scoped>\n",
       "    .dataframe tbody tr th:only-of-type {\n",
       "        vertical-align: middle;\n",
       "    }\n",
       "\n",
       "    .dataframe tbody tr th {\n",
       "        vertical-align: top;\n",
       "    }\n",
       "\n",
       "    .dataframe thead th {\n",
       "        text-align: right;\n",
       "    }\n",
       "</style>\n",
       "<table border=\"1\" class=\"dataframe\">\n",
       "  <thead>\n",
       "    <tr style=\"text-align: right;\">\n",
       "      <th></th>\n",
       "      <th>V0</th>\n",
       "      <th>V1</th>\n",
       "      <th>V2</th>\n",
       "      <th>V3</th>\n",
       "      <th>V4</th>\n",
       "      <th>V5</th>\n",
       "      <th>V6</th>\n",
       "      <th>V7</th>\n",
       "      <th>V8</th>\n",
       "      <th>V9</th>\n",
       "      <th>...</th>\n",
       "      <th>V28</th>\n",
       "      <th>V29</th>\n",
       "      <th>V30</th>\n",
       "      <th>V31</th>\n",
       "      <th>V32</th>\n",
       "      <th>V33</th>\n",
       "      <th>V34</th>\n",
       "      <th>V35</th>\n",
       "      <th>V36</th>\n",
       "      <th>V37</th>\n",
       "    </tr>\n",
       "  </thead>\n",
       "  <tbody>\n",
       "    <tr>\n",
       "      <th>0</th>\n",
       "      <td>0.368</td>\n",
       "      <td>0.380</td>\n",
       "      <td>-0.225</td>\n",
       "      <td>-0.049</td>\n",
       "      <td>0.379</td>\n",
       "      <td>0.092</td>\n",
       "      <td>0.550</td>\n",
       "      <td>0.551</td>\n",
       "      <td>0.244</td>\n",
       "      <td>0.904</td>\n",
       "      <td>...</td>\n",
       "      <td>-0.449</td>\n",
       "      <td>0.047</td>\n",
       "      <td>0.057</td>\n",
       "      <td>-0.042</td>\n",
       "      <td>0.847</td>\n",
       "      <td>0.534</td>\n",
       "      <td>-0.009</td>\n",
       "      <td>-0.190</td>\n",
       "      <td>-0.567</td>\n",
       "      <td>0.388</td>\n",
       "    </tr>\n",
       "    <tr>\n",
       "      <th>1</th>\n",
       "      <td>0.148</td>\n",
       "      <td>0.489</td>\n",
       "      <td>-0.247</td>\n",
       "      <td>-0.049</td>\n",
       "      <td>0.122</td>\n",
       "      <td>-0.201</td>\n",
       "      <td>0.487</td>\n",
       "      <td>0.493</td>\n",
       "      <td>-0.127</td>\n",
       "      <td>0.904</td>\n",
       "      <td>...</td>\n",
       "      <td>-0.443</td>\n",
       "      <td>0.047</td>\n",
       "      <td>0.560</td>\n",
       "      <td>0.176</td>\n",
       "      <td>0.551</td>\n",
       "      <td>0.046</td>\n",
       "      <td>-0.220</td>\n",
       "      <td>0.008</td>\n",
       "      <td>-0.294</td>\n",
       "      <td>0.104</td>\n",
       "    </tr>\n",
       "    <tr>\n",
       "      <th>2</th>\n",
       "      <td>-0.166</td>\n",
       "      <td>-0.062</td>\n",
       "      <td>-0.311</td>\n",
       "      <td>0.046</td>\n",
       "      <td>-0.055</td>\n",
       "      <td>0.063</td>\n",
       "      <td>0.485</td>\n",
       "      <td>0.493</td>\n",
       "      <td>-0.227</td>\n",
       "      <td>0.904</td>\n",
       "      <td>...</td>\n",
       "      <td>-0.458</td>\n",
       "      <td>-0.398</td>\n",
       "      <td>0.101</td>\n",
       "      <td>0.199</td>\n",
       "      <td>0.634</td>\n",
       "      <td>0.017</td>\n",
       "      <td>-0.234</td>\n",
       "      <td>0.008</td>\n",
       "      <td>0.373</td>\n",
       "      <td>0.569</td>\n",
       "    </tr>\n",
       "    <tr>\n",
       "      <th>3</th>\n",
       "      <td>0.102</td>\n",
       "      <td>0.294</td>\n",
       "      <td>-0.259</td>\n",
       "      <td>0.051</td>\n",
       "      <td>-0.183</td>\n",
       "      <td>0.148</td>\n",
       "      <td>0.474</td>\n",
       "      <td>0.504</td>\n",
       "      <td>0.010</td>\n",
       "      <td>0.904</td>\n",
       "      <td>...</td>\n",
       "      <td>-0.456</td>\n",
       "      <td>-0.398</td>\n",
       "      <td>1.007</td>\n",
       "      <td>0.137</td>\n",
       "      <td>1.042</td>\n",
       "      <td>-0.040</td>\n",
       "      <td>-0.290</td>\n",
       "      <td>0.008</td>\n",
       "      <td>-0.666</td>\n",
       "      <td>0.391</td>\n",
       "    </tr>\n",
       "    <tr>\n",
       "      <th>4</th>\n",
       "      <td>0.300</td>\n",
       "      <td>0.428</td>\n",
       "      <td>0.208</td>\n",
       "      <td>0.051</td>\n",
       "      <td>-0.033</td>\n",
       "      <td>0.116</td>\n",
       "      <td>0.408</td>\n",
       "      <td>0.497</td>\n",
       "      <td>0.155</td>\n",
       "      <td>0.904</td>\n",
       "      <td>...</td>\n",
       "      <td>-0.458</td>\n",
       "      <td>-0.776</td>\n",
       "      <td>0.291</td>\n",
       "      <td>0.370</td>\n",
       "      <td>0.181</td>\n",
       "      <td>-0.040</td>\n",
       "      <td>-0.290</td>\n",
       "      <td>0.008</td>\n",
       "      <td>-0.140</td>\n",
       "      <td>-0.497</td>\n",
       "    </tr>\n",
       "  </tbody>\n",
       "</table>\n",
       "<p>5 rows × 38 columns</p>\n",
       "</div>"
      ],
      "text/plain": [
       "      V0     V1     V2     V3     V4     V5     V6     V7     V8     V9  ...  \\\n",
       "0  0.368  0.380 -0.225 -0.049  0.379  0.092  0.550  0.551  0.244  0.904  ...   \n",
       "1  0.148  0.489 -0.247 -0.049  0.122 -0.201  0.487  0.493 -0.127  0.904  ...   \n",
       "2 -0.166 -0.062 -0.311  0.046 -0.055  0.063  0.485  0.493 -0.227  0.904  ...   \n",
       "3  0.102  0.294 -0.259  0.051 -0.183  0.148  0.474  0.504  0.010  0.904  ...   \n",
       "4  0.300  0.428  0.208  0.051 -0.033  0.116  0.408  0.497  0.155  0.904  ...   \n",
       "\n",
       "     V28    V29    V30    V31    V32    V33    V34    V35    V36    V37  \n",
       "0 -0.449  0.047  0.057 -0.042  0.847  0.534 -0.009 -0.190 -0.567  0.388  \n",
       "1 -0.443  0.047  0.560  0.176  0.551  0.046 -0.220  0.008 -0.294  0.104  \n",
       "2 -0.458 -0.398  0.101  0.199  0.634  0.017 -0.234  0.008  0.373  0.569  \n",
       "3 -0.456 -0.398  1.007  0.137  1.042 -0.040 -0.290  0.008 -0.666  0.391  \n",
       "4 -0.458 -0.776  0.291  0.370  0.181 -0.040 -0.290  0.008 -0.140 -0.497  \n",
       "\n",
       "[5 rows x 38 columns]"
      ]
     },
     "execution_count": 20,
     "metadata": {},
     "output_type": "execute_result"
    }
   ],
   "source": [
    "# 预测数据\n",
    "X_test = pd.read_csv('./zhengqi_test.txt',sep = '\\t')\n",
    "X_test.head()"
   ]
  },
  {
   "cell_type": "code",
   "execution_count": 21,
   "id": "6918fef4",
   "metadata": {
    "ExecuteTime": {
     "end_time": "2022-07-08T13:03:25.846229Z",
     "start_time": "2022-07-08T13:03:25.796060Z"
    }
   },
   "outputs": [
    {
     "data": {
      "text/plain": [
       "array([ 0.26825457,  0.2600059 , -0.06905626, ..., -3.53171707,\n",
       "       -3.48378753, -2.74290238])"
      ]
     },
     "execution_count": 21,
     "metadata": {},
     "output_type": "execute_result"
    }
   ],
   "source": [
    "model = LinearRegression()\n",
    "model.fit(X_train,y_train)\n",
    "\n",
    "y_ = model.predict(X_test)\n",
    "y_"
   ]
  },
  {
   "cell_type": "code",
   "execution_count": 22,
   "id": "7edeb600",
   "metadata": {
    "ExecuteTime": {
     "end_time": "2022-07-08T13:04:29.852904Z",
     "start_time": "2022-07-08T13:04:29.839939Z"
    }
   },
   "outputs": [],
   "source": [
    "np.savetxt('./linear.txt',y_)"
   ]
  },
  {
   "cell_type": "markdown",
   "id": "2c47fb30",
   "metadata": {},
   "source": [
    "#### 决策树"
   ]
  },
  {
   "cell_type": "code",
   "execution_count": 23,
   "id": "019fc8e8",
   "metadata": {
    "ExecuteTime": {
     "end_time": "2022-07-08T13:17:30.799651Z",
     "start_time": "2022-07-08T13:17:30.783705Z"
    }
   },
   "outputs": [],
   "source": [
    "from sklearn.ensemble import GradientBoostingRegressor"
   ]
  },
  {
   "cell_type": "code",
   "execution_count": 24,
   "id": "18fd6fe4",
   "metadata": {
    "ExecuteTime": {
     "end_time": "2022-07-08T13:17:51.175607Z",
     "start_time": "2022-07-08T13:17:51.161659Z"
    }
   },
   "outputs": [
    {
     "data": {
      "text/plain": [
       "(2888, 38)"
      ]
     },
     "execution_count": 24,
     "metadata": {},
     "output_type": "execute_result"
    }
   ],
   "source": [
    "X_train.shape"
   ]
  },
  {
   "cell_type": "code",
   "execution_count": 25,
   "id": "1e7868ed",
   "metadata": {
    "ExecuteTime": {
     "end_time": "2022-07-08T13:19:35.938488Z",
     "start_time": "2022-07-08T13:19:34.240408Z"
    }
   },
   "outputs": [],
   "source": [
    "model = GradientBoostingRegressor(n_estimators=100,subsample = 0.9,\n",
    "                                  max_features=0.8)\n",
    "model.fit(X_train,y_train)\n",
    "\n",
    "y_ = model.predict(X_test)\n",
    "np.savetxt('./gbdt.txt',y_)"
   ]
  },
  {
   "cell_type": "markdown",
   "id": "8f9c43de",
   "metadata": {},
   "source": [
    "#### 归一化"
   ]
  },
  {
   "cell_type": "code",
   "execution_count": 26,
   "id": "b7ec4568",
   "metadata": {
    "ExecuteTime": {
     "end_time": "2022-07-08T13:23:01.987011Z",
     "start_time": "2022-07-08T13:23:01.975989Z"
    }
   },
   "outputs": [],
   "source": [
    "from sklearn.preprocessing import StandardScaler"
   ]
  },
  {
   "cell_type": "code",
   "execution_count": 30,
   "id": "9a3daf09",
   "metadata": {
    "ExecuteTime": {
     "end_time": "2022-07-08T13:28:46.164221Z",
     "start_time": "2022-07-08T13:28:46.137368Z"
    },
    "collapsed": true,
    "jupyter": {
     "outputs_hidden": true
    }
   },
   "outputs": [
    {
     "data": {
      "text/html": [
       "<div>\n",
       "<style scoped>\n",
       "    .dataframe tbody tr th:only-of-type {\n",
       "        vertical-align: middle;\n",
       "    }\n",
       "\n",
       "    .dataframe tbody tr th {\n",
       "        vertical-align: top;\n",
       "    }\n",
       "\n",
       "    .dataframe thead th {\n",
       "        text-align: right;\n",
       "    }\n",
       "</style>\n",
       "<table border=\"1\" class=\"dataframe\">\n",
       "  <thead>\n",
       "    <tr style=\"text-align: right;\">\n",
       "      <th></th>\n",
       "      <th>V0</th>\n",
       "      <th>V1</th>\n",
       "      <th>V2</th>\n",
       "      <th>V3</th>\n",
       "      <th>V4</th>\n",
       "      <th>V5</th>\n",
       "      <th>V6</th>\n",
       "      <th>V7</th>\n",
       "      <th>V8</th>\n",
       "      <th>V9</th>\n",
       "      <th>...</th>\n",
       "      <th>V28</th>\n",
       "      <th>V29</th>\n",
       "      <th>V30</th>\n",
       "      <th>V31</th>\n",
       "      <th>V32</th>\n",
       "      <th>V33</th>\n",
       "      <th>V34</th>\n",
       "      <th>V35</th>\n",
       "      <th>V36</th>\n",
       "      <th>V37</th>\n",
       "    </tr>\n",
       "  </thead>\n",
       "  <tbody>\n",
       "    <tr>\n",
       "      <th>0</th>\n",
       "      <td>0.566</td>\n",
       "      <td>0.016</td>\n",
       "      <td>-0.143</td>\n",
       "      <td>0.407</td>\n",
       "      <td>0.452</td>\n",
       "      <td>-0.901</td>\n",
       "      <td>-1.812</td>\n",
       "      <td>-2.360</td>\n",
       "      <td>-0.436</td>\n",
       "      <td>-2.114</td>\n",
       "      <td>...</td>\n",
       "      <td>-0.450</td>\n",
       "      <td>0.136</td>\n",
       "      <td>0.109</td>\n",
       "      <td>-0.615</td>\n",
       "      <td>0.327</td>\n",
       "      <td>-4.627</td>\n",
       "      <td>-4.789</td>\n",
       "      <td>-5.101</td>\n",
       "      <td>-2.608</td>\n",
       "      <td>-3.508</td>\n",
       "    </tr>\n",
       "    <tr>\n",
       "      <th>1</th>\n",
       "      <td>0.968</td>\n",
       "      <td>0.437</td>\n",
       "      <td>0.066</td>\n",
       "      <td>0.566</td>\n",
       "      <td>0.194</td>\n",
       "      <td>-0.893</td>\n",
       "      <td>-1.566</td>\n",
       "      <td>-2.360</td>\n",
       "      <td>0.332</td>\n",
       "      <td>-2.114</td>\n",
       "      <td>...</td>\n",
       "      <td>0.671</td>\n",
       "      <td>-0.128</td>\n",
       "      <td>0.124</td>\n",
       "      <td>0.032</td>\n",
       "      <td>0.600</td>\n",
       "      <td>-0.843</td>\n",
       "      <td>0.160</td>\n",
       "      <td>0.364</td>\n",
       "      <td>-0.335</td>\n",
       "      <td>-0.730</td>\n",
       "    </tr>\n",
       "    <tr>\n",
       "      <th>2</th>\n",
       "      <td>1.013</td>\n",
       "      <td>0.568</td>\n",
       "      <td>0.235</td>\n",
       "      <td>0.370</td>\n",
       "      <td>0.112</td>\n",
       "      <td>-0.797</td>\n",
       "      <td>-1.367</td>\n",
       "      <td>-2.360</td>\n",
       "      <td>0.396</td>\n",
       "      <td>-2.114</td>\n",
       "      <td>...</td>\n",
       "      <td>1.287</td>\n",
       "      <td>-0.009</td>\n",
       "      <td>0.361</td>\n",
       "      <td>0.277</td>\n",
       "      <td>-0.116</td>\n",
       "      <td>-0.843</td>\n",
       "      <td>0.160</td>\n",
       "      <td>0.364</td>\n",
       "      <td>0.765</td>\n",
       "      <td>-0.589</td>\n",
       "    </tr>\n",
       "    <tr>\n",
       "      <th>3</th>\n",
       "      <td>0.733</td>\n",
       "      <td>0.368</td>\n",
       "      <td>0.283</td>\n",
       "      <td>0.165</td>\n",
       "      <td>0.599</td>\n",
       "      <td>-0.679</td>\n",
       "      <td>-1.200</td>\n",
       "      <td>-2.086</td>\n",
       "      <td>0.403</td>\n",
       "      <td>-2.114</td>\n",
       "      <td>...</td>\n",
       "      <td>1.298</td>\n",
       "      <td>0.015</td>\n",
       "      <td>0.417</td>\n",
       "      <td>0.279</td>\n",
       "      <td>0.603</td>\n",
       "      <td>-0.843</td>\n",
       "      <td>-0.065</td>\n",
       "      <td>0.364</td>\n",
       "      <td>0.333</td>\n",
       "      <td>-0.112</td>\n",
       "    </tr>\n",
       "    <tr>\n",
       "      <th>4</th>\n",
       "      <td>0.684</td>\n",
       "      <td>0.638</td>\n",
       "      <td>0.260</td>\n",
       "      <td>0.209</td>\n",
       "      <td>0.337</td>\n",
       "      <td>-0.454</td>\n",
       "      <td>-1.073</td>\n",
       "      <td>-2.086</td>\n",
       "      <td>0.314</td>\n",
       "      <td>-2.114</td>\n",
       "      <td>...</td>\n",
       "      <td>1.289</td>\n",
       "      <td>0.183</td>\n",
       "      <td>1.078</td>\n",
       "      <td>0.328</td>\n",
       "      <td>0.418</td>\n",
       "      <td>-0.843</td>\n",
       "      <td>-0.215</td>\n",
       "      <td>0.364</td>\n",
       "      <td>-0.280</td>\n",
       "      <td>-0.028</td>\n",
       "    </tr>\n",
       "  </tbody>\n",
       "</table>\n",
       "<p>5 rows × 38 columns</p>\n",
       "</div>"
      ],
      "text/plain": [
       "      V0     V1     V2     V3     V4     V5     V6     V7     V8     V9  ...  \\\n",
       "0  0.566  0.016 -0.143  0.407  0.452 -0.901 -1.812 -2.360 -0.436 -2.114  ...   \n",
       "1  0.968  0.437  0.066  0.566  0.194 -0.893 -1.566 -2.360  0.332 -2.114  ...   \n",
       "2  1.013  0.568  0.235  0.370  0.112 -0.797 -1.367 -2.360  0.396 -2.114  ...   \n",
       "3  0.733  0.368  0.283  0.165  0.599 -0.679 -1.200 -2.086  0.403 -2.114  ...   \n",
       "4  0.684  0.638  0.260  0.209  0.337 -0.454 -1.073 -2.086  0.314 -2.114  ...   \n",
       "\n",
       "     V28    V29    V30    V31    V32    V33    V34    V35    V36    V37  \n",
       "0 -0.450  0.136  0.109 -0.615  0.327 -4.627 -4.789 -5.101 -2.608 -3.508  \n",
       "1  0.671 -0.128  0.124  0.032  0.600 -0.843  0.160  0.364 -0.335 -0.730  \n",
       "2  1.287 -0.009  0.361  0.277 -0.116 -0.843  0.160  0.364  0.765 -0.589  \n",
       "3  1.298  0.015  0.417  0.279  0.603 -0.843 -0.065  0.364  0.333 -0.112  \n",
       "4  1.289  0.183  1.078  0.328  0.418 -0.843 -0.215  0.364 -0.280 -0.028  \n",
       "\n",
       "[5 rows x 38 columns]"
      ]
     },
     "execution_count": 30,
     "metadata": {},
     "output_type": "execute_result"
    }
   ],
   "source": [
    "X_train.head()"
   ]
  },
  {
   "cell_type": "code",
   "execution_count": 40,
   "id": "ca4a482b",
   "metadata": {
    "ExecuteTime": {
     "end_time": "2022-07-08T13:37:15.044148Z",
     "start_time": "2022-07-08T13:37:15.029198Z"
    }
   },
   "outputs": [],
   "source": [
    "standard = StandardScaler()\n",
    "\n",
    "standard.fit(X_train)\n",
    "\n",
    "X_train_norm = standard.transform(X_train)\n",
    "\n",
    "X_test_norm = standard.transform(X_test)"
   ]
  },
  {
   "cell_type": "code",
   "execution_count": 28,
   "id": "b685ecf8",
   "metadata": {
    "ExecuteTime": {
     "end_time": "2022-07-08T13:24:49.824481Z",
     "start_time": "2022-07-08T13:24:49.795583Z"
    }
   },
   "outputs": [],
   "source": [
    "# 结论：归一化、标准化（目的：不同的属性、特征，尽快同步收敛）\n",
    "model = LinearRegression()\n",
    "model.fit(X_train_norm,y_train)\n",
    "\n",
    "y_ = model.predict(X_test_norm)\n",
    "\n",
    "np.savetxt('./linear_norm.txt',y_)"
   ]
  },
  {
   "cell_type": "code",
   "execution_count": 29,
   "id": "08cc8e2e",
   "metadata": {
    "ExecuteTime": {
     "end_time": "2022-07-08T13:25:23.834732Z",
     "start_time": "2022-07-08T13:25:22.160362Z"
    }
   },
   "outputs": [],
   "source": [
    "model = GradientBoostingRegressor(n_estimators=100,subsample = 0.9,\n",
    "                                  max_features=0.8)\n",
    "model.fit(X_train_norm,y_train)\n",
    "\n",
    "y_ = model.predict(X_test_norm)\n",
    "\n",
    "np.savetxt('./gbdt_norm.txt',y_)"
   ]
  },
  {
   "cell_type": "markdown",
   "id": "3dc48f3a",
   "metadata": {},
   "source": [
    "#### 奇技淫巧"
   ]
  },
  {
   "cell_type": "code",
   "execution_count": 37,
   "id": "5f99a7c9",
   "metadata": {
    "ExecuteTime": {
     "end_time": "2022-07-08T13:34:57.692475Z",
     "start_time": "2022-07-08T13:34:57.672521Z"
    }
   },
   "outputs": [
    {
     "data": {
      "text/plain": [
       "array([ 0.04944846,  0.55870072,  0.51499244, ..., -0.12335171,\n",
       "        0.22733098,  0.29543458])"
      ]
     },
     "execution_count": 37,
     "metadata": {},
     "output_type": "execute_result"
    }
   ],
   "source": [
    "# 目标值【训练数据】进行了标准化\n",
    "y_train_norm = standard.fit_transform(y_train.values.reshape(-1,1))\n",
    "y_train_norm = y_train_norm.reshape(-1)\n",
    "y_train_norm"
   ]
  },
  {
   "cell_type": "code",
   "execution_count": 38,
   "id": "e125d6e6",
   "metadata": {
    "ExecuteTime": {
     "end_time": "2022-07-08T13:35:25.509352Z",
     "start_time": "2022-07-08T13:35:25.487427Z"
    }
   },
   "outputs": [],
   "source": [
    "model = LinearRegression()\n",
    "model.fit(X_train_norm,y_train_norm)\n",
    "\n",
    "y_ = model.predict(X_test_norm)\n",
    "\n",
    "np.savetxt('./linear_norm3.txt',y_)"
   ]
  },
  {
   "cell_type": "code",
   "execution_count": 39,
   "id": "858f9ae3",
   "metadata": {
    "ExecuteTime": {
     "end_time": "2022-07-08T13:35:27.944499Z",
     "start_time": "2022-07-08T13:35:27.936525Z"
    },
    "jupyter": {
     "source_hidden": true
    }
   },
   "outputs": [
    {
     "data": {
      "text/plain": [
       "array([ 0.14423907,  0.13585454, -0.1986278 , ..., -3.71832413,\n",
       "       -3.66960512, -2.91651641])"
      ]
     },
     "execution_count": 39,
     "metadata": {},
     "output_type": "execute_result"
    }
   ],
   "source": [
    "y_"
   ]
  },
  {
   "cell_type": "markdown",
   "id": "a8420074",
   "metadata": {},
   "source": [
    "# 3. GBDT回归树原理"
   ]
  },
  {
   "cell_type": "markdown",
   "id": "89b5e45e",
   "metadata": {},
   "source": [
    "#### 创建数据"
   ]
  },
  {
   "cell_type": "code",
   "execution_count": 43,
   "id": "ba7694b7",
   "metadata": {
    "ExecuteTime": {
     "end_time": "2022-07-08T13:42:22.575817Z",
     "start_time": "2022-07-08T13:42:22.549964Z"
    }
   },
   "outputs": [
    {
     "data": {
      "text/plain": [
       "array([18.374, 18.916, 21.084, 21.626])"
      ]
     },
     "execution_count": 43,
     "metadata": {},
     "output_type": "execute_result"
    }
   ],
   "source": [
    "import numpy as np\n",
    "from sklearn.ensemble import GradientBoostingRegressor\n",
    "import matplotlib.pyplot as plt\n",
    "from sklearn import tree\n",
    "import graphviz\n",
    "\n",
    "### 实际问题，年龄预测，回归问题\n",
    "# 简单的数据，算法原理，无论简单数据，还是复杂数据，都一样\n",
    "# 属性一表示花销，属性二表示上网时间\n",
    "X = np.array([[600,0.8],[800,1.2],[1500,10],[2500,3]])\n",
    "\n",
    "y = np.array([14,16,24,26]) # 高一、高三，大四，工作两年\n",
    "# loss  = ls 最小二乘法\n",
    "learning_rate = 0.1\n",
    "gbdt = GradientBoostingRegressor(n_estimators=3,loss = 'ls',# 最小二乘法\n",
    "                                 learning_rate=0.1)#learning_rate 学习率\n",
    "gbdt.fit(X,y)#训练\n",
    "y_ = gbdt.predict(X)#预测\n",
    "y_"
   ]
  },
  {
   "cell_type": "markdown",
   "id": "34ec8fa0",
   "metadata": {},
   "source": [
    "#### 可视化"
   ]
  },
  {
   "cell_type": "code",
   "execution_count": 44,
   "id": "21ee3c37",
   "metadata": {
    "ExecuteTime": {
     "end_time": "2022-07-08T13:43:02.652804Z",
     "start_time": "2022-07-08T13:43:02.427565Z"
    }
   },
   "outputs": [
    {
     "name": "stdout",
     "output_type": "stream",
     "text": [
      "均方误差： 26.0\n"
     ]
    },
    {
     "data": {
      "image/svg+xml": [
       "<?xml version=\"1.0\" encoding=\"UTF-8\" standalone=\"no\"?>\n",
       "<!DOCTYPE svg PUBLIC \"-//W3C//DTD SVG 1.1//EN\"\n",
       " \"http://www.w3.org/Graphics/SVG/1.1/DTD/svg11.dtd\">\n",
       "<!-- Generated by graphviz version 2.48.0 (20210717.1556)\n",
       " -->\n",
       "<!-- Title: Tree Pages: 1 -->\n",
       "<svg width=\"638pt\" height=\"269pt\"\n",
       " viewBox=\"0.00 0.00 638.00 269.00\" xmlns=\"http://www.w3.org/2000/svg\" xmlns:xlink=\"http://www.w3.org/1999/xlink\">\n",
       "<g id=\"graph0\" class=\"graph\" transform=\"scale(1 1) rotate(0) translate(4 265)\">\n",
       "<title>Tree</title>\n",
       "<polygon fill=\"white\" stroke=\"transparent\" points=\"-4,4 -4,-265 634,-265 634,4 -4,4\"/>\n",
       "<!-- 0 -->\n",
       "<g id=\"node1\" class=\"node\">\n",
       "<title>0</title>\n",
       "<polygon fill=\"#f2c09c\" stroke=\"black\" points=\"391,-261 239,-261 239,-193 391,-193 391,-261\"/>\n",
       "<text text-anchor=\"middle\" x=\"315\" y=\"-245.8\" font-family=\"Helvetica,sans-Serif\" font-size=\"14.00\">X[1] &lt;= 2.1</text>\n",
       "<text text-anchor=\"middle\" x=\"315\" y=\"-230.8\" font-family=\"Helvetica,sans-Serif\" font-size=\"14.00\">friedman_mse = 26.0</text>\n",
       "<text text-anchor=\"middle\" x=\"315\" y=\"-215.8\" font-family=\"Helvetica,sans-Serif\" font-size=\"14.00\">samples = 4</text>\n",
       "<text text-anchor=\"middle\" x=\"315\" y=\"-200.8\" font-family=\"Helvetica,sans-Serif\" font-size=\"14.00\">value = 0.0</text>\n",
       "</g>\n",
       "<!-- 1 -->\n",
       "<g id=\"node2\" class=\"node\">\n",
       "<title>1</title>\n",
       "<polygon fill=\"#fdf4ee\" stroke=\"black\" points=\"306,-157 162,-157 162,-89 306,-89 306,-157\"/>\n",
       "<text text-anchor=\"middle\" x=\"234\" y=\"-141.8\" font-family=\"Helvetica,sans-Serif\" font-size=\"14.00\">X[1] &lt;= 1.0</text>\n",
       "<text text-anchor=\"middle\" x=\"234\" y=\"-126.8\" font-family=\"Helvetica,sans-Serif\" font-size=\"14.00\">friedman_mse = 1.0</text>\n",
       "<text text-anchor=\"middle\" x=\"234\" y=\"-111.8\" font-family=\"Helvetica,sans-Serif\" font-size=\"14.00\">samples = 2</text>\n",
       "<text text-anchor=\"middle\" x=\"234\" y=\"-96.8\" font-family=\"Helvetica,sans-Serif\" font-size=\"14.00\">value = &#45;5.0</text>\n",
       "</g>\n",
       "<!-- 0&#45;&gt;1 -->\n",
       "<g id=\"edge1\" class=\"edge\">\n",
       "<title>0&#45;&gt;1</title>\n",
       "<path fill=\"none\" stroke=\"black\" d=\"M288.7,-192.88C281.7,-184.07 274.05,-174.43 266.75,-165.24\"/>\n",
       "<polygon fill=\"black\" stroke=\"black\" points=\"269.4,-162.95 260.44,-157.3 263.92,-167.31 269.4,-162.95\"/>\n",
       "<text text-anchor=\"middle\" x=\"257.59\" y=\"-178.44\" font-family=\"Helvetica,sans-Serif\" font-size=\"14.00\">True</text>\n",
       "</g>\n",
       "<!-- 4 -->\n",
       "<g id=\"node5\" class=\"node\">\n",
       "<title>4</title>\n",
       "<polygon fill=\"#e78c4a\" stroke=\"black\" points=\"468,-157 324,-157 324,-89 468,-89 468,-157\"/>\n",
       "<text text-anchor=\"middle\" x=\"396\" y=\"-141.8\" font-family=\"Helvetica,sans-Serif\" font-size=\"14.00\">X[0] &lt;= 2000.0</text>\n",
       "<text text-anchor=\"middle\" x=\"396\" y=\"-126.8\" font-family=\"Helvetica,sans-Serif\" font-size=\"14.00\">friedman_mse = 1.0</text>\n",
       "<text text-anchor=\"middle\" x=\"396\" y=\"-111.8\" font-family=\"Helvetica,sans-Serif\" font-size=\"14.00\">samples = 2</text>\n",
       "<text text-anchor=\"middle\" x=\"396\" y=\"-96.8\" font-family=\"Helvetica,sans-Serif\" font-size=\"14.00\">value = 5.0</text>\n",
       "</g>\n",
       "<!-- 0&#45;&gt;4 -->\n",
       "<g id=\"edge4\" class=\"edge\">\n",
       "<title>0&#45;&gt;4</title>\n",
       "<path fill=\"none\" stroke=\"black\" d=\"M341.3,-192.88C348.3,-184.07 355.95,-174.43 363.25,-165.24\"/>\n",
       "<polygon fill=\"black\" stroke=\"black\" points=\"366.08,-167.31 369.56,-157.3 360.6,-162.95 366.08,-167.31\"/>\n",
       "<text text-anchor=\"middle\" x=\"372.41\" y=\"-178.44\" font-family=\"Helvetica,sans-Serif\" font-size=\"14.00\">False</text>\n",
       "</g>\n",
       "<!-- 2 -->\n",
       "<g id=\"node3\" class=\"node\">\n",
       "<title>2</title>\n",
       "<polygon fill=\"#ffffff\" stroke=\"black\" points=\"144,-53 0,-53 0,0 144,0 144,-53\"/>\n",
       "<text text-anchor=\"middle\" x=\"72\" y=\"-37.8\" font-family=\"Helvetica,sans-Serif\" font-size=\"14.00\">friedman_mse = 0.0</text>\n",
       "<text text-anchor=\"middle\" x=\"72\" y=\"-22.8\" font-family=\"Helvetica,sans-Serif\" font-size=\"14.00\">samples = 1</text>\n",
       "<text text-anchor=\"middle\" x=\"72\" y=\"-7.8\" font-family=\"Helvetica,sans-Serif\" font-size=\"14.00\">value = &#45;6.0</text>\n",
       "</g>\n",
       "<!-- 1&#45;&gt;2 -->\n",
       "<g id=\"edge2\" class=\"edge\">\n",
       "<title>1&#45;&gt;2</title>\n",
       "<path fill=\"none\" stroke=\"black\" d=\"M177.34,-88.95C160.17,-78.93 141.39,-67.98 124.5,-58.13\"/>\n",
       "<polygon fill=\"black\" stroke=\"black\" points=\"126.26,-55.1 115.86,-53.09 122.74,-61.15 126.26,-55.1\"/>\n",
       "</g>\n",
       "<!-- 3 -->\n",
       "<g id=\"node4\" class=\"node\">\n",
       "<title>3</title>\n",
       "<polygon fill=\"#fbeade\" stroke=\"black\" points=\"306,-53 162,-53 162,0 306,0 306,-53\"/>\n",
       "<text text-anchor=\"middle\" x=\"234\" y=\"-37.8\" font-family=\"Helvetica,sans-Serif\" font-size=\"14.00\">friedman_mse = 0.0</text>\n",
       "<text text-anchor=\"middle\" x=\"234\" y=\"-22.8\" font-family=\"Helvetica,sans-Serif\" font-size=\"14.00\">samples = 1</text>\n",
       "<text text-anchor=\"middle\" x=\"234\" y=\"-7.8\" font-family=\"Helvetica,sans-Serif\" font-size=\"14.00\">value = &#45;4.0</text>\n",
       "</g>\n",
       "<!-- 1&#45;&gt;3 -->\n",
       "<g id=\"edge3\" class=\"edge\">\n",
       "<title>1&#45;&gt;3</title>\n",
       "<path fill=\"none\" stroke=\"black\" d=\"M234,-88.95C234,-80.72 234,-71.85 234,-63.48\"/>\n",
       "<polygon fill=\"black\" stroke=\"black\" points=\"237.5,-63.24 234,-53.24 230.5,-63.24 237.5,-63.24\"/>\n",
       "</g>\n",
       "<!-- 5 -->\n",
       "<g id=\"node6\" class=\"node\">\n",
       "<title>5</title>\n",
       "<polygon fill=\"#e9965a\" stroke=\"black\" points=\"468,-53 324,-53 324,0 468,0 468,-53\"/>\n",
       "<text text-anchor=\"middle\" x=\"396\" y=\"-37.8\" font-family=\"Helvetica,sans-Serif\" font-size=\"14.00\">friedman_mse = 0.0</text>\n",
       "<text text-anchor=\"middle\" x=\"396\" y=\"-22.8\" font-family=\"Helvetica,sans-Serif\" font-size=\"14.00\">samples = 1</text>\n",
       "<text text-anchor=\"middle\" x=\"396\" y=\"-7.8\" font-family=\"Helvetica,sans-Serif\" font-size=\"14.00\">value = 4.0</text>\n",
       "</g>\n",
       "<!-- 4&#45;&gt;5 -->\n",
       "<g id=\"edge5\" class=\"edge\">\n",
       "<title>4&#45;&gt;5</title>\n",
       "<path fill=\"none\" stroke=\"black\" d=\"M396,-88.95C396,-80.72 396,-71.85 396,-63.48\"/>\n",
       "<polygon fill=\"black\" stroke=\"black\" points=\"399.5,-63.24 396,-53.24 392.5,-63.24 399.5,-63.24\"/>\n",
       "</g>\n",
       "<!-- 6 -->\n",
       "<g id=\"node7\" class=\"node\">\n",
       "<title>6</title>\n",
       "<polygon fill=\"#e58139\" stroke=\"black\" points=\"630,-53 486,-53 486,0 630,0 630,-53\"/>\n",
       "<text text-anchor=\"middle\" x=\"558\" y=\"-37.8\" font-family=\"Helvetica,sans-Serif\" font-size=\"14.00\">friedman_mse = 0.0</text>\n",
       "<text text-anchor=\"middle\" x=\"558\" y=\"-22.8\" font-family=\"Helvetica,sans-Serif\" font-size=\"14.00\">samples = 1</text>\n",
       "<text text-anchor=\"middle\" x=\"558\" y=\"-7.8\" font-family=\"Helvetica,sans-Serif\" font-size=\"14.00\">value = 6.0</text>\n",
       "</g>\n",
       "<!-- 4&#45;&gt;6 -->\n",
       "<g id=\"edge6\" class=\"edge\">\n",
       "<title>4&#45;&gt;6</title>\n",
       "<path fill=\"none\" stroke=\"black\" d=\"M452.66,-88.95C469.83,-78.93 488.61,-67.98 505.5,-58.13\"/>\n",
       "<polygon fill=\"black\" stroke=\"black\" points=\"507.26,-61.15 514.14,-53.09 503.74,-55.1 507.26,-61.15\"/>\n",
       "</g>\n",
       "</g>\n",
       "</svg>\n"
      ],
      "text/plain": [
       "<graphviz.sources.Source at 0x29dcebec5b0>"
      ]
     },
     "execution_count": 44,
     "metadata": {},
     "output_type": "execute_result"
    }
   ],
   "source": [
    "# 第一颗树，分叉时，friedman-mse (就是均方误差)= 26\n",
    "print('均方误差：',((y - y.mean())**2).mean())\n",
    "dot_data = tree.export_graphviz(gbdt[0,0],filled=True)\n",
    "graph = graphviz.Source(dot_data)\n",
    "graph"
   ]
  },
  {
   "cell_type": "code",
   "execution_count": 45,
   "id": "747f7ac7",
   "metadata": {
    "ExecuteTime": {
     "end_time": "2022-07-08T13:43:25.949373Z",
     "start_time": "2022-07-08T13:43:25.849707Z"
    }
   },
   "outputs": [
    {
     "data": {
      "image/svg+xml": [
       "<?xml version=\"1.0\" encoding=\"UTF-8\" standalone=\"no\"?>\n",
       "<!DOCTYPE svg PUBLIC \"-//W3C//DTD SVG 1.1//EN\"\n",
       " \"http://www.w3.org/Graphics/SVG/1.1/DTD/svg11.dtd\">\n",
       "<!-- Generated by graphviz version 2.48.0 (20210717.1556)\n",
       " -->\n",
       "<!-- Title: Tree Pages: 1 -->\n",
       "<svg width=\"642pt\" height=\"269pt\"\n",
       " viewBox=\"0.00 0.00 642.00 269.00\" xmlns=\"http://www.w3.org/2000/svg\" xmlns:xlink=\"http://www.w3.org/1999/xlink\">\n",
       "<g id=\"graph0\" class=\"graph\" transform=\"scale(1 1) rotate(0) translate(4 265)\">\n",
       "<title>Tree</title>\n",
       "<polygon fill=\"white\" stroke=\"transparent\" points=\"-4,4 -4,-265 638,-265 638,4 -4,4\"/>\n",
       "<!-- 0 -->\n",
       "<g id=\"node1\" class=\"node\">\n",
       "<title>0</title>\n",
       "<polygon fill=\"#f2c09c\" stroke=\"black\" points=\"397.5,-261 236.5,-261 236.5,-193 397.5,-193 397.5,-261\"/>\n",
       "<text text-anchor=\"middle\" x=\"317\" y=\"-245.8\" font-family=\"Helvetica,sans-Serif\" font-size=\"14.00\">X[0] &lt;= 1150.0</text>\n",
       "<text text-anchor=\"middle\" x=\"317\" y=\"-230.8\" font-family=\"Helvetica,sans-Serif\" font-size=\"14.00\">friedman_mse = 21.06</text>\n",
       "<text text-anchor=\"middle\" x=\"317\" y=\"-215.8\" font-family=\"Helvetica,sans-Serif\" font-size=\"14.00\">samples = 4</text>\n",
       "<text text-anchor=\"middle\" x=\"317\" y=\"-200.8\" font-family=\"Helvetica,sans-Serif\" font-size=\"14.00\">value = 0.0</text>\n",
       "</g>\n",
       "<!-- 1 -->\n",
       "<g id=\"node2\" class=\"node\">\n",
       "<title>1</title>\n",
       "<polygon fill=\"#fdf4ef\" stroke=\"black\" points=\"308,-157 156,-157 156,-89 308,-89 308,-157\"/>\n",
       "<text text-anchor=\"middle\" x=\"232\" y=\"-141.8\" font-family=\"Helvetica,sans-Serif\" font-size=\"14.00\">X[0] &lt;= 700.0</text>\n",
       "<text text-anchor=\"middle\" x=\"232\" y=\"-126.8\" font-family=\"Helvetica,sans-Serif\" font-size=\"14.00\">friedman_mse = 0.81</text>\n",
       "<text text-anchor=\"middle\" x=\"232\" y=\"-111.8\" font-family=\"Helvetica,sans-Serif\" font-size=\"14.00\">samples = 2</text>\n",
       "<text text-anchor=\"middle\" x=\"232\" y=\"-96.8\" font-family=\"Helvetica,sans-Serif\" font-size=\"14.00\">value = &#45;4.5</text>\n",
       "</g>\n",
       "<!-- 0&#45;&gt;1 -->\n",
       "<g id=\"edge1\" class=\"edge\">\n",
       "<title>0&#45;&gt;1</title>\n",
       "<path fill=\"none\" stroke=\"black\" d=\"M289.4,-192.88C282.05,-184.07 274.03,-174.43 266.36,-165.24\"/>\n",
       "<polygon fill=\"black\" stroke=\"black\" points=\"268.84,-162.74 259.75,-157.3 263.46,-167.22 268.84,-162.74\"/>\n",
       "<text text-anchor=\"middle\" x=\"257.49\" y=\"-178.5\" font-family=\"Helvetica,sans-Serif\" font-size=\"14.00\">True</text>\n",
       "</g>\n",
       "<!-- 4 -->\n",
       "<g id=\"node5\" class=\"node\">\n",
       "<title>4</title>\n",
       "<polygon fill=\"#e78c49\" stroke=\"black\" points=\"478,-157 326,-157 326,-89 478,-89 478,-157\"/>\n",
       "<text text-anchor=\"middle\" x=\"402\" y=\"-141.8\" font-family=\"Helvetica,sans-Serif\" font-size=\"14.00\">X[0] &lt;= 2000.0</text>\n",
       "<text text-anchor=\"middle\" x=\"402\" y=\"-126.8\" font-family=\"Helvetica,sans-Serif\" font-size=\"14.00\">friedman_mse = 0.81</text>\n",
       "<text text-anchor=\"middle\" x=\"402\" y=\"-111.8\" font-family=\"Helvetica,sans-Serif\" font-size=\"14.00\">samples = 2</text>\n",
       "<text text-anchor=\"middle\" x=\"402\" y=\"-96.8\" font-family=\"Helvetica,sans-Serif\" font-size=\"14.00\">value = 4.5</text>\n",
       "</g>\n",
       "<!-- 0&#45;&gt;4 -->\n",
       "<g id=\"edge4\" class=\"edge\">\n",
       "<title>0&#45;&gt;4</title>\n",
       "<path fill=\"none\" stroke=\"black\" d=\"M344.6,-192.88C351.95,-184.07 359.97,-174.43 367.64,-165.24\"/>\n",
       "<polygon fill=\"black\" stroke=\"black\" points=\"370.54,-167.22 374.25,-157.3 365.16,-162.74 370.54,-167.22\"/>\n",
       "<text text-anchor=\"middle\" x=\"376.51\" y=\"-178.5\" font-family=\"Helvetica,sans-Serif\" font-size=\"14.00\">False</text>\n",
       "</g>\n",
       "<!-- 2 -->\n",
       "<g id=\"node3\" class=\"node\">\n",
       "<title>2</title>\n",
       "<polygon fill=\"#ffffff\" stroke=\"black\" points=\"144,-53 0,-53 0,0 144,0 144,-53\"/>\n",
       "<text text-anchor=\"middle\" x=\"72\" y=\"-37.8\" font-family=\"Helvetica,sans-Serif\" font-size=\"14.00\">friedman_mse = 0.0</text>\n",
       "<text text-anchor=\"middle\" x=\"72\" y=\"-22.8\" font-family=\"Helvetica,sans-Serif\" font-size=\"14.00\">samples = 1</text>\n",
       "<text text-anchor=\"middle\" x=\"72\" y=\"-7.8\" font-family=\"Helvetica,sans-Serif\" font-size=\"14.00\">value = &#45;5.4</text>\n",
       "</g>\n",
       "<!-- 1&#45;&gt;2 -->\n",
       "<g id=\"edge2\" class=\"edge\">\n",
       "<title>1&#45;&gt;2</title>\n",
       "<path fill=\"none\" stroke=\"black\" d=\"M176.04,-88.95C159.24,-79.02 140.87,-68.18 124.31,-58.4\"/>\n",
       "<polygon fill=\"black\" stroke=\"black\" points=\"125.71,-55.16 115.32,-53.09 122.15,-61.19 125.71,-55.16\"/>\n",
       "</g>\n",
       "<!-- 3 -->\n",
       "<g id=\"node4\" class=\"node\">\n",
       "<title>3</title>\n",
       "<polygon fill=\"#fbeade\" stroke=\"black\" points=\"306,-53 162,-53 162,0 306,0 306,-53\"/>\n",
       "<text text-anchor=\"middle\" x=\"234\" y=\"-37.8\" font-family=\"Helvetica,sans-Serif\" font-size=\"14.00\">friedman_mse = 0.0</text>\n",
       "<text text-anchor=\"middle\" x=\"234\" y=\"-22.8\" font-family=\"Helvetica,sans-Serif\" font-size=\"14.00\">samples = 1</text>\n",
       "<text text-anchor=\"middle\" x=\"234\" y=\"-7.8\" font-family=\"Helvetica,sans-Serif\" font-size=\"14.00\">value = &#45;3.6</text>\n",
       "</g>\n",
       "<!-- 1&#45;&gt;3 -->\n",
       "<g id=\"edge3\" class=\"edge\">\n",
       "<title>1&#45;&gt;3</title>\n",
       "<path fill=\"none\" stroke=\"black\" d=\"M232.7,-88.95C232.87,-80.72 233.06,-71.85 233.24,-63.48\"/>\n",
       "<polygon fill=\"black\" stroke=\"black\" points=\"236.74,-63.31 233.46,-53.24 229.74,-63.16 236.74,-63.31\"/>\n",
       "</g>\n",
       "<!-- 5 -->\n",
       "<g id=\"node6\" class=\"node\">\n",
       "<title>5</title>\n",
       "<polygon fill=\"#e9965a\" stroke=\"black\" points=\"472,-53 328,-53 328,0 472,0 472,-53\"/>\n",
       "<text text-anchor=\"middle\" x=\"400\" y=\"-37.8\" font-family=\"Helvetica,sans-Serif\" font-size=\"14.00\">friedman_mse = 0.0</text>\n",
       "<text text-anchor=\"middle\" x=\"400\" y=\"-22.8\" font-family=\"Helvetica,sans-Serif\" font-size=\"14.00\">samples = 1</text>\n",
       "<text text-anchor=\"middle\" x=\"400\" y=\"-7.8\" font-family=\"Helvetica,sans-Serif\" font-size=\"14.00\">value = 3.6</text>\n",
       "</g>\n",
       "<!-- 4&#45;&gt;5 -->\n",
       "<g id=\"edge5\" class=\"edge\">\n",
       "<title>4&#45;&gt;5</title>\n",
       "<path fill=\"none\" stroke=\"black\" d=\"M401.3,-88.95C401.13,-80.72 400.94,-71.85 400.76,-63.48\"/>\n",
       "<polygon fill=\"black\" stroke=\"black\" points=\"404.26,-63.16 400.54,-53.24 397.26,-63.31 404.26,-63.16\"/>\n",
       "</g>\n",
       "<!-- 6 -->\n",
       "<g id=\"node7\" class=\"node\">\n",
       "<title>6</title>\n",
       "<polygon fill=\"#e58139\" stroke=\"black\" points=\"634,-53 490,-53 490,0 634,0 634,-53\"/>\n",
       "<text text-anchor=\"middle\" x=\"562\" y=\"-37.8\" font-family=\"Helvetica,sans-Serif\" font-size=\"14.00\">friedman_mse = 0.0</text>\n",
       "<text text-anchor=\"middle\" x=\"562\" y=\"-22.8\" font-family=\"Helvetica,sans-Serif\" font-size=\"14.00\">samples = 1</text>\n",
       "<text text-anchor=\"middle\" x=\"562\" y=\"-7.8\" font-family=\"Helvetica,sans-Serif\" font-size=\"14.00\">value = 5.4</text>\n",
       "</g>\n",
       "<!-- 4&#45;&gt;6 -->\n",
       "<g id=\"edge6\" class=\"edge\">\n",
       "<title>4&#45;&gt;6</title>\n",
       "<path fill=\"none\" stroke=\"black\" d=\"M457.96,-88.95C474.76,-79.02 493.13,-68.18 509.69,-58.4\"/>\n",
       "<polygon fill=\"black\" stroke=\"black\" points=\"511.85,-61.19 518.68,-53.09 508.29,-55.16 511.85,-61.19\"/>\n",
       "</g>\n",
       "</g>\n",
       "</svg>\n"
      ],
      "text/plain": [
       "<graphviz.sources.Source at 0x29dcebc4130>"
      ]
     },
     "execution_count": 45,
     "metadata": {},
     "output_type": "execute_result"
    }
   ],
   "source": [
    "# 第二颗树\n",
    "dot_data = tree.export_graphviz(gbdt[1,0],filled=True)\n",
    "graph = graphviz.Source(dot_data)\n",
    "graph"
   ]
  },
  {
   "cell_type": "code",
   "execution_count": 46,
   "id": "40afd339",
   "metadata": {
    "ExecuteTime": {
     "end_time": "2022-07-08T13:43:37.822293Z",
     "start_time": "2022-07-08T13:43:37.677731Z"
    }
   },
   "outputs": [
    {
     "data": {
      "image/svg+xml": [
       "<?xml version=\"1.0\" encoding=\"UTF-8\" standalone=\"no\"?>\n",
       "<!DOCTYPE svg PUBLIC \"-//W3C//DTD SVG 1.1//EN\"\n",
       " \"http://www.w3.org/Graphics/SVG/1.1/DTD/svg11.dtd\">\n",
       "<!-- Generated by graphviz version 2.48.0 (20210717.1556)\n",
       " -->\n",
       "<!-- Title: Tree Pages: 1 -->\n",
       "<svg width=\"646pt\" height=\"269pt\"\n",
       " viewBox=\"0.00 0.00 646.00 269.00\" xmlns=\"http://www.w3.org/2000/svg\" xmlns:xlink=\"http://www.w3.org/1999/xlink\">\n",
       "<g id=\"graph0\" class=\"graph\" transform=\"scale(1 1) rotate(0) translate(4 265)\">\n",
       "<title>Tree</title>\n",
       "<polygon fill=\"white\" stroke=\"transparent\" points=\"-4,4 -4,-265 642,-265 642,4 -4,4\"/>\n",
       "<!-- 0 -->\n",
       "<g id=\"node1\" class=\"node\">\n",
       "<title>0</title>\n",
       "<polygon fill=\"#f2c09c\" stroke=\"black\" points=\"402.5,-261 233.5,-261 233.5,-193 402.5,-193 402.5,-261\"/>\n",
       "<text text-anchor=\"middle\" x=\"318\" y=\"-245.8\" font-family=\"Helvetica,sans-Serif\" font-size=\"14.00\">X[0] &lt;= 1150.0</text>\n",
       "<text text-anchor=\"middle\" x=\"318\" y=\"-230.8\" font-family=\"Helvetica,sans-Serif\" font-size=\"14.00\">friedman_mse = 17.059</text>\n",
       "<text text-anchor=\"middle\" x=\"318\" y=\"-215.8\" font-family=\"Helvetica,sans-Serif\" font-size=\"14.00\">samples = 4</text>\n",
       "<text text-anchor=\"middle\" x=\"318\" y=\"-200.8\" font-family=\"Helvetica,sans-Serif\" font-size=\"14.00\">value = 0.0</text>\n",
       "</g>\n",
       "<!-- 1 -->\n",
       "<g id=\"node2\" class=\"node\">\n",
       "<title>1</title>\n",
       "<polygon fill=\"#fdf4ef\" stroke=\"black\" points=\"309.5,-157 148.5,-157 148.5,-89 309.5,-89 309.5,-157\"/>\n",
       "<text text-anchor=\"middle\" x=\"229\" y=\"-141.8\" font-family=\"Helvetica,sans-Serif\" font-size=\"14.00\">X[1] &lt;= 1.0</text>\n",
       "<text text-anchor=\"middle\" x=\"229\" y=\"-126.8\" font-family=\"Helvetica,sans-Serif\" font-size=\"14.00\">friedman_mse = 0.656</text>\n",
       "<text text-anchor=\"middle\" x=\"229\" y=\"-111.8\" font-family=\"Helvetica,sans-Serif\" font-size=\"14.00\">samples = 2</text>\n",
       "<text text-anchor=\"middle\" x=\"229\" y=\"-96.8\" font-family=\"Helvetica,sans-Serif\" font-size=\"14.00\">value = &#45;4.05</text>\n",
       "</g>\n",
       "<!-- 0&#45;&gt;1 -->\n",
       "<g id=\"edge1\" class=\"edge\">\n",
       "<title>0&#45;&gt;1</title>\n",
       "<path fill=\"none\" stroke=\"black\" d=\"M289.1,-192.88C281.33,-183.98 272.83,-174.24 264.74,-164.96\"/>\n",
       "<polygon fill=\"black\" stroke=\"black\" points=\"267.27,-162.53 258.06,-157.3 261.99,-167.14 267.27,-162.53\"/>\n",
       "<text text-anchor=\"middle\" x=\"256.36\" y=\"-178.54\" font-family=\"Helvetica,sans-Serif\" font-size=\"14.00\">True</text>\n",
       "</g>\n",
       "<!-- 4 -->\n",
       "<g id=\"node5\" class=\"node\">\n",
       "<title>4</title>\n",
       "<polygon fill=\"#e78c49\" stroke=\"black\" points=\"488.5,-157 327.5,-157 327.5,-89 488.5,-89 488.5,-157\"/>\n",
       "<text text-anchor=\"middle\" x=\"408\" y=\"-141.8\" font-family=\"Helvetica,sans-Serif\" font-size=\"14.00\">X[1] &lt;= 6.5</text>\n",
       "<text text-anchor=\"middle\" x=\"408\" y=\"-126.8\" font-family=\"Helvetica,sans-Serif\" font-size=\"14.00\">friedman_mse = 0.656</text>\n",
       "<text text-anchor=\"middle\" x=\"408\" y=\"-111.8\" font-family=\"Helvetica,sans-Serif\" font-size=\"14.00\">samples = 2</text>\n",
       "<text text-anchor=\"middle\" x=\"408\" y=\"-96.8\" font-family=\"Helvetica,sans-Serif\" font-size=\"14.00\">value = 4.05</text>\n",
       "</g>\n",
       "<!-- 0&#45;&gt;4 -->\n",
       "<g id=\"edge4\" class=\"edge\">\n",
       "<title>0&#45;&gt;4</title>\n",
       "<path fill=\"none\" stroke=\"black\" d=\"M347.22,-192.88C355.08,-183.98 363.67,-174.24 371.86,-164.96\"/>\n",
       "<polygon fill=\"black\" stroke=\"black\" points=\"374.63,-167.11 378.62,-157.3 369.38,-162.48 374.63,-167.11\"/>\n",
       "<text text-anchor=\"middle\" x=\"380.18\" y=\"-178.55\" font-family=\"Helvetica,sans-Serif\" font-size=\"14.00\">False</text>\n",
       "</g>\n",
       "<!-- 2 -->\n",
       "<g id=\"node3\" class=\"node\">\n",
       "<title>2</title>\n",
       "<polygon fill=\"#ffffff\" stroke=\"black\" points=\"144,-53 0,-53 0,0 144,0 144,-53\"/>\n",
       "<text text-anchor=\"middle\" x=\"72\" y=\"-37.8\" font-family=\"Helvetica,sans-Serif\" font-size=\"14.00\">friedman_mse = 0.0</text>\n",
       "<text text-anchor=\"middle\" x=\"72\" y=\"-22.8\" font-family=\"Helvetica,sans-Serif\" font-size=\"14.00\">samples = 1</text>\n",
       "<text text-anchor=\"middle\" x=\"72\" y=\"-7.8\" font-family=\"Helvetica,sans-Serif\" font-size=\"14.00\">value = &#45;4.86</text>\n",
       "</g>\n",
       "<!-- 1&#45;&gt;2 -->\n",
       "<g id=\"edge2\" class=\"edge\">\n",
       "<title>1&#45;&gt;2</title>\n",
       "<path fill=\"none\" stroke=\"black\" d=\"M174.09,-88.95C157.67,-79.07 139.74,-68.28 123.55,-58.53\"/>\n",
       "<polygon fill=\"black\" stroke=\"black\" points=\"125.13,-55.4 114.76,-53.24 121.52,-61.39 125.13,-55.4\"/>\n",
       "</g>\n",
       "<!-- 3 -->\n",
       "<g id=\"node4\" class=\"node\">\n",
       "<title>3</title>\n",
       "<polygon fill=\"#fbeade\" stroke=\"black\" points=\"306,-53 162,-53 162,0 306,0 306,-53\"/>\n",
       "<text text-anchor=\"middle\" x=\"234\" y=\"-37.8\" font-family=\"Helvetica,sans-Serif\" font-size=\"14.00\">friedman_mse = 0.0</text>\n",
       "<text text-anchor=\"middle\" x=\"234\" y=\"-22.8\" font-family=\"Helvetica,sans-Serif\" font-size=\"14.00\">samples = 1</text>\n",
       "<text text-anchor=\"middle\" x=\"234\" y=\"-7.8\" font-family=\"Helvetica,sans-Serif\" font-size=\"14.00\">value = &#45;3.24</text>\n",
       "</g>\n",
       "<!-- 1&#45;&gt;3 -->\n",
       "<g id=\"edge3\" class=\"edge\">\n",
       "<title>1&#45;&gt;3</title>\n",
       "<path fill=\"none\" stroke=\"black\" d=\"M230.75,-88.95C231.18,-80.72 231.65,-71.85 232.1,-63.48\"/>\n",
       "<polygon fill=\"black\" stroke=\"black\" points=\"235.6,-63.41 232.64,-53.24 228.61,-63.04 235.6,-63.41\"/>\n",
       "</g>\n",
       "<!-- 5 -->\n",
       "<g id=\"node6\" class=\"node\">\n",
       "<title>5</title>\n",
       "<polygon fill=\"#e58139\" stroke=\"black\" points=\"476,-53 332,-53 332,0 476,0 476,-53\"/>\n",
       "<text text-anchor=\"middle\" x=\"404\" y=\"-37.8\" font-family=\"Helvetica,sans-Serif\" font-size=\"14.00\">friedman_mse = 0.0</text>\n",
       "<text text-anchor=\"middle\" x=\"404\" y=\"-22.8\" font-family=\"Helvetica,sans-Serif\" font-size=\"14.00\">samples = 1</text>\n",
       "<text text-anchor=\"middle\" x=\"404\" y=\"-7.8\" font-family=\"Helvetica,sans-Serif\" font-size=\"14.00\">value = 4.86</text>\n",
       "</g>\n",
       "<!-- 4&#45;&gt;5 -->\n",
       "<g id=\"edge5\" class=\"edge\">\n",
       "<title>4&#45;&gt;5</title>\n",
       "<path fill=\"none\" stroke=\"black\" d=\"M406.6,-88.95C406.25,-80.72 405.88,-71.85 405.52,-63.48\"/>\n",
       "<polygon fill=\"black\" stroke=\"black\" points=\"409.01,-63.08 405.09,-53.24 402.02,-63.38 409.01,-63.08\"/>\n",
       "</g>\n",
       "<!-- 6 -->\n",
       "<g id=\"node7\" class=\"node\">\n",
       "<title>6</title>\n",
       "<polygon fill=\"#e9965a\" stroke=\"black\" points=\"638,-53 494,-53 494,0 638,0 638,-53\"/>\n",
       "<text text-anchor=\"middle\" x=\"566\" y=\"-37.8\" font-family=\"Helvetica,sans-Serif\" font-size=\"14.00\">friedman_mse = 0.0</text>\n",
       "<text text-anchor=\"middle\" x=\"566\" y=\"-22.8\" font-family=\"Helvetica,sans-Serif\" font-size=\"14.00\">samples = 1</text>\n",
       "<text text-anchor=\"middle\" x=\"566\" y=\"-7.8\" font-family=\"Helvetica,sans-Serif\" font-size=\"14.00\">value = 3.24</text>\n",
       "</g>\n",
       "<!-- 4&#45;&gt;6 -->\n",
       "<g id=\"edge6\" class=\"edge\">\n",
       "<title>4&#45;&gt;6</title>\n",
       "<path fill=\"none\" stroke=\"black\" d=\"M463.26,-88.95C479.85,-79.02 497.99,-68.18 514.34,-58.4\"/>\n",
       "<polygon fill=\"black\" stroke=\"black\" points=\"516.43,-61.22 523.22,-53.09 512.84,-55.22 516.43,-61.22\"/>\n",
       "</g>\n",
       "</g>\n",
       "</svg>\n"
      ],
      "text/plain": [
       "<graphviz.sources.Source at 0x29dcebb41f0>"
      ]
     },
     "execution_count": 46,
     "metadata": {},
     "output_type": "execute_result"
    }
   ],
   "source": [
    "# 第三颗树\n",
    "dot_data = tree.export_graphviz(gbdt[2,0],filled=True)\n",
    "graph = graphviz.Source(dot_data)\n",
    "graph"
   ]
  },
  {
   "cell_type": "markdown",
   "id": "25ee3d8e",
   "metadata": {},
   "source": [
    "#### 每棵树结构关系"
   ]
  },
  {
   "cell_type": "code",
   "execution_count": 47,
   "id": "fa95efa8",
   "metadata": {
    "ExecuteTime": {
     "end_time": "2022-07-08T13:46:04.689338Z",
     "start_time": "2022-07-08T13:46:04.681319Z"
    }
   },
   "outputs": [
    {
     "name": "stdout",
     "output_type": "stream",
     "text": [
      "[14 16 24 26]\n"
     ]
    }
   ],
   "source": [
    "print(y)"
   ]
  },
  {
   "cell_type": "code",
   "execution_count": 48,
   "id": "a55d8f36",
   "metadata": {
    "ExecuteTime": {
     "end_time": "2022-07-08T13:46:13.757610Z",
     "start_time": "2022-07-08T13:46:13.741667Z"
    }
   },
   "outputs": [
    {
     "name": "stdout",
     "output_type": "stream",
     "text": [
      "20.0\n"
     ]
    }
   ],
   "source": [
    "print(y.mean())"
   ]
  },
  {
   "cell_type": "code",
   "execution_count": 49,
   "id": "9f210965",
   "metadata": {
    "ExecuteTime": {
     "end_time": "2022-07-08T13:46:49.525112Z",
     "start_time": "2022-07-08T13:46:49.513151Z"
    }
   },
   "outputs": [
    {
     "data": {
      "text/plain": [
       "array([-6., -4.,  4.,  6.])"
      ]
     },
     "execution_count": 49,
     "metadata": {},
     "output_type": "execute_result"
    }
   ],
   "source": [
    "# 初始第一棵树的残差\n",
    "# y.mean() 回归树的初始值！！！\n",
    "residual0 = y - y.mean()\n",
    "residual0"
   ]
  },
  {
   "cell_type": "code",
   "execution_count": 50,
   "id": "2d9a4b01",
   "metadata": {
    "ExecuteTime": {
     "end_time": "2022-07-08T13:49:32.621760Z",
     "start_time": "2022-07-08T13:49:32.615778Z"
    }
   },
   "outputs": [
    {
     "data": {
      "text/plain": [
       "array([-5.4, -3.6,  3.6,  5.4])"
      ]
     },
     "execution_count": 50,
     "metadata": {},
     "output_type": "execute_result"
    }
   ],
   "source": [
    "# 梯度提升树，第二棵树\n",
    "residual1 = residual0 - learning_rate * residual0\n",
    "residual1"
   ]
  },
  {
   "cell_type": "code",
   "execution_count": 51,
   "id": "6b34255a",
   "metadata": {
    "ExecuteTime": {
     "end_time": "2022-07-08T13:50:42.487371Z",
     "start_time": "2022-07-08T13:50:42.476405Z"
    }
   },
   "outputs": [
    {
     "data": {
      "text/plain": [
       "array([-4.86, -3.24,  3.24,  4.86])"
      ]
     },
     "execution_count": 51,
     "metadata": {},
     "output_type": "execute_result"
    }
   ],
   "source": [
    "# 梯度提升树，第三棵树\n",
    "residual2 = residual1 - learning_rate * residual1\n",
    "residual2"
   ]
  },
  {
   "cell_type": "code",
   "execution_count": 52,
   "id": "8f1fae81",
   "metadata": {
    "ExecuteTime": {
     "end_time": "2022-07-08T13:51:41.894480Z",
     "start_time": "2022-07-08T13:51:41.876511Z"
    }
   },
   "outputs": [
    {
     "data": {
      "text/plain": [
       "array([-4.374, -2.916,  2.916,  4.374])"
      ]
     },
     "execution_count": 52,
     "metadata": {},
     "output_type": "execute_result"
    }
   ],
   "source": [
    "# 第三棵树，就是最后一棵树\n",
    "# 最后一棵树，提升\n",
    "residual3 = residual2 - residual2 * learning_rate\n",
    "residual3 # 残差！！！"
   ]
  },
  {
   "cell_type": "code",
   "execution_count": 53,
   "id": "73e7bae2",
   "metadata": {
    "ExecuteTime": {
     "end_time": "2022-07-08T13:52:55.249042Z",
     "start_time": "2022-07-08T13:52:55.240076Z"
    }
   },
   "outputs": [
    {
     "data": {
      "text/plain": [
       "array([18.374, 18.916, 21.084, 21.626])"
      ]
     },
     "execution_count": 53,
     "metadata": {},
     "output_type": "execute_result"
    }
   ],
   "source": [
    "gbdt.predict(X)"
   ]
  },
  {
   "cell_type": "code",
   "execution_count": 54,
   "id": "42c8fe08",
   "metadata": {
    "ExecuteTime": {
     "end_time": "2022-07-08T13:53:22.720165Z",
     "start_time": "2022-07-08T13:53:22.710197Z"
    }
   },
   "outputs": [
    {
     "data": {
      "text/plain": [
       "array([18.374, 18.916, 21.084, 21.626])"
      ]
     },
     "execution_count": 54,
     "metadata": {},
     "output_type": "execute_result"
    }
   ],
   "source": [
    "predict = y - residual3\n",
    "predict"
   ]
  },
  {
   "cell_type": "markdown",
   "id": "9ded7f3b",
   "metadata": {},
   "source": [
    "#### 最佳裂分条件计算"
   ]
  },
  {
   "cell_type": "markdown",
   "id": "20cd32e3",
   "metadata": {},
   "source": [
    "第一棵树裂分"
   ]
  },
  {
   "cell_type": "code",
   "execution_count": 55,
   "id": "60f3be25",
   "metadata": {
    "ExecuteTime": {
     "end_time": "2022-07-08T13:57:52.597819Z",
     "start_time": "2022-07-08T13:57:52.579881Z"
    }
   },
   "outputs": [
    {
     "name": "stdout",
     "output_type": "stream",
     "text": [
      "未分裂均方误差是： 26.0\n",
      "第0列 裂分条件是： 700.0 均方误差是： 0.0 18.667 14.0\n",
      "第0列 裂分条件是： 1150.0 均方误差是： 1.0 1.0 1.0\n",
      "第0列 裂分条件是： 2000.0 均方误差是： 18.667 0.0 14.0\n",
      "第1列 裂分条件是： 1.0 均方误差是： 0.0 18.667 14.0\n",
      "第1列 裂分条件是： 2.1 均方误差是： 1.0 1.0 1.0\n",
      "第1列 裂分条件是： 6.5 均方误差是： 27.556 0.0 20.667\n",
      "最佳分裂条件是： {'第0列': 1150.0, '第1列': 2.1}\n"
     ]
    }
   ],
   "source": [
    "# 计算未分裂均方误差\n",
    "lower_mse = ((y - y.mean())**2).mean()\n",
    "print('未分裂均方误差是：',lower_mse)\n",
    "best_split = {}\n",
    "for index in range(2): # 特征\n",
    "    for i in range(3):# 样本数量\n",
    "        t = X[:,index].copy()\n",
    "        t.sort()\n",
    "        split = t[i:i + 2].mean()\n",
    "        cond = X[:,index] <= split\n",
    "        mse1 = round(((y[cond] - y[cond].mean())**2).mean(),3)\n",
    "        mse2 = round(((y[~cond] - y[~cond].mean())**2).mean(),3)\n",
    "        p1 = cond.sum()/cond.size\n",
    "        mse = round(mse1 * p1 + mse2 * (1- p1),3)\n",
    "        print('第%d列' % (index),'裂分条件是：',split,'均方误差是：',mse1,mse2,mse)\n",
    "        if mse < lower_mse:\n",
    "            best_split.clear()\n",
    "            lower_mse = mse\n",
    "            best_split['第%d列'%(index)] = split\n",
    "        elif mse == lower_mse:\n",
    "            best_split['第%d列'%(index)] = split\n",
    "print('最佳分裂条件是：',best_split)"
   ]
  },
  {
   "cell_type": "markdown",
   "id": "09c1e03e",
   "metadata": {},
   "source": [
    "第二棵树"
   ]
  },
  {
   "cell_type": "code",
   "execution_count": 57,
   "id": "6e7b256f",
   "metadata": {
    "ExecuteTime": {
     "end_time": "2022-07-08T14:01:19.083586Z",
     "start_time": "2022-07-08T14:01:19.062652Z"
    }
   },
   "outputs": [
    {
     "data": {
      "text/plain": [
       "array([-6., -4.,  4.,  6.])"
      ]
     },
     "execution_count": 57,
     "metadata": {},
     "output_type": "execute_result"
    }
   ],
   "source": [
    "residual = y - y.mean()\n",
    "residual"
   ]
  },
  {
   "cell_type": "code",
   "execution_count": 58,
   "id": "986ac857",
   "metadata": {
    "ExecuteTime": {
     "end_time": "2022-07-08T14:01:39.377050Z",
     "start_time": "2022-07-08T14:01:39.364090Z"
    }
   },
   "outputs": [
    {
     "name": "stdout",
     "output_type": "stream",
     "text": [
      "未分裂均方误差是： 21.06\n",
      "第0列 裂分条件是： 700.0 均方误差是： 0.0 15.12 11.34\n",
      "第0列 裂分条件是： 1150.0 均方误差是： 0.81 0.81 0.81\n",
      "第0列 裂分条件是： 2000.0 均方误差是： 15.12 0.0 11.34\n",
      "第1列 裂分条件是： 1.0 均方误差是： 0.0 15.12 11.34\n",
      "第1列 裂分条件是： 2.1 均方误差是： 0.81 0.81 0.81\n",
      "第1列 裂分条件是： 6.5 均方误差是： 22.32 0.0 16.74\n",
      "最佳分裂条件是： {'第0列': 1150.0, '第1列': 2.1}\n"
     ]
    }
   ],
   "source": [
    "# 梯度下降，降低残差\n",
    "residual = residual - learning_rate*residual\n",
    "# 计算未分裂均方误差\n",
    "lower_mse = round(((residual - residual.mean())**2).mean(),3)\n",
    "print('未分裂均方误差是：',lower_mse)\n",
    "best_split = {}\n",
    "for index in range(2):\n",
    "    for i in range(3):\n",
    "        t = X[:,index].copy()\n",
    "        t.sort()\n",
    "        split = t[i:i + 2].mean()\n",
    "        cond = X[:,index] <= split\n",
    "        mse1 = round(((residual[cond] - residual[cond].mean())**2).mean(),3)\n",
    "        mse2 = round(((residual[~cond] - residual[~cond].mean())**2).mean(),3)\n",
    "        p1 = cond.sum()/cond.size\n",
    "        mse = round(mse1 * p1 + mse2 * (1- p1),3)\n",
    "        print('第%d列' % (index),'裂分条件是：',split,'均方误差是：',mse1,mse2,mse)\n",
    "        if mse < lower_mse:\n",
    "            best_split.clear()\n",
    "            lower_mse = mse\n",
    "            best_split['第%d列'%(index)] = split\n",
    "        elif mse == lower_mse:\n",
    "            best_split['第%d列'%(index)] = split\n",
    "print('最佳分裂条件是：',best_split)"
   ]
  },
  {
   "cell_type": "markdown",
   "id": "de0199ae",
   "metadata": {},
   "source": [
    "第三棵树最接裂分计算"
   ]
  },
  {
   "cell_type": "code",
   "execution_count": 59,
   "id": "fabb70a5",
   "metadata": {
    "ExecuteTime": {
     "end_time": "2022-07-08T14:03:17.217400Z",
     "start_time": "2022-07-08T14:03:17.202377Z"
    }
   },
   "outputs": [
    {
     "name": "stdout",
     "output_type": "stream",
     "text": [
      "未分裂均方误差是： 17.059\n",
      "第0列 裂分条件是： 700.0 均方误差是： 0.0 12.247 9.185\n",
      "第0列 裂分条件是： 1150.0 均方误差是： 0.656 0.656 0.656\n",
      "第0列 裂分条件是： 2000.0 均方误差是： 12.247 0.0 9.185\n",
      "第1列 裂分条件是： 1.0 均方误差是： 0.0 12.247 9.185\n",
      "第1列 裂分条件是： 2.1 均方误差是： 0.656 0.656 0.656\n",
      "第1列 裂分条件是： 6.5 均方误差是： 18.079 0.0 13.559\n",
      "最佳分裂条件是： {'第0列': 1150.0, '第1列': 2.1}\n"
     ]
    }
   ],
   "source": [
    "# 梯度下降，降低残差\n",
    "residual = residual - learning_rate*residual\n",
    "# 计算未分裂均方误差\n",
    "lower_mse = round(((residual - residual.mean())**2).mean(),3)\n",
    "print('未分裂均方误差是：',lower_mse)\n",
    "best_split = {}\n",
    "for index in range(2):\n",
    "    for i in range(3):\n",
    "        t = X[:,index].copy()\n",
    "        t.sort()\n",
    "        split = t[i:i + 2].mean()\n",
    "        cond = X[:,index] <= split\n",
    "        mse1 = round(((residual[cond] - residual[cond].mean())**2).mean(),3)\n",
    "        mse2 = round(((residual[~cond] - residual[~cond].mean())**2).mean(),3)\n",
    "        p1 = cond.sum()/cond.size\n",
    "        mse = round(mse1 * p1 + mse2 * (1- p1),3)\n",
    "        print('第%d列' % (index),'裂分条件是：',split,'均方误差是：',mse1,mse2,mse)\n",
    "        if mse < lower_mse:\n",
    "            best_split.clear()\n",
    "            lower_mse = mse\n",
    "            best_split['第%d列'%(index)] = split\n",
    "        elif mse == lower_mse:\n",
    "            best_split['第%d列'%(index)] = split\n",
    "print('最佳分裂条件是：',best_split)"
   ]
  },
  {
   "cell_type": "code",
   "execution_count": null,
   "id": "ba8e6cd0",
   "metadata": {},
   "outputs": [],
   "source": []
  }
 ],
 "metadata": {
  "kernelspec": {
   "display_name": "Python 3 (ipykernel)",
   "language": "python",
   "name": "python3"
  },
  "language_info": {
   "codemirror_mode": {
    "name": "ipython",
    "version": 3
   },
   "file_extension": ".py",
   "mimetype": "text/x-python",
   "name": "python",
   "nbconvert_exporter": "python",
   "pygments_lexer": "ipython3",
   "version": "3.10.13"
  },
  "toc": {
   "base_numbering": 1,
   "nav_menu": {},
   "number_sections": true,
   "sideBar": true,
   "skip_h1_title": false,
   "title_cell": "Table of Contents",
   "title_sidebar": "Contents",
   "toc_cell": false,
   "toc_position": {},
   "toc_section_display": true,
   "toc_window_display": true
  }
 },
 "nbformat": 4,
 "nbformat_minor": 5
}
