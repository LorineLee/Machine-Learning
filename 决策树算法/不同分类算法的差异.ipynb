{
 "cells": [
  {
   "cell_type": "markdown",
   "id": "7767cbec-fee1-422b-98b8-033f4e61efba",
   "metadata": {},
   "source": [
    "我们已经学习了决策树原理和应用，以及参数调整。\n",
    "\n",
    "之前我们学习逻辑斯蒂回归、SVM支持向量机。\n",
    "\n",
    "现在请以，葡萄酒数据作为研究对象\n",
    "\n",
    "```Python\n",
    "from sklearn import datasets\n",
    "wine = datasets.load_wine()\n",
    "```\n",
    "\n",
    "作业要求：\n",
    "\n",
    "* 观察葡萄酒数据\n",
    "* 对数据进行归一化处理\n",
    "* 使用不同算法，对葡萄酒数据进行分类模型构建（数据划分为训练数据和测试数据）\n",
    "* 多次训练求平均值\n",
    "* 对比思考三种不同机器学习差异\n",
    "\n"
   ]
  },
  {
   "cell_type": "markdown",
   "id": "17db96bc-5df2-421d-9b9d-0e61f77e3e8e",
   "metadata": {},
   "source": [
    "# 不同分类算法的差异"
   ]
  },
  {
   "cell_type": "code",
   "execution_count": 1,
   "id": "b4684a6b-d46f-4f1e-9770-d5f2368b13fd",
   "metadata": {
    "execution": {
     "iopub.execute_input": "2024-03-12T04:50:42.409289Z",
     "iopub.status.busy": "2024-03-12T04:50:42.409289Z",
     "iopub.status.idle": "2024-03-12T04:50:42.695480Z",
     "shell.execute_reply": "2024-03-12T04:50:42.695480Z",
     "shell.execute_reply.started": "2024-03-12T04:50:42.409289Z"
    }
   },
   "outputs": [],
   "source": [
    "import numpy as np \n",
    "from sklearn.tree import DecisionTreeClassifier\n",
    "from sklearn.linear_model import LogisticRegression\n",
    "from sklearn.svm import SVC\n",
    "\n",
    "from sklearn import datasets"
   ]
  },
  {
   "cell_type": "markdown",
   "id": "2c2775be-5cc2-4e2a-8b6a-c9ae5456b4bd",
   "metadata": {},
   "source": [
    "## 1. 加载数据 "
   ]
  },
  {
   "cell_type": "code",
   "execution_count": 3,
   "id": "5d601bfc-0c82-4a88-aad3-7ce42fccc4c9",
   "metadata": {
    "execution": {
     "iopub.execute_input": "2024-03-12T04:56:04.335527Z",
     "iopub.status.busy": "2024-03-12T04:56:04.333567Z",
     "iopub.status.idle": "2024-03-12T04:56:04.362814Z",
     "shell.execute_reply": "2024-03-12T04:56:04.360817Z",
     "shell.execute_reply.started": "2024-03-12T04:56:04.335527Z"
    }
   },
   "outputs": [],
   "source": [
    "wine = datasets.load_wine() "
   ]
  },
  {
   "cell_type": "markdown",
   "id": "43c8c47e-636f-48a1-9573-b43930cedc80",
   "metadata": {},
   "source": [
    "'feature_names': ['alcohol',\n",
    "  'malic_acid',\n",
    "  'ash',\n",
    "  'alcalinity_of_ash',\n",
    "  'magnesium',\n",
    "  'total_phenols',\n",
    "  'flavanoids',\n",
    "  'nonflavanoid_phenols',\n",
    "  'proanthocyanins',\n",
    "  'color_intensity',\n",
    "  'hue',\n",
    "  'od280/od315_of_diluted_wines',\n",
    "  'proline']"
   ]
  },
  {
   "cell_type": "code",
   "execution_count": 4,
   "id": "74ad75fa-8b92-436f-8ab3-afcd560fc735",
   "metadata": {
    "execution": {
     "iopub.execute_input": "2024-03-12T04:57:25.132825Z",
     "iopub.status.busy": "2024-03-12T04:57:25.132825Z",
     "iopub.status.idle": "2024-03-12T04:57:25.166485Z",
     "shell.execute_reply": "2024-03-12T04:57:25.164490Z",
     "shell.execute_reply.started": "2024-03-12T04:57:25.132825Z"
    }
   },
   "outputs": [],
   "source": [
    "from sklearn.model_selection import train_test_split\n",
    "\n",
    "X = wine['data']\n",
    "y = wine['target']"
   ]
  },
  {
   "cell_type": "code",
   "execution_count": 5,
   "id": "fb110790-f7d6-4dce-b49d-5d5c66a7521c",
   "metadata": {
    "execution": {
     "iopub.execute_input": "2024-03-12T04:57:48.843291Z",
     "iopub.status.busy": "2024-03-12T04:57:48.843291Z",
     "iopub.status.idle": "2024-03-12T04:57:48.875829Z",
     "shell.execute_reply": "2024-03-12T04:57:48.874832Z",
     "shell.execute_reply.started": "2024-03-12T04:57:48.843291Z"
    }
   },
   "outputs": [
    {
     "data": {
      "text/plain": [
       "array([[  14.23,    1.71,    2.43, ...,    1.04,    3.92, 1065.  ],\n",
       "       [  13.2 ,    1.78,    2.14, ...,    1.05,    3.4 , 1050.  ],\n",
       "       [  13.16,    2.36,    2.67, ...,    1.03,    3.17, 1185.  ],\n",
       "       ...,\n",
       "       [  13.27,    4.28,    2.26, ...,    0.59,    1.56,  835.  ],\n",
       "       [  13.17,    2.59,    2.37, ...,    0.6 ,    1.62,  840.  ],\n",
       "       [  14.13,    4.1 ,    2.74, ...,    0.61,    1.6 ,  560.  ]])"
      ]
     },
     "execution_count": 5,
     "metadata": {},
     "output_type": "execute_result"
    }
   ],
   "source": [
    "np.set_printoptions(suppress=True)\n",
    "X"
   ]
  },
  {
   "cell_type": "markdown",
   "id": "a0138576-999e-4ff0-b6e4-0afbaa73cc43",
   "metadata": {},
   "source": [
    "## 2. 归一化处理"
   ]
  },
  {
   "cell_type": "code",
   "execution_count": 6,
   "id": "da97dcde-7dc6-408f-9aff-d9b9ecdf0426",
   "metadata": {
    "execution": {
     "iopub.execute_input": "2024-03-12T04:59:10.945862Z",
     "iopub.status.busy": "2024-03-12T04:59:10.945862Z",
     "iopub.status.idle": "2024-03-12T04:59:10.993850Z",
     "shell.execute_reply": "2024-03-12T04:59:10.992853Z",
     "shell.execute_reply.started": "2024-03-12T04:59:10.945862Z"
    }
   },
   "outputs": [
    {
     "data": {
      "text/plain": [
       "array([[ 1.51861254, -0.5622498 ,  0.23205254, ...,  0.36217728,\n",
       "         1.84791957,  1.01300893],\n",
       "       [ 0.24628963, -0.49941338, -0.82799632, ...,  0.40605066,\n",
       "         1.1134493 ,  0.96524152],\n",
       "       [ 0.19687903,  0.02123125,  1.10933436, ...,  0.31830389,\n",
       "         0.78858745,  1.39514818],\n",
       "       ...,\n",
       "       [ 0.33275817,  1.74474449, -0.38935541, ..., -1.61212515,\n",
       "        -1.48544548,  0.28057537],\n",
       "       [ 0.20923168,  0.22769377,  0.01273209, ..., -1.56825176,\n",
       "        -1.40069891,  0.29649784],\n",
       "       [ 1.39508604,  1.58316512,  1.36520822, ..., -1.52437837,\n",
       "        -1.42894777, -0.59516041]])"
      ]
     },
     "execution_count": 6,
     "metadata": {},
     "output_type": "execute_result"
    }
   ],
   "source": [
    "from sklearn.preprocessing import StandardScaler\n",
    "\n",
    "standard = StandardScaler()\n",
    "X = standard.fit_transform(X)\n",
    "X"
   ]
  },
  {
   "cell_type": "markdown",
   "id": "5b202d25-dfb3-4f2f-902d-0d548703ede3",
   "metadata": {},
   "source": [
    "## 3. LogisticRegression "
   ]
  },
  {
   "cell_type": "code",
   "execution_count": null,
   "id": "6595b0d4-c471-4927-b4c4-28d60e99be72",
   "metadata": {},
   "outputs": [],
   "source": [
    "import warnings\n",
    "warnings.filterwarnings('ignore')"
   ]
  },
  {
   "cell_type": "code",
   "execution_count": 9,
   "id": "df249dbd-cf5e-4e98-ac0e-6e7f759f57b6",
   "metadata": {
    "execution": {
     "iopub.execute_input": "2024-03-12T05:06:42.684006Z",
     "iopub.status.busy": "2024-03-12T05:06:42.683011Z",
     "iopub.status.idle": "2024-03-12T05:06:43.450753Z",
     "shell.execute_reply": "2024-03-12T05:06:43.449795Z",
     "shell.execute_reply.started": "2024-03-12T05:06:42.684006Z"
    }
   },
   "outputs": [
    {
     "name": "stdout",
     "output_type": "stream",
     "text": [
      "LR算法多次运算平均得分是： 0.9769444444444446\n",
      "CPU times: total: 719 ms\n",
      "Wall time: 730 ms\n"
     ]
    }
   ],
   "source": [
    "%%time\n",
    "score = 0\n",
    "for i in range(100):\n",
    "    X_train, X_test, y_train, y_test = train_test_split(X,y,test_size=0.2) \n",
    "    lr = LogisticRegression()\n",
    "    lr.fit(X_train,y_train)\n",
    "    s = lr.score(X_test, y_test)\n",
    "    score += s/100 # 循环了100次的平均\n",
    "print('LR算法多次运算平均得分是：',score)"
   ]
  },
  {
   "cell_type": "markdown",
   "id": "7bd77a20-1d24-4926-930e-ad1f6df9a6ae",
   "metadata": {},
   "source": [
    "## 4. SVC"
   ]
  },
  {
   "cell_type": "code",
   "execution_count": 11,
   "id": "f74b651e-9504-43df-8a2e-5805cde292db",
   "metadata": {
    "execution": {
     "iopub.execute_input": "2024-03-12T05:08:36.859262Z",
     "iopub.status.busy": "2024-03-12T05:08:36.858264Z",
     "iopub.status.idle": "2024-03-12T05:08:37.208641Z",
     "shell.execute_reply": "2024-03-12T05:08:37.208641Z",
     "shell.execute_reply.started": "2024-03-12T05:08:36.859262Z"
    }
   },
   "outputs": [
    {
     "name": "stdout",
     "output_type": "stream",
     "text": [
      "SVC算法多次运算平均得分是： 0.9786111111111112\n",
      "CPU times: total: 250 ms\n",
      "Wall time: 322 ms\n"
     ]
    }
   ],
   "source": [
    "%%time\n",
    "score = 0\n",
    "for i in range(100):\n",
    "    X_train, X_test, y_train, y_test = train_test_split(X,y,test_size=0.2) \n",
    "    model = SVC()\n",
    "    model.fit(X_train,y_train)\n",
    "    s = model.score(X_test, y_test)\n",
    "    score += s/100 # 循环了100次的平均\n",
    "print('SVC算法多次运算平均得分是：',score)"
   ]
  },
  {
   "cell_type": "markdown",
   "id": "761e478c-0dad-44dd-8264-f748b2461c03",
   "metadata": {},
   "source": [
    "## 5. 决策树"
   ]
  },
  {
   "cell_type": "code",
   "execution_count": 12,
   "id": "0684182d-2aa7-4a07-a595-3f0920694c73",
   "metadata": {
    "execution": {
     "iopub.execute_input": "2024-03-12T05:09:50.324841Z",
     "iopub.status.busy": "2024-03-12T05:09:50.324841Z",
     "iopub.status.idle": "2024-03-12T05:09:50.696395Z",
     "shell.execute_reply": "2024-03-12T05:09:50.696395Z",
     "shell.execute_reply.started": "2024-03-12T05:09:50.324841Z"
    }
   },
   "outputs": [
    {
     "name": "stdout",
     "output_type": "stream",
     "text": [
      "决策树算法多次运算平均得分是： 0.902777777777777\n",
      "CPU times: total: 312 ms\n",
      "Wall time: 356 ms\n"
     ]
    }
   ],
   "source": [
    "%%time\n",
    "score = 0\n",
    "for i in range(100):\n",
    "    X_train, X_test, y_train, y_test = train_test_split(X,y,test_size=0.2) \n",
    "    model = DecisionTreeClassifier()\n",
    "    model.fit(X_train,y_train)\n",
    "    s = model.score(X_test, y_test)\n",
    "    score += s/100 # 循环了100次的平均\n",
    "print('决策树算法多次运算平均得分是：',score)"
   ]
  },
  {
   "cell_type": "markdown",
   "id": "88211f10-56d4-4fef-b021-ee377bd88883",
   "metadata": {},
   "source": [
    "## 6. 不同算法总结对比"
   ]
  },
  {
   "cell_type": "markdown",
   "id": "15cb1215-a1b3-4add-a407-75698ddf9fc1",
   "metadata": {},
   "source": [
    "- 决策树对数据是否归一化不敏感\n",
    "- 逻辑回归，如果不进行归一化，准确率降低，运行时间会增加\n",
    "- SVC支持向量机，如果进行归一化，准确率大大降低"
   ]
  },
  {
   "cell_type": "code",
   "execution_count": 13,
   "id": "6ce418cd-ad12-4361-ba75-979f1336d16c",
   "metadata": {
    "execution": {
     "iopub.execute_input": "2024-03-12T07:42:36.295782Z",
     "iopub.status.busy": "2024-03-12T07:42:36.294783Z",
     "iopub.status.idle": "2024-03-12T07:42:36.377390Z",
     "shell.execute_reply": "2024-03-12T07:42:36.377390Z",
     "shell.execute_reply.started": "2024-03-12T07:42:36.295782Z"
    }
   },
   "outputs": [
    {
     "data": {
      "text/plain": [
       "array([0.        , 0.        , 0.        , 0.        , 0.        ,\n",
       "       0.        , 0.14926013, 0.        , 0.        , 0.35875944,\n",
       "       0.        , 0.        , 0.49198043])"
      ]
     },
     "execution_count": 13,
     "metadata": {},
     "output_type": "execute_result"
    }
   ],
   "source": [
    "model = DecisionTreeClassifier()\n",
    "model.fit(X_train,y_train)\n",
    "model.feature_importances_"
   ]
  },
  {
   "cell_type": "code",
   "execution_count": 14,
   "id": "4c0e0698-9182-4d45-b4b4-1b06f07aecfc",
   "metadata": {
    "execution": {
     "iopub.execute_input": "2024-03-12T07:44:44.104556Z",
     "iopub.status.busy": "2024-03-12T07:44:44.104556Z",
     "iopub.status.idle": "2024-03-12T07:44:44.184728Z",
     "shell.execute_reply": "2024-03-12T07:44:44.184728Z",
     "shell.execute_reply.started": "2024-03-12T07:44:44.104556Z"
    }
   },
   "outputs": [
    {
     "data": {
      "text/plain": [
       "array([[ 0.68347141,  0.17471074,  0.20895509, -0.8001233 , -0.05713168,\n",
       "         0.13885993,  0.61436679, -0.26941507,  0.22493812,  0.25171584,\n",
       "         0.23125522,  0.60200664,  1.05496944],\n",
       "       [-0.88638539, -0.37532645, -0.63110906,  0.6175745 ,  0.02793696,\n",
       "         0.08962394,  0.32787812,  0.2601362 ,  0.21339307, -0.99315641,\n",
       "         0.65919895,  0.03637603, -1.03241368],\n",
       "       [ 0.20291398,  0.20061571,  0.42215396,  0.1825488 ,  0.02919472,\n",
       "        -0.22848387, -0.94224491,  0.00927887, -0.4383312 ,  0.74144058,\n",
       "        -0.89045417, -0.63838267, -0.02255576]])"
      ]
     },
     "execution_count": 14,
     "metadata": {},
     "output_type": "execute_result"
    }
   ],
   "source": [
    "model = LogisticRegression()\n",
    "model.fit(X_train,y_train)\n",
    "model.coef_  # 返回的系数，不能表示特征重要与否"
   ]
  },
  {
   "cell_type": "markdown",
   "id": "4ecc38ae-3639-4116-8361-596bf71d9c9e",
   "metadata": {},
   "source": [
    "- 这三个只有决策树有feature_importances_\n",
    "- LR返回的系数，不能表示特征重要与否\n",
    "- 线性回归，系数绝对值大小可以表示特征重要性"
   ]
  }
 ],
 "metadata": {
  "kernelspec": {
   "display_name": "Python 3 (ipykernel)",
   "language": "python",
   "name": "python3"
  },
  "language_info": {
   "codemirror_mode": {
    "name": "ipython",
    "version": 3
   },
   "file_extension": ".py",
   "mimetype": "text/x-python",
   "name": "python",
   "nbconvert_exporter": "python",
   "pygments_lexer": "ipython3",
   "version": "3.10.13"
  }
 },
 "nbformat": 4,
 "nbformat_minor": 5
}
