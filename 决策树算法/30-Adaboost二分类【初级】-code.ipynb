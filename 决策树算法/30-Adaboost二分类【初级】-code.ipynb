{
 "cells": [
  {
   "cell_type": "markdown",
   "id": "7fc190e8",
   "metadata": {},
   "source": [
    "# 1. Adaboost【乳腺癌】"
   ]
  },
  {
   "cell_type": "markdown",
   "id": "ebb89e61",
   "metadata": {},
   "source": [
    "## 1.1 导包"
   ]
  },
  {
   "cell_type": "code",
   "execution_count": 1,
   "id": "dbd590c5",
   "metadata": {
    "ExecuteTime": {
     "end_time": "2022-07-13T12:40:07.788346Z",
     "start_time": "2022-07-13T12:40:06.939174Z"
    },
    "execution": {
     "iopub.execute_input": "2024-03-15T11:54:04.720563Z",
     "iopub.status.busy": "2024-03-15T11:54:04.719564Z",
     "iopub.status.idle": "2024-03-15T11:54:07.985922Z",
     "shell.execute_reply": "2024-03-15T11:54:07.985922Z",
     "shell.execute_reply.started": "2024-03-15T11:54:04.720563Z"
    }
   },
   "outputs": [],
   "source": [
    "import numpy as np\n",
    "from sklearn.tree import DecisionTreeClassifier\n",
    "from sklearn.ensemble import AdaBoostClassifier,RandomForestClassifier\n",
    "from sklearn.model_selection import train_test_split\n",
    "from sklearn.metrics import accuracy_score\n",
    "from sklearn import datasets"
   ]
  },
  {
   "cell_type": "markdown",
   "id": "546844f3",
   "metadata": {},
   "source": [
    "## 1.2 加载数据【二分类】"
   ]
  },
  {
   "cell_type": "code",
   "execution_count": 17,
   "id": "3364d853",
   "metadata": {
    "ExecuteTime": {
     "end_time": "2022-07-13T12:53:34.211527Z",
     "start_time": "2022-07-13T12:53:34.192584Z"
    },
    "execution": {
     "iopub.execute_input": "2024-03-15T12:03:36.959860Z",
     "iopub.status.busy": "2024-03-15T12:03:36.959860Z",
     "iopub.status.idle": "2024-03-15T12:03:37.009770Z",
     "shell.execute_reply": "2024-03-15T12:03:37.009770Z",
     "shell.execute_reply.started": "2024-03-15T12:03:36.959860Z"
    }
   },
   "outputs": [
    {
     "data": {
      "text/plain": [
       "(569, 30)"
      ]
     },
     "metadata": {},
     "output_type": "display_data"
    },
    {
     "data": {
      "text/plain": [
       "(569,)"
      ]
     },
     "metadata": {},
     "output_type": "display_data"
    },
    {
     "data": {
      "text/plain": [
       "array([0, 1])"
      ]
     },
     "metadata": {},
     "output_type": "display_data"
    }
   ],
   "source": [
    "X,y = datasets.load_breast_cancer(return_X_y=True)\n",
    "display(X.shape,y.shape,np.unique(y))\n",
    "X_train,X_test,y_train,y_test = train_test_split(X,y,test_size=0.2, random_state=42)"
   ]
  },
  {
   "cell_type": "markdown",
   "id": "6a25c07f",
   "metadata": {},
   "source": [
    "## 1.3 单次建模预测"
   ]
  },
  {
   "cell_type": "code",
   "execution_count": null,
   "id": "8d030a5a-8288-401f-9168-7a8be7413ee7",
   "metadata": {},
   "outputs": [],
   "source": [
    "## 为了避免数据随机拆分的影响，设置了 train_test_split(X,y,test_size=0.2, random_state=42)"
   ]
  },
  {
   "cell_type": "markdown",
   "id": "b6f2281b-a265-4351-a4ad-86341543abd6",
   "metadata": {},
   "source": [
    "### 1.3.1 决策树"
   ]
  },
  {
   "cell_type": "code",
   "execution_count": 18,
   "id": "7743b4ce-48be-4f33-bd6d-6d7fce7b94f5",
   "metadata": {
    "execution": {
     "iopub.execute_input": "2024-03-15T12:03:39.671890Z",
     "iopub.status.busy": "2024-03-15T12:03:39.669754Z",
     "iopub.status.idle": "2024-03-15T12:03:39.729059Z",
     "shell.execute_reply": "2024-03-15T12:03:39.728063Z",
     "shell.execute_reply.started": "2024-03-15T12:03:39.671890Z"
    }
   },
   "outputs": [
    {
     "data": {
      "text/plain": [
       "array([1, 0, 0, 1, 1, 0, 0, 0, 0, 0, 1, 0, 1, 0, 1, 0, 1, 1, 1, 0])"
      ]
     },
     "metadata": {},
     "output_type": "display_data"
    },
    {
     "data": {
      "text/plain": [
       "array([1, 0, 0, 1, 1, 0, 0, 0, 1, 1, 1, 0, 1, 0, 1, 0, 1, 1, 1, 0])"
      ]
     },
     "metadata": {},
     "output_type": "display_data"
    },
    {
     "data": {
      "text/plain": [
       "0.9385964912280702"
      ]
     },
     "execution_count": 18,
     "metadata": {},
     "output_type": "execute_result"
    }
   ],
   "source": [
    "# 单一决策树\n",
    "model = DecisionTreeClassifier()\n",
    "model.fit(X_train,y_train)\n",
    "y_pred = model.predict(X_test)\n",
    "display(y_pred[:20],y_test[:20])\n",
    "# 准确率\n",
    "accuracy_score(y_test,y_pred)"
   ]
  },
  {
   "cell_type": "markdown",
   "id": "acde4986-cdf1-4151-9fac-c0e19047fcfd",
   "metadata": {},
   "source": [
    "### 1.3.2 随机森林"
   ]
  },
  {
   "cell_type": "code",
   "execution_count": 19,
   "id": "51fc04f0-3b56-4e42-b410-9dc3ca9112ff",
   "metadata": {
    "execution": {
     "iopub.execute_input": "2024-03-15T12:03:44.376762Z",
     "iopub.status.busy": "2024-03-15T12:03:44.375763Z",
     "iopub.status.idle": "2024-03-15T12:03:46.525999Z",
     "shell.execute_reply": "2024-03-15T12:03:46.522047Z",
     "shell.execute_reply.started": "2024-03-15T12:03:44.376762Z"
    }
   },
   "outputs": [
    {
     "data": {
      "text/plain": [
       "array([1, 0, 0, 1, 1, 0, 0, 0, 0, 1, 1, 0, 1, 0, 1, 0, 1, 1, 1, 0])"
      ]
     },
     "metadata": {},
     "output_type": "display_data"
    },
    {
     "data": {
      "text/plain": [
       "array([1, 0, 0, 1, 1, 0, 0, 0, 1, 1, 1, 0, 1, 0, 1, 0, 1, 1, 1, 0])"
      ]
     },
     "metadata": {},
     "output_type": "display_data"
    },
    {
     "data": {
      "text/plain": [
       "0.9649122807017544"
      ]
     },
     "execution_count": 19,
     "metadata": {},
     "output_type": "execute_result"
    }
   ],
   "source": [
    "# 随机森林\n",
    "model = RandomForestClassifier(n_estimators=500)\n",
    "model.fit(X_train,y_train)\n",
    "y_pred = model.predict(X_test)\n",
    "display(y_pred[:20],y_test[:20])\n",
    "# 准确率\n",
    "accuracy_score(y_test,y_pred)"
   ]
  },
  {
   "cell_type": "markdown",
   "id": "9da5fd08-9f2f-4d8c-b863-75596c458bc8",
   "metadata": {},
   "source": [
    "### 1.3.2 Adaboost"
   ]
  },
  {
   "cell_type": "code",
   "execution_count": 21,
   "id": "a41aef43-6eed-4251-81f8-a7c20f4f8635",
   "metadata": {
    "execution": {
     "iopub.execute_input": "2024-03-15T12:04:13.558319Z",
     "iopub.status.busy": "2024-03-15T12:04:13.554331Z",
     "iopub.status.idle": "2024-03-15T12:04:17.198599Z",
     "shell.execute_reply": "2024-03-15T12:04:17.198599Z",
     "shell.execute_reply.started": "2024-03-15T12:04:13.558319Z"
    }
   },
   "outputs": [
    {
     "data": {
      "text/plain": [
       "array([1, 0, 0, 1, 1, 0, 0, 0, 0, 1, 1, 0, 1, 0, 1, 0, 1, 1, 1, 0])"
      ]
     },
     "metadata": {},
     "output_type": "display_data"
    },
    {
     "data": {
      "text/plain": [
       "array([1, 0, 0, 1, 1, 0, 0, 0, 1, 1, 1, 0, 1, 0, 1, 0, 1, 1, 1, 0])"
      ]
     },
     "metadata": {},
     "output_type": "display_data"
    },
    {
     "data": {
      "text/plain": [
       "0.9736842105263158"
      ]
     },
     "execution_count": 21,
     "metadata": {},
     "output_type": "execute_result"
    }
   ],
   "source": [
    "# Adaboost\n",
    "model = AdaBoostClassifier(n_estimators=500)\n",
    "model.fit(X_train,y_train)\n",
    "y_pred = model.predict(X_test)\n",
    "display(y_pred[:20],y_test[:20])\n",
    "# 准确率\n",
    "accuracy_score(y_test,y_pred)"
   ]
  },
  {
   "cell_type": "markdown",
   "id": "98efdab0-3764-4096-81cb-f816d5456a70",
   "metadata": {},
   "source": [
    "## 1.4 循环100次取平均值"
   ]
  },
  {
   "cell_type": "markdown",
   "id": "7475e018-4799-4c6f-adb8-c94490315d1b",
   "metadata": {},
   "source": [
    "- 避免随机性的影响"
   ]
  },
  {
   "cell_type": "markdown",
   "id": "5aab30e2-622c-4903-9001-89cc3de99e6e",
   "metadata": {},
   "source": [
    "### 1.4.1 决策树"
   ]
  },
  {
   "cell_type": "code",
   "execution_count": 23,
   "id": "65c1b835",
   "metadata": {
    "ExecuteTime": {
     "end_time": "2022-07-13T13:00:33.197933Z",
     "start_time": "2022-07-13T13:00:32.643206Z"
    },
    "execution": {
     "iopub.execute_input": "2024-03-15T12:25:57.499779Z",
     "iopub.status.busy": "2024-03-15T12:25:57.498782Z",
     "iopub.status.idle": "2024-03-15T12:25:59.548373Z",
     "shell.execute_reply": "2024-03-15T12:25:59.547376Z",
     "shell.execute_reply.started": "2024-03-15T12:25:57.499779Z"
    }
   },
   "outputs": [
    {
     "name": "stdout",
     "output_type": "stream",
     "text": [
      "93.10526315789463\n"
     ]
    }
   ],
   "source": [
    "score = 0\n",
    "for i in range(100):\n",
    "    X_train,X_test,y_train,y_test = train_test_split(X,y,test_size=0.2) # 没设置随机种子\n",
    "    model = DecisionTreeClassifier()\n",
    "    # 训练\n",
    "    model.fit(X_train,y_train)\n",
    "    # 预测值\n",
    "    y_pred = model.predict(X_test)\n",
    "#     display(y_pred[:20],y_test[:20])\n",
    "    # 准确率\n",
    "    score += accuracy_score(y_test,y_pred)\n",
    "# 准确率大约是：0.8947368421052632\n",
    "print(score)  # 没除100，是93 不是0.93"
   ]
  },
  {
   "cell_type": "markdown",
   "id": "093fdee1",
   "metadata": {},
   "source": [
    "### 1.4.2 随机森林"
   ]
  },
  {
   "cell_type": "code",
   "execution_count": 24,
   "id": "3f9ac05b",
   "metadata": {
    "ExecuteTime": {
     "end_time": "2022-07-13T13:02:30.818976Z",
     "start_time": "2022-07-13T13:02:14.988207Z"
    },
    "execution": {
     "iopub.execute_input": "2024-03-15T12:26:44.892963Z",
     "iopub.status.busy": "2024-03-15T12:26:44.890968Z",
     "iopub.status.idle": "2024-03-15T12:27:29.287384Z",
     "shell.execute_reply": "2024-03-15T12:27:29.287384Z",
     "shell.execute_reply.started": "2024-03-15T12:26:44.892963Z"
    }
   },
   "outputs": [
    {
     "name": "stdout",
     "output_type": "stream",
     "text": [
      "95.9824561403508\n",
      "CPU times: total: 39.9 s\n",
      "Wall time: 44.4 s\n"
     ]
    }
   ],
   "source": [
    "%%time\n",
    "score = 0\n",
    "for i in range(100):\n",
    "    X_train,X_test,y_train,y_test = train_test_split(X,y,test_size=0.2)\n",
    "    model = RandomForestClassifier(n_estimators=100)\n",
    "    # 训练\n",
    "    model.fit(X_train,y_train)\n",
    "    # 预测\n",
    "    y_pred = model.predict(X_test)\n",
    "#     display(y_pred[:20],y_test[:20])\n",
    "    # 准确率\n",
    "    score += accuracy_score(y_test,y_pred)\n",
    "# 准确率大约是：0.956140350877193\n",
    "print(score)"
   ]
  },
  {
   "cell_type": "markdown",
   "id": "32ad0aa1",
   "metadata": {},
   "source": [
    "### 1.4.3 Ababoost"
   ]
  },
  {
   "cell_type": "code",
   "execution_count": 26,
   "id": "28b9bd55",
   "metadata": {
    "ExecuteTime": {
     "end_time": "2022-07-13T12:59:55.587129Z",
     "start_time": "2022-07-13T12:59:29.255429Z"
    },
    "execution": {
     "iopub.execute_input": "2024-03-15T12:37:05.919903Z",
     "iopub.status.busy": "2024-03-15T12:37:05.918937Z",
     "iopub.status.idle": "2024-03-15T12:38:17.568799Z",
     "shell.execute_reply": "2024-03-15T12:38:17.567883Z",
     "shell.execute_reply.started": "2024-03-15T12:37:05.919903Z"
    }
   },
   "outputs": [
    {
     "name": "stdout",
     "output_type": "stream",
     "text": [
      "96.57894736842098\n",
      "CPU times: total: 1min 6s\n",
      "Wall time: 1min 11s\n"
     ]
    }
   ],
   "source": [
    "%%time\n",
    "score = 0\n",
    "for i in range(100):\n",
    "    X_train,X_test,y_train,y_test = train_test_split(X,y,test_size=0.2)\n",
    "    model = AdaBoostClassifier(n_estimators=100)\n",
    "    # 训练\n",
    "    model.fit(X_train,y_train)\n",
    "    # 预测\n",
    "    y_pred = model.predict(X_test)\n",
    "    # display(y_pred[:20],y_test[:20])\n",
    "    # 准确率\n",
    "    score += accuracy_score(y_test,y_pred)\n",
    "# 准确率大约是：0.9649122807017544\n",
    "print(score)"
   ]
  },
  {
   "cell_type": "markdown",
   "id": "4394753e",
   "metadata": {},
   "source": [
    "# 2. Adaboost案例【手写数字-多分类】"
   ]
  },
  {
   "cell_type": "markdown",
   "id": "2cb319c7",
   "metadata": {},
   "source": [
    "## 2.1 导包"
   ]
  },
  {
   "cell_type": "code",
   "execution_count": 22,
   "id": "5e259059",
   "metadata": {
    "ExecuteTime": {
     "end_time": "2022-07-13T12:57:20.616410Z",
     "start_time": "2022-07-13T12:57:17.634429Z"
    },
    "execution": {
     "iopub.execute_input": "2024-03-15T12:07:02.332661Z",
     "iopub.status.busy": "2024-03-15T12:07:02.330667Z",
     "iopub.status.idle": "2024-03-15T12:07:05.630008Z",
     "shell.execute_reply": "2024-03-15T12:07:05.628014Z",
     "shell.execute_reply.started": "2024-03-15T12:07:02.332661Z"
    }
   },
   "outputs": [],
   "source": [
    "import numpy as np\n",
    "import pandas as pd\n",
    "from sklearn import tree\n",
    "import graphviz\n",
    "from sklearn.tree import DecisionTreeClassifier\n",
    "from sklearn.ensemble import AdaBoostClassifier,RandomForestClassifier\n",
    "from sklearn.linear_model import LogisticRegression\n",
    "import matplotlib.pyplot as plt\n",
    "from sklearn.model_selection import train_test_split\n",
    "from sklearn.metrics import accuracy_score"
   ]
  },
  {
   "cell_type": "markdown",
   "id": "008fb1fb",
   "metadata": {},
   "source": [
    "## 2.2 加载数据"
   ]
  },
  {
   "cell_type": "code",
   "execution_count": 27,
   "id": "94c81587-86db-4fe8-87f5-7d93378bfe80",
   "metadata": {
    "execution": {
     "iopub.execute_input": "2024-03-15T12:38:26.492628Z",
     "iopub.status.busy": "2024-03-15T12:38:26.489633Z",
     "iopub.status.idle": "2024-03-15T12:38:31.038206Z",
     "shell.execute_reply": "2024-03-15T12:38:31.032269Z",
     "shell.execute_reply.started": "2024-03-15T12:38:26.492628Z"
    }
   },
   "outputs": [
    {
     "data": {
      "text/plain": [
       "(42000, 785)"
      ]
     },
     "execution_count": 27,
     "metadata": {},
     "output_type": "execute_result"
    }
   ],
   "source": [
    "data = pd.read_csv('./digits.csv')\n",
    "data.shape"
   ]
  },
  {
   "cell_type": "code",
   "execution_count": 32,
   "id": "a8d161b9-9aac-41c1-9e94-c1b7b4006eb7",
   "metadata": {
    "execution": {
     "iopub.execute_input": "2024-03-15T12:42:41.982598Z",
     "iopub.status.busy": "2024-03-15T12:42:41.982598Z",
     "iopub.status.idle": "2024-03-15T12:42:42.020283Z",
     "shell.execute_reply": "2024-03-15T12:42:42.010894Z",
     "shell.execute_reply.started": "2024-03-15T12:42:41.982598Z"
    }
   },
   "outputs": [
    {
     "data": {
      "text/plain": [
       "784"
      ]
     },
     "execution_count": 32,
     "metadata": {},
     "output_type": "execute_result"
    }
   ],
   "source": [
    "28*28"
   ]
  },
  {
   "cell_type": "code",
   "execution_count": 28,
   "id": "145764d8-8c54-4052-b3b4-7acccb35b2b0",
   "metadata": {
    "execution": {
     "iopub.execute_input": "2024-03-15T12:38:36.686040Z",
     "iopub.status.busy": "2024-03-15T12:38:36.684045Z",
     "iopub.status.idle": "2024-03-15T12:38:36.797372Z",
     "shell.execute_reply": "2024-03-15T12:38:36.795378Z",
     "shell.execute_reply.started": "2024-03-15T12:38:36.686040Z"
    }
   },
   "outputs": [
    {
     "data": {
      "text/html": [
       "<div>\n",
       "<style scoped>\n",
       "    .dataframe tbody tr th:only-of-type {\n",
       "        vertical-align: middle;\n",
       "    }\n",
       "\n",
       "    .dataframe tbody tr th {\n",
       "        vertical-align: top;\n",
       "    }\n",
       "\n",
       "    .dataframe thead th {\n",
       "        text-align: right;\n",
       "    }\n",
       "</style>\n",
       "<table border=\"1\" class=\"dataframe\">\n",
       "  <thead>\n",
       "    <tr style=\"text-align: right;\">\n",
       "      <th></th>\n",
       "      <th>label</th>\n",
       "      <th>pixel0</th>\n",
       "      <th>pixel1</th>\n",
       "      <th>pixel2</th>\n",
       "      <th>pixel3</th>\n",
       "      <th>pixel4</th>\n",
       "      <th>pixel5</th>\n",
       "      <th>pixel6</th>\n",
       "      <th>pixel7</th>\n",
       "      <th>pixel8</th>\n",
       "      <th>...</th>\n",
       "      <th>pixel774</th>\n",
       "      <th>pixel775</th>\n",
       "      <th>pixel776</th>\n",
       "      <th>pixel777</th>\n",
       "      <th>pixel778</th>\n",
       "      <th>pixel779</th>\n",
       "      <th>pixel780</th>\n",
       "      <th>pixel781</th>\n",
       "      <th>pixel782</th>\n",
       "      <th>pixel783</th>\n",
       "    </tr>\n",
       "  </thead>\n",
       "  <tbody>\n",
       "    <tr>\n",
       "      <th>0</th>\n",
       "      <td>1</td>\n",
       "      <td>0</td>\n",
       "      <td>0</td>\n",
       "      <td>0</td>\n",
       "      <td>0</td>\n",
       "      <td>0</td>\n",
       "      <td>0</td>\n",
       "      <td>0</td>\n",
       "      <td>0</td>\n",
       "      <td>0</td>\n",
       "      <td>...</td>\n",
       "      <td>0</td>\n",
       "      <td>0</td>\n",
       "      <td>0</td>\n",
       "      <td>0</td>\n",
       "      <td>0</td>\n",
       "      <td>0</td>\n",
       "      <td>0</td>\n",
       "      <td>0</td>\n",
       "      <td>0</td>\n",
       "      <td>0</td>\n",
       "    </tr>\n",
       "    <tr>\n",
       "      <th>1</th>\n",
       "      <td>0</td>\n",
       "      <td>0</td>\n",
       "      <td>0</td>\n",
       "      <td>0</td>\n",
       "      <td>0</td>\n",
       "      <td>0</td>\n",
       "      <td>0</td>\n",
       "      <td>0</td>\n",
       "      <td>0</td>\n",
       "      <td>0</td>\n",
       "      <td>...</td>\n",
       "      <td>0</td>\n",
       "      <td>0</td>\n",
       "      <td>0</td>\n",
       "      <td>0</td>\n",
       "      <td>0</td>\n",
       "      <td>0</td>\n",
       "      <td>0</td>\n",
       "      <td>0</td>\n",
       "      <td>0</td>\n",
       "      <td>0</td>\n",
       "    </tr>\n",
       "    <tr>\n",
       "      <th>2</th>\n",
       "      <td>1</td>\n",
       "      <td>0</td>\n",
       "      <td>0</td>\n",
       "      <td>0</td>\n",
       "      <td>0</td>\n",
       "      <td>0</td>\n",
       "      <td>0</td>\n",
       "      <td>0</td>\n",
       "      <td>0</td>\n",
       "      <td>0</td>\n",
       "      <td>...</td>\n",
       "      <td>0</td>\n",
       "      <td>0</td>\n",
       "      <td>0</td>\n",
       "      <td>0</td>\n",
       "      <td>0</td>\n",
       "      <td>0</td>\n",
       "      <td>0</td>\n",
       "      <td>0</td>\n",
       "      <td>0</td>\n",
       "      <td>0</td>\n",
       "    </tr>\n",
       "    <tr>\n",
       "      <th>3</th>\n",
       "      <td>4</td>\n",
       "      <td>0</td>\n",
       "      <td>0</td>\n",
       "      <td>0</td>\n",
       "      <td>0</td>\n",
       "      <td>0</td>\n",
       "      <td>0</td>\n",
       "      <td>0</td>\n",
       "      <td>0</td>\n",
       "      <td>0</td>\n",
       "      <td>...</td>\n",
       "      <td>0</td>\n",
       "      <td>0</td>\n",
       "      <td>0</td>\n",
       "      <td>0</td>\n",
       "      <td>0</td>\n",
       "      <td>0</td>\n",
       "      <td>0</td>\n",
       "      <td>0</td>\n",
       "      <td>0</td>\n",
       "      <td>0</td>\n",
       "    </tr>\n",
       "    <tr>\n",
       "      <th>4</th>\n",
       "      <td>0</td>\n",
       "      <td>0</td>\n",
       "      <td>0</td>\n",
       "      <td>0</td>\n",
       "      <td>0</td>\n",
       "      <td>0</td>\n",
       "      <td>0</td>\n",
       "      <td>0</td>\n",
       "      <td>0</td>\n",
       "      <td>0</td>\n",
       "      <td>...</td>\n",
       "      <td>0</td>\n",
       "      <td>0</td>\n",
       "      <td>0</td>\n",
       "      <td>0</td>\n",
       "      <td>0</td>\n",
       "      <td>0</td>\n",
       "      <td>0</td>\n",
       "      <td>0</td>\n",
       "      <td>0</td>\n",
       "      <td>0</td>\n",
       "    </tr>\n",
       "  </tbody>\n",
       "</table>\n",
       "<p>5 rows × 785 columns</p>\n",
       "</div>"
      ],
      "text/plain": [
       "   label  pixel0  pixel1  pixel2  pixel3  pixel4  pixel5  pixel6  pixel7  \\\n",
       "0      1       0       0       0       0       0       0       0       0   \n",
       "1      0       0       0       0       0       0       0       0       0   \n",
       "2      1       0       0       0       0       0       0       0       0   \n",
       "3      4       0       0       0       0       0       0       0       0   \n",
       "4      0       0       0       0       0       0       0       0       0   \n",
       "\n",
       "   pixel8  ...  pixel774  pixel775  pixel776  pixel777  pixel778  pixel779  \\\n",
       "0       0  ...         0         0         0         0         0         0   \n",
       "1       0  ...         0         0         0         0         0         0   \n",
       "2       0  ...         0         0         0         0         0         0   \n",
       "3       0  ...         0         0         0         0         0         0   \n",
       "4       0  ...         0         0         0         0         0         0   \n",
       "\n",
       "   pixel780  pixel781  pixel782  pixel783  \n",
       "0         0         0         0         0  \n",
       "1         0         0         0         0  \n",
       "2         0         0         0         0  \n",
       "3         0         0         0         0  \n",
       "4         0         0         0         0  \n",
       "\n",
       "[5 rows x 785 columns]"
      ]
     },
     "execution_count": 28,
     "metadata": {},
     "output_type": "execute_result"
    }
   ],
   "source": [
    "data.head()"
   ]
  },
  {
   "cell_type": "code",
   "execution_count": 29,
   "id": "eb0895b1-8619-4a9d-affa-1fdd7dacf68f",
   "metadata": {
    "execution": {
     "iopub.execute_input": "2024-03-15T12:39:11.185043Z",
     "iopub.status.busy": "2024-03-15T12:39:11.185043Z",
     "iopub.status.idle": "2024-03-15T12:39:11.295696Z",
     "shell.execute_reply": "2024-03-15T12:39:11.295696Z",
     "shell.execute_reply.started": "2024-03-15T12:39:11.185043Z"
    }
   },
   "outputs": [],
   "source": [
    "# 随机抽样\n",
    "data = data.take(np.random.randint(0,42000,5000))  # 取5000行\n",
    "\n",
    "X = data.iloc[:,1:]  # 第0列是label\n",
    "y = data['label']"
   ]
  },
  {
   "cell_type": "code",
   "execution_count": 30,
   "id": "ece2c47b",
   "metadata": {
    "ExecuteTime": {
     "end_time": "2022-07-13T13:04:15.035309Z",
     "start_time": "2022-07-13T13:04:12.823575Z"
    },
    "execution": {
     "iopub.execute_input": "2024-03-15T12:39:16.312414Z",
     "iopub.status.busy": "2024-03-15T12:39:16.312414Z",
     "iopub.status.idle": "2024-03-15T12:39:16.372253Z",
     "shell.execute_reply": "2024-03-15T12:39:16.371296Z",
     "shell.execute_reply.started": "2024-03-15T12:39:16.312414Z"
    }
   },
   "outputs": [
    {
     "data": {
      "text/plain": [
       "(4000, 784)"
      ]
     },
     "metadata": {},
     "output_type": "display_data"
    },
    {
     "data": {
      "text/plain": [
       "(1000, 784)"
      ]
     },
     "metadata": {},
     "output_type": "display_data"
    },
    {
     "data": {
      "text/plain": [
       "(4000,)"
      ]
     },
     "metadata": {},
     "output_type": "display_data"
    },
    {
     "data": {
      "text/plain": [
       "(1000,)"
      ]
     },
     "metadata": {},
     "output_type": "display_data"
    }
   ],
   "source": [
    "X_train,X_test,y_train,y_test = train_test_split(X,y,test_size=0.2,random_state=1024)\n",
    "display(X_train.shape,X_test.shape,y_train.shape,y_test.shape)"
   ]
  },
  {
   "cell_type": "code",
   "execution_count": 31,
   "id": "d05e2652",
   "metadata": {
    "ExecuteTime": {
     "end_time": "2022-07-13T13:16:23.766848Z",
     "start_time": "2022-07-13T13:16:23.729456Z"
    },
    "execution": {
     "iopub.execute_input": "2024-03-15T12:39:18.582347Z",
     "iopub.status.busy": "2024-03-15T12:39:18.580352Z",
     "iopub.status.idle": "2024-03-15T12:39:18.629221Z",
     "shell.execute_reply": "2024-03-15T12:39:18.627228Z",
     "shell.execute_reply.started": "2024-03-15T12:39:18.581350Z"
    },
    "scrolled": true
   },
   "outputs": [
    {
     "data": {
      "text/html": [
       "<div>\n",
       "<style scoped>\n",
       "    .dataframe tbody tr th:only-of-type {\n",
       "        vertical-align: middle;\n",
       "    }\n",
       "\n",
       "    .dataframe tbody tr th {\n",
       "        vertical-align: top;\n",
       "    }\n",
       "\n",
       "    .dataframe thead th {\n",
       "        text-align: right;\n",
       "    }\n",
       "</style>\n",
       "<table border=\"1\" class=\"dataframe\">\n",
       "  <thead>\n",
       "    <tr style=\"text-align: right;\">\n",
       "      <th></th>\n",
       "      <th>pixel0</th>\n",
       "      <th>pixel1</th>\n",
       "      <th>pixel2</th>\n",
       "      <th>pixel3</th>\n",
       "      <th>pixel4</th>\n",
       "      <th>pixel5</th>\n",
       "      <th>pixel6</th>\n",
       "      <th>pixel7</th>\n",
       "      <th>pixel8</th>\n",
       "      <th>pixel9</th>\n",
       "      <th>...</th>\n",
       "      <th>pixel774</th>\n",
       "      <th>pixel775</th>\n",
       "      <th>pixel776</th>\n",
       "      <th>pixel777</th>\n",
       "      <th>pixel778</th>\n",
       "      <th>pixel779</th>\n",
       "      <th>pixel780</th>\n",
       "      <th>pixel781</th>\n",
       "      <th>pixel782</th>\n",
       "      <th>pixel783</th>\n",
       "    </tr>\n",
       "  </thead>\n",
       "  <tbody>\n",
       "    <tr>\n",
       "      <th>25237</th>\n",
       "      <td>0</td>\n",
       "      <td>0</td>\n",
       "      <td>0</td>\n",
       "      <td>0</td>\n",
       "      <td>0</td>\n",
       "      <td>0</td>\n",
       "      <td>0</td>\n",
       "      <td>0</td>\n",
       "      <td>0</td>\n",
       "      <td>0</td>\n",
       "      <td>...</td>\n",
       "      <td>0</td>\n",
       "      <td>0</td>\n",
       "      <td>0</td>\n",
       "      <td>0</td>\n",
       "      <td>0</td>\n",
       "      <td>0</td>\n",
       "      <td>0</td>\n",
       "      <td>0</td>\n",
       "      <td>0</td>\n",
       "      <td>0</td>\n",
       "    </tr>\n",
       "    <tr>\n",
       "      <th>23867</th>\n",
       "      <td>0</td>\n",
       "      <td>0</td>\n",
       "      <td>0</td>\n",
       "      <td>0</td>\n",
       "      <td>0</td>\n",
       "      <td>0</td>\n",
       "      <td>0</td>\n",
       "      <td>0</td>\n",
       "      <td>0</td>\n",
       "      <td>0</td>\n",
       "      <td>...</td>\n",
       "      <td>0</td>\n",
       "      <td>0</td>\n",
       "      <td>0</td>\n",
       "      <td>0</td>\n",
       "      <td>0</td>\n",
       "      <td>0</td>\n",
       "      <td>0</td>\n",
       "      <td>0</td>\n",
       "      <td>0</td>\n",
       "      <td>0</td>\n",
       "    </tr>\n",
       "    <tr>\n",
       "      <th>30634</th>\n",
       "      <td>0</td>\n",
       "      <td>0</td>\n",
       "      <td>0</td>\n",
       "      <td>0</td>\n",
       "      <td>0</td>\n",
       "      <td>0</td>\n",
       "      <td>0</td>\n",
       "      <td>0</td>\n",
       "      <td>0</td>\n",
       "      <td>0</td>\n",
       "      <td>...</td>\n",
       "      <td>0</td>\n",
       "      <td>0</td>\n",
       "      <td>0</td>\n",
       "      <td>0</td>\n",
       "      <td>0</td>\n",
       "      <td>0</td>\n",
       "      <td>0</td>\n",
       "      <td>0</td>\n",
       "      <td>0</td>\n",
       "      <td>0</td>\n",
       "    </tr>\n",
       "    <tr>\n",
       "      <th>4605</th>\n",
       "      <td>0</td>\n",
       "      <td>0</td>\n",
       "      <td>0</td>\n",
       "      <td>0</td>\n",
       "      <td>0</td>\n",
       "      <td>0</td>\n",
       "      <td>0</td>\n",
       "      <td>0</td>\n",
       "      <td>0</td>\n",
       "      <td>0</td>\n",
       "      <td>...</td>\n",
       "      <td>0</td>\n",
       "      <td>0</td>\n",
       "      <td>0</td>\n",
       "      <td>0</td>\n",
       "      <td>0</td>\n",
       "      <td>0</td>\n",
       "      <td>0</td>\n",
       "      <td>0</td>\n",
       "      <td>0</td>\n",
       "      <td>0</td>\n",
       "    </tr>\n",
       "    <tr>\n",
       "      <th>33513</th>\n",
       "      <td>0</td>\n",
       "      <td>0</td>\n",
       "      <td>0</td>\n",
       "      <td>0</td>\n",
       "      <td>0</td>\n",
       "      <td>0</td>\n",
       "      <td>0</td>\n",
       "      <td>0</td>\n",
       "      <td>0</td>\n",
       "      <td>0</td>\n",
       "      <td>...</td>\n",
       "      <td>0</td>\n",
       "      <td>0</td>\n",
       "      <td>0</td>\n",
       "      <td>0</td>\n",
       "      <td>0</td>\n",
       "      <td>0</td>\n",
       "      <td>0</td>\n",
       "      <td>0</td>\n",
       "      <td>0</td>\n",
       "      <td>0</td>\n",
       "    </tr>\n",
       "  </tbody>\n",
       "</table>\n",
       "<p>5 rows × 784 columns</p>\n",
       "</div>"
      ],
      "text/plain": [
       "       pixel0  pixel1  pixel2  pixel3  pixel4  pixel5  pixel6  pixel7  pixel8  \\\n",
       "25237       0       0       0       0       0       0       0       0       0   \n",
       "23867       0       0       0       0       0       0       0       0       0   \n",
       "30634       0       0       0       0       0       0       0       0       0   \n",
       "4605        0       0       0       0       0       0       0       0       0   \n",
       "33513       0       0       0       0       0       0       0       0       0   \n",
       "\n",
       "       pixel9  ...  pixel774  pixel775  pixel776  pixel777  pixel778  \\\n",
       "25237       0  ...         0         0         0         0         0   \n",
       "23867       0  ...         0         0         0         0         0   \n",
       "30634       0  ...         0         0         0         0         0   \n",
       "4605        0  ...         0         0         0         0         0   \n",
       "33513       0  ...         0         0         0         0         0   \n",
       "\n",
       "       pixel779  pixel780  pixel781  pixel782  pixel783  \n",
       "25237         0         0         0         0         0  \n",
       "23867         0         0         0         0         0  \n",
       "30634         0         0         0         0         0  \n",
       "4605          0         0         0         0         0  \n",
       "33513         0         0         0         0         0  \n",
       "\n",
       "[5 rows x 784 columns]"
      ]
     },
     "execution_count": 31,
     "metadata": {},
     "output_type": "execute_result"
    }
   ],
   "source": [
    "X.head()"
   ]
  },
  {
   "cell_type": "code",
   "execution_count": 33,
   "id": "eec0bddf",
   "metadata": {
    "ExecuteTime": {
     "end_time": "2022-07-13T13:16:54.400875Z",
     "start_time": "2022-07-13T13:16:54.369531Z"
    },
    "execution": {
     "iopub.execute_input": "2024-03-15T12:42:57.027334Z",
     "iopub.status.busy": "2024-03-15T12:42:57.026337Z",
     "iopub.status.idle": "2024-03-15T12:42:57.075225Z",
     "shell.execute_reply": "2024-03-15T12:42:57.073530Z",
     "shell.execute_reply.started": "2024-03-15T12:42:57.027334Z"
    }
   },
   "outputs": [
    {
     "data": {
      "text/plain": [
       "array([  0, 143, 115, 137, 252, 171,  56, 253,  81, 183, 191,  55,  58,\n",
       "       180, 250, 128, 102, 254, 101, 131, 255, 224,  51, 155,   2, 186,\n",
       "        46, 166, 205,  65, 187,  95,  31,   8,  40,  63,  37, 113,  15,\n",
       "       159, 162, 192,  18,  99,  75, 156, 175, 201, 216, 109, 242, 251,\n",
       "       138,  27, 233, 226,  29, 249,  94, 160, 241,  88, 141, 221, 133,\n",
       "         7,   6, 199,  16,  96, 114,  22, 229, 206,  73, 196,  83,  25,\n",
       "       203,   5, 174, 245, 218, 215, 139, 246, 120, 157,  90,  72, 213,\n",
       "       227,  24,  86, 200,  47, 145, 105,  35, 100,  74,  45, 190,  52,\n",
       "        66, 142, 244,  82, 147, 117, 240, 209, 116, 130,  79, 153, 222,\n",
       "        68,  97,  13,  53,  91,  84, 223, 106, 144,  26,  48, 232, 134,\n",
       "       184, 125, 214, 237,  17,  23,  28, 123, 148, 204, 179, 243, 112,\n",
       "       238, 231,  44, 150, 234,  39,  41, 108,  50, 126,  61, 208, 163,\n",
       "        71,  42, 122,  76, 247,  57,  89,  92, 135,  43,  30,  62,  69,\n",
       "        11,  64, 195,  10, 230, 132, 170, 189,   3, 182, 165], dtype=int64)"
      ]
     },
     "execution_count": 33,
     "metadata": {},
     "output_type": "execute_result"
    }
   ],
   "source": [
    "X['pixel100'].unique() # jpg  0（纯黑） ~ 255（纯白）"
   ]
  },
  {
   "cell_type": "code",
   "execution_count": 34,
   "id": "9e3db0cb",
   "metadata": {
    "ExecuteTime": {
     "end_time": "2022-07-13T13:18:32.968666Z",
     "start_time": "2022-07-13T13:18:32.893048Z"
    },
    "execution": {
     "iopub.execute_input": "2024-03-15T12:43:00.396244Z",
     "iopub.status.busy": "2024-03-15T12:43:00.394253Z",
     "iopub.status.idle": "2024-03-15T12:43:01.160616Z",
     "shell.execute_reply": "2024-03-15T12:43:01.159655Z",
     "shell.execute_reply.started": "2024-03-15T12:43:00.396244Z"
    }
   },
   "outputs": [
    {
     "data": {
      "text/plain": [
       "<matplotlib.image.AxesImage at 0x211499e1f90>"
      ]
     },
     "execution_count": 34,
     "metadata": {},
     "output_type": "execute_result"
    },
    {
     "data": {
      "image/png": "[encoded data removed]",
      "text/plain": [
       "<Figure size 200x200 with 1 Axes>"
      ]
     },
     "metadata": {},
     "output_type": "display_data"
    }
   ],
   "source": [
    "plt.figure(figsize=(2,2))\n",
    "plt.imshow(X.iloc[4].values.reshape(28,28),cmap = 'gray')"
   ]
  },
  {
   "cell_type": "markdown",
   "id": "e2c29a18",
   "metadata": {},
   "source": [
    "## 2.3 决策树"
   ]
  },
  {
   "cell_type": "code",
   "execution_count": 35,
   "id": "cc369e0c",
   "metadata": {
    "ExecuteTime": {
     "end_time": "2022-07-13T13:20:32.023636Z",
     "start_time": "2022-07-13T13:20:31.298063Z"
    },
    "execution": {
     "iopub.execute_input": "2024-03-15T12:45:50.422917Z",
     "iopub.status.busy": "2024-03-15T12:45:50.421957Z",
     "iopub.status.idle": "2024-03-15T12:45:52.066244Z",
     "shell.execute_reply": "2024-03-15T12:45:52.066244Z",
     "shell.execute_reply.started": "2024-03-15T12:45:50.422917Z"
    }
   },
   "outputs": [
    {
     "data": {
      "text/plain": [
       "array([4, 2, 1, 9, 8, 6, 7, 4, 5, 7, 7, 6, 2, 3, 2, 1, 4, 1, 7, 6],\n",
       "      dtype=int64)"
      ]
     },
     "metadata": {},
     "output_type": "display_data"
    },
    {
     "data": {
      "text/plain": [
       "array([4, 2, 1, 9, 8, 6, 4, 4, 5, 7, 7, 6, 2, 3, 2, 1, 4, 1, 7, 6],\n",
       "      dtype=int64)"
      ]
     },
     "metadata": {},
     "output_type": "display_data"
    },
    {
     "data": {
      "text/plain": [
       "0.786"
      ]
     },
     "execution_count": 35,
     "metadata": {},
     "output_type": "execute_result"
    }
   ],
   "source": [
    "model = DecisionTreeClassifier()\n",
    "# 训练\n",
    "model.fit(X_train,y_train)\n",
    "# 预测值\n",
    "y_pred = model.predict(X_test)\n",
    "display(y_pred[:20],y_test[:20].values)\n",
    "# 准确率\n",
    "accuracy_score(y_test,y_pred)"
   ]
  },
  {
   "cell_type": "markdown",
   "id": "56344d0f",
   "metadata": {},
   "source": [
    "## 2.4 随机森林 "
   ]
  },
  {
   "cell_type": "code",
   "execution_count": 36,
   "id": "4b1726bb",
   "metadata": {
    "ExecuteTime": {
     "end_time": "2022-07-13T13:20:53.340182Z",
     "start_time": "2022-07-13T13:20:51.075822Z"
    },
    "execution": {
     "iopub.execute_input": "2024-03-15T12:46:03.247183Z",
     "iopub.status.busy": "2024-03-15T12:46:03.245187Z",
     "iopub.status.idle": "2024-03-15T12:46:08.478353Z",
     "shell.execute_reply": "2024-03-15T12:46:08.477357Z",
     "shell.execute_reply.started": "2024-03-15T12:46:03.247183Z"
    }
   },
   "outputs": [
    {
     "data": {
      "text/plain": [
       "array([4, 2, 1, 9, 8, 6, 4, 4, 5, 7, 7, 6, 2, 3, 2, 1, 4, 1, 7, 6],\n",
       "      dtype=int64)"
      ]
     },
     "metadata": {},
     "output_type": "display_data"
    },
    {
     "data": {
      "text/plain": [
       "array([4, 2, 1, 9, 8, 6, 4, 4, 5, 7, 7, 6, 2, 3, 2, 1, 4, 1, 7, 6],\n",
       "      dtype=int64)"
      ]
     },
     "metadata": {},
     "output_type": "display_data"
    },
    {
     "name": "stdout",
     "output_type": "stream",
     "text": [
      "CPU times: total: 4.7 s\n",
      "Wall time: 5.2 s\n"
     ]
    },
    {
     "data": {
      "text/plain": [
       "0.947"
      ]
     },
     "execution_count": 36,
     "metadata": {},
     "output_type": "execute_result"
    }
   ],
   "source": [
    "%%time\n",
    "model = RandomForestClassifier(n_estimators=100)\n",
    "# 训练\n",
    "model.fit(X_train,y_train)\n",
    "# 预测\n",
    "y_pred = model.predict(X_test)\n",
    "display(y_pred[:20],y_test[:20].values)\n",
    "# 准确率\n",
    "accuracy_score(y_test,y_pred)"
   ]
  },
  {
   "cell_type": "markdown",
   "id": "bc01c377",
   "metadata": {},
   "source": [
    "## 2.5 Adaboost"
   ]
  },
  {
   "cell_type": "code",
   "execution_count": 37,
   "id": "26c5fb53",
   "metadata": {
    "ExecuteTime": {
     "end_time": "2022-07-13T13:21:30.635390Z",
     "start_time": "2022-07-13T13:21:22.817532Z"
    },
    "execution": {
     "iopub.execute_input": "2024-03-15T12:46:11.713770Z",
     "iopub.status.busy": "2024-03-15T12:46:11.712772Z",
     "iopub.status.idle": "2024-03-15T12:46:22.125664Z",
     "shell.execute_reply": "2024-03-15T12:46:22.123074Z",
     "shell.execute_reply.started": "2024-03-15T12:46:11.713770Z"
    }
   },
   "outputs": [
    {
     "data": {
      "text/plain": [
       "array([4, 8, 1, 9, 1, 6, 4, 9, 5, 7, 7, 6, 6, 8, 6, 1, 4, 1, 7, 6],\n",
       "      dtype=int64)"
      ]
     },
     "metadata": {},
     "output_type": "display_data"
    },
    {
     "data": {
      "text/plain": [
       "array([4, 2, 1, 9, 8, 6, 4, 4, 5, 7, 7, 6, 2, 3, 2, 1, 4, 1, 7, 6],\n",
       "      dtype=int64)"
      ]
     },
     "metadata": {},
     "output_type": "display_data"
    },
    {
     "name": "stdout",
     "output_type": "stream",
     "text": [
      "CPU times: total: 9.59 s\n",
      "Wall time: 10.4 s\n"
     ]
    },
    {
     "data": {
      "text/plain": [
       "0.639"
      ]
     },
     "execution_count": 37,
     "metadata": {},
     "output_type": "execute_result"
    }
   ],
   "source": [
    "%%time\n",
    "model = AdaBoostClassifier(n_estimators=100)\n",
    "# 训练\n",
    "model.fit(X_train,y_train)\n",
    "# 预测\n",
    "y_pred = model.predict(X_test)\n",
    "display(y_pred[:20],y_test[:20].values)\n",
    "# 准确率\n",
    "accuracy_score(y_test,y_pred)"
   ]
  },
  {
   "cell_type": "markdown",
   "id": "c83423d8-6698-4281-9034-030c8fc6dced",
   "metadata": {},
   "source": [
    "- AdaBoost表现不太好，因为手写字体识别是**多分类**问题，而AdaBoost更适合**二分类**的情况"
   ]
  },
  {
   "cell_type": "markdown",
   "id": "6689e773-ed6f-43ed-bf0b-ff42adb70989",
   "metadata": {},
   "source": [
    "结论：\n",
    "- 手写数字的特征是像素值，特征值多大784个\n",
    "- 而且像素中很多值都是0，没有特征区分度\n",
    "- Adaboost对这个效果就不好\n",
    "- 逻辑回归，比决策树算法效果要好一些"
   ]
  },
  {
   "cell_type": "markdown",
   "id": "b4decd2a-fbba-4241-82db-986b5eaaa72d",
   "metadata": {},
   "source": [
    "## 2.6 Logistic Rgression"
   ]
  },
  {
   "cell_type": "code",
   "execution_count": 38,
   "id": "f5fbd7c7-e096-423f-a922-1854f738fe73",
   "metadata": {
    "execution": {
     "iopub.execute_input": "2024-03-15T12:52:56.546952Z",
     "iopub.status.busy": "2024-03-15T12:52:56.546952Z",
     "iopub.status.idle": "2024-03-15T12:52:57.930185Z",
     "shell.execute_reply": "2024-03-15T12:52:57.929189Z",
     "shell.execute_reply.started": "2024-03-15T12:52:56.546952Z"
    }
   },
   "outputs": [
    {
     "name": "stderr",
     "output_type": "stream",
     "text": [
      "D:\\anaconda3\\lib\\site-packages\\sklearn\\linear_model\\_logistic.py:460: ConvergenceWarning: lbfgs failed to converge (status=1):\n",
      "STOP: TOTAL NO. of ITERATIONS REACHED LIMIT.\n",
      "\n",
      "Increase the number of iterations (max_iter) or scale the data as shown in:\n",
      "    https://scikit-learn.org/stable/modules/preprocessing.html\n",
      "Please also refer to the documentation for alternative solver options:\n",
      "    https://scikit-learn.org/stable/modules/linear_model.html#logistic-regression\n",
      "  n_iter_i = _check_optimize_result(\n"
     ]
    },
    {
     "data": {
      "text/plain": [
       "array([4, 1, 1, 9, 8, 6, 4, 4, 5, 7, 7, 6, 2, 3, 2, 1, 4, 1, 7, 6],\n",
       "      dtype=int64)"
      ]
     },
     "metadata": {},
     "output_type": "display_data"
    },
    {
     "data": {
      "text/plain": [
       "array([4, 2, 1, 9, 8, 6, 4, 4, 5, 7, 7, 6, 2, 3, 2, 1, 4, 1, 7, 6],\n",
       "      dtype=int64)"
      ]
     },
     "metadata": {},
     "output_type": "display_data"
    },
    {
     "name": "stdout",
     "output_type": "stream",
     "text": [
      "CPU times: total: 4.05 s\n",
      "Wall time: 1.35 s\n"
     ]
    },
    {
     "data": {
      "text/plain": [
       "0.876"
      ]
     },
     "execution_count": 38,
     "metadata": {},
     "output_type": "execute_result"
    }
   ],
   "source": [
    "%%time\n",
    "from sklearn.linear_model import LogisticRegression\n",
    "\n",
    "model = LogisticRegression()\n",
    "# 训练\n",
    "model.fit(X_train,y_train)\n",
    "# 预测\n",
    "y_pred = model.predict(X_test)\n",
    "display(y_pred[:20],y_test[:20].values)\n",
    "# 准确率\n",
    "accuracy_score(y_test,y_pred)"
   ]
  },
  {
   "cell_type": "markdown",
   "id": "c3b2b904",
   "metadata": {},
   "source": [
    "# 3. Adaboost代码模拟"
   ]
  },
  {
   "cell_type": "markdown",
   "id": "b94d58f8",
   "metadata": {},
   "source": [
    "## 3.1 创建数据"
   ]
  },
  {
   "cell_type": "code",
   "execution_count": 39,
   "id": "8ecb61c2",
   "metadata": {
    "ExecuteTime": {
     "end_time": "2022-07-13T13:49:34.724728Z",
     "start_time": "2022-07-13T13:49:34.698814Z"
    },
    "execution": {
     "iopub.execute_input": "2024-03-15T14:17:50.152621Z",
     "iopub.status.busy": "2024-03-15T14:17:50.150661Z",
     "iopub.status.idle": "2024-03-15T14:17:50.218713Z",
     "shell.execute_reply": "2024-03-15T14:17:50.216720Z",
     "shell.execute_reply.started": "2024-03-15T14:17:50.152621Z"
    }
   },
   "outputs": [
    {
     "data": {
      "text/plain": [
       "array([[0],\n",
       "       [1],\n",
       "       [2],\n",
       "       [3],\n",
       "       [4],\n",
       "       [5],\n",
       "       [6],\n",
       "       [7],\n",
       "       [8],\n",
       "       [9]])"
      ]
     },
     "metadata": {},
     "output_type": "display_data"
    },
    {
     "data": {
      "text/plain": [
       "array([ 1,  1,  1, -1, -1, -1,  1,  1,  1, -1])"
      ]
     },
     "metadata": {},
     "output_type": "display_data"
    }
   ],
   "source": [
    "from sklearn.ensemble import AdaBoostClassifier\n",
    "import numpy as np\n",
    "from sklearn import tree\n",
    "import graphviz\n",
    "\n",
    "X = np.arange(10).reshape(-1,1)\n",
    "y = np.array([1,1,1,-1,-1,-1,1,1,1,-1])\n",
    "display(X,y)"
   ]
  },
  {
   "cell_type": "markdown",
   "id": "cdf25b38",
   "metadata": {},
   "source": [
    "## 3.2 Adaboost建模"
   ]
  },
  {
   "cell_type": "code",
   "execution_count": 40,
   "id": "a4c9d011",
   "metadata": {
    "ExecuteTime": {
     "end_time": "2022-07-13T13:50:35.653277Z",
     "start_time": "2022-07-13T13:50:35.634831Z"
    },
    "execution": {
     "iopub.execute_input": "2024-03-15T14:18:13.925661Z",
     "iopub.status.busy": "2024-03-15T14:18:13.924664Z",
     "iopub.status.idle": "2024-03-15T14:18:14.038170Z",
     "shell.execute_reply": "2024-03-15T14:18:14.036172Z",
     "shell.execute_reply.started": "2024-03-15T14:18:13.925661Z"
    }
   },
   "outputs": [
    {
     "data": {
      "text/plain": [
       "array([ 1,  1,  1, -1, -1, -1,  1,  1,  1, -1])"
      ]
     },
     "metadata": {},
     "output_type": "display_data"
    },
    {
     "data": {
      "text/plain": [
       "array([ 1,  1,  1, -1, -1, -1,  1,  1,  1, -1])"
      ]
     },
     "metadata": {},
     "output_type": "display_data"
    }
   ],
   "source": [
    "# 使用SAMME表示在构建树时，每棵树都采用相同的分裂方式\n",
    "ada = AdaBoostClassifier(algorithm='SAMME',n_estimators=3)\n",
    "ada.fit(X,y)\n",
    "\n",
    "y_ = ada.predict(X)\n",
    "display(y,y_)"
   ]
  },
  {
   "cell_type": "markdown",
   "id": "24ddd8fb",
   "metadata": {},
   "source": [
    "## 3.3 决策树可视化"
   ]
  },
  {
   "cell_type": "markdown",
   "id": "cf2b50ab-ebd8-497d-8c6c-a3dd3c384080",
   "metadata": {},
   "source": [
    "### 3.3.1 第一棵树"
   ]
  },
  {
   "cell_type": "code",
   "execution_count": 41,
   "id": "60496e53",
   "metadata": {
    "ExecuteTime": {
     "end_time": "2022-07-13T13:53:53.777653Z",
     "start_time": "2022-07-13T13:53:53.540922Z"
    },
    "execution": {
     "iopub.execute_input": "2024-03-15T14:20:43.670074Z",
     "iopub.status.busy": "2024-03-15T14:20:43.669078Z",
     "iopub.status.idle": "2024-03-15T14:20:44.664045Z",
     "shell.execute_reply": "2024-03-15T14:20:44.662051Z",
     "shell.execute_reply.started": "2024-03-15T14:20:43.670074Z"
    }
   },
   "outputs": [
    {
     "name": "stdout",
     "output_type": "stream",
     "text": [
      "[ 1  1  1 -1 -1 -1 -1 -1 -1 -1]\n"
     ]
    },
    {
     "data": {
      "text/plain": [
       "'第一棵树.png'"
      ]
     },
     "execution_count": 41,
     "metadata": {},
     "output_type": "execute_result"
    }
   ],
   "source": [
    "# 第一棵树\n",
    "dot_data = tree.export_graphviz(ada[0],filled=True)\n",
    "graph = graphviz.Source(dot_data)\n",
    "y1_ = ada[0].predict(X) # 第一棵树的预测值\n",
    "print(y1_)\n",
    "graph.render('./第一棵树',format='png')"
   ]
  },
  {
   "attachments": {
    "3950f316-d149-4a06-b24b-81b50a6cf82b.png": {
     "image/png": "[encoded data removed]"
    }
   },
   "cell_type": "markdown",
   "id": "2077cf4c-0f80-4b81-8e5a-64a493ee262b",
   "metadata": {},
   "source": [
    "![第一棵树.png](attachment:3950f316-d149-4a06-b24b-81b50a6cf82b.png)"
   ]
  },
  {
   "cell_type": "code",
   "execution_count": 42,
   "id": "56710dcb",
   "metadata": {
    "ExecuteTime": {
     "end_time": "2022-07-13T13:54:33.182260Z",
     "start_time": "2022-07-13T13:54:33.158427Z"
    },
    "execution": {
     "iopub.execute_input": "2024-03-15T14:21:21.439117Z",
     "iopub.status.busy": "2024-03-15T14:21:21.438157Z",
     "iopub.status.idle": "2024-03-15T14:21:21.461447Z",
     "shell.execute_reply": "2024-03-15T14:21:21.461447Z",
     "shell.execute_reply.started": "2024-03-15T14:21:21.439117Z"
    }
   },
   "outputs": [
    {
     "data": {
      "text/html": [
       "<style>#sk-container-id-1 {color: black;}#sk-container-id-1 pre{padding: 0;}#sk-container-id-1 div.sk-toggleable {background-color: white;}#sk-container-id-1 label.sk-toggleable__label {cursor: pointer;display: block;width: 100%;margin-bottom: 0;padding: 0.3em;box-sizing: border-box;text-align: center;}#sk-container-id-1 label.sk-toggleable__label-arrow:before {content: \"▸\";float: left;margin-right: 0.25em;color: #696969;}#sk-container-id-1 label.sk-toggleable__label-arrow:hover:before {color: black;}#sk-container-id-1 div.sk-estimator:hover label.sk-toggleable__label-arrow:before {color: black;}#sk-container-id-1 div.sk-toggleable__content {max-height: 0;max-width: 0;overflow: hidden;text-align: left;background-color: #f0f8ff;}#sk-container-id-1 div.sk-toggleable__content pre {margin: 0.2em;color: black;border-radius: 0.25em;background-color: #f0f8ff;}#sk-container-id-1 input.sk-toggleable__control:checked~div.sk-toggleable__content {max-height: 200px;max-width: 100%;overflow: auto;}#sk-container-id-1 input.sk-toggleable__control:checked~label.sk-toggleable__label-arrow:before {content: \"▾\";}#sk-container-id-1 div.sk-estimator input.sk-toggleable__control:checked~label.sk-toggleable__label {background-color: #d4ebff;}#sk-container-id-1 div.sk-label input.sk-toggleable__control:checked~label.sk-toggleable__label {background-color: #d4ebff;}#sk-container-id-1 input.sk-hidden--visually {border: 0;clip: rect(1px 1px 1px 1px);clip: rect(1px, 1px, 1px, 1px);height: 1px;margin: -1px;overflow: hidden;padding: 0;position: absolute;width: 1px;}#sk-container-id-1 div.sk-estimator {font-family: monospace;background-color: #f0f8ff;border: 1px dotted black;border-radius: 0.25em;box-sizing: border-box;margin-bottom: 0.5em;}#sk-container-id-1 div.sk-estimator:hover {background-color: #d4ebff;}#sk-container-id-1 div.sk-parallel-item::after {content: \"\";width: 100%;border-bottom: 1px solid gray;flex-grow: 1;}#sk-container-id-1 div.sk-label:hover label.sk-toggleable__label {background-color: #d4ebff;}#sk-container-id-1 div.sk-serial::before {content: \"\";position: absolute;border-left: 1px solid gray;box-sizing: border-box;top: 0;bottom: 0;left: 50%;z-index: 0;}#sk-container-id-1 div.sk-serial {display: flex;flex-direction: column;align-items: center;background-color: white;padding-right: 0.2em;padding-left: 0.2em;position: relative;}#sk-container-id-1 div.sk-item {position: relative;z-index: 1;}#sk-container-id-1 div.sk-parallel {display: flex;align-items: stretch;justify-content: center;background-color: white;position: relative;}#sk-container-id-1 div.sk-item::before, #sk-container-id-1 div.sk-parallel-item::before {content: \"\";position: absolute;border-left: 1px solid gray;box-sizing: border-box;top: 0;bottom: 0;left: 50%;z-index: -1;}#sk-container-id-1 div.sk-parallel-item {display: flex;flex-direction: column;z-index: 1;position: relative;background-color: white;}#sk-container-id-1 div.sk-parallel-item:first-child::after {align-self: flex-end;width: 50%;}#sk-container-id-1 div.sk-parallel-item:last-child::after {align-self: flex-start;width: 50%;}#sk-container-id-1 div.sk-parallel-item:only-child::after {width: 0;}#sk-container-id-1 div.sk-dashed-wrapped {border: 1px dashed gray;margin: 0 0.4em 0.5em 0.4em;box-sizing: border-box;padding-bottom: 0.4em;background-color: white;}#sk-container-id-1 div.sk-label label {font-family: monospace;font-weight: bold;display: inline-block;line-height: 1.2em;}#sk-container-id-1 div.sk-label-container {text-align: center;}#sk-container-id-1 div.sk-container {/* jupyter's `normalize.less` sets `[hidden] { display: none; }` but bootstrap.min.css set `[hidden] { display: none !important; }` so we also need the `!important` here to be able to override the default hidden behavior on the sphinx rendered scikit-learn.org. See: https://github.com/scikit-learn/scikit-learn/issues/21755 */display: inline-block !important;position: relative;}#sk-container-id-1 div.sk-text-repr-fallback {display: none;}</style><div id=\"sk-container-id-1\" class=\"sk-top-container\"><div class=\"sk-text-repr-fallback\"><pre>DecisionTreeClassifier(max_depth=1, random_state=884577606)</pre><b>In a Jupyter environment, please rerun this cell to show the HTML representation or trust the notebook. <br />On GitHub, the HTML representation is unable to render, please try loading this page with nbviewer.org.</b></div><div class=\"sk-container\" hidden><div class=\"sk-item\"><div class=\"sk-estimator sk-toggleable\"><input class=\"sk-toggleable__control sk-hidden--visually\" id=\"sk-estimator-id-1\" type=\"checkbox\" checked><label for=\"sk-estimator-id-1\" class=\"sk-toggleable__label sk-toggleable__label-arrow\">DecisionTreeClassifier</label><div class=\"sk-toggleable__content\"><pre>DecisionTreeClassifier(max_depth=1, random_state=884577606)</pre></div></div></div></div></div>"
      ],
      "text/plain": [
       "DecisionTreeClassifier(max_depth=1, random_state=884577606)"
      ]
     },
     "execution_count": 42,
     "metadata": {},
     "output_type": "execute_result"
    }
   ],
   "source": [
    "ada[0]  # adaboost算法中的树就是决策树"
   ]
  },
  {
   "cell_type": "markdown",
   "id": "8a1c38a8-186f-426a-af6c-364e6efec9cb",
   "metadata": {},
   "source": [
    "### 3.3.2 第二棵树"
   ]
  },
  {
   "cell_type": "code",
   "execution_count": 43,
   "id": "661928ee",
   "metadata": {
    "ExecuteTime": {
     "end_time": "2022-07-13T13:57:05.516351Z",
     "start_time": "2022-07-13T13:57:05.359677Z"
    },
    "execution": {
     "iopub.execute_input": "2024-03-15T14:22:50.230910Z",
     "iopub.status.busy": "2024-03-15T14:22:50.217508Z",
     "iopub.status.idle": "2024-03-15T14:22:50.422417Z",
     "shell.execute_reply": "2024-03-15T14:22:50.421420Z",
     "shell.execute_reply.started": "2024-03-15T14:22:50.230910Z"
    }
   },
   "outputs": [
    {
     "name": "stdout",
     "output_type": "stream",
     "text": [
      "[ 1  1  1  1  1  1  1  1  1 -1]\n"
     ]
    },
    {
     "data": {
      "text/plain": [
       "'第二棵树.png'"
      ]
     },
     "execution_count": 43,
     "metadata": {},
     "output_type": "execute_result"
    }
   ],
   "source": [
    "# 第二棵树\n",
    "dot_data = tree.export_graphviz(ada[1],filled=True)\n",
    "graph = graphviz.Source(dot_data)\n",
    "y2_ = ada[1].predict(X)#第一棵树的预测值，怎么预测呢？\n",
    "print(y2_)\n",
    "graph.render('./第二棵树',format='png')"
   ]
  },
  {
   "attachments": {
    "a848afca-e338-4ae4-b99b-a63e914a1784.png": {
     "image/png": "[encoded data removed]"
    }
   },
   "cell_type": "markdown",
   "id": "e5ccd615-bc46-4b3a-9422-ada42d455b63",
   "metadata": {},
   "source": [
    "![第二棵树.png](attachment:a848afca-e338-4ae4-b99b-a63e914a1784.png)"
   ]
  },
  {
   "cell_type": "markdown",
   "id": "4e30b020-6a31-4cb3-83dd-322b86f3486c",
   "metadata": {},
   "source": [
    "### 3.3.3 第三棵树"
   ]
  },
  {
   "cell_type": "code",
   "execution_count": 44,
   "id": "393e33fb",
   "metadata": {
    "ExecuteTime": {
     "end_time": "2022-07-13T13:57:46.815265Z",
     "start_time": "2022-07-13T13:57:46.685747Z"
    },
    "execution": {
     "iopub.execute_input": "2024-03-15T14:23:37.923562Z",
     "iopub.status.busy": "2024-03-15T14:23:37.922564Z",
     "iopub.status.idle": "2024-03-15T14:23:38.106356Z",
     "shell.execute_reply": "2024-03-15T14:23:38.106356Z",
     "shell.execute_reply.started": "2024-03-15T14:23:37.923562Z"
    }
   },
   "outputs": [
    {
     "name": "stdout",
     "output_type": "stream",
     "text": [
      "[-1 -1 -1 -1 -1 -1  1  1  1  1]\n"
     ]
    },
    {
     "data": {
      "text/plain": [
       "'第三棵树.png'"
      ]
     },
     "execution_count": 44,
     "metadata": {},
     "output_type": "execute_result"
    }
   ],
   "source": [
    "# 第三棵树\n",
    "dot_data = tree.export_graphviz(ada[2],filled=True)\n",
    "graph = graphviz.Source(dot_data)\n",
    "y3_ = ada[2].predict(X)#第一棵树的预测值，怎么预测呢？\n",
    "print(y3_)\n",
    "graph.render('./第三棵树',format='png')"
   ]
  },
  {
   "attachments": {
    "099ea4d0-2d66-4cce-aa79-6680880270fd.png": {
     "image/png": "[encoded data removed]"
    }
   },
   "cell_type": "markdown",
   "id": "4c6de2fc-d8b5-4f22-9b57-4a64114c6d8d",
   "metadata": {},
   "source": [
    "![第三棵树.png](attachment:099ea4d0-2d66-4cce-aa79-6680880270fd.png)"
   ]
  },
  {
   "cell_type": "markdown",
   "id": "d88c86ab-de19-4a94-be10-f2419f64eef1",
   "metadata": {},
   "source": [
    "## 3.4 每棵树的权重"
   ]
  },
  {
   "cell_type": "code",
   "execution_count": 46,
   "id": "178f5867-a03a-4976-a693-8c49192c1793",
   "metadata": {
    "execution": {
     "iopub.execute_input": "2024-03-15T14:25:04.006040Z",
     "iopub.status.busy": "2024-03-15T14:25:04.005046Z",
     "iopub.status.idle": "2024-03-15T14:25:04.018008Z",
     "shell.execute_reply": "2024-03-15T14:25:04.017010Z",
     "shell.execute_reply.started": "2024-03-15T14:25:04.006040Z"
    }
   },
   "outputs": [
    {
     "data": {
      "text/plain": [
       "array([0.84729786, 1.29928298, 1.5040774 ])"
      ]
     },
     "execution_count": 46,
     "metadata": {},
     "output_type": "execute_result"
    }
   ],
   "source": [
    "# 每棵树的权重\n",
    "ada.estimator_weights_"
   ]
  },
  {
   "cell_type": "code",
   "execution_count": 47,
   "id": "25af1141",
   "metadata": {
    "ExecuteTime": {
     "end_time": "2022-07-13T13:59:38.656333Z",
     "start_time": "2022-07-13T13:59:38.639622Z"
    },
    "execution": {
     "iopub.execute_input": "2024-03-15T14:25:05.916415Z",
     "iopub.status.busy": "2024-03-15T14:25:05.915415Z",
     "iopub.status.idle": "2024-03-15T14:25:05.931745Z",
     "shell.execute_reply": "2024-03-15T14:25:05.929377Z",
     "shell.execute_reply.started": "2024-03-15T14:25:05.916415Z"
    }
   },
   "outputs": [
    {
     "name": "stdout",
     "output_type": "stream",
     "text": [
      "0.8472978603872034 1.2992829841302609 1.5040773967762742\n"
     ]
    }
   ],
   "source": [
    "a1,a2,a3 = ada.estimator_weights_\n",
    "print(a1,a2,a3)"
   ]
  },
  {
   "cell_type": "markdown",
   "id": "764e9f15-d8d9-4e8b-a4be-f2a0f5838818",
   "metadata": {},
   "source": [
    "## 3.5 手动计算预测结果"
   ]
  },
  {
   "attachments": {
    "91982285-75c0-40b2-aab2-9ef3bdc21735.png": {
     "image/png": "[encoded data removed]"
    }
   },
   "cell_type": "markdown",
   "id": "39abb869-a730-4bac-8033-88d190b7d241",
   "metadata": {},
   "source": [
    "![image.png](attachment:91982285-75c0-40b2-aab2-9ef3bdc21735.png)"
   ]
  },
  {
   "cell_type": "code",
   "execution_count": 38,
   "id": "8a95fa39",
   "metadata": {
    "ExecuteTime": {
     "end_time": "2022-07-13T14:00:36.486730Z",
     "start_time": "2022-07-13T14:00:36.477759Z"
    }
   },
   "outputs": [
    {
     "data": {
      "text/plain": [
       "array([ 0.64250345,  0.64250345,  0.64250345, -1.05209227, -1.05209227,\n",
       "       -1.05209227,  1.95606252,  1.95606252,  1.95606252, -0.64250345])"
      ]
     },
     "execution_count": 38,
     "metadata": {},
     "output_type": "execute_result"
    }
   ],
   "source": [
    "result = a1 * y1_ + a2 * y2_ + a3 * y3_\n",
    "result"
   ]
  },
  {
   "cell_type": "code",
   "execution_count": 41,
   "id": "98a776a1",
   "metadata": {
    "ExecuteTime": {
     "end_time": "2022-07-13T14:01:16.699291Z",
     "start_time": "2022-07-13T14:01:16.689278Z"
    }
   },
   "outputs": [
    {
     "data": {
      "text/plain": [
       "array([ 1,  1,  1, -1, -1, -1,  1,  1,  1, -1])"
      ]
     },
     "execution_count": 41,
     "metadata": {},
     "output_type": "execute_result"
    }
   ],
   "source": [
    "np.sign(result).astype('int')"
   ]
  },
  {
   "cell_type": "code",
   "execution_count": 40,
   "id": "c016fa3d",
   "metadata": {
    "ExecuteTime": {
     "end_time": "2022-07-13T14:01:02.855407Z",
     "start_time": "2022-07-13T14:01:02.843920Z"
    }
   },
   "outputs": [
    {
     "data": {
      "text/plain": [
       "array([ 1,  1,  1, -1, -1, -1,  1,  1,  1, -1])"
      ]
     },
     "execution_count": 40,
     "metadata": {},
     "output_type": "execute_result"
    }
   ],
   "source": [
    "ada.predict(X)"
   ]
  },
  {
   "cell_type": "code",
   "execution_count": null,
   "id": "92b580ff",
   "metadata": {},
   "outputs": [],
   "source": []
  }
 ],
 "metadata": {
  "kernelspec": {
   "display_name": "Python 3 (ipykernel)",
   "language": "python",
   "name": "python3"
  },
  "language_info": {
   "codemirror_mode": {
    "name": "ipython",
    "version": 3
   },
   "file_extension": ".py",
   "mimetype": "text/x-python",
   "name": "python",
   "nbconvert_exporter": "python",
   "pygments_lexer": "ipython3",
   "version": "3.8.18"
  },
  "toc": {
   "base_numbering": 1,
   "nav_menu": {},
   "number_sections": true,
   "sideBar": true,
   "skip_h1_title": false,
   "title_cell": "Table of Contents",
   "title_sidebar": "Contents",
   "toc_cell": false,
   "toc_position": {},
   "toc_section_display": true,
   "toc_window_display": true
  }
 },
 "nbformat": 4,
 "nbformat_minor": 5
}
