{
 "cells": [
  {
   "cell_type": "markdown",
   "id": "6240a4e9-9744-4f90-b85b-3c54d46898ad",
   "metadata": {},
   "source": [
    "# 1. 自建集成算法"
   ]
  },
  {
   "cell_type": "code",
   "execution_count": 1,
   "id": "987fdb30-263f-447c-b6ce-74326773defc",
   "metadata": {
    "ExecuteTime": {
     "end_time": "2022-07-08T12:29:36.829191Z",
     "start_time": "2022-07-08T12:29:36.820215Z"
    }
   },
   "outputs": [],
   "source": [
    "# 随机森林、极限森林、GBDT【现成】"
   ]
  },
  {
   "cell_type": "markdown",
   "id": "b3bed592-e30a-4204-b8fb-b26aaa2fcb59",
   "metadata": {},
   "source": [
    "## 1.1 导包创建数据"
   ]
  },
  {
   "cell_type": "code",
   "execution_count": 2,
   "id": "57834f98-0554-4337-b9ac-b1d6490f4457",
   "metadata": {
    "ExecuteTime": {
     "end_time": "2022-07-08T12:32:59.460559Z",
     "start_time": "2022-07-08T12:32:57.884077Z"
    }
   },
   "outputs": [],
   "source": [
    "import numpy as np\n",
    "from sklearn.neighbors import KNeighborsClassifier\n",
    "from sklearn.ensemble import BaggingClassifier # 集成，bagging套袋法\n",
    "from sklearn import datasets\n",
    "from sklearn.model_selection import train_test_split\n",
    "from sklearn.linear_model import LogisticRegression\n",
    "from sklearn.tree import DecisionTreeClassifier\n",
    "\n",
    "X,y = datasets.load_wine(return_X_y = True) # 葡萄酒数据\n",
    "X_train,X_test,y_train,y_test = train_test_split(X,y,random_state = 1024)"
   ]
  },
  {
   "cell_type": "markdown",
   "id": "a8bd65c2-5312-42ec-95ee-4afd75df1fac",
   "metadata": {},
   "source": [
    "## 1.2 KNN和集成算法差距"
   ]
  },
  {
   "cell_type": "code",
   "execution_count": 3,
   "id": "c50b4b7d-55ac-4a6e-9766-51379120d786",
   "metadata": {
    "ExecuteTime": {
     "end_time": "2022-07-08T12:33:53.890829Z",
     "start_time": "2022-07-08T12:33:53.857926Z"
    }
   },
   "outputs": [
    {
     "data": {
      "text/plain": [
       "0.6222222222222222"
      ]
     },
     "execution_count": 3,
     "metadata": {},
     "output_type": "execute_result"
    }
   ],
   "source": [
    "knn = KNeighborsClassifier(n_neighbors=5)\n",
    "knn.fit(X_train,y_train)\n",
    "\n",
    "knn.score(X_test,y_test)"
   ]
  },
  {
   "cell_type": "code",
   "execution_count": 9,
   "id": "9de4ac33-d21c-476a-a68f-151ab410da36",
   "metadata": {
    "ExecuteTime": {
     "end_time": "2022-07-08T12:40:28.909815Z",
     "start_time": "2022-07-08T12:40:28.771626Z"
    }
   },
   "outputs": [
    {
     "data": {
      "text/plain": [
       "0.9555555555555556"
      ]
     },
     "execution_count": 9,
     "metadata": {},
     "output_type": "execute_result"
    }
   ],
   "source": [
    "model = BaggingClassifier(base_estimator=KNeighborsClassifier(n_neighbors=5),\n",
    "                          n_estimators=100,\n",
    "                          max_samples=1.0,  # max_samples=1.0 浮点数表示百分比；int表示抽int个\n",
    "                          max_features=1)  # 抽取特征\n",
    "model.fit(X_train,y_train)\n",
    "\n",
    "model.score(X_test,y_test)"
   ]
  },
  {
   "cell_type": "markdown",
   "id": "b09b76d6-6324-4865-8717-d2ae06afdbd5",
   "metadata": {},
   "source": [
    "## 1.3 逻辑斯蒂回归"
   ]
  },
  {
   "cell_type": "code",
   "execution_count": null,
   "id": "33ef80ac-9e50-4806-9629-0ff85f649f25",
   "metadata": {},
   "outputs": [],
   "source": [
    "import warnings\n",
    "warnings.filterwarnings('ignore')"
   ]
  },
  {
   "cell_type": "code",
   "execution_count": 11,
   "id": "4d6ef6e2-80c5-4783-804f-d1320ab31659",
   "metadata": {
    "ExecuteTime": {
     "end_time": "2022-07-08T12:42:49.752317Z",
     "start_time": "2022-07-08T12:42:42.483763Z"
    }
   },
   "outputs": [
    {
     "name": "stdout",
     "output_type": "stream",
     "text": [
      "单一逻辑斯蒂算法，得分是： 0.9333333333333333\n",
      "逻辑斯蒂集成算法，得分是： 0.9111111111111111\n"
     ]
    }
   ],
   "source": [
    "lr = LogisticRegression()\n",
    "lr.fit(X_train,y_train)\n",
    "print('单一逻辑斯蒂算法，得分是：',lr.score(X_test,y_test))\n",
    "\n",
    "# 偶尔效果会好\n",
    "bag = BaggingClassifier(base_estimator=LogisticRegression(),n_estimators=500,\n",
    "                        max_samples=1.0, max_features=1.0)\n",
    "bag.fit(X_train,y_train)\n",
    "print('逻辑斯蒂集成算法，得分是：', bag.score(X_test,y_test))"
   ]
  },
  {
   "cell_type": "markdown",
   "id": "249e5c52-2b4e-4bcb-b2b5-ee89edff3e4d",
   "metadata": {},
   "source": [
    "## 1.4 DecisionTreeClassifier"
   ]
  },
  {
   "cell_type": "code",
   "execution_count": 12,
   "id": "854843b1-7c4d-4902-b3f6-2b646d1ca566",
   "metadata": {
    "ExecuteTime": {
     "end_time": "2022-07-08T12:44:04.685696Z",
     "start_time": "2022-07-08T12:44:04.514208Z"
    }
   },
   "outputs": [
    {
     "name": "stdout",
     "output_type": "stream",
     "text": [
      "单棵决策树，得分是： 0.8444444444444444\n",
      "决策树集成算法，得分是： 0.9555555555555556\n"
     ]
    }
   ],
   "source": [
    "clf = DecisionTreeClassifier()\n",
    "clf.fit(X_train,y_train)\n",
    "print('单棵决策树，得分是：',clf.score(X_test,y_test))\n",
    "\n",
    "# 相当于 随机森林\n",
    "bag = BaggingClassifier(base_estimator=DecisionTreeClassifier(),n_estimators=100,\n",
    "                        max_samples=1.0,max_features=0.5)\n",
    "bag.fit(X_train,y_train)\n",
    "print('决策树集成算法，得分是：',bag.score(X_test,y_test))"
   ]
  },
  {
   "cell_type": "code",
   "execution_count": 13,
   "id": "b376765f-53e2-4476-8e23-1c4cfe0c8798",
   "metadata": {
    "ExecuteTime": {
     "end_time": "2022-07-08T12:45:27.381774Z",
     "start_time": "2022-07-08T12:45:27.252630Z"
    }
   },
   "outputs": [
    {
     "data": {
      "text/plain": [
       "0.9555555555555556"
      ]
     },
     "execution_count": 13,
     "metadata": {},
     "output_type": "execute_result"
    }
   ],
   "source": [
    "from sklearn.ensemble import RandomForestClassifier\n",
    "\n",
    "# 超参数调优，过程，一个个，试验\n",
    "model = RandomForestClassifier(n_estimators=100,max_samples=1.0,max_features=0.5)\n",
    "\n",
    "model.fit(X_train,y_train)\n",
    "\n",
    "model.score(X_test,y_test)"
   ]
  }
 ],
 "metadata": {
  "kernelspec": {
   "display_name": "Python 3 (ipykernel)",
   "language": "python",
   "name": "python3"
  },
  "language_info": {
   "codemirror_mode": {
    "name": "ipython",
    "version": 3
   },
   "file_extension": ".py",
   "mimetype": "text/x-python",
   "name": "python",
   "nbconvert_exporter": "python",
   "pygments_lexer": "ipython3",
   "version": "3.10.13"
  }
 },
 "nbformat": 4,
 "nbformat_minor": 5
}
