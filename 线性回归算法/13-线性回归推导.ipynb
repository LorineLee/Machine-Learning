{
 "cells": [
  {
   "cell_type": "markdown",
   "id": "99decc51",
   "metadata": {},
   "source": [
    "### 正规方程"
   ]
  },
  {
   "cell_type": "markdown",
   "id": "c00fb637",
   "metadata": {},
   "source": [
    "#### 二元一次方程"
   ]
  },
  {
   "cell_type": "markdown",
   "id": "95560b47",
   "metadata": {},
   "source": [
    "$W = (X^TX)^{-1}X^Ty$"
   ]
  },
  {
   "cell_type": "code",
   "execution_count": 1,
   "id": "04ce59a5",
   "metadata": {
    "ExecuteTime": {
     "end_time": "2022-05-25T13:29:16.994182Z",
     "start_time": "2022-05-25T13:29:16.971262Z"
    }
   },
   "outputs": [
    {
     "data": {
      "text/plain": [
       "array([8., 6.])"
      ]
     },
     "execution_count": 1,
     "metadata": {},
     "output_type": "execute_result"
    }
   ],
   "source": [
    "# 线性回归，到底是什么呢？\n",
    "# 可以解决什么问题呢？\n",
    "\n",
    "# 解方程\n",
    "# # x + y = 14\n",
    "# # 2x - y = 10\n",
    "# 注意此方程无截距（x是x1，y是x2）\n",
    "\n",
    "import numpy as np\n",
    "X = np.array([[1,1],[2,-1]])\n",
    "y = np.array([14,10])\n",
    "\n",
    "# 正规方程使用 linalg 线性代数\n",
    "# w = np.linalg.inv(X.T.dot(X)).dot(X.T).dot(y)  # @也是点乘\n",
    "w = np.linalg.inv(X.T.dot(X)).dot(X.T)@y\n",
    "w"
   ]
  },
  {
   "cell_type": "code",
   "execution_count": 2,
   "id": "4b93d64d",
   "metadata": {
    "ExecuteTime": {
     "end_time": "2022-05-25T13:29:17.010124Z",
     "start_time": "2022-05-25T13:29:16.996171Z"
    }
   },
   "outputs": [
    {
     "data": {
      "text/plain": [
       "array([-0.8,  1.6])"
      ]
     },
     "metadata": {},
     "output_type": "display_data"
    },
    {
     "data": {
      "text/plain": [
       "13.2"
      ]
     },
     "metadata": {},
     "output_type": "display_data"
    }
   ],
   "source": [
    "from sklearn.linear_model import LinearRegression # 线性回归\n",
    "\n",
    "model = LinearRegression(fit_intercept=True) # 默认这个参数是True，一般情况下， 使用True\n",
    "model.fit(X,y) # 建模，训练\n",
    "\n",
    "# coef斜率，线性方程，系数 == 斜率，截距\n",
    "# 上面的方程（求解方程的变量，系数，斜率 + 截距），有没有截距？\n",
    "display(model.coef_, model.intercept_)"
   ]
  },
  {
   "cell_type": "code",
   "execution_count": 3,
   "id": "0aa00c22",
   "metadata": {},
   "outputs": [
    {
     "data": {
      "text/plain": [
       "array([8., 6.])"
      ]
     },
     "metadata": {},
     "output_type": "display_data"
    },
    {
     "data": {
      "text/plain": [
       "0.0"
      ]
     },
     "metadata": {},
     "output_type": "display_data"
    }
   ],
   "source": [
    "from sklearn.linear_model import LinearRegression # LinearRegression线性回归，本质就是正规方程的封装，可以解方程\n",
    "\n",
    "model = LinearRegression(fit_intercept=False) # 默认这个参数是True，一般情况下， 使用True\n",
    "model.fit(X,y) # 建模，训练\n",
    "\n",
    "# coef斜率，线性方程，系数 == 斜率，截距\n",
    "# 上面的方程（求解方程的变量，系数，斜率 + 截距），有没有截距？\n",
    "display(model.coef_, model.intercept_) # 0.0是model.intercept_的结果"
   ]
  },
  {
   "cell_type": "code",
   "execution_count": 5,
   "id": "d3d95f29",
   "metadata": {
    "ExecuteTime": {
     "end_time": "2022-05-25T13:29:17.026075Z",
     "start_time": "2022-05-25T13:29:17.012118Z"
    }
   },
   "outputs": [],
   "source": [
    "# 带截距，计算结果也是吻合的\n",
    "# x + y = 14\n",
    "# -0.8 + 1.6 + 13.2 = 14\n",
    "\n",
    "# 2x - y = 10\n",
    "# 2*-0.8 - 1.6 + 13.2 = 10"
   ]
  },
  {
   "cell_type": "markdown",
   "id": "bb3186e6",
   "metadata": {},
   "source": [
    "#### 八元一次方程"
   ]
  },
  {
   "cell_type": "code",
   "execution_count": 4,
   "id": "67f9e2be",
   "metadata": {
    "ExecuteTime": {
     "end_time": "2022-05-25T13:29:17.042018Z",
     "start_time": "2022-05-25T13:29:17.028065Z"
    }
   },
   "outputs": [
    {
     "data": {
      "text/plain": [
       "array([[  0,  14,   8,   0,   5,  -2,   9,  -3],\n",
       "       [ -4,  10,   6,   4, -14,  -2, -14,   8],\n",
       "       [ -1,  -6,   5, -12,   3,  -3,   2,  -2],\n",
       "       [  5,  -2,   3,  10,   5,  11,   4,  -8],\n",
       "       [-15, -15,  -8, -15,   7,  -4, -12,   2],\n",
       "       [ 11, -10,  -2,   4,   3,  -9,  -6,   7],\n",
       "       [-14,   0,   4,  -3,   5,  10,  13,   7],\n",
       "       [ -3,  -7,  -2,  -8,   0,  -6,  -5,  -9]])"
      ]
     },
     "metadata": {},
     "output_type": "display_data"
    },
    {
     "data": {
      "text/plain": [
       "array([ 339, -114,   30,  126, -395,  -87,  422, -309])"
      ]
     },
     "metadata": {},
     "output_type": "display_data"
    }
   ],
   "source": [
    "# 上面八元一次方程对应的X数据\n",
    "X = np.array([[  0 ,14 , 8 ,  0 ,  5,  -2,   9,  -3],\n",
    " [ -4 , 10 ,  6 ,  4 ,-14 , -2 ,-14  , 8],\n",
    " [ -1 , -6  , 5 ,-12 ,  3 , -3 ,  2 , -2],\n",
    " [  5 , -2  , 3 , 10  , 5 , 11 ,  4  ,-8],\n",
    " [-15 ,-15  ,-8 ,-15 ,  7 , -4, -12 ,  2],\n",
    " [ 11 ,-10 , -2 ,  4  , 3 , -9 , -6 ,  7],\n",
    " [-14 ,  0 ,  4 , -3  , 5 , 10 , 13 ,  7],\n",
    " [ -3 , -7 , -2 , -8  , 0 , -6 , -5 , -9]])\n",
    "# 对应的y\n",
    "y = np.array([ 339 ,-114  , 30 , 126, -395 , -87 , 422, -309])\n",
    "display(X,y)"
   ]
  },
  {
   "cell_type": "code",
   "execution_count": 6,
   "id": "a6d50ee3",
   "metadata": {
    "ExecuteTime": {
     "end_time": "2022-05-25T13:29:17.057121Z",
     "start_time": "2022-05-25T13:29:17.045016Z"
    }
   },
   "outputs": [
    {
     "data": {
      "text/plain": [
       "array([ 1.,  5., 15.,  3.,  8.,  4., 17., 12.])"
      ]
     },
     "execution_count": 6,
     "metadata": {},
     "output_type": "execute_result"
    }
   ],
   "source": [
    "# x1 到 x8分别是：1.,  5., 15.,  3.,  8.,  4., 17., 12.\n",
    "w = np.linalg.inv(X.T.dot(X)).dot(X.T).dot(y)\n",
    "w"
   ]
  },
  {
   "cell_type": "code",
   "execution_count": 7,
   "id": "4e80d933",
   "metadata": {
    "ExecuteTime": {
     "end_time": "2022-05-25T13:29:17.072361Z",
     "start_time": "2022-05-25T13:29:17.059957Z"
    }
   },
   "outputs": [
    {
     "data": {
      "text/plain": [
       "array([ 1.,  5., 15.,  3.,  8.,  4., 17., 12.])"
      ]
     },
     "metadata": {},
     "output_type": "display_data"
    },
    {
     "data": {
      "text/plain": [
       "0.0"
      ]
     },
     "metadata": {},
     "output_type": "display_data"
    }
   ],
   "source": [
    "model = LinearRegression(fit_intercept=False)\n",
    "model.fit(X,y)\n",
    "display(model.coef_,model.intercept_)"
   ]
  },
  {
   "cell_type": "markdown",
   "id": "d3dea916",
   "metadata": {},
   "source": [
    "#### 八元一次方程+截距【12】"
   ]
  },
  {
   "cell_type": "code",
   "execution_count": 8,
   "id": "0114ee22",
   "metadata": {
    "ExecuteTime": {
     "end_time": "2022-05-25T13:29:17.088307Z",
     "start_time": "2022-05-25T13:29:17.075350Z"
    }
   },
   "outputs": [
    {
     "data": {
      "text/plain": [
       "array([ 403,  -50,   94,  190, -331,  -23,  486, -245])"
      ]
     },
     "execution_count": 8,
     "metadata": {},
     "output_type": "execute_result"
    }
   ],
   "source": [
    "y_new = y + 64\n",
    "y_new"
   ]
  },
  {
   "cell_type": "code",
   "execution_count": 9,
   "id": "8d4541e2",
   "metadata": {
    "ExecuteTime": {
     "end_time": "2022-05-25T13:29:17.104255Z",
     "start_time": "2022-05-25T13:29:17.091300Z"
    }
   },
   "outputs": [
    {
     "data": {
      "text/plain": [
       "array([-9.53423295, -3.18237714, 32.89293368, 13.94370726, 12.88345187,\n",
       "       -5.64066992, 14.95379584,  8.62431708])"
      ]
     },
     "execution_count": 9,
     "metadata": {},
     "output_type": "execute_result"
    }
   ],
   "source": [
    "# 思考一个问题，增加了截距，相当于b ，b是一个未知数\n",
    "w = np.linalg.inv(X.T.dot(X)).dot(X.T).dot(y_new)\n",
    "w"
   ]
  },
  {
   "cell_type": "code",
   "execution_count": 22,
   "id": "6d222cae",
   "metadata": {
    "ExecuteTime": {
     "end_time": "2022-05-25T13:29:17.119206Z",
     "start_time": "2022-05-25T13:29:17.107244Z"
    }
   },
   "outputs": [
    {
     "data": {
      "text/plain": [
       "array([[  1.,   0.,  14.,   8.,   0.,   5.,  -2.,   9.,  -3.],\n",
       "       [  1.,  -4.,  10.,   6.,   4., -14.,  -2., -14.,   8.],\n",
       "       [  1.,  -1.,  -6.,   5., -12.,   3.,  -3.,   2.,  -2.],\n",
       "       [  1.,   5.,  -2.,   3.,  10.,   5.,  11.,   4.,  -8.],\n",
       "       [  1., -15., -15.,  -8., -15.,   7.,  -4., -12.,   2.],\n",
       "       [  1.,  11., -10.,  -2.,   4.,   3.,  -9.,  -6.,   7.],\n",
       "       [  1., -14.,   0.,   4.,  -3.,   5.,  10.,  13.,   7.],\n",
       "       [  1.,  -3.,  -7.,  -2.,  -8.,   0.,  -6.,  -5.,  -9.]])"
      ]
     },
     "execution_count": 22,
     "metadata": {},
     "output_type": "execute_result"
    }
   ],
   "source": [
    "# 把截距项加进来\n",
    "# X_new = np.concatenate([np.ones(shape =(8,1)), X],axis = 1)\n",
    "X_new = np.hstack((np.ones(shape =(8,1)), X))\n",
    "X_new"
   ]
  },
  {
   "cell_type": "code",
   "execution_count": 13,
   "id": "3d26bf0d",
   "metadata": {
    "ExecuteTime": {
     "end_time": "2022-05-25T13:29:17.135236Z",
     "start_time": "2022-05-25T13:29:17.124190Z"
    }
   },
   "outputs": [
    {
     "data": {
      "text/plain": [
       "(8, 9)"
      ]
     },
     "execution_count": 13,
     "metadata": {},
     "output_type": "execute_result"
    }
   ],
   "source": [
    "X_new.shape"
   ]
  },
  {
   "cell_type": "code",
   "execution_count": 14,
   "id": "5291f610",
   "metadata": {
    "ExecuteTime": {
     "end_time": "2022-05-25T13:29:17.151098Z",
     "start_time": "2022-05-25T13:29:17.138147Z"
    }
   },
   "outputs": [
    {
     "data": {
      "text/plain": [
       "array([-1388.2421875 ,     3.00732422,    14.62841797,   -14.55664062,\n",
       "         -41.01953125,    -1.73413086,    16.4140625 ,    19.17218018,\n",
       "          19.93164062])"
      ]
     },
     "execution_count": 14,
     "metadata": {},
     "output_type": "execute_result"
    }
   ],
   "source": [
    "# 思考一个问题，增加了截距，相当于b ，未知数\n",
    "w = np.linalg.inv(X_new.T.dot(X_new)).dot(X_new.T).dot(y_new)\n",
    "w\n",
    "\n",
    "# 注意这个解依然不对，X_new是8行9列，9个未知数，只有8个方程"
   ]
  },
  {
   "cell_type": "code",
   "execution_count": 15,
   "id": "302fc0e2",
   "metadata": {
    "ExecuteTime": {
     "end_time": "2022-05-25T13:29:17.167057Z",
     "start_time": "2022-05-25T13:29:17.153091Z"
    }
   },
   "outputs": [
    {
     "data": {
      "text/plain": [
       "array([ 403.,  -50.,   94.,  190., -331.,  -23.,  486., -245.,  192.])"
      ]
     },
     "execution_count": 15,
     "metadata": {},
     "output_type": "execute_result"
    }
   ],
   "source": [
    "# 要想有唯一解，需要增加一行\n",
    "# 随意构建一个方程，解\n",
    "w = np.array([ 1.,  5., 15.,  3.,  8.,  4., 17., 12.])\n",
    "b = 64\n",
    "X9 = np.random.randint(-10,10,size = 8) # x1 ~ x8【方程任意】\n",
    "y9 = w.dot(X9) + b # 得到第 9个方程的目标值\n",
    "\n",
    "# 合并数据\n",
    "y_new = np.concatenate([y_new,[y9]])\n",
    "y_new # 9个目标值了"
   ]
  },
  {
   "cell_type": "code",
   "execution_count": 20,
   "id": "877efc21",
   "metadata": {},
   "outputs": [
    {
     "data": {
      "text/plain": [
       "array([  1,   6,   4, -10,   4,   3,   5,   8,   5])"
      ]
     },
     "metadata": {},
     "output_type": "display_data"
    },
    {
     "data": {
      "text/plain": [
       "(9,)"
      ]
     },
     "metadata": {},
     "output_type": "display_data"
    },
    {
     "data": {
      "text/plain": [
       "[array([  1,   6,   4, -10,   4,   3,   5,   8,   5])]"
      ]
     },
     "metadata": {},
     "output_type": "display_data"
    }
   ],
   "source": [
    "display(np.concatenate([[1], X9]),np.concatenate([[1], X9]).shape)  # 注意是1维的\n",
    "\n",
    "display([np.concatenate([[1], X9])])  # "
   ]
  },
  {
   "cell_type": "code",
   "execution_count": 23,
   "id": "dc9285cd",
   "metadata": {
    "ExecuteTime": {
     "end_time": "2022-05-25T13:29:17.182995Z",
     "start_time": "2022-05-25T13:29:17.169038Z"
    }
   },
   "outputs": [
    {
     "data": {
      "text/plain": [
       "array([[  1.,   0.,  14.,   8.,   0.,   5.,  -2.,   9.,  -3.],\n",
       "       [  1.,  -4.,  10.,   6.,   4., -14.,  -2., -14.,   8.],\n",
       "       [  1.,  -1.,  -6.,   5., -12.,   3.,  -3.,   2.,  -2.],\n",
       "       [  1.,   5.,  -2.,   3.,  10.,   5.,  11.,   4.,  -8.],\n",
       "       [  1., -15., -15.,  -8., -15.,   7.,  -4., -12.,   2.],\n",
       "       [  1.,  11., -10.,  -2.,   4.,   3.,  -9.,  -6.,   7.],\n",
       "       [  1., -14.,   0.,   4.,  -3.,   5.,  10.,  13.,   7.],\n",
       "       [  1.,  -3.,  -7.,  -2.,  -8.,   0.,  -6.,  -5.,  -9.],\n",
       "       [  1.,   6.,   4., -10.,   4.,   3.,   5.,   8.,   5.]])"
      ]
     },
     "metadata": {},
     "output_type": "display_data"
    },
    {
     "data": {
      "text/plain": [
       "(9, 9)"
      ]
     },
     "metadata": {},
     "output_type": "display_data"
    }
   ],
   "source": [
    "# 执行一次\n",
    "X_new = np.concatenate([X_new,[np.concatenate([[1], X9])]]) # 注意加了一层[]，因为X_new是2维的\n",
    "display(X_new, X_new.shape)"
   ]
  },
  {
   "cell_type": "code",
   "execution_count": 24,
   "id": "dd712a3d",
   "metadata": {
    "ExecuteTime": {
     "end_time": "2022-05-25T13:29:17.229833Z",
     "start_time": "2022-05-25T13:29:17.216877Z"
    },
    "heading_collapsed": true
   },
   "outputs": [
    {
     "data": {
      "text/plain": [
       "array([64.,  1.,  5., 15.,  3.,  8.,  4., 17., 12.])"
      ]
     },
     "execution_count": 24,
     "metadata": {},
     "output_type": "execute_result"
    }
   ],
   "source": [
    "### 思考一个问题，增加了截距，相当于b ，未知数\n",
    "w = np.linalg.inv(X_new.T.dot(X_new)).dot(X_new.T).dot(y_new)\n",
    "w"
   ]
  },
  {
   "cell_type": "code",
   "execution_count": 25,
   "id": "b2db2a4a",
   "metadata": {
    "ExecuteTime": {
     "end_time": "2022-05-25T13:29:17.213896Z",
     "start_time": "2022-05-25T13:29:17.200946Z"
    }
   },
   "outputs": [
    {
     "data": {
      "text/plain": [
       "array([ 0.,  1.,  5., 15.,  3.,  8.,  4., 17., 12.])"
      ]
     },
     "metadata": {},
     "output_type": "display_data"
    },
    {
     "data": {
      "text/plain": [
       "64.0"
      ]
     },
     "metadata": {},
     "output_type": "display_data"
    }
   ],
   "source": [
    "model = LinearRegression(fit_intercept=True)\n",
    "\n",
    "model.fit(X_new,y_new)\n",
    "\n",
    "display(model.coef_,model.intercept_)"
   ]
  },
  {
   "cell_type": "code",
   "execution_count": 26,
   "id": "08f8c5e5",
   "metadata": {
    "ExecuteTime": {
     "end_time": "2022-05-25T13:29:17.197991Z",
     "start_time": "2022-05-25T13:29:17.184984Z"
    }
   },
   "outputs": [
    {
     "data": {
      "text/plain": [
       "array([64.,  1.,  5., 15.,  3.,  8.,  4., 17., 12.])"
      ]
     },
     "metadata": {},
     "output_type": "display_data"
    },
    {
     "data": {
      "text/plain": [
       "0.0"
      ]
     },
     "metadata": {},
     "output_type": "display_data"
    }
   ],
   "source": [
    "model = LinearRegression(fit_intercept=False)\n",
    "\n",
    "model.fit(X_new,y_new)\n",
    "\n",
    "display(model.coef_,model.intercept_)"
   ]
  },
  {
   "cell_type": "markdown",
   "id": "56e06dc2",
   "metadata": {},
   "source": [
    "他们正在讨论（X^TX)^-1X^TY为什么不能等于X^-1Y"
   ]
  },
  {
   "cell_type": "markdown",
   "id": "ccbbc824",
   "metadata": {},
   "source": [
    "$（X^TX)^{-1}X^TY$"
   ]
  },
  {
   "cell_type": "markdown",
   "id": "0094f1cc",
   "metadata": {},
   "source": [
    "$X^{-1}Y$"
   ]
  },
  {
   "cell_type": "code",
   "execution_count": 152,
   "id": "089961b6",
   "metadata": {
    "ExecuteTime": {
     "end_time": "2022-05-25T13:41:14.807106Z",
     "start_time": "2022-05-25T13:41:14.794992Z"
    },
    "collapsed": true
   },
   "outputs": [
    {
     "data": {
      "text/plain": [
       "array([[  0,  14,   8,   0,   5,  -2,   9,  -3],\n",
       "       [ -4,  10,   6,   4, -14,  -2, -14,   8],\n",
       "       [ -1,  -6,   5, -12,   3,  -3,   2,  -2],\n",
       "       [  5,  -2,   3,  10,   5,  11,   4,  -8],\n",
       "       [-15, -15,  -8, -15,   7,  -4, -12,   2],\n",
       "       [ 11, -10,  -2,   4,   3,  -9,  -6,   7],\n",
       "       [-14,   0,   4,  -3,   5,  10,  13,   7],\n",
       "       [ -3,  -7,  -2,  -8,   0,  -6,  -5,  -9]])"
      ]
     },
     "execution_count": 152,
     "metadata": {},
     "output_type": "execute_result"
    }
   ],
   "source": [
    "X"
   ]
  },
  {
   "cell_type": "code",
   "execution_count": 153,
   "id": "90b7ebc4",
   "metadata": {
    "ExecuteTime": {
     "end_time": "2022-05-25T13:41:19.792377Z",
     "start_time": "2022-05-25T13:41:19.777430Z"
    },
    "collapsed": true
   },
   "outputs": [
    {
     "data": {
      "text/plain": [
       "array([[  0,  -4,  -1,   5, -15,  11, -14,  -3],\n",
       "       [ 14,  10,  -6,  -2, -15, -10,   0,  -7],\n",
       "       [  8,   6,   5,   3,  -8,  -2,   4,  -2],\n",
       "       [  0,   4, -12,  10, -15,   4,  -3,  -8],\n",
       "       [  5, -14,   3,   5,   7,   3,   5,   0],\n",
       "       [ -2,  -2,  -3,  11,  -4,  -9,  10,  -6],\n",
       "       [  9, -14,   2,   4, -12,  -6,  13,  -5],\n",
       "       [ -3,   8,  -2,  -8,   2,   7,   7,  -9]])"
      ]
     },
     "execution_count": 153,
     "metadata": {},
     "output_type": "execute_result"
    }
   ],
   "source": [
    "X.T"
   ]
  },
  {
   "cell_type": "markdown",
   "id": "f57c3b6f",
   "metadata": {},
   "source": [
    "### 正规方程推导"
   ]
  },
  {
   "cell_type": "code",
   "execution_count": 158,
   "id": "755f9ead",
   "metadata": {
    "ExecuteTime": {
     "end_time": "2022-05-25T13:44:35.349001Z",
     "start_time": "2022-05-25T13:44:35.340504Z"
    }
   },
   "outputs": [
    {
     "data": {
      "text/plain": [
       "array([2, 5, 4, 8, 0, 3, 7, 0])"
      ]
     },
     "execution_count": 158,
     "metadata": {},
     "output_type": "execute_result"
    }
   ],
   "source": [
    "theta = np.random.randint(0,10,size = 8)\n",
    "theta"
   ]
  },
  {
   "cell_type": "code",
   "execution_count": 160,
   "id": "5e899a69",
   "metadata": {
    "ExecuteTime": {
     "end_time": "2022-05-25T13:44:55.664573Z",
     "start_time": "2022-05-25T13:44:55.644713Z"
    }
   },
   "outputs": [
    {
     "data": {
      "text/plain": [
       "array([4, 1, 3, 9, 5, 4, 6, 2])"
      ]
     },
     "execution_count": 160,
     "metadata": {},
     "output_type": "execute_result"
    }
   ],
   "source": [
    "X = np.random.randint(0,10,size = 8)\n",
    "X"
   ]
  },
  {
   "cell_type": "code",
   "execution_count": 161,
   "id": "4e612ec6",
   "metadata": {
    "ExecuteTime": {
     "end_time": "2022-05-25T13:45:11.375336Z",
     "start_time": "2022-05-25T13:45:11.358394Z"
    },
    "scrolled": true
   },
   "outputs": [
    {
     "data": {
      "text/plain": [
       "151"
      ]
     },
     "execution_count": 161,
     "metadata": {},
     "output_type": "execute_result"
    }
   ],
   "source": [
    "y = X.dot(theta)\n",
    "y"
   ]
  },
  {
   "cell_type": "code",
   "execution_count": 162,
   "id": "1224bfc2",
   "metadata": {
    "ExecuteTime": {
     "end_time": "2022-05-25T13:45:19.637824Z",
     "start_time": "2022-05-25T13:45:19.628888Z"
    }
   },
   "outputs": [
    {
     "data": {
      "text/plain": [
       "151"
      ]
     },
     "execution_count": 162,
     "metadata": {},
     "output_type": "execute_result"
    }
   ],
   "source": [
    "theta.dot(X)"
   ]
  },
  {
   "cell_type": "markdown",
   "id": "6be9b343",
   "metadata": {},
   "source": [
    "### 线性回归-预测房价"
   ]
  },
  {
   "cell_type": "code",
   "execution_count": 1,
   "id": "1640686d",
   "metadata": {
    "ExecuteTime": {
     "end_time": "2022-05-27T12:03:16.309590Z",
     "start_time": "2022-05-27T12:03:16.023389Z"
    }
   },
   "outputs": [],
   "source": [
    "from sklearn.linear_model import LinearRegression\n",
    "\n",
    "from sklearn import datasets\n",
    "\n",
    "from sklearn.model_selection import train_test_split"
   ]
  },
  {
   "cell_type": "code",
   "execution_count": 2,
   "id": "8394a467",
   "metadata": {
    "ExecuteTime": {
     "end_time": "2022-05-27T12:05:29.342045Z",
     "start_time": "2022-05-27T12:05:29.333079Z"
    }
   },
   "outputs": [],
   "source": [
    "import warnings\n",
    "warnings.filterwarnings('ignore')"
   ]
  },
  {
   "cell_type": "markdown",
   "id": "34f64e3c",
   "metadata": {},
   "source": [
    "加载波士顿房价【数据类型无所谓：癌症、糖尿病、身高】"
   ]
  },
  {
   "cell_type": "code",
   "execution_count": null,
   "id": "c07e73c7",
   "metadata": {
    "ExecuteTime": {
     "end_time": "2022-05-27T12:05:33.943793Z",
     "start_time": "2022-05-27T12:05:33.915928Z"
    }
   },
   "outputs": [],
   "source": [
    "# data = datasets.load_boston()  load_boston` has been removed from scikit-learn since version 1.2\n",
    "# data\n",
    "\n",
    "# In this special case, you can fetch the dataset from the original\n",
    "# source::\n",
    "\n",
    "#     import pandas as pd\n",
    "#     import numpy as np\n",
    "\n",
    "#     data_url = \"http://lib.stat.cmu.edu/datasets/boston\"\n",
    "#     raw_df = pd.read_csv(data_url, sep=\"\\s+\", skiprows=22, header=None)\n",
    "#     data = np.hstack([raw_df.values[::2, :], raw_df.values[1::2, :2]])\n",
    "#     target = raw_df.values[1::2, 2]"
   ]
  },
  {
   "cell_type": "code",
   "execution_count": 4,
   "id": "332df018",
   "metadata": {},
   "outputs": [],
   "source": [
    "import pandas as pd\n",
    "import numpy as np\n",
    "\n",
    "data_url = \"http://lib.stat.cmu.edu/datasets/boston\"\n",
    "raw_df = pd.read_csv(data_url, sep=\"\\s+\", skiprows=22, header=None)\n",
    "data = np.hstack([raw_df.values[::2, :], raw_df.values[1::2, :2]])\n",
    "target = raw_df.values[1::2, 2]"
   ]
  },
  {
   "cell_type": "code",
   "execution_count": 11,
   "id": "c5b674db",
   "metadata": {},
   "outputs": [],
   "source": [
    "feature_names = np.array(['CRIM','ZN','INDUS','CHAS','NOX','RM','AGE','DIS','RAD','TAX','PTRATIO','B','LSTAT'])"
   ]
  },
  {
   "cell_type": "code",
   "execution_count": 7,
   "id": "111bebea",
   "metadata": {},
   "outputs": [
    {
     "data": {
      "text/plain": [
       "array([[6.3200e-03, 1.8000e+01, 2.3100e+00, 0.0000e+00, 5.3800e-01,\n",
       "        6.5750e+00, 6.5200e+01, 4.0900e+00, 1.0000e+00, 2.9600e+02,\n",
       "        1.5300e+01, 3.9690e+02, 4.9800e+00],\n",
       "       [2.7310e-02, 0.0000e+00, 7.0700e+00, 0.0000e+00, 4.6900e-01,\n",
       "        6.4210e+00, 7.8900e+01, 4.9671e+00, 2.0000e+00, 2.4200e+02,\n",
       "        1.7800e+01, 3.9690e+02, 9.1400e+00]])"
      ]
     },
     "execution_count": 7,
     "metadata": {},
     "output_type": "execute_result"
    }
   ],
   "source": [
    "data[:2]"
   ]
  },
  {
   "cell_type": "code",
   "execution_count": 9,
   "id": "9aa71452",
   "metadata": {},
   "outputs": [
    {
     "data": {
      "text/plain": [
       "array([24. , 21.6, 34.7, 33.4, 36.2])"
      ]
     },
     "execution_count": 9,
     "metadata": {},
     "output_type": "execute_result"
    }
   ],
   "source": [
    "target[:5]"
   ]
  },
  {
   "cell_type": "markdown",
   "id": "0f6b301b",
   "metadata": {},
   "source": [
    "提取数据"
   ]
  },
  {
   "cell_type": "code",
   "execution_count": 12,
   "id": "e80edc56",
   "metadata": {
    "ExecuteTime": {
     "end_time": "2022-05-27T12:15:32.585518Z",
     "start_time": "2022-05-27T12:15:32.568105Z"
    }
   },
   "outputs": [
    {
     "data": {
      "text/plain": [
       "(506, 13)"
      ]
     },
     "metadata": {},
     "output_type": "display_data"
    },
    {
     "data": {
      "text/plain": [
       "(506,)"
      ]
     },
     "metadata": {},
     "output_type": "display_data"
    },
    {
     "data": {
      "text/plain": [
       "array([[6.3200e-03, 1.8000e+01, 2.3100e+00, 0.0000e+00, 5.3800e-01,\n",
       "        6.5750e+00, 6.5200e+01, 4.0900e+00, 1.0000e+00, 2.9600e+02,\n",
       "        1.5300e+01, 3.9690e+02, 4.9800e+00],\n",
       "       [2.7310e-02, 0.0000e+00, 7.0700e+00, 0.0000e+00, 4.6900e-01,\n",
       "        6.4210e+00, 7.8900e+01, 4.9671e+00, 2.0000e+00, 2.4200e+02,\n",
       "        1.7800e+01, 3.9690e+02, 9.1400e+00],\n",
       "       [2.7290e-02, 0.0000e+00, 7.0700e+00, 0.0000e+00, 4.6900e-01,\n",
       "        7.1850e+00, 6.1100e+01, 4.9671e+00, 2.0000e+00, 2.4200e+02,\n",
       "        1.7800e+01, 3.9283e+02, 4.0300e+00],\n",
       "       [3.2370e-02, 0.0000e+00, 2.1800e+00, 0.0000e+00, 4.5800e-01,\n",
       "        6.9980e+00, 4.5800e+01, 6.0622e+00, 3.0000e+00, 2.2200e+02,\n",
       "        1.8700e+01, 3.9463e+02, 2.9400e+00],\n",
       "       [6.9050e-02, 0.0000e+00, 2.1800e+00, 0.0000e+00, 4.5800e-01,\n",
       "        7.1470e+00, 5.4200e+01, 6.0622e+00, 3.0000e+00, 2.2200e+02,\n",
       "        1.8700e+01, 3.9690e+02, 5.3300e+00]])"
      ]
     },
     "metadata": {},
     "output_type": "display_data"
    },
    {
     "data": {
      "text/plain": [
       "array([24. , 21.6, 34.7, 33.4, 36.2])"
      ]
     },
     "metadata": {},
     "output_type": "display_data"
    }
   ],
   "source": [
    "# X = data['data'] # 特征，影响房价的指标\n",
    "# y = data['target'] # 房价\n",
    "\n",
    "X = data # 特征，影响房价的指标\n",
    "y = target # 房价\n",
    "display(X.shape,y.shape,X[:5],y[:5])"
   ]
  },
  {
   "cell_type": "markdown",
   "id": "d267a3a2",
   "metadata": {},
   "source": [
    "#### 拆分数据"
   ]
  },
  {
   "cell_type": "markdown",
   "id": "f4795f8e",
   "metadata": {},
   "source": [
    "算法建模，数据结构：**特征数据必须是二维的**\n",
    "- 第一维表示样本数量\n",
    "- 第二维表示特征"
   ]
  },
  {
   "cell_type": "code",
   "execution_count": 13,
   "id": "0983dffb",
   "metadata": {
    "ExecuteTime": {
     "end_time": "2022-05-27T12:17:58.065681Z",
     "start_time": "2022-05-27T12:17:58.043761Z"
    }
   },
   "outputs": [
    {
     "data": {
      "text/plain": [
       "(456, 13)"
      ]
     },
     "metadata": {},
     "output_type": "display_data"
    },
    {
     "data": {
      "text/plain": [
       "(50, 13)"
      ]
     },
     "metadata": {},
     "output_type": "display_data"
    }
   ],
   "source": [
    "X_train,X_test,y_train,y_test = train_test_split(X,y,test_size = 50)\n",
    "display(X_train.shape,X_test.shape)"
   ]
  },
  {
   "cell_type": "markdown",
   "id": "9bec4616",
   "metadata": {},
   "source": [
    "#### 建模和预测"
   ]
  },
  {
   "cell_type": "code",
   "execution_count": 14,
   "id": "90372693",
   "metadata": {
    "ExecuteTime": {
     "end_time": "2022-05-27T12:22:00.341769Z",
     "start_time": "2022-05-27T12:22:00.320805Z"
    }
   },
   "outputs": [
    {
     "data": {
      "text/html": [
       "<style>#sk-container-id-1 {color: black;}#sk-container-id-1 pre{padding: 0;}#sk-container-id-1 div.sk-toggleable {background-color: white;}#sk-container-id-1 label.sk-toggleable__label {cursor: pointer;display: block;width: 100%;margin-bottom: 0;padding: 0.3em;box-sizing: border-box;text-align: center;}#sk-container-id-1 label.sk-toggleable__label-arrow:before {content: \"▸\";float: left;margin-right: 0.25em;color: #696969;}#sk-container-id-1 label.sk-toggleable__label-arrow:hover:before {color: black;}#sk-container-id-1 div.sk-estimator:hover label.sk-toggleable__label-arrow:before {color: black;}#sk-container-id-1 div.sk-toggleable__content {max-height: 0;max-width: 0;overflow: hidden;text-align: left;background-color: #f0f8ff;}#sk-container-id-1 div.sk-toggleable__content pre {margin: 0.2em;color: black;border-radius: 0.25em;background-color: #f0f8ff;}#sk-container-id-1 input.sk-toggleable__control:checked~div.sk-toggleable__content {max-height: 200px;max-width: 100%;overflow: auto;}#sk-container-id-1 input.sk-toggleable__control:checked~label.sk-toggleable__label-arrow:before {content: \"▾\";}#sk-container-id-1 div.sk-estimator input.sk-toggleable__control:checked~label.sk-toggleable__label {background-color: #d4ebff;}#sk-container-id-1 div.sk-label input.sk-toggleable__control:checked~label.sk-toggleable__label {background-color: #d4ebff;}#sk-container-id-1 input.sk-hidden--visually {border: 0;clip: rect(1px 1px 1px 1px);clip: rect(1px, 1px, 1px, 1px);height: 1px;margin: -1px;overflow: hidden;padding: 0;position: absolute;width: 1px;}#sk-container-id-1 div.sk-estimator {font-family: monospace;background-color: #f0f8ff;border: 1px dotted black;border-radius: 0.25em;box-sizing: border-box;margin-bottom: 0.5em;}#sk-container-id-1 div.sk-estimator:hover {background-color: #d4ebff;}#sk-container-id-1 div.sk-parallel-item::after {content: \"\";width: 100%;border-bottom: 1px solid gray;flex-grow: 1;}#sk-container-id-1 div.sk-label:hover label.sk-toggleable__label {background-color: #d4ebff;}#sk-container-id-1 div.sk-serial::before {content: \"\";position: absolute;border-left: 1px solid gray;box-sizing: border-box;top: 0;bottom: 0;left: 50%;z-index: 0;}#sk-container-id-1 div.sk-serial {display: flex;flex-direction: column;align-items: center;background-color: white;padding-right: 0.2em;padding-left: 0.2em;position: relative;}#sk-container-id-1 div.sk-item {position: relative;z-index: 1;}#sk-container-id-1 div.sk-parallel {display: flex;align-items: stretch;justify-content: center;background-color: white;position: relative;}#sk-container-id-1 div.sk-item::before, #sk-container-id-1 div.sk-parallel-item::before {content: \"\";position: absolute;border-left: 1px solid gray;box-sizing: border-box;top: 0;bottom: 0;left: 50%;z-index: -1;}#sk-container-id-1 div.sk-parallel-item {display: flex;flex-direction: column;z-index: 1;position: relative;background-color: white;}#sk-container-id-1 div.sk-parallel-item:first-child::after {align-self: flex-end;width: 50%;}#sk-container-id-1 div.sk-parallel-item:last-child::after {align-self: flex-start;width: 50%;}#sk-container-id-1 div.sk-parallel-item:only-child::after {width: 0;}#sk-container-id-1 div.sk-dashed-wrapped {border: 1px dashed gray;margin: 0 0.4em 0.5em 0.4em;box-sizing: border-box;padding-bottom: 0.4em;background-color: white;}#sk-container-id-1 div.sk-label label {font-family: monospace;font-weight: bold;display: inline-block;line-height: 1.2em;}#sk-container-id-1 div.sk-label-container {text-align: center;}#sk-container-id-1 div.sk-container {/* jupyter's `normalize.less` sets `[hidden] { display: none; }` but bootstrap.min.css set `[hidden] { display: none !important; }` so we also need the `!important` here to be able to override the default hidden behavior on the sphinx rendered scikit-learn.org. See: https://github.com/scikit-learn/scikit-learn/issues/21755 */display: inline-block !important;position: relative;}#sk-container-id-1 div.sk-text-repr-fallback {display: none;}</style><div id=\"sk-container-id-1\" class=\"sk-top-container\"><div class=\"sk-text-repr-fallback\"><pre>LinearRegression()</pre><b>In a Jupyter environment, please rerun this cell to show the HTML representation or trust the notebook. <br />On GitHub, the HTML representation is unable to render, please try loading this page with nbviewer.org.</b></div><div class=\"sk-container\" hidden><div class=\"sk-item\"><div class=\"sk-estimator sk-toggleable\"><input class=\"sk-toggleable__control sk-hidden--visually\" id=\"sk-estimator-id-1\" type=\"checkbox\" checked><label for=\"sk-estimator-id-1\" class=\"sk-toggleable__label sk-toggleable__label-arrow\">LinearRegression</label><div class=\"sk-toggleable__content\"><pre>LinearRegression()</pre></div></div></div></div></div>"
      ],
      "text/plain": [
       "LinearRegression()"
      ]
     },
     "execution_count": 14,
     "metadata": {},
     "output_type": "execute_result"
    }
   ],
   "source": [
    "model = LinearRegression(fit_intercept=True)# 正规方程，封装好了\n",
    "\n",
    "model.fit(X_train,y_train)# 训练，建模"
   ]
  },
  {
   "cell_type": "code",
   "execution_count": 15,
   "id": "854656a1",
   "metadata": {
    "ExecuteTime": {
     "end_time": "2022-05-27T12:23:34.414883Z",
     "start_time": "2022-05-27T12:23:34.389944Z"
    }
   },
   "outputs": [
    {
     "data": {
      "text/plain": [
       "'算法预测的房价值：'"
      ]
     },
     "metadata": {},
     "output_type": "display_data"
    },
    {
     "data": {
      "text/plain": [
       "array([18. , 27.4, 26.7, 38.6,  1. , 40.1, 22.2, 31.9, 13.1, 15.6, 19.8,\n",
       "       37.3, 11.9, 20.7, 20.6, 29.1,  4.4, 29.8, 27.2, 13.9, 12.4, 21.4,\n",
       "       24.5, 19. , 32.1, 36.9, 41.9, 23.2, 24.7, 27.1, 12.7, 35.9, 17.4,\n",
       "       18.6, 27.9, 20. ,  8.5, 30. , 20.7, 23.3, 18.4, 11.8, 21.6, 13.6,\n",
       "       19.1, 23.9, 18. , 15.7, 29.6, 35.5])"
      ]
     },
     "metadata": {},
     "output_type": "display_data"
    },
    {
     "data": {
      "text/plain": [
       "'真实房价是多少：'"
      ]
     },
     "metadata": {},
     "output_type": "display_data"
    },
    {
     "data": {
      "text/plain": [
       "array([14.1, 23.7, 24.8, 45.4, 17.9, 46. , 21.1, 31.1, 15.6, 10.4, 15.2,\n",
       "       44. , 16.3, 18.7, 13.3, 24.3,  8.4, 30.1, 25.2, 13.3, 13.4, 21.2,\n",
       "       24.7, 18.6, 27.5, 42.3, 50. , 33. , 23.9, 22. ,  7.5, 36.5, 14.9,\n",
       "       15.4, 36.2, 19.1,  7.2, 25.1, 24.5, 24.4, 16. , 12. , 21.7,  8.3,\n",
       "       16.4, 23.4, 14.9, 15.6, 23. , 33.4])"
      ]
     },
     "metadata": {},
     "output_type": "display_data"
    }
   ],
   "source": [
    "y_ = model.predict(X_test) # 保留的50个样本\n",
    "\n",
    "display('算法预测的房价值：',y_.round(1))\n",
    "\n",
    "display('真实房价是多少：',y_test)"
   ]
  },
  {
   "cell_type": "markdown",
   "id": "a5d23c85",
   "metadata": {},
   "source": [
    "#### 模型评估"
   ]
  },
  {
   "cell_type": "code",
   "execution_count": 16,
   "id": "ca342d1e",
   "metadata": {
    "ExecuteTime": {
     "end_time": "2022-05-27T12:29:38.280742Z",
     "start_time": "2022-05-27T12:29:38.268782Z"
    }
   },
   "outputs": [
    {
     "data": {
      "text/plain": [
       "0.7949504625135702"
      ]
     },
     "execution_count": 16,
     "metadata": {},
     "output_type": "execute_result"
    }
   ],
   "source": [
    "model.score(X_test,y_test)  # R^2"
   ]
  },
  {
   "cell_type": "code",
   "execution_count": 14,
   "id": "9266f88f",
   "metadata": {
    "ExecuteTime": {
     "end_time": "2022-05-27T12:40:13.603900Z",
     "start_time": "2022-05-27T12:40:13.585973Z"
    }
   },
   "outputs": [
    {
     "data": {
      "text/plain": [
       "0.7398774710790202"
      ]
     },
     "execution_count": 14,
     "metadata": {},
     "output_type": "execute_result"
    }
   ],
   "source": [
    "# 就算是用训练数据，得分也不是1\n",
    "# 不是死记硬背，根据数据提取 规律，方程，并不是所有的数据都吻合\n",
    "model.score(X_train,y_train)"
   ]
  },
  {
   "cell_type": "code",
   "execution_count": 11,
   "id": "b631c863",
   "metadata": {
    "ExecuteTime": {
     "end_time": "2022-05-27T12:32:29.044881Z",
     "start_time": "2022-05-27T12:32:29.034918Z"
    }
   },
   "outputs": [],
   "source": [
    "from sklearn.metrics import mean_squared_error # 均方误差"
   ]
  },
  {
   "cell_type": "code",
   "execution_count": 12,
   "id": "dfedd8e3",
   "metadata": {
    "ExecuteTime": {
     "end_time": "2022-05-27T12:32:57.805691Z",
     "start_time": "2022-05-27T12:32:57.793730Z"
    }
   },
   "outputs": [
    {
     "data": {
      "text/plain": [
       "31.198469141420972"
      ]
     },
     "execution_count": 12,
     "metadata": {},
     "output_type": "execute_result"
    }
   ],
   "source": [
    "# 均方误差，越小越好！\n",
    "mean_squared_error(y_test,y_)"
   ]
  },
  {
   "cell_type": "code",
   "execution_count": 13,
   "id": "f80c094b",
   "metadata": {
    "ExecuteTime": {
     "end_time": "2022-05-27T12:33:55.398168Z",
     "start_time": "2022-05-27T12:33:55.380567Z"
    }
   },
   "outputs": [
    {
     "data": {
      "text/plain": [
       "31.198469141420972"
      ]
     },
     "execution_count": 13,
     "metadata": {},
     "output_type": "execute_result"
    }
   ],
   "source": [
    "# 模型非常好，预测非常准，完全一样！\n",
    "# y_test == y_ 根据这个公式进行计算，结果是：0\n",
    "((y_test - y_)**2).mean()"
   ]
  },
  {
   "cell_type": "markdown",
   "id": "baf3f273",
   "metadata": {},
   "source": [
    "模型上线，模型部署"
   ]
  },
  {
   "cell_type": "code",
   "execution_count": null,
   "id": "90018e98",
   "metadata": {},
   "outputs": [],
   "source": []
  }
 ],
 "metadata": {
  "hide_input": false,
  "kernelspec": {
   "display_name": "Python 3 (ipykernel)",
   "language": "python",
   "name": "python3"
  },
  "language_info": {
   "codemirror_mode": {
    "name": "ipython",
    "version": 3
   },
   "file_extension": ".py",
   "mimetype": "text/x-python",
   "name": "python",
   "nbconvert_exporter": "python",
   "pygments_lexer": "ipython3",
   "version": "3.10.13"
  },
  "toc": {
   "base_numbering": 1,
   "nav_menu": {},
   "number_sections": true,
   "sideBar": true,
   "skip_h1_title": false,
   "title_cell": "Table of Contents",
   "title_sidebar": "Contents",
   "toc_cell": false,
   "toc_position": {
    "height": "calc(100% - 180px)",
    "left": "10px",
    "top": "150px",
    "width": "245.75px"
   },
   "toc_section_display": true,
   "toc_window_display": true
  }
 },
 "nbformat": 4,
 "nbformat_minor": 5
}
