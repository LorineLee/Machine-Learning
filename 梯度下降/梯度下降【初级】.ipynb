{
 "cells": [
  {
   "cell_type": "markdown",
   "id": "9172d1c7",
   "metadata": {},
   "source": [
    "### 无约束最优化"
   ]
  },
  {
   "cell_type": "code",
   "execution_count": 1,
   "id": "431cb845",
   "metadata": {
    "ExecuteTime": {
     "end_time": "2022-05-27T12:42:32.658047Z",
     "start_time": "2022-05-27T12:42:32.131547Z"
    }
   },
   "outputs": [],
   "source": [
    "import numpy as np\n",
    "import matplotlib.pyplot as plt"
   ]
  },
  {
   "cell_type": "code",
   "execution_count": 2,
   "id": "3845f05b",
   "metadata": {
    "ExecuteTime": {
     "end_time": "2022-05-27T12:44:23.618119Z",
     "start_time": "2022-05-27T12:44:23.509984Z"
    }
   },
   "outputs": [
    {
     "data": {
      "text/plain": [
       "[<matplotlib.lines.Line2D at 0x1568d1da5f0>]"
      ]
     },
     "execution_count": 2,
     "metadata": {},
     "output_type": "execute_result"
    },
    {
     "data": {
      "image/png": "[encoded data removed]",
      "text/plain": [
       "<Figure size 640x480 with 1 Axes>"
      ]
     },
     "metadata": {},
     "output_type": "display_data"
    }
   ],
   "source": [
    "f = lambda x : (x - 3.5)**2 - 4.5*x + 10 # 一元二次\n",
    "x = np.linspace(-3,15,100)\n",
    "y = f(x)\n",
    "plt.plot(x,y,color = 'red')"
   ]
  },
  {
   "cell_type": "code",
   "execution_count": 21,
   "id": "70ef5199",
   "metadata": {
    "ExecuteTime": {
     "end_time": "2022-05-27T12:50:15.355806Z",
     "start_time": "2022-05-27T12:50:15.347826Z"
    }
   },
   "outputs": [
    {
     "data": {
      "text/plain": [
       "5.75"
      ]
     },
     "execution_count": 21,
     "metadata": {},
     "output_type": "execute_result"
    }
   ],
   "source": [
    "g = lambda x : 2*(x - 3.5) - 4.5 # 导函数\n",
    "11.5/2 # 最优解"
   ]
  },
  {
   "cell_type": "markdown",
   "id": "09e67ee9",
   "metadata": {},
   "source": [
    "### 代码模拟梯度下降"
   ]
  },
  {
   "cell_type": "code",
   "execution_count": null,
   "id": "82b71365",
   "metadata": {},
   "outputs": [],
   "source": [
    "# 设置了迭代次数"
   ]
  },
  {
   "cell_type": "code",
   "execution_count": 1,
   "id": "42a49efa",
   "metadata": {
    "ExecuteTime": {
     "end_time": "2022-05-27T13:59:18.388999Z",
     "start_time": "2022-05-27T13:59:18.366821Z"
    },
    "scrolled": true
   },
   "outputs": [
    {
     "name": "stdout",
     "output_type": "stream",
     "text": [
      "17.15\n",
      "14.87\n",
      "13.046\n",
      "11.5868\n",
      "10.41944\n",
      "9.485552\n",
      "8.7384416\n",
      "8.14075328\n",
      "7.662602624\n",
      "7.2800820991999995\n",
      "6.97406567936\n",
      "6.729252543488\n",
      "6.5334020347904005\n",
      "6.37672162783232\n",
      "6.2513773022658565\n",
      "6.151101841812685\n",
      "6.070881473450148\n",
      "6.006705178760119\n",
      "5.9553641430080955\n",
      "5.914291314406476\n",
      "5.881433051525181\n",
      "5.855146441220144\n",
      "5.834117152976115\n",
      "5.817293722380892\n",
      "5.803834977904714\n",
      "5.793067982323771\n",
      "5.784454385859017\n",
      "5.777563508687214\n",
      "5.772050806949771\n",
      "5.767640645559817\n",
      "5.764112516447854\n",
      "5.761290013158283\n",
      "5.759032010526626\n",
      "5.757225608421301\n",
      "5.755780486737041\n",
      "5.754624389389632\n",
      "5.753699511511706\n",
      "5.7529596092093644\n",
      "5.752367687367491\n",
      "5.751894149893993\n",
      "5.751515319915194\n",
      "5.751212255932155\n",
      "5.750969804745724\n",
      "5.750775843796579\n",
      "5.750620675037263\n",
      "5.75049654002981\n",
      "5.750397232023849\n",
      "5.750317785619079\n",
      "5.750254228495264\n",
      "5.750203382796211\n"
     ]
    }
   ],
   "source": [
    "import numpy as np\n",
    "import matplotlib.pyplot as plt\n",
    "\n",
    "f = lambda x : (x - 3.5)**2 - 4.5*x + 10 # 一元二次\n",
    "\n",
    "# 导函数 ，梯度\n",
    "def g(x):\n",
    "    return 2*(x - 3.5) - 4.5\n",
    "\n",
    "eta = 0.1\n",
    "# 最优解正确答案，x = 5.75\n",
    "\n",
    "theta = 20 # 随机猜\n",
    "for i in range(50):\n",
    "    theta = theta - eta * g(theta)\n",
    "    print(theta)"
   ]
  },
  {
   "cell_type": "code",
   "execution_count": null,
   "id": "d32261be",
   "metadata": {},
   "outputs": [],
   "source": [
    "# 设置退出迭代循环的条件"
   ]
  },
  {
   "cell_type": "code",
   "execution_count": 2,
   "id": "ff65b820",
   "metadata": {
    "ExecuteTime": {
     "end_time": "2022-05-27T14:07:03.880854Z",
     "start_time": "2022-05-27T14:07:03.869890Z"
    }
   },
   "outputs": [
    {
     "name": "stdout",
     "output_type": "stream",
     "text": [
      "-2.85\n",
      "-1.1300000000000001\n",
      "0.246\n",
      "1.3468\n",
      "2.22744\n",
      "2.931952\n",
      "3.4955616\n",
      "3.94644928\n",
      "4.307159424\n",
      "4.5957275392\n",
      "4.82658203136\n",
      "5.011265625088\n",
      "5.1590125000704\n",
      "5.27721000005632\n",
      "5.371768000045056\n",
      "5.4474144000360445\n",
      "5.507931520028835\n",
      "5.556345216023068\n",
      "5.595076172818454\n",
      "5.6260609382547635\n",
      "5.650848750603811\n",
      "5.670679000483049\n",
      "5.686543200386439\n",
      "5.699234560309152\n",
      "5.709387648247321\n",
      "5.717510118597857\n",
      "5.724008094878285\n",
      "5.729206475902628\n",
      "5.733365180722102\n",
      "5.736692144577682\n",
      "5.739353715662146\n",
      "5.741482972529717\n",
      "5.743186378023774\n",
      "5.744549102419019\n",
      "5.745639281935215\n",
      "5.746511425548173\n"
     ]
    }
   ],
   "source": [
    "import numpy as np\n",
    "import matplotlib.pyplot as plt\n",
    "\n",
    "f = lambda x : (x - 3.5)**2 - 4.5*x + 10 # 一元二次\n",
    "\n",
    "# 导函数 ，梯度\n",
    "def g(x):\n",
    "    return 2*(x - 3.5) - 4.5\n",
    "\n",
    "eta = 0.1 # 学习率，道士下山，步幅\n",
    "# 最优解，x = 5.75\n",
    "theta = -5 # 随机猜\n",
    "\n",
    "last_theta = theta + 0.1 #记录一下，上一次权重多少 \n",
    "while True:\n",
    "    if np.abs(last_theta - theta) < 0.001: # 精确度，满足一定误差\n",
    "        break\n",
    "    last_theta = theta # 当前的theta赋值给了上一步的last_theta\n",
    "    theta = theta - eta * g(theta) # 更新,又走了一步【新的】\n",
    "    print(theta)"
   ]
  },
  {
   "cell_type": "code",
   "execution_count": null,
   "id": "53120c4c",
   "metadata": {},
   "outputs": [],
   "source": []
  }
 ],
 "metadata": {
  "hide_input": false,
  "kernelspec": {
   "display_name": "Python 3 (ipykernel)",
   "language": "python",
   "name": "python3"
  },
  "language_info": {
   "codemirror_mode": {
    "name": "ipython",
    "version": 3
   },
   "file_extension": ".py",
   "mimetype": "text/x-python",
   "name": "python",
   "nbconvert_exporter": "python",
   "pygments_lexer": "ipython3",
   "version": "3.10.13"
  },
  "toc": {
   "base_numbering": 1,
   "nav_menu": {},
   "number_sections": true,
   "sideBar": true,
   "skip_h1_title": false,
   "title_cell": "Table of Contents",
   "title_sidebar": "Contents",
   "toc_cell": false,
   "toc_position": {
    "height": "calc(100% - 180px)",
    "left": "10px",
    "top": "150px",
    "width": "256px"
   },
   "toc_section_display": true,
   "toc_window_display": true
  }
 },
 "nbformat": 4,
 "nbformat_minor": 5
}
