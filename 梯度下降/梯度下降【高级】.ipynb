{
 "cells": [
  {
   "cell_type": "markdown",
   "id": "d612ba6f",
   "metadata": {},
   "source": [
    "### 最大值最小值归一化"
   ]
  },
  {
   "cell_type": "code",
   "execution_count": 1,
   "id": "ad5da097",
   "metadata": {
    "ExecuteTime": {
     "end_time": "2022-06-01T13:01:00.020783Z",
     "start_time": "2022-06-01T13:01:00.008778Z"
    }
   },
   "outputs": [
    {
     "data": {
      "text/plain": [
       "array([[  3, 229],\n",
       "       [  2, 228],\n",
       "       [  9, 237],\n",
       "       [  1, 180],\n",
       "       [  8, 242],\n",
       "       [  6, 162],\n",
       "       [  2, 294],\n",
       "       [  6, 218],\n",
       "       [  5, 248],\n",
       "       [  4, 102]])"
      ]
     },
     "execution_count": 1,
     "metadata": {},
     "output_type": "execute_result"
    }
   ],
   "source": [
    "import numpy as np\n",
    "\n",
    "X_1 = np.random.randint(1,10,size = 10)\n",
    "X_2 = np.random.randint(100,300,size =10)\n",
    "\n",
    "X = np.c_[X_1,X_2]\n",
    "X"
   ]
  },
  {
   "cell_type": "code",
   "execution_count": 2,
   "id": "b9823c1a",
   "metadata": {
    "ExecuteTime": {
     "end_time": "2022-06-01T13:01:00.035711Z",
     "start_time": "2022-06-01T13:01:00.022731Z"
    }
   },
   "outputs": [
    {
     "data": {
      "text/plain": [
       "array([  1, 102])"
      ]
     },
     "execution_count": 2,
     "metadata": {},
     "output_type": "execute_result"
    }
   ],
   "source": [
    "X.min(axis = 0) # 分别计算每一列的最小值"
   ]
  },
  {
   "cell_type": "code",
   "execution_count": 3,
   "id": "5a0b1212",
   "metadata": {
    "ExecuteTime": {
     "end_time": "2022-06-01T13:01:00.051672Z",
     "start_time": "2022-06-01T13:01:00.038678Z"
    }
   },
   "outputs": [
    {
     "data": {
      "text/plain": [
       "array([[0.25      , 0.66145833],\n",
       "       [0.125     , 0.65625   ],\n",
       "       [1.        , 0.703125  ],\n",
       "       [0.        , 0.40625   ],\n",
       "       [0.875     , 0.72916667],\n",
       "       [0.625     , 0.3125    ],\n",
       "       [0.125     , 1.        ],\n",
       "       [0.625     , 0.60416667],\n",
       "       [0.5       , 0.76041667],\n",
       "       [0.375     , 0.        ]])"
      ]
     },
     "execution_count": 3,
     "metadata": {},
     "output_type": "execute_result"
    }
   ],
   "source": [
    "(X - X.min(axis = 0))/(X.max(axis = 0) - X.min(axis = 0))"
   ]
  },
  {
   "cell_type": "code",
   "execution_count": 4,
   "id": "3e085f9c",
   "metadata": {
    "ExecuteTime": {
     "end_time": "2022-06-01T13:01:00.067581Z",
     "start_time": "2022-06-01T13:01:00.053649Z"
    }
   },
   "outputs": [
    {
     "data": {
      "text/plain": [
       "array([[0.25      , 0.66145833],\n",
       "       [0.125     , 0.65625   ],\n",
       "       [1.        , 0.703125  ],\n",
       "       [0.        , 0.40625   ],\n",
       "       [0.875     , 0.72916667],\n",
       "       [0.625     , 0.3125    ],\n",
       "       [0.125     , 1.        ],\n",
       "       [0.625     , 0.60416667],\n",
       "       [0.5       , 0.76041667],\n",
       "       [0.375     , 0.        ]])"
      ]
     },
     "execution_count": 4,
     "metadata": {},
     "output_type": "execute_result"
    }
   ],
   "source": [
    "from sklearn.preprocessing import MinMaxScaler\n",
    "scaler = MinMaxScaler()\n",
    "scaler.fit_transform(X)"
   ]
  },
  {
   "cell_type": "code",
   "execution_count": 5,
   "id": "589c9965",
   "metadata": {
    "ExecuteTime": {
     "end_time": "2022-06-01T13:01:30.671106Z",
     "start_time": "2022-06-01T13:01:30.650170Z"
    },
    "scrolled": true
   },
   "outputs": [
    {
     "data": {
      "text/plain": [
       "array([[     3,    229],\n",
       "       [     2,    228],\n",
       "       [     9,    237],\n",
       "       [     1,    180],\n",
       "       [     8,    242],\n",
       "       [     6,    162],\n",
       "       [     2,    294],\n",
       "       [     6,    218],\n",
       "       [     5,    248],\n",
       "       [     4, 102000]])"
      ]
     },
     "execution_count": 5,
     "metadata": {},
     "output_type": "execute_result"
    }
   ],
   "source": [
    "X[-1,-1] *= 1000\n",
    "X"
   ]
  },
  {
   "cell_type": "code",
   "execution_count": 6,
   "id": "9117b88b",
   "metadata": {
    "ExecuteTime": {
     "end_time": "2022-06-01T13:01:43.422638Z",
     "start_time": "2022-06-01T13:01:43.413666Z"
    }
   },
   "outputs": [
    {
     "data": {
      "text/plain": [
       "array([[2.50000000e-01, 6.57907657e-04],\n",
       "       [1.25000000e-01, 6.48088140e-04],\n",
       "       [1.00000000e+00, 7.36463795e-04],\n",
       "       [0.00000000e+00, 1.76751311e-04],\n",
       "       [8.75000000e-01, 7.85561382e-04],\n",
       "       [6.25000000e-01, 0.00000000e+00],\n",
       "       [1.25000000e-01, 1.29617628e-03],\n",
       "       [6.25000000e-01, 5.49892967e-04],\n",
       "       [5.00000000e-01, 8.44478485e-04],\n",
       "       [3.75000000e-01, 1.00000000e+00]])"
      ]
     },
     "execution_count": 6,
     "metadata": {},
     "output_type": "execute_result"
    }
   ],
   "source": [
    "scaler.fit_transform(X)"
   ]
  },
  {
   "cell_type": "markdown",
   "id": "9a496ae5",
   "metadata": {},
   "source": [
    "#### 演示离群点"
   ]
  },
  {
   "cell_type": "code",
   "execution_count": 7,
   "id": "54ec78b8",
   "metadata": {},
   "outputs": [
    {
     "data": {
      "text/plain": [
       "array([[        3,       229],\n",
       "       [        2,       228],\n",
       "       [        9,       237],\n",
       "       [        1,       180],\n",
       "       [        8,       242],\n",
       "       [        6,       162],\n",
       "       [        2, 123456789],\n",
       "       [        6,       218],\n",
       "       [        5,       248],\n",
       "       [        4,    102000]])"
      ]
     },
     "execution_count": 7,
     "metadata": {},
     "output_type": "execute_result"
    }
   ],
   "source": [
    "X[6,1] = 123456789\n",
    "X"
   ]
  },
  {
   "cell_type": "code",
   "execution_count": 9,
   "id": "6cf07c7d",
   "metadata": {},
   "outputs": [
    {
     "data": {
      "text/plain": [
       "array([[2.50000000e-01, 5.42700717e-07],\n",
       "       [1.25000000e-01, 5.34600706e-07],\n",
       "       [1.00000000e+00, 6.07500803e-07],\n",
       "       [0.00000000e+00, 1.45800193e-07],\n",
       "       [8.75000000e-01, 6.48000856e-07],\n",
       "       [6.25000000e-01, 0.00000000e+00],\n",
       "       [1.25000000e-01, 1.00000000e+00],\n",
       "       [6.25000000e-01, 4.53600599e-07],\n",
       "       [5.00000000e-01, 6.96600920e-07],\n",
       "       [3.75000000e-01, 8.24888890e-04]])"
      ]
     },
     "execution_count": 9,
     "metadata": {},
     "output_type": "execute_result"
    }
   ],
   "source": [
    "X_norm = (X - X.min(axis = 0))/(X.max(axis = 0) - X.min(axis = 0))\n",
    "X_norm"
   ]
  },
  {
   "cell_type": "code",
   "execution_count": 10,
   "id": "228a23f9",
   "metadata": {},
   "outputs": [
    {
     "data": {
      "text/plain": [
       "array([[0.25, 0.  ],\n",
       "       [0.12, 0.  ],\n",
       "       [1.  , 0.  ],\n",
       "       [0.  , 0.  ],\n",
       "       [0.88, 0.  ],\n",
       "       [0.62, 0.  ],\n",
       "       [0.12, 1.  ],\n",
       "       [0.62, 0.  ],\n",
       "       [0.5 , 0.  ],\n",
       "       [0.38, 0.  ]])"
      ]
     },
     "execution_count": 10,
     "metadata": {},
     "output_type": "execute_result"
    }
   ],
   "source": [
    "X_norm.round(2)"
   ]
  },
  {
   "cell_type": "markdown",
   "id": "ceb0da25",
   "metadata": {},
   "source": [
    "### Z-score标准化【正态分布】"
   ]
  },
  {
   "cell_type": "code",
   "execution_count": 5,
   "id": "d5930c5f",
   "metadata": {
    "ExecuteTime": {
     "end_time": "2022-06-01T12:54:59.872436Z",
     "start_time": "2022-06-01T12:54:59.864456Z"
    }
   },
   "outputs": [
    {
     "data": {
      "text/plain": [
       "array([[  9, 216],\n",
       "       [  9, 116],\n",
       "       [  7, 121],\n",
       "       [  8, 286],\n",
       "       [  9, 288],\n",
       "       [  9, 239],\n",
       "       [  5, 210],\n",
       "       [  4, 255],\n",
       "       [  4, 142],\n",
       "       [  7, 260]])"
      ]
     },
     "execution_count": 5,
     "metadata": {},
     "output_type": "execute_result"
    }
   ],
   "source": [
    "X_1 = np.random.randint(1,10,size = 10)\n",
    "X_2 = np.random.randint(100,300,size =10)\n",
    "\n",
    "X = np.c_[X_1,X_2]\n",
    "X"
   ]
  },
  {
   "cell_type": "code",
   "execution_count": 6,
   "id": "f6bcc8b5",
   "metadata": {
    "ExecuteTime": {
     "end_time": "2022-06-01T12:56:17.769128Z",
     "start_time": "2022-06-01T12:56:17.755547Z"
    }
   },
   "outputs": [
    {
     "data": {
      "text/plain": [
       "array([[ 0.96333824,  0.04349518],\n",
       "       [ 0.96333824, -1.56743749],\n",
       "       [-0.05070201, -1.48689086],\n",
       "       [ 0.45631811,  1.17114805],\n",
       "       [ 0.96333824,  1.20336671],\n",
       "       [ 0.96333824,  0.4140097 ],\n",
       "       [-1.06474227, -0.05316078],\n",
       "       [-1.57176239,  0.67175892],\n",
       "       [-1.57176239, -1.148595  ],\n",
       "       [-0.05070201,  0.75230556]])"
      ]
     },
     "execution_count": 6,
     "metadata": {},
     "output_type": "execute_result"
    }
   ],
   "source": [
    "X2 = (X - X.mean(axis = 0))/X.std(axis =0)\n",
    "X2"
   ]
  },
  {
   "cell_type": "code",
   "execution_count": 7,
   "id": "a2740766",
   "metadata": {
    "ExecuteTime": {
     "end_time": "2022-06-01T12:56:28.492937Z",
     "start_time": "2022-06-01T12:56:28.476992Z"
    }
   },
   "outputs": [
    {
     "data": {
      "text/plain": [
       "array([ 1.90819582e-16, -1.88737914e-16])"
      ]
     },
     "execution_count": 7,
     "metadata": {},
     "output_type": "execute_result"
    }
   ],
   "source": [
    "X2.mean(axis = 0)"
   ]
  },
  {
   "cell_type": "code",
   "execution_count": 8,
   "id": "9c76f7a8",
   "metadata": {
    "ExecuteTime": {
     "end_time": "2022-06-01T12:57:02.322503Z",
     "start_time": "2022-06-01T12:57:02.317512Z"
    }
   },
   "outputs": [
    {
     "data": {
      "text/plain": [
       "array([1., 1.])"
      ]
     },
     "execution_count": 8,
     "metadata": {},
     "output_type": "execute_result"
    }
   ],
   "source": [
    "X2.std(axis = 0)"
   ]
  },
  {
   "cell_type": "code",
   "execution_count": 9,
   "id": "c7509601",
   "metadata": {
    "ExecuteTime": {
     "end_time": "2022-06-01T13:13:27.059171Z",
     "start_time": "2022-06-01T13:13:27.046223Z"
    }
   },
   "outputs": [
    {
     "data": {
      "text/plain": [
       "array([[ 0.96333824,  0.04349518],\n",
       "       [ 0.96333824, -1.56743749],\n",
       "       [-0.05070201, -1.48689086],\n",
       "       [ 0.45631811,  1.17114805],\n",
       "       [ 0.96333824,  1.20336671],\n",
       "       [ 0.96333824,  0.4140097 ],\n",
       "       [-1.06474227, -0.05316078],\n",
       "       [-1.57176239,  0.67175892],\n",
       "       [-1.57176239, -1.148595  ],\n",
       "       [-0.05070201,  0.75230556]])"
      ]
     },
     "execution_count": 9,
     "metadata": {},
     "output_type": "execute_result"
    }
   ],
   "source": [
    "from sklearn.preprocessing import StandardScaler\n",
    "\n",
    "scaler = StandardScaler()\n",
    "\n",
    "# 模仿\n",
    "scaler.fit(X) # 统一【模型，fit】，fit“训练”\n",
    "\n",
    "scaler.transform(X) # 根据训练，得到平均值，标准差【transform 相当于 predict】"
   ]
  },
  {
   "cell_type": "code",
   "execution_count": 10,
   "id": "d8d4a923",
   "metadata": {},
   "outputs": [
    {
     "data": {
      "text/plain": [
       "array([[ 0.96333824,  0.04349518],\n",
       "       [ 0.96333824, -1.56743749],\n",
       "       [-0.05070201, -1.48689086],\n",
       "       [ 0.45631811,  1.17114805],\n",
       "       [ 0.96333824,  1.20336671],\n",
       "       [ 0.96333824,  0.4140097 ],\n",
       "       [-1.06474227, -0.05316078],\n",
       "       [-1.57176239,  0.67175892],\n",
       "       [-1.57176239, -1.148595  ],\n",
       "       [-0.05070201,  0.75230556]])"
      ]
     },
     "execution_count": 10,
     "metadata": {},
     "output_type": "execute_result"
    }
   ],
   "source": [
    "scaler.fit_transform(X)"
   ]
  },
  {
   "cell_type": "markdown",
   "id": "04d40c48",
   "metadata": {},
   "source": [
    "数据训练数据X_train又有测试数据X_test\n",
    "\n",
    "scaler.fit(X_train) # 基准，先进行训练\n",
    "\n",
    "数据转换：  \n",
    "scaler.transform(X_train)  \n",
    "scaler.transform(X_test)"
   ]
  },
  {
   "cell_type": "code",
   "execution_count": null,
   "id": "be71e4ca",
   "metadata": {},
   "outputs": [],
   "source": []
  }
 ],
 "metadata": {
  "hide_input": false,
  "kernelspec": {
   "display_name": "Python 3 (ipykernel)",
   "language": "python",
   "name": "python3"
  },
  "language_info": {
   "codemirror_mode": {
    "name": "ipython",
    "version": 3
   },
   "file_extension": ".py",
   "mimetype": "text/x-python",
   "name": "python",
   "nbconvert_exporter": "python",
   "pygments_lexer": "ipython3",
   "version": "3.10.13"
  },
  "toc": {
   "base_numbering": 1,
   "nav_menu": {},
   "number_sections": true,
   "sideBar": true,
   "skip_h1_title": false,
   "title_cell": "Table of Contents",
   "title_sidebar": "Contents",
   "toc_cell": false,
   "toc_position": {
    "height": "calc(100% - 180px)",
    "left": "10px",
    "top": "150px",
    "width": "256px"
   },
   "toc_section_display": true,
   "toc_window_display": true
  }
 },
 "nbformat": 4,
 "nbformat_minor": 5
}
