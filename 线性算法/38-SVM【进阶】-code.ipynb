{
 "cells": [
  {
   "cell_type": "code",
   "execution_count": null,
   "id": "71701301",
   "metadata": {},
   "outputs": [],
   "source": [
    "# 面试能够通过\n",
    "# 技术能力，30~40%\n",
    "# 软实力，60~70%"
   ]
  },
  {
   "cell_type": "markdown",
   "id": "9bcaa871",
   "metadata": {},
   "source": [
    "### 核函数在回归中应用"
   ]
  },
  {
   "cell_type": "markdown",
   "id": "264df2e7",
   "metadata": {},
   "source": [
    "#### 创建数据"
   ]
  },
  {
   "cell_type": "code",
   "execution_count": 1,
   "id": "d7a9beba",
   "metadata": {
    "ExecuteTime": {
     "end_time": "2022-08-02T12:49:05.869417Z",
     "start_time": "2022-08-02T12:49:05.393310Z"
    }
   },
   "outputs": [],
   "source": [
    "import numpy as np\n",
    "from sklearn.svm import SVR\n",
    "import matplotlib.pyplot as plt"
   ]
  },
  {
   "cell_type": "code",
   "execution_count": 3,
   "id": "97960568",
   "metadata": {
    "ExecuteTime": {
     "end_time": "2022-08-02T12:49:51.289258Z",
     "start_time": "2022-08-02T12:49:51.174442Z"
    }
   },
   "outputs": [
    {
     "data": {
      "text/plain": [
       "<matplotlib.collections.PathCollection at 0x1a81633e2b0>"
      ]
     },
     "execution_count": 3,
     "metadata": {},
     "output_type": "execute_result"
    },
    {
     "data": {
      "image/png": "[encoded data removed]",
      "text/plain": [
       "<Figure size 432x288 with 1 Axes>"
      ]
     },
     "metadata": {
      "needs_background": "light"
     },
     "output_type": "display_data"
    }
   ],
   "source": [
    "X = np.linspace(0,2*np.pi,100).reshape(-1,1)\n",
    "y = np.sin(X)\n",
    "\n",
    "plt.scatter(X,y)"
   ]
  },
  {
   "cell_type": "code",
   "execution_count": 4,
   "id": "6ca20905",
   "metadata": {
    "ExecuteTime": {
     "end_time": "2022-08-02T12:50:30.430458Z",
     "start_time": "2022-08-02T12:50:30.416366Z"
    },
    "collapsed": true
   },
   "outputs": [
    {
     "name": "stdout",
     "output_type": "stream",
     "text": [
      "[[0.        ]\n",
      " [0.06346652]\n",
      " [0.12693304]\n",
      " [0.19039955]\n",
      " [0.25386607]\n",
      " [0.31733259]\n",
      " [0.38079911]\n",
      " [0.44426563]\n",
      " [0.50773215]\n",
      " [0.57119866]\n",
      " [0.63466518]\n",
      " [0.6981317 ]\n",
      " [0.76159822]\n",
      " [0.82506474]\n",
      " [0.88853126]\n",
      " [0.95199777]\n",
      " [1.01546429]\n",
      " [1.07893081]\n",
      " [1.14239733]\n",
      " [1.20586385]\n",
      " [1.26933037]\n",
      " [1.33279688]\n",
      " [1.3962634 ]\n",
      " [1.45972992]\n",
      " [1.52319644]\n",
      " [1.58666296]\n",
      " [1.65012947]\n",
      " [1.71359599]\n",
      " [1.77706251]\n",
      " [1.84052903]\n",
      " [1.90399555]\n",
      " [1.96746207]\n",
      " [2.03092858]\n",
      " [2.0943951 ]\n",
      " [2.15786162]\n",
      " [2.22132814]\n",
      " [2.28479466]\n",
      " [2.34826118]\n",
      " [2.41172769]\n",
      " [2.47519421]\n",
      " [2.53866073]\n",
      " [2.60212725]\n",
      " [2.66559377]\n",
      " [2.72906028]\n",
      " [2.7925268 ]\n",
      " [2.85599332]\n",
      " [2.91945984]\n",
      " [2.98292636]\n",
      " [3.04639288]\n",
      " [3.10985939]\n",
      " [3.17332591]\n",
      " [3.23679243]\n",
      " [3.30025895]\n",
      " [3.36372547]\n",
      " [3.42719199]\n",
      " [3.4906585 ]\n",
      " [3.55412502]\n",
      " [3.61759154]\n",
      " [3.68105806]\n",
      " [3.74452458]\n",
      " [3.8079911 ]\n",
      " [3.87145761]\n",
      " [3.93492413]\n",
      " [3.99839065]\n",
      " [4.06185717]\n",
      " [4.12532369]\n",
      " [4.1887902 ]\n",
      " [4.25225672]\n",
      " [4.31572324]\n",
      " [4.37918976]\n",
      " [4.44265628]\n",
      " [4.5061228 ]\n",
      " [4.56958931]\n",
      " [4.63305583]\n",
      " [4.69652235]\n",
      " [4.75998887]\n",
      " [4.82345539]\n",
      " [4.88692191]\n",
      " [4.95038842]\n",
      " [5.01385494]\n",
      " [5.07732146]\n",
      " [5.14078798]\n",
      " [5.2042545 ]\n",
      " [5.26772102]\n",
      " [5.33118753]\n",
      " [5.39465405]\n",
      " [5.45812057]\n",
      " [5.52158709]\n",
      " [5.58505361]\n",
      " [5.64852012]\n",
      " [5.71198664]\n",
      " [5.77545316]\n",
      " [5.83891968]\n",
      " [5.9023862 ]\n",
      " [5.96585272]\n",
      " [6.02931923]\n",
      " [6.09278575]\n",
      " [6.15625227]\n",
      " [6.21971879]\n",
      " [6.28318531]] [[ 0.00000000e+00]\n",
      " [ 6.34239197e-02]\n",
      " [ 1.26592454e-01]\n",
      " [ 1.89251244e-01]\n",
      " [ 2.51147987e-01]\n",
      " [ 3.12033446e-01]\n",
      " [ 3.71662456e-01]\n",
      " [ 4.29794912e-01]\n",
      " [ 4.86196736e-01]\n",
      " [ 5.40640817e-01]\n",
      " [ 5.92907929e-01]\n",
      " [ 6.42787610e-01]\n",
      " [ 6.90079011e-01]\n",
      " [ 7.34591709e-01]\n",
      " [ 7.76146464e-01]\n",
      " [ 8.14575952e-01]\n",
      " [ 8.49725430e-01]\n",
      " [ 8.81453363e-01]\n",
      " [ 9.09631995e-01]\n",
      " [ 9.34147860e-01]\n",
      " [ 9.54902241e-01]\n",
      " [ 9.71811568e-01]\n",
      " [ 9.84807753e-01]\n",
      " [ 9.93838464e-01]\n",
      " [ 9.98867339e-01]\n",
      " [ 9.99874128e-01]\n",
      " [ 9.96854776e-01]\n",
      " [ 9.89821442e-01]\n",
      " [ 9.78802446e-01]\n",
      " [ 9.63842159e-01]\n",
      " [ 9.45000819e-01]\n",
      " [ 9.22354294e-01]\n",
      " [ 8.95993774e-01]\n",
      " [ 8.66025404e-01]\n",
      " [ 8.32569855e-01]\n",
      " [ 7.95761841e-01]\n",
      " [ 7.55749574e-01]\n",
      " [ 7.12694171e-01]\n",
      " [ 6.66769001e-01]\n",
      " [ 6.18158986e-01]\n",
      " [ 5.67059864e-01]\n",
      " [ 5.13677392e-01]\n",
      " [ 4.58226522e-01]\n",
      " [ 4.00930535e-01]\n",
      " [ 3.42020143e-01]\n",
      " [ 2.81732557e-01]\n",
      " [ 2.20310533e-01]\n",
      " [ 1.58001396e-01]\n",
      " [ 9.50560433e-02]\n",
      " [ 3.17279335e-02]\n",
      " [-3.17279335e-02]\n",
      " [-9.50560433e-02]\n",
      " [-1.58001396e-01]\n",
      " [-2.20310533e-01]\n",
      " [-2.81732557e-01]\n",
      " [-3.42020143e-01]\n",
      " [-4.00930535e-01]\n",
      " [-4.58226522e-01]\n",
      " [-5.13677392e-01]\n",
      " [-5.67059864e-01]\n",
      " [-6.18158986e-01]\n",
      " [-6.66769001e-01]\n",
      " [-7.12694171e-01]\n",
      " [-7.55749574e-01]\n",
      " [-7.95761841e-01]\n",
      " [-8.32569855e-01]\n",
      " [-8.66025404e-01]\n",
      " [-8.95993774e-01]\n",
      " [-9.22354294e-01]\n",
      " [-9.45000819e-01]\n",
      " [-9.63842159e-01]\n",
      " [-9.78802446e-01]\n",
      " [-9.89821442e-01]\n",
      " [-9.96854776e-01]\n",
      " [-9.99874128e-01]\n",
      " [-9.98867339e-01]\n",
      " [-9.93838464e-01]\n",
      " [-9.84807753e-01]\n",
      " [-9.71811568e-01]\n",
      " [-9.54902241e-01]\n",
      " [-9.34147860e-01]\n",
      " [-9.09631995e-01]\n",
      " [-8.81453363e-01]\n",
      " [-8.49725430e-01]\n",
      " [-8.14575952e-01]\n",
      " [-7.76146464e-01]\n",
      " [-7.34591709e-01]\n",
      " [-6.90079011e-01]\n",
      " [-6.42787610e-01]\n",
      " [-5.92907929e-01]\n",
      " [-5.40640817e-01]\n",
      " [-4.86196736e-01]\n",
      " [-4.29794912e-01]\n",
      " [-3.71662456e-01]\n",
      " [-3.12033446e-01]\n",
      " [-2.51147987e-01]\n",
      " [-1.89251244e-01]\n",
      " [-1.26592454e-01]\n",
      " [-6.34239197e-02]\n",
      " [-2.44929360e-16]]\n"
     ]
    }
   ],
   "source": [
    "print(X,y)"
   ]
  },
  {
   "cell_type": "markdown",
   "id": "97ee8eb2",
   "metadata": {},
   "source": [
    "#### 线性核函数建模"
   ]
  },
  {
   "cell_type": "code",
   "execution_count": 8,
   "id": "51e7b73c",
   "metadata": {
    "ExecuteTime": {
     "end_time": "2022-08-02T12:54:51.332972Z",
     "start_time": "2022-08-02T12:54:51.233607Z"
    },
    "collapsed": true
   },
   "outputs": [
    {
     "data": {
      "text/plain": [
       "<matplotlib.collections.PathCollection at 0x1a816b2c4f0>"
      ]
     },
     "execution_count": 8,
     "metadata": {},
     "output_type": "execute_result"
    },
    {
     "data": {
      "image/png": "[encoded data removed]",
      "text/plain": [
       "<Figure size 432x288 with 1 Axes>"
      ]
     },
     "metadata": {
      "needs_background": "light"
     },
     "output_type": "display_data"
    }
   ],
   "source": [
    "model = SVR(kernel='linear')\n",
    "\n",
    "model.fit(X,y.ravel()) # 学习，总结规律\n",
    "\n",
    "y_ = model.predict(X) # 根据规律预测\n",
    "\n",
    "plt.scatter(X,y_,color = 'red')"
   ]
  },
  {
   "cell_type": "markdown",
   "id": "dafdfe42",
   "metadata": {},
   "source": [
    "#### poly多项式"
   ]
  },
  {
   "cell_type": "code",
   "execution_count": 15,
   "id": "ea027f5a",
   "metadata": {
    "ExecuteTime": {
     "end_time": "2022-08-02T12:58:27.124232Z",
     "start_time": "2022-08-02T12:58:26.619880Z"
    }
   },
   "outputs": [
    {
     "data": {
      "text/plain": [
       "0.23205291799121175"
      ]
     },
     "execution_count": 15,
     "metadata": {},
     "output_type": "execute_result"
    },
    {
     "data": {
      "image/png": "[encoded data removed]",
      "text/plain": [
       "<Figure size 432x288 with 1 Axes>"
      ]
     },
     "metadata": {
      "needs_background": "light"
     },
     "output_type": "display_data"
    }
   ],
   "source": [
    "model = SVR(kernel='poly',degree=5)\n",
    "\n",
    "model.fit(X,y.ravel()) # 学习，总结规律\n",
    "\n",
    "y_ = model.predict(X) # 根据规律预测\n",
    "\n",
    "plt.scatter(X,y_,color = 'red')\n",
    "plt.scatter(X,y,color = 'green')\n",
    "model.score(X,y)"
   ]
  },
  {
   "cell_type": "markdown",
   "id": "e8499261",
   "metadata": {},
   "source": [
    "#### rbf(高斯核函数)"
   ]
  },
  {
   "cell_type": "code",
   "execution_count": 14,
   "id": "74233ddc",
   "metadata": {
    "ExecuteTime": {
     "end_time": "2022-08-02T12:58:16.205594Z",
     "start_time": "2022-08-02T12:58:16.085480Z"
    }
   },
   "outputs": [
    {
     "data": {
      "text/plain": [
       "0.9892073177718077"
      ]
     },
     "execution_count": 14,
     "metadata": {},
     "output_type": "execute_result"
    },
    {
     "data": {
      "image/png": "[encoded data removed]",
      "text/plain": [
       "<Figure size 432x288 with 1 Axes>"
      ]
     },
     "metadata": {
      "needs_background": "light"
     },
     "output_type": "display_data"
    }
   ],
   "source": [
    "model = SVR(kernel='rbf')\n",
    "\n",
    "model.fit(X,y.ravel()) # 学习，总结规律\n",
    "\n",
    "y_ = model.predict(X) # 根据规律预测\n",
    "\n",
    "plt.scatter(X,y_,color = 'red')\n",
    "plt.plot(X,y,color = 'green')\n",
    "model.score(X,y)"
   ]
  },
  {
   "cell_type": "markdown",
   "id": "8758fb1c",
   "metadata": {},
   "source": [
    "### 天猫双十一销量预测"
   ]
  },
  {
   "cell_type": "markdown",
   "id": "a250e3fd",
   "metadata": {},
   "source": [
    "#### 创建数据"
   ]
  },
  {
   "cell_type": "code",
   "execution_count": 16,
   "id": "4e988549",
   "metadata": {
    "ExecuteTime": {
     "end_time": "2022-08-02T13:21:28.697652Z",
     "start_time": "2022-08-02T13:21:28.592012Z"
    }
   },
   "outputs": [
    {
     "data": {
      "text/plain": [
       "<matplotlib.collections.PathCollection at 0x1a816d46520>"
      ]
     },
     "execution_count": 16,
     "metadata": {},
     "output_type": "execute_result"
    },
    {
     "data": {
      "image/png": "[encoded data removed]",
      "text/plain": [
       "<Figure size 432x288 with 1 Axes>"
      ]
     },
     "metadata": {
      "needs_background": "light"
     },
     "output_type": "display_data"
    }
   ],
   "source": [
    "X = np.arange(2009,2020) - 2008 # 特征工程\n",
    "\n",
    "y = np.array([0.5,9.36,52,191,350,571,912,1207,1682,2135,2684])\n",
    "\n",
    "plt.scatter(X,y,color = 'red')"
   ]
  },
  {
   "cell_type": "code",
   "execution_count": 17,
   "id": "adbc5e95",
   "metadata": {
    "ExecuteTime": {
     "end_time": "2022-08-02T13:22:17.214178Z",
     "start_time": "2022-08-02T13:22:17.205140Z"
    }
   },
   "outputs": [],
   "source": [
    "# 划分份数多，画图，曲线平滑\n",
    "X_test = np.linspace(2009,2019,100).reshape(-1,1) - 2008"
   ]
  },
  {
   "cell_type": "markdown",
   "id": "b627f4a6",
   "metadata": {},
   "source": [
    "#### 线性核函数"
   ]
  },
  {
   "cell_type": "code",
   "execution_count": 19,
   "id": "4d061d49",
   "metadata": {
    "ExecuteTime": {
     "end_time": "2022-08-02T13:24:45.051531Z",
     "start_time": "2022-08-02T13:24:44.938348Z"
    }
   },
   "outputs": [
    {
     "data": {
      "text/plain": [
       "[<matplotlib.lines.Line2D at 0x1a81bd22610>]"
      ]
     },
     "execution_count": 19,
     "metadata": {},
     "output_type": "execute_result"
    },
    {
     "data": {
      "image/png": "[encoded data removed]",
      "text/plain": [
       "<Figure size 432x288 with 1 Axes>"
      ]
     },
     "metadata": {
      "needs_background": "light"
     },
     "output_type": "display_data"
    }
   ],
   "source": [
    "model = SVR(kernel='linear')\n",
    "\n",
    "model.fit(X.reshape(-1,1),y)\n",
    "\n",
    "y_ = model.predict(X_test)\n",
    "plt.scatter(X,y,color = 'red')\n",
    "plt.plot(X_test.ravel(),y_,color= 'green')"
   ]
  },
  {
   "cell_type": "markdown",
   "id": "4f2a1bf6",
   "metadata": {},
   "source": [
    "#### 高斯核函数"
   ]
  },
  {
   "cell_type": "code",
   "execution_count": 20,
   "id": "4c66799f",
   "metadata": {
    "ExecuteTime": {
     "end_time": "2022-08-02T13:25:33.315364Z",
     "start_time": "2022-08-02T13:25:33.193702Z"
    }
   },
   "outputs": [
    {
     "data": {
      "text/plain": [
       "[<matplotlib.lines.Line2D at 0x1a81bd44910>]"
      ]
     },
     "execution_count": 20,
     "metadata": {},
     "output_type": "execute_result"
    },
    {
     "data": {
      "image/png": "[encoded data removed]",
      "text/plain": [
       "<Figure size 432x288 with 1 Axes>"
      ]
     },
     "metadata": {
      "needs_background": "light"
     },
     "output_type": "display_data"
    }
   ],
   "source": [
    "model = SVR(kernel='rbf')\n",
    "\n",
    "model.fit(X.reshape(-1,1),y)\n",
    "\n",
    "y_ = model.predict(X_test)\n",
    "plt.scatter(X,y,color = 'red')\n",
    "plt.plot(X_test.ravel(),y_,color= 'green')"
   ]
  },
  {
   "cell_type": "markdown",
   "id": "ac39c55e",
   "metadata": {},
   "source": [
    "#### poly多项式"
   ]
  },
  {
   "cell_type": "code",
   "execution_count": 22,
   "id": "cb1c83f1",
   "metadata": {
    "ExecuteTime": {
     "end_time": "2022-08-02T13:26:58.627350Z",
     "start_time": "2022-08-02T13:26:58.508168Z"
    }
   },
   "outputs": [
    {
     "data": {
      "text/plain": [
       "[<matplotlib.lines.Line2D at 0x1a81be66280>]"
      ]
     },
     "execution_count": 22,
     "metadata": {},
     "output_type": "execute_result"
    },
    {
     "data": {
      "image/png": "[encoded data removed]",
      "text/plain": [
       "<Figure size 432x288 with 1 Axes>"
      ]
     },
     "metadata": {
      "needs_background": "light"
     },
     "output_type": "display_data"
    }
   ],
   "source": [
    "model = SVR(kernel='poly',degree=3,coef0=100) # coef0表示截距\n",
    "\n",
    "model.fit(X.reshape(-1,1),y)\n",
    "\n",
    "y_ = model.predict(X_test)\n",
    "plt.scatter(X,y,color = 'red')\n",
    "plt.plot(X_test.ravel(),y_,color= 'green')"
   ]
  },
  {
   "cell_type": "markdown",
   "id": "763ee46e",
   "metadata": {},
   "source": [
    "### 人脸识别"
   ]
  },
  {
   "cell_type": "code",
   "execution_count": null,
   "id": "11b6f96b",
   "metadata": {},
   "outputs": [],
   "source": [
    "# 百度网盘下载数据\n",
    "# C:\\Users\\路丰坤\\scikit_learn_data【创建文件夹】\n",
    "# 解压缩到当前文件夹"
   ]
  },
  {
   "cell_type": "markdown",
   "id": "d088c0d2",
   "metadata": {},
   "source": [
    "#### 导包"
   ]
  },
  {
   "cell_type": "code",
   "execution_count": 23,
   "id": "3c30db83",
   "metadata": {
    "ExecuteTime": {
     "end_time": "2022-08-02T13:47:51.536736Z",
     "start_time": "2022-08-02T13:47:51.460981Z"
    }
   },
   "outputs": [],
   "source": [
    "import numpy as np\n",
    "from sklearn.svm import SVC\n",
    "import matplotlib.pyplot as plt\n",
    "from sklearn.model_selection import train_test_split\n",
    "from sklearn.decomposition import PCA\n",
    "from sklearn.metrics import accuracy_score\n",
    "from sklearn.linear_model import LogisticRegression\n",
    "from sklearn import datasets\n",
    "from sklearn.model_selection import GridSearchCV"
   ]
  },
  {
   "cell_type": "markdown",
   "id": "a78c7498",
   "metadata": {},
   "source": [
    "#### 加载数据"
   ]
  },
  {
   "cell_type": "code",
   "execution_count": 24,
   "id": "5aeff7e0",
   "metadata": {
    "ExecuteTime": {
     "end_time": "2022-08-02T13:51:37.496971Z",
     "start_time": "2022-08-02T13:51:37.198037Z"
    }
   },
   "outputs": [
    {
     "data": {
      "text/plain": [
       "(1288, 11750)"
      ]
     },
     "metadata": {},
     "output_type": "display_data"
    },
    {
     "data": {
      "text/plain": [
       "(1288, 125, 94)"
      ]
     },
     "metadata": {},
     "output_type": "display_data"
    },
    {
     "data": {
      "text/plain": [
       "(1288,)"
      ]
     },
     "metadata": {},
     "output_type": "display_data"
    },
    {
     "data": {
      "text/plain": [
       "array(['Ariel Sharon', 'Colin Powell', 'Donald Rumsfeld', 'George W Bush',\n",
       "       'Gerhard Schroeder', 'Hugo Chavez', 'Tony Blair'], dtype='<U17')"
      ]
     },
     "execution_count": 24,
     "metadata": {},
     "output_type": "execute_result"
    }
   ],
   "source": [
    "# 加载人脸数据，labled faces wild\n",
    "data = datasets.fetch_lfw_people(resize=1,min_faces_per_person=70)\n",
    "\n",
    "X = data['data']\n",
    "y = data['target']\n",
    "faces = data['images'] # 图片\n",
    "display(X.shape,faces.shape,y.shape)\n",
    "target_names = data['target_names']\n",
    "target_names"
   ]
  },
  {
   "cell_type": "markdown",
   "id": "15f742ab",
   "metadata": {},
   "source": [
    "#### 可视化看数据"
   ]
  },
  {
   "cell_type": "code",
   "execution_count": 28,
   "id": "a702de6f",
   "metadata": {
    "ExecuteTime": {
     "end_time": "2022-08-02T13:55:03.648617Z",
     "start_time": "2022-08-02T13:55:03.548399Z"
    }
   },
   "outputs": [
    {
     "name": "stdout",
     "output_type": "stream",
     "text": [
      "Donald Rumsfeld\n"
     ]
    },
    {
     "data": {
      "text/plain": [
       "(125, 94)"
      ]
     },
     "metadata": {},
     "output_type": "display_data"
    },
    {
     "data": {
      "text/plain": [
       "<matplotlib.image.AxesImage at 0x1a81c2de220>"
      ]
     },
     "execution_count": 28,
     "metadata": {},
     "output_type": "execute_result"
    },
    {
     "data": {
      "image/png": "[encoded data removed]",
      "text/plain": [
       "<Figure size 432x288 with 1 Axes>"
      ]
     },
     "metadata": {
      "needs_background": "light"
     },
     "output_type": "display_data"
    }
   ],
   "source": [
    "index = np.random.randint(0,1288,size = 1)[0]\n",
    "face = X[index].reshape(125,94)\n",
    "name = y[index] # 根据索引获取，名字\n",
    "\n",
    "print(target_names[name])\n",
    "\n",
    "display(face.shape)\n",
    "plt.imshow(face,cmap = 'gray')"
   ]
  },
  {
   "cell_type": "markdown",
   "id": "c728a866",
   "metadata": {},
   "source": [
    "#### 数据降维"
   ]
  },
  {
   "cell_type": "code",
   "execution_count": 29,
   "id": "69e7e847",
   "metadata": {
    "ExecuteTime": {
     "end_time": "2022-08-02T13:56:26.692297Z",
     "start_time": "2022-08-02T13:56:22.604567Z"
    }
   },
   "outputs": [
    {
     "data": {
      "text/plain": [
       "(1288, 11750)"
      ]
     },
     "metadata": {},
     "output_type": "display_data"
    },
    {
     "data": {
      "text/plain": [
       "(1288, 303)"
      ]
     },
     "metadata": {},
     "output_type": "display_data"
    },
    {
     "name": "stdout",
     "output_type": "stream",
     "text": [
      "CPU times: total: 26.1 s\n",
      "Wall time: 4.08 s\n"
     ]
    }
   ],
   "source": [
    "%%time\n",
    "# 进行数据的降维\n",
    "pca = PCA(n_components=0.95)\n",
    "X_pca = pca.fit_transform(X)\n",
    "display(X.shape,X_pca.shape)"
   ]
  },
  {
   "cell_type": "markdown",
   "id": "8b9f572e",
   "metadata": {},
   "source": [
    "#### 建模"
   ]
  },
  {
   "cell_type": "code",
   "execution_count": 30,
   "id": "d0e41a1e",
   "metadata": {
    "ExecuteTime": {
     "end_time": "2022-08-02T13:59:24.461891Z",
     "start_time": "2022-08-02T13:59:23.959533Z"
    }
   },
   "outputs": [
    {
     "name": "stdout",
     "output_type": "stream",
     "text": [
      "训练数据的得分： 0.8819875776397516\n",
      "测试数据的得分： 0.6490683229813664\n",
      "CPU times: total: 484 ms\n",
      "Wall time: 486 ms\n"
     ]
    }
   ],
   "source": [
    "%%time\n",
    "# 降维之后的数据\n",
    "X_train,X_test,y_train,y_test = train_test_split(X_pca,y)\n",
    "\n",
    "# 参数C惩罚项，越大，容忍错误就会越小\n",
    "# C越大，趋势：想方设法，把数据分开\n",
    "# 造成过拟合\n",
    "svc = SVC(C = 1)\n",
    "svc.fit(X_train,y_train)\n",
    "print('训练数据的得分：',svc.score(X_train,y_train))\n",
    "print('测试数据的得分：',svc.score(X_test,y_test))"
   ]
  },
  {
   "cell_type": "code",
   "execution_count": null,
   "id": "bd2572af",
   "metadata": {},
   "outputs": [],
   "source": [
    "# 人脸验证，火车站，刷脸进站，对比相似度【人工验票，这么回事】方法\n",
    "# 人脸识别，一堆人脸中，训练，分类，差异"
   ]
  }
 ],
 "metadata": {
  "kernelspec": {
   "display_name": "Python 3 (ipykernel)",
   "language": "python",
   "name": "python3"
  },
  "language_info": {
   "codemirror_mode": {
    "name": "ipython",
    "version": 3
   },
   "file_extension": ".py",
   "mimetype": "text/x-python",
   "name": "python",
   "nbconvert_exporter": "python",
   "pygments_lexer": "ipython3",
   "version": "3.9.6"
  },
  "toc": {
   "base_numbering": 1,
   "nav_menu": {},
   "number_sections": true,
   "sideBar": true,
   "skip_h1_title": false,
   "title_cell": "Table of Contents",
   "title_sidebar": "Contents",
   "toc_cell": false,
   "toc_position": {},
   "toc_section_display": true,
   "toc_window_display": true
  }
 },
 "nbformat": 4,
 "nbformat_minor": 5
}
