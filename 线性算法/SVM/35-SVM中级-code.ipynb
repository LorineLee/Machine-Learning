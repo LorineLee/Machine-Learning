{
 "cells": [
  {
   "cell_type": "code",
   "execution_count": 10,
   "id": "00c18ee2",
   "metadata": {
    "ExecuteTime": {
     "end_time": "2022-08-02T12:10:09.648743Z",
     "start_time": "2022-08-02T12:10:09.629743Z"
    }
   },
   "outputs": [
    {
     "name": "stdout",
     "output_type": "stream",
     "text": [
      "10\n",
      "5.0\n"
     ]
    }
   ],
   "source": [
    "b = 10\n",
    "print(b)\n",
    "b /= 2\n",
    "print(b)"
   ]
  },
  {
   "cell_type": "markdown",
   "id": "7ae41938",
   "metadata": {},
   "source": [
    "### 线性问题-SVM"
   ]
  },
  {
   "cell_type": "markdown",
   "id": "08c366fb",
   "metadata": {},
   "source": [
    "#### 导包"
   ]
  },
  {
   "cell_type": "code",
   "execution_count": 11,
   "id": "f7ef3961",
   "metadata": {
    "ExecuteTime": {
     "end_time": "2022-08-02T12:10:09.663625Z",
     "start_time": "2022-08-02T12:10:09.651665Z"
    }
   },
   "outputs": [],
   "source": [
    "import numpy as np\n",
    "import matplotlib.pyplot as plt\n",
    "from sklearn.svm import SVC\n",
    "from sklearn import datasets"
   ]
  },
  {
   "cell_type": "markdown",
   "id": "b71ea5fc",
   "metadata": {},
   "source": [
    "#### 创建数据"
   ]
  },
  {
   "cell_type": "code",
   "execution_count": 12,
   "id": "e0c969d9",
   "metadata": {
    "ExecuteTime": {
     "end_time": "2022-08-02T12:10:09.787007Z",
     "start_time": "2022-08-02T12:10:09.665618Z"
    }
   },
   "outputs": [
    {
     "data": {
      "text/plain": [
       "(100, 2)"
      ]
     },
     "metadata": {},
     "output_type": "display_data"
    },
    {
     "data": {
      "text/plain": [
       "(100,)"
      ]
     },
     "metadata": {},
     "output_type": "display_data"
    },
    {
     "data": {
      "text/plain": [
       "array([0, 1])"
      ]
     },
     "metadata": {},
     "output_type": "display_data"
    },
    {
     "data": {
      "text/plain": [
       "<matplotlib.collections.PathCollection at 0x16fbf58a940>"
      ]
     },
     "execution_count": 12,
     "metadata": {},
     "output_type": "execute_result"
    },
    {
     "data": {
      "image/png": "[encoded data removed]",
      "text/plain": [
       "<Figure size 432x288 with 1 Axes>"
      ]
     },
     "metadata": {
      "needs_background": "light"
     },
     "output_type": "display_data"
    }
   ],
   "source": [
    "X,y = datasets.make_blobs(n_samples=100,n_features=2,centers=2,\n",
    "                    random_state=3)\n",
    "display(X.shape,y.shape,np.unique(y))\n",
    "plt.scatter(X[:,0],X[:,1],c = y)"
   ]
  },
  {
   "cell_type": "markdown",
   "id": "cf366dc7",
   "metadata": {},
   "source": [
    "#### SVC建模"
   ]
  },
  {
   "cell_type": "code",
   "execution_count": 13,
   "id": "1d0239da",
   "metadata": {
    "ExecuteTime": {
     "end_time": "2022-08-02T12:10:09.817839Z",
     "start_time": "2022-08-02T12:10:09.792925Z"
    }
   },
   "outputs": [
    {
     "data": {
      "text/html": [
       "<style>#sk-container-id-2 {color: black;background-color: white;}#sk-container-id-2 pre{padding: 0;}#sk-container-id-2 div.sk-toggleable {background-color: white;}#sk-container-id-2 label.sk-toggleable__label {cursor: pointer;display: block;width: 100%;margin-bottom: 0;padding: 0.3em;box-sizing: border-box;text-align: center;}#sk-container-id-2 label.sk-toggleable__label-arrow:before {content: \"▸\";float: left;margin-right: 0.25em;color: #696969;}#sk-container-id-2 label.sk-toggleable__label-arrow:hover:before {color: black;}#sk-container-id-2 div.sk-estimator:hover label.sk-toggleable__label-arrow:before {color: black;}#sk-container-id-2 div.sk-toggleable__content {max-height: 0;max-width: 0;overflow: hidden;text-align: left;background-color: #f0f8ff;}#sk-container-id-2 div.sk-toggleable__content pre {margin: 0.2em;color: black;border-radius: 0.25em;background-color: #f0f8ff;}#sk-container-id-2 input.sk-toggleable__control:checked~div.sk-toggleable__content {max-height: 200px;max-width: 100%;overflow: auto;}#sk-container-id-2 input.sk-toggleable__control:checked~label.sk-toggleable__label-arrow:before {content: \"▾\";}#sk-container-id-2 div.sk-estimator input.sk-toggleable__control:checked~label.sk-toggleable__label {background-color: #d4ebff;}#sk-container-id-2 div.sk-label input.sk-toggleable__control:checked~label.sk-toggleable__label {background-color: #d4ebff;}#sk-container-id-2 input.sk-hidden--visually {border: 0;clip: rect(1px 1px 1px 1px);clip: rect(1px, 1px, 1px, 1px);height: 1px;margin: -1px;overflow: hidden;padding: 0;position: absolute;width: 1px;}#sk-container-id-2 div.sk-estimator {font-family: monospace;background-color: #f0f8ff;border: 1px dotted black;border-radius: 0.25em;box-sizing: border-box;margin-bottom: 0.5em;}#sk-container-id-2 div.sk-estimator:hover {background-color: #d4ebff;}#sk-container-id-2 div.sk-parallel-item::after {content: \"\";width: 100%;border-bottom: 1px solid gray;flex-grow: 1;}#sk-container-id-2 div.sk-label:hover label.sk-toggleable__label {background-color: #d4ebff;}#sk-container-id-2 div.sk-serial::before {content: \"\";position: absolute;border-left: 1px solid gray;box-sizing: border-box;top: 0;bottom: 0;left: 50%;z-index: 0;}#sk-container-id-2 div.sk-serial {display: flex;flex-direction: column;align-items: center;background-color: white;padding-right: 0.2em;padding-left: 0.2em;position: relative;}#sk-container-id-2 div.sk-item {position: relative;z-index: 1;}#sk-container-id-2 div.sk-parallel {display: flex;align-items: stretch;justify-content: center;background-color: white;position: relative;}#sk-container-id-2 div.sk-item::before, #sk-container-id-2 div.sk-parallel-item::before {content: \"\";position: absolute;border-left: 1px solid gray;box-sizing: border-box;top: 0;bottom: 0;left: 50%;z-index: -1;}#sk-container-id-2 div.sk-parallel-item {display: flex;flex-direction: column;z-index: 1;position: relative;background-color: white;}#sk-container-id-2 div.sk-parallel-item:first-child::after {align-self: flex-end;width: 50%;}#sk-container-id-2 div.sk-parallel-item:last-child::after {align-self: flex-start;width: 50%;}#sk-container-id-2 div.sk-parallel-item:only-child::after {width: 0;}#sk-container-id-2 div.sk-dashed-wrapped {border: 1px dashed gray;margin: 0 0.4em 0.5em 0.4em;box-sizing: border-box;padding-bottom: 0.4em;background-color: white;}#sk-container-id-2 div.sk-label label {font-family: monospace;font-weight: bold;display: inline-block;line-height: 1.2em;}#sk-container-id-2 div.sk-label-container {text-align: center;}#sk-container-id-2 div.sk-container {/* jupyter's `normalize.less` sets `[hidden] { display: none; }` but bootstrap.min.css set `[hidden] { display: none !important; }` so we also need the `!important` here to be able to override the default hidden behavior on the sphinx rendered scikit-learn.org. See: https://github.com/scikit-learn/scikit-learn/issues/21755 */display: inline-block !important;position: relative;}#sk-container-id-2 div.sk-text-repr-fallback {display: none;}</style><div id=\"sk-container-id-2\" class=\"sk-top-container\"><div class=\"sk-text-repr-fallback\"><pre>SVC(kernel=&#x27;linear&#x27;)</pre><b>In a Jupyter environment, please rerun this cell to show the HTML representation or trust the notebook. <br />On GitHub, the HTML representation is unable to render, please try loading this page with nbviewer.org.</b></div><div class=\"sk-container\" hidden><div class=\"sk-item\"><div class=\"sk-estimator sk-toggleable\"><input class=\"sk-toggleable__control sk-hidden--visually\" id=\"sk-estimator-id-2\" type=\"checkbox\" checked><label for=\"sk-estimator-id-2\" class=\"sk-toggleable__label sk-toggleable__label-arrow\">SVC</label><div class=\"sk-toggleable__content\"><pre>SVC(kernel=&#x27;linear&#x27;)</pre></div></div></div></div></div>"
      ],
      "text/plain": [
       "SVC(kernel='linear')"
      ]
     },
     "execution_count": 13,
     "metadata": {},
     "output_type": "execute_result"
    }
   ],
   "source": [
    "svc = SVC(kernel='linear')\n",
    "svc.fit(X,y)"
   ]
  },
  {
   "cell_type": "markdown",
   "id": "1e62d699",
   "metadata": {},
   "source": [
    "#### 斜率截距"
   ]
  },
  {
   "cell_type": "code",
   "execution_count": 14,
   "id": "383acca5",
   "metadata": {
    "ExecuteTime": {
     "end_time": "2022-08-02T12:10:09.833428Z",
     "start_time": "2022-08-02T12:10:09.820484Z"
    }
   },
   "outputs": [
    {
     "name": "stdout",
     "output_type": "stream",
     "text": [
      "-0.6919471625850107 -1.0095820136716522\n"
     ]
    }
   ],
   "source": [
    "w1,w2 = svc.coef_[0]\n",
    "\n",
    "print(w1,w2)"
   ]
  },
  {
   "cell_type": "code",
   "execution_count": 15,
   "id": "2b6a2a1c",
   "metadata": {
    "ExecuteTime": {
     "end_time": "2022-08-02T12:10:09.848642Z",
     "start_time": "2022-08-02T12:10:09.835824Z"
    }
   },
   "outputs": [
    {
     "data": {
      "text/plain": [
       "0.9073212751880165"
      ]
     },
     "execution_count": 15,
     "metadata": {},
     "output_type": "execute_result"
    }
   ],
   "source": [
    "b, = svc.intercept_\n",
    "b"
   ]
  },
  {
   "cell_type": "markdown",
   "id": "8f4ffc65",
   "metadata": {},
   "source": [
    "$f = w_1x_1 + w_2x_2 + b$"
   ]
  },
  {
   "cell_type": "markdown",
   "id": "417aa6ff",
   "metadata": {},
   "source": [
    "$0 = w_1x_1 + w_2x_2 + b$"
   ]
  },
  {
   "cell_type": "markdown",
   "id": "0230b41f",
   "metadata": {},
   "source": [
    "$0 = w_1x + w_2y + b$"
   ]
  },
  {
   "cell_type": "markdown",
   "id": "0e8d0bc0",
   "metadata": {},
   "source": [
    "$y = -\\frac{w_1}{w_2}x - \\frac{b}{w_2}$"
   ]
  },
  {
   "cell_type": "markdown",
   "id": "20f2ba5c",
   "metadata": {},
   "source": [
    "<font size = 15>$y = wx + b$</font>"
   ]
  },
  {
   "cell_type": "markdown",
   "id": "cf80c118",
   "metadata": {},
   "source": [
    "<font size = 15 color = 'green'>$b = y - wx$</font>"
   ]
  },
  {
   "cell_type": "markdown",
   "id": "62dc5b9d",
   "metadata": {},
   "source": [
    "$1 = w_1x + w_2y + b$"
   ]
  },
  {
   "cell_type": "markdown",
   "id": "c7e5dda4",
   "metadata": {},
   "source": [
    "$y = -\\frac{w_1}{w_2}x - \\frac{1-b}{w_2}$"
   ]
  },
  {
   "cell_type": "markdown",
   "id": "af8746dc",
   "metadata": {},
   "source": [
    "$y = -\\frac{w_1}{w_2}x - \\frac{-1-b}{w_2}$"
   ]
  },
  {
   "cell_type": "code",
   "execution_count": 16,
   "id": "13c8ec6b",
   "metadata": {
    "ExecuteTime": {
     "end_time": "2022-08-02T12:10:09.864581Z",
     "start_time": "2022-08-02T12:10:09.851615Z"
    }
   },
   "outputs": [
    {
     "name": "stdout",
     "output_type": "stream",
     "text": [
      "-0.6853798435538032 0.9073212751880165\n"
     ]
    }
   ],
   "source": [
    "# 计算分割线方程的系数\n",
    "w = -w1/w2\n",
    "b0 = -b/w2\n",
    "s1 = svc.support_vectors_[0]\n",
    "s3 = svc.support_vectors_[-1]\n",
    "# b1 = s1[1] - w * s1[0]\n",
    "# b3 = s3[1] - w * s3[0]\n",
    "b1 = b0 + 1\n",
    "b3 = b0 - 1\n",
    "print(w,b)"
   ]
  },
  {
   "cell_type": "code",
   "execution_count": 17,
   "id": "d3ac3670",
   "metadata": {
    "ExecuteTime": {
     "end_time": "2022-08-02T12:10:09.972593Z",
     "start_time": "2022-08-02T12:10:09.869170Z"
    }
   },
   "outputs": [
    {
     "data": {
      "text/plain": [
       "[<matplotlib.lines.Line2D at 0x16fbf481190>]"
      ]
     },
     "execution_count": 17,
     "metadata": {},
     "output_type": "execute_result"
    },
    {
     "data": {
      "image/png": "[encoded data removed]",
      "text/plain": [
       "<Figure size 432x288 with 1 Axes>"
      ]
     },
     "metadata": {
      "needs_background": "light"
     },
     "output_type": "display_data"
    }
   ],
   "source": [
    "plt.scatter(X[:,0],X[:,1],c = y)\n",
    "\n",
    "x = np.linspace(-5,1,100)\n",
    "y_result = w*x + b0\n",
    "plt.plot(x,y_result,color = 'red')\n",
    "\n",
    "y1 = w*x + b1\n",
    "y3 = w*x + b3\n",
    "plt.plot(x,y1,color = 'green',ls = '--')\n",
    "plt.plot(x,y3,color = 'green',ls = '--')"
   ]
  },
  {
   "cell_type": "code",
   "execution_count": 18,
   "id": "ea1d8957",
   "metadata": {
    "ExecuteTime": {
     "end_time": "2022-08-02T12:10:09.988339Z",
     "start_time": "2022-08-02T12:10:09.976543Z"
    }
   },
   "outputs": [
    {
     "data": {
      "text/plain": [
       "array([[ 0.21219196,  1.74387328],\n",
       "       [-1.8997797 ,  3.19111595],\n",
       "       [-2.19341554,  1.41161044]])"
      ]
     },
     "execution_count": 18,
     "metadata": {},
     "output_type": "execute_result"
    }
   ],
   "source": [
    "svc.support_vectors_"
   ]
  },
  {
   "cell_type": "code",
   "execution_count": null,
   "id": "88a44be2",
   "metadata": {},
   "outputs": [],
   "source": []
  }
 ],
 "metadata": {
  "kernelspec": {
   "display_name": "Python 3 (ipykernel)",
   "language": "python",
   "name": "python3"
  },
  "language_info": {
   "codemirror_mode": {
    "name": "ipython",
    "version": 3
   },
   "file_extension": ".py",
   "mimetype": "text/x-python",
   "name": "python",
   "nbconvert_exporter": "python",
   "pygments_lexer": "ipython3",
   "version": "3.9.6"
  },
  "toc": {
   "base_numbering": 1,
   "nav_menu": {},
   "number_sections": true,
   "sideBar": true,
   "skip_h1_title": false,
   "title_cell": "Table of Contents",
   "title_sidebar": "Contents",
   "toc_cell": false,
   "toc_position": {},
   "toc_section_display": true,
   "toc_window_display": true
  }
 },
 "nbformat": 4,
 "nbformat_minor": 5
}
