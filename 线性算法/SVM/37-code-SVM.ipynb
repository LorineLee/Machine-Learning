{
 "cells": [
  {
   "cell_type": "markdown",
   "id": "a3bb33b7",
   "metadata": {},
   "source": [
    "### SVM核函数"
   ]
  },
  {
   "cell_type": "markdown",
   "id": "51dd88d2",
   "metadata": {},
   "source": [
    "#### 导包"
   ]
  },
  {
   "cell_type": "code",
   "execution_count": 1,
   "id": "4c89f44b",
   "metadata": {
    "ExecuteTime": {
     "end_time": "2022-07-29T13:37:38.677059Z",
     "start_time": "2022-07-29T13:37:38.421861Z"
    }
   },
   "outputs": [],
   "source": [
    "import numpy as np\n",
    "from sklearn import datasets\n",
    "from sklearn.svm import SVC\n",
    "\n",
    "from sklearn.model_selection import train_test_split"
   ]
  },
  {
   "cell_type": "markdown",
   "id": "a4dfb366",
   "metadata": {},
   "source": [
    "#### 加载数据\n"
   ]
  },
  {
   "cell_type": "code",
   "execution_count": 2,
   "id": "dc4a987e",
   "metadata": {
    "ExecuteTime": {
     "end_time": "2022-07-29T13:38:41.395565Z",
     "start_time": "2022-07-29T13:38:41.368646Z"
    }
   },
   "outputs": [
    {
     "data": {
      "text/plain": [
       "(142, 13)"
      ]
     },
     "metadata": {},
     "output_type": "display_data"
    }
   ],
   "source": [
    "X,y = datasets.load_wine(return_X_y=True)\n",
    "\n",
    "X_train,X_test,y_train,y_test = train_test_split(X,y,test_size=0.2)\n",
    "\n",
    "display(X_train.shape)"
   ]
  },
  {
   "cell_type": "markdown",
   "id": "2281ef83",
   "metadata": {},
   "source": [
    "#### 线性核函数"
   ]
  },
  {
   "cell_type": "code",
   "execution_count": 6,
   "id": "a6f388f9",
   "metadata": {
    "ExecuteTime": {
     "end_time": "2022-07-29T13:42:32.764607Z",
     "start_time": "2022-07-29T13:42:32.746061Z"
    }
   },
   "outputs": [
    {
     "data": {
      "text/plain": [
       "array([0, 0, 0, 0, 0, 0, 0, 0, 0, 0, 0, 0, 0, 0, 0, 0, 0, 0, 0, 0, 0, 0,\n",
       "       0, 0, 0, 0, 0, 0, 0, 0, 0, 0, 0, 0, 0, 0, 0, 0, 0, 0, 0, 0, 0, 0,\n",
       "       0, 0, 0, 0, 0, 0, 0, 0, 0, 0, 0, 0, 0, 0, 0, 1, 1, 1, 1, 1, 1, 1,\n",
       "       1, 1, 1, 1, 1, 1, 1, 1, 1, 1, 1, 1, 1, 1, 1, 1, 1, 1, 1, 1, 1, 1,\n",
       "       1, 1, 1, 1, 1, 1, 1, 1, 1, 1, 1, 1, 1, 1, 1, 1, 1, 1, 1, 1, 1, 1,\n",
       "       1, 1, 1, 1, 1, 1, 1, 1, 1, 1, 1, 1, 1, 1, 1, 1, 1, 1, 1, 1, 2, 2,\n",
       "       2, 2, 2, 2, 2, 2, 2, 2, 2, 2, 2, 2, 2, 2, 2, 2, 2, 2, 2, 2, 2, 2,\n",
       "       2, 2, 2, 2, 2, 2, 2, 2, 2, 2, 2, 2, 2, 2, 2, 2, 2, 2, 2, 2, 2, 2,\n",
       "       2, 2])"
      ]
     },
     "execution_count": 6,
     "metadata": {},
     "output_type": "execute_result"
    }
   ],
   "source": [
    "y"
   ]
  },
  {
   "cell_type": "code",
   "execution_count": 7,
   "id": "f883ef98",
   "metadata": {
    "ExecuteTime": {
     "end_time": "2022-07-29T13:42:58.871168Z",
     "start_time": "2022-07-29T13:42:58.858039Z"
    }
   },
   "outputs": [
    {
     "data": {
      "text/plain": [
       "(142, 13)"
      ]
     },
     "execution_count": 7,
     "metadata": {},
     "output_type": "execute_result"
    }
   ],
   "source": [
    "X_train.shape"
   ]
  },
  {
   "cell_type": "code",
   "execution_count": 5,
   "id": "27f31d6d",
   "metadata": {
    "ExecuteTime": {
     "end_time": "2022-07-29T13:42:03.360033Z",
     "start_time": "2022-07-29T13:42:03.294050Z"
    },
    "collapsed": true
   },
   "outputs": [
    {
     "data": {
      "text/plain": [
       "array([[ 0.87461679,  0.58503034,  1.30901877, -0.2053376 ,  0.00791142,\n",
       "        -0.02648789,  0.28527406,  0.25120048, -0.14808948,  0.4932904 ,\n",
       "        -0.16508327,  0.55177431,  0.00439756],\n",
       "       [ 0.00751869,  0.06280402,  0.13381895, -0.03612393,  0.01335316,\n",
       "         0.27556403,  0.44767092, -0.0124128 ,  0.16396695, -0.06890565,\n",
       "         0.0985208 ,  0.40013235,  0.00186776],\n",
       "       [-0.30289155, -0.28857803, -0.57307745,  0.07076996, -0.038963  ,\n",
       "         0.14831149,  1.34058488,  0.10782495,  0.2291751 , -1.00113637,\n",
       "         0.4848562 ,  0.42472284, -0.00238992]])"
      ]
     },
     "metadata": {},
     "output_type": "display_data"
    },
    {
     "data": {
      "text/plain": [
       "array([-19.84003733,  -5.08521134,  11.08381003])"
      ]
     },
     "metadata": {},
     "output_type": "display_data"
    },
    {
     "data": {
      "text/plain": [
       "0.0"
      ]
     },
     "metadata": {},
     "output_type": "display_data"
    }
   ],
   "source": [
    "svc = SVC(kernel='linear') # 线性方程\n",
    "svc.fit(X_train,y_train)\n",
    "svc.score(X_test,y_test)\n",
    "\n",
    "# coeficient系数，方程系数【斜率】，截距\n",
    "display(svc.coef_,svc.intercept_,svc.coef0)"
   ]
  },
  {
   "cell_type": "markdown",
   "id": "d5cca115",
   "metadata": {},
   "source": [
    "#### 高斯核函数"
   ]
  },
  {
   "cell_type": "code",
   "execution_count": 9,
   "id": "2e224357",
   "metadata": {
    "ExecuteTime": {
     "end_time": "2022-07-29T13:46:01.656702Z",
     "start_time": "2022-07-29T13:46:01.645742Z"
    }
   },
   "outputs": [
    {
     "data": {
      "text/plain": [
       "0.6666666666666666"
      ]
     },
     "execution_count": 9,
     "metadata": {},
     "output_type": "execute_result"
    }
   ],
   "source": [
    "svc = SVC(kernel='rbf')\n",
    "svc.fit(X_train,y_train)\n",
    "svc.score(X_test,y_test)\n",
    "# svc.coef_"
   ]
  },
  {
   "cell_type": "markdown",
   "id": "2d962d91",
   "metadata": {},
   "source": [
    "#### 多项式核函数"
   ]
  },
  {
   "cell_type": "code",
   "execution_count": 16,
   "id": "f8b8494d",
   "metadata": {
    "ExecuteTime": {
     "end_time": "2022-07-29T13:47:27.687371Z",
     "start_time": "2022-07-29T13:47:27.671055Z"
    }
   },
   "outputs": [
    {
     "data": {
      "text/plain": [
       "0.7222222222222222"
      ]
     },
     "execution_count": 16,
     "metadata": {},
     "output_type": "execute_result"
    }
   ],
   "source": [
    "svc = SVC(kernel='poly',degree=2,coef0=0)\n",
    "svc.fit(X_train,y_train)\n",
    "svc.score(X_test,y_test)"
   ]
  },
  {
   "cell_type": "markdown",
   "id": "fc542548",
   "metadata": {},
   "source": [
    "#### sigmoid"
   ]
  },
  {
   "cell_type": "code",
   "execution_count": 17,
   "id": "01474f35",
   "metadata": {
    "ExecuteTime": {
     "end_time": "2022-07-29T13:47:44.743451Z",
     "start_time": "2022-07-29T13:47:44.727502Z"
    }
   },
   "outputs": [
    {
     "data": {
      "text/plain": [
       "0.2222222222222222"
      ]
     },
     "execution_count": 17,
     "metadata": {},
     "output_type": "execute_result"
    }
   ],
   "source": [
    "svc = SVC(kernel='sigmoid')\n",
    "svc.fit(X_train,y_train)\n",
    "svc.score(X_test,y_test)"
   ]
  },
  {
   "cell_type": "code",
   "execution_count": null,
   "id": "25944e8b",
   "metadata": {},
   "outputs": [],
   "source": [
    "# 机器学习：\n",
    "# 理论基础判断，第六感觉\n",
    "# 实际基础判断"
   ]
  },
  {
   "cell_type": "markdown",
   "id": "ebfd34c8",
   "metadata": {},
   "source": [
    "### 非线性核函数"
   ]
  },
  {
   "cell_type": "code",
   "execution_count": 18,
   "id": "3da01095",
   "metadata": {
    "ExecuteTime": {
     "end_time": "2022-07-29T13:50:00.047014Z",
     "start_time": "2022-07-29T13:49:59.590527Z"
    }
   },
   "outputs": [],
   "source": [
    "import matplotlib.pyplot as plt"
   ]
  },
  {
   "cell_type": "code",
   "execution_count": 19,
   "id": "9eead4f4",
   "metadata": {
    "ExecuteTime": {
     "end_time": "2022-07-29T13:50:23.762299Z",
     "start_time": "2022-07-29T13:50:23.757321Z"
    }
   },
   "outputs": [],
   "source": [
    "from matplotlib.colors import ListedColormap# 指定颜色"
   ]
  },
  {
   "cell_type": "markdown",
   "id": "ebb3c6b7",
   "metadata": {},
   "source": [
    "#### 造数据"
   ]
  },
  {
   "cell_type": "code",
   "execution_count": 23,
   "id": "30a1ec22",
   "metadata": {
    "ExecuteTime": {
     "end_time": "2022-07-29T13:53:40.679231Z",
     "start_time": "2022-07-29T13:53:40.562554Z"
    }
   },
   "outputs": [
    {
     "data": {
      "text/plain": [
       "<matplotlib.collections.PathCollection at 0x1e857fd4940>"
      ]
     },
     "execution_count": 23,
     "metadata": {},
     "output_type": "execute_result"
    },
    {
     "data": {
      "image/png": "[encoded data removed]",
      "text/plain": [
       "<Figure size 432x432 with 1 Axes>"
      ]
     },
     "metadata": {
      "needs_background": "light"
     },
     "output_type": "display_data"
    }
   ],
   "source": [
    "# 没有拆分，也可以，练习\n",
    "X,y = datasets.make_circles(n_samples=100,factor=0.7)# 两个特征\n",
    "\n",
    "X += np.random.randn(100,2) * 0.03 # 逼真\n",
    "\n",
    "plt.figure(figsize=(6,6))\n",
    "c = ListedColormap(colors=['blue','#FF0000'])\n",
    "plt.scatter(X[:,0],X[:,1],c = y,cmap = c)"
   ]
  },
  {
   "cell_type": "markdown",
   "id": "f9892f0c",
   "metadata": {},
   "source": [
    "#### 线性核函数"
   ]
  },
  {
   "cell_type": "code",
   "execution_count": 25,
   "id": "cf7469c9",
   "metadata": {
    "ExecuteTime": {
     "end_time": "2022-07-29T13:54:57.199575Z",
     "start_time": "2022-07-29T13:54:57.179647Z"
    }
   },
   "outputs": [
    {
     "data": {
      "text/plain": [
       "0.51"
      ]
     },
     "execution_count": 25,
     "metadata": {},
     "output_type": "execute_result"
    }
   ],
   "source": [
    "svc = SVC(kernel='linear')\n",
    "svc.fit(X,y)\n",
    "svc.score(X,y)"
   ]
  },
  {
   "cell_type": "markdown",
   "id": "f9316df0",
   "metadata": {},
   "source": [
    "#### poly【升维】"
   ]
  },
  {
   "cell_type": "code",
   "execution_count": 35,
   "id": "f3d8a600",
   "metadata": {
    "ExecuteTime": {
     "end_time": "2022-07-29T13:58:25.291158Z",
     "start_time": "2022-07-29T13:58:25.276126Z"
    }
   },
   "outputs": [
    {
     "data": {
      "text/plain": [
       "1.0"
      ]
     },
     "execution_count": 35,
     "metadata": {},
     "output_type": "execute_result"
    }
   ],
   "source": [
    "svc = SVC(kernel='poly',degree=2)\n",
    "svc.fit(X,y)\n",
    "svc.score(X,y)"
   ]
  },
  {
   "cell_type": "markdown",
   "id": "cef77a6f",
   "metadata": {},
   "source": [
    "#### rbf【高斯】"
   ]
  },
  {
   "cell_type": "code",
   "execution_count": 36,
   "id": "4a337ef4",
   "metadata": {
    "ExecuteTime": {
     "end_time": "2022-07-29T13:59:00.696853Z",
     "start_time": "2022-07-29T13:59:00.681853Z"
    }
   },
   "outputs": [
    {
     "data": {
      "text/plain": [
       "1.0"
      ]
     },
     "execution_count": 36,
     "metadata": {},
     "output_type": "execute_result"
    }
   ],
   "source": [
    "svc = SVC(kernel='rbf')\n",
    "svc.fit(X,y)\n",
    "svc.score(X,y)"
   ]
  },
  {
   "cell_type": "markdown",
   "id": "9d374bb7",
   "metadata": {},
   "source": [
    "#### sigmoid"
   ]
  },
  {
   "cell_type": "code",
   "execution_count": 37,
   "id": "5a676e95",
   "metadata": {
    "ExecuteTime": {
     "end_time": "2022-07-29T13:59:32.285928Z",
     "start_time": "2022-07-29T13:59:32.273442Z"
    }
   },
   "outputs": [
    {
     "data": {
      "text/plain": [
       "0.55"
      ]
     },
     "execution_count": 37,
     "metadata": {},
     "output_type": "execute_result"
    }
   ],
   "source": [
    "svc = SVC(kernel='sigmoid')\n",
    "svc.fit(X,y)\n",
    "svc.score(X,y)"
   ]
  },
  {
   "cell_type": "code",
   "execution_count": null,
   "id": "f5612dae",
   "metadata": {},
   "outputs": [],
   "source": []
  }
 ],
 "metadata": {
  "kernelspec": {
   "display_name": "Python 3 (ipykernel)",
   "language": "python",
   "name": "python3"
  },
  "language_info": {
   "codemirror_mode": {
    "name": "ipython",
    "version": 3
   },
   "file_extension": ".py",
   "mimetype": "text/x-python",
   "name": "python",
   "nbconvert_exporter": "python",
   "pygments_lexer": "ipython3",
   "version": "3.9.6"
  },
  "toc": {
   "base_numbering": 1,
   "nav_menu": {},
   "number_sections": true,
   "sideBar": true,
   "skip_h1_title": false,
   "title_cell": "Table of Contents",
   "title_sidebar": "Contents",
   "toc_cell": false,
   "toc_position": {},
   "toc_section_display": true,
   "toc_window_display": true
  }
 },
 "nbformat": 4,
 "nbformat_minor": 5
}
