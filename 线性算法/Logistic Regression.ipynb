{
 "cells": [
  {
   "cell_type": "markdown",
   "id": "9ff5951b",
   "metadata": {},
   "source": [
    "- 存在于这个linear_model中，说明逻辑斯蒂回归和**线性回归**，有关系！！\n",
    "- 逻辑斯蒂回归内部，是一个 **<span style=\"color:red\">线性回归模型 + sigmoid函数</span>** ，进行概率的转化\n",
    "- 概率 0 到 1 根据数字的大小，分类 设置阈值 < 0.5 甲类，大于等于 0.5 乙类\n",
    "- 关键：逻辑斯蒂回归用于 **<span style=\"color:red\">解决分类问题</span>**\n",
    "- 逻辑斯蒂回归，名字虽然带着回归，不可以解决回归问题，它是一个 **<span style=\"color:red\">分类算法</span>**\n",
    "    - 老婆饼，没有老婆\n",
    "    - 红烧狮子头，有狮子吗？"
   ]
  },
  {
   "cell_type": "markdown",
   "id": "23300e39",
   "metadata": {},
   "source": [
    "### 逻辑斯蒂回归使用"
   ]
  },
  {
   "cell_type": "code",
   "execution_count": 1,
   "id": "a7c75cf8",
   "metadata": {
    "ExecuteTime": {
     "end_time": "2022-06-09T07:31:33.020775Z",
     "start_time": "2022-06-09T07:31:33.006820Z"
    }
   },
   "outputs": [],
   "source": [
    "from sklearn.linear_model import LogisticRegression # 逻辑斯蒂回归\n",
    "import numpy as np\n",
    "import matplotlib.pyplot as plt"
   ]
  },
  {
   "cell_type": "markdown",
   "id": "7abbfeba",
   "metadata": {},
   "source": [
    "#### sigmoid曲线绘制"
   ]
  },
  {
   "cell_type": "code",
   "execution_count": 2,
   "id": "b26200f5",
   "metadata": {
    "ExecuteTime": {
     "end_time": "2022-06-09T07:31:33.114460Z",
     "start_time": "2022-06-09T07:31:33.022770Z"
    }
   },
   "outputs": [
    {
     "data": {
      "text/plain": [
       "[<matplotlib.lines.Line2D at 0x29e35c005b0>]"
      ]
     },
     "execution_count": 2,
     "metadata": {},
     "output_type": "execute_result"
    },
    {
     "data": {
      "image/png": "[encoded data removed]",
      "text/plain": [
       "<Figure size 640x480 with 1 Axes>"
      ]
     },
     "metadata": {},
     "output_type": "display_data"
    }
   ],
   "source": [
    "def sigmoid(x):\n",
    "    return 1/(1 + np.exp(-x))\n",
    "\n",
    "x = np.linspace(-5,5,100)\n",
    "y = sigmoid(x)\n",
    "plt.plot(x,y,color = 'green')"
   ]
  },
  {
   "cell_type": "markdown",
   "id": "c71d5490",
   "metadata": {},
   "source": [
    "### 逻辑斯蒂回归分类"
   ]
  },
  {
   "cell_type": "code",
   "execution_count": 2,
   "id": "afac64d1",
   "metadata": {
    "ExecuteTime": {
     "end_time": "2022-06-09T07:31:33.129466Z",
     "start_time": "2022-06-09T07:31:33.116453Z"
    }
   },
   "outputs": [],
   "source": [
    "from sklearn.linear_model import LogisticRegression\n",
    "from sklearn.datasets import load_iris"
   ]
  },
  {
   "cell_type": "markdown",
   "id": "828cd6b3",
   "metadata": {},
   "source": [
    "#### 加载数据"
   ]
  },
  {
   "cell_type": "code",
   "execution_count": 3,
   "id": "d5c786cf",
   "metadata": {
    "ExecuteTime": {
     "end_time": "2022-06-09T07:31:33.144361Z",
     "start_time": "2022-06-09T07:31:33.132421Z"
    }
   },
   "outputs": [
    {
     "data": {
      "text/plain": [
       "(150, 4)"
      ]
     },
     "metadata": {},
     "output_type": "display_data"
    },
    {
     "data": {
      "text/plain": [
       "array([0, 0, 0, 0, 0, 0, 0, 0, 0, 0, 0, 0, 0, 0, 0, 0, 0, 0, 0, 0, 0, 0,\n",
       "       0, 0, 0, 0, 0, 0, 0, 0, 0, 0, 0, 0, 0, 0, 0, 0, 0, 0, 0, 0, 0, 0,\n",
       "       0, 0, 0, 0, 0, 0, 1, 1, 1, 1, 1, 1, 1, 1, 1, 1, 1, 1, 1, 1, 1, 1,\n",
       "       1, 1, 1, 1, 1, 1, 1, 1, 1, 1, 1, 1, 1, 1, 1, 1, 1, 1, 1, 1, 1, 1,\n",
       "       1, 1, 1, 1, 1, 1, 1, 1, 1, 1, 1, 1, 2, 2, 2, 2, 2, 2, 2, 2, 2, 2,\n",
       "       2, 2, 2, 2, 2, 2, 2, 2, 2, 2, 2, 2, 2, 2, 2, 2, 2, 2, 2, 2, 2, 2,\n",
       "       2, 2, 2, 2, 2, 2, 2, 2, 2, 2, 2, 2, 2, 2, 2, 2, 2, 2])"
      ]
     },
     "metadata": {},
     "output_type": "display_data"
    }
   ],
   "source": [
    "X,y = load_iris(return_X_y=True)  # 直接返回数据\n",
    "display(X.shape,y)"
   ]
  },
  {
   "cell_type": "markdown",
   "id": "cfe6ec6f",
   "metadata": {},
   "source": [
    "#### 拆分"
   ]
  },
  {
   "cell_type": "code",
   "execution_count": 4,
   "id": "bec0e11e",
   "metadata": {
    "ExecuteTime": {
     "end_time": "2022-06-09T07:31:33.160307Z",
     "start_time": "2022-06-09T07:31:33.146354Z"
    }
   },
   "outputs": [
    {
     "data": {
      "text/plain": [
       "(127, 4)"
      ]
     },
     "metadata": {},
     "output_type": "display_data"
    },
    {
     "data": {
      "text/plain": [
       "(23, 4)"
      ]
     },
     "metadata": {},
     "output_type": "display_data"
    }
   ],
   "source": [
    "from sklearn.model_selection import train_test_split\n",
    "\n",
    "X_train,X_test,y_train,y_test = train_test_split(X,y,test_size=0.15) # 15%保留作为测试数据\n",
    "display(X_train.shape,X_test.shape)"
   ]
  },
  {
   "cell_type": "markdown",
   "id": "9a323138",
   "metadata": {},
   "source": [
    "#### 建模"
   ]
  },
  {
   "cell_type": "code",
   "execution_count": 5,
   "id": "38d269b1",
   "metadata": {
    "ExecuteTime": {
     "end_time": "2022-06-09T07:31:33.191209Z",
     "start_time": "2022-06-09T07:31:33.161304Z"
    }
   },
   "outputs": [
    {
     "data": {
      "text/html": [
       "<style>#sk-container-id-1 {color: black;}#sk-container-id-1 pre{padding: 0;}#sk-container-id-1 div.sk-toggleable {background-color: white;}#sk-container-id-1 label.sk-toggleable__label {cursor: pointer;display: block;width: 100%;margin-bottom: 0;padding: 0.3em;box-sizing: border-box;text-align: center;}#sk-container-id-1 label.sk-toggleable__label-arrow:before {content: \"▸\";float: left;margin-right: 0.25em;color: #696969;}#sk-container-id-1 label.sk-toggleable__label-arrow:hover:before {color: black;}#sk-container-id-1 div.sk-estimator:hover label.sk-toggleable__label-arrow:before {color: black;}#sk-container-id-1 div.sk-toggleable__content {max-height: 0;max-width: 0;overflow: hidden;text-align: left;background-color: #f0f8ff;}#sk-container-id-1 div.sk-toggleable__content pre {margin: 0.2em;color: black;border-radius: 0.25em;background-color: #f0f8ff;}#sk-container-id-1 input.sk-toggleable__control:checked~div.sk-toggleable__content {max-height: 200px;max-width: 100%;overflow: auto;}#sk-container-id-1 input.sk-toggleable__control:checked~label.sk-toggleable__label-arrow:before {content: \"▾\";}#sk-container-id-1 div.sk-estimator input.sk-toggleable__control:checked~label.sk-toggleable__label {background-color: #d4ebff;}#sk-container-id-1 div.sk-label input.sk-toggleable__control:checked~label.sk-toggleable__label {background-color: #d4ebff;}#sk-container-id-1 input.sk-hidden--visually {border: 0;clip: rect(1px 1px 1px 1px);clip: rect(1px, 1px, 1px, 1px);height: 1px;margin: -1px;overflow: hidden;padding: 0;position: absolute;width: 1px;}#sk-container-id-1 div.sk-estimator {font-family: monospace;background-color: #f0f8ff;border: 1px dotted black;border-radius: 0.25em;box-sizing: border-box;margin-bottom: 0.5em;}#sk-container-id-1 div.sk-estimator:hover {background-color: #d4ebff;}#sk-container-id-1 div.sk-parallel-item::after {content: \"\";width: 100%;border-bottom: 1px solid gray;flex-grow: 1;}#sk-container-id-1 div.sk-label:hover label.sk-toggleable__label {background-color: #d4ebff;}#sk-container-id-1 div.sk-serial::before {content: \"\";position: absolute;border-left: 1px solid gray;box-sizing: border-box;top: 0;bottom: 0;left: 50%;z-index: 0;}#sk-container-id-1 div.sk-serial {display: flex;flex-direction: column;align-items: center;background-color: white;padding-right: 0.2em;padding-left: 0.2em;position: relative;}#sk-container-id-1 div.sk-item {position: relative;z-index: 1;}#sk-container-id-1 div.sk-parallel {display: flex;align-items: stretch;justify-content: center;background-color: white;position: relative;}#sk-container-id-1 div.sk-item::before, #sk-container-id-1 div.sk-parallel-item::before {content: \"\";position: absolute;border-left: 1px solid gray;box-sizing: border-box;top: 0;bottom: 0;left: 50%;z-index: -1;}#sk-container-id-1 div.sk-parallel-item {display: flex;flex-direction: column;z-index: 1;position: relative;background-color: white;}#sk-container-id-1 div.sk-parallel-item:first-child::after {align-self: flex-end;width: 50%;}#sk-container-id-1 div.sk-parallel-item:last-child::after {align-self: flex-start;width: 50%;}#sk-container-id-1 div.sk-parallel-item:only-child::after {width: 0;}#sk-container-id-1 div.sk-dashed-wrapped {border: 1px dashed gray;margin: 0 0.4em 0.5em 0.4em;box-sizing: border-box;padding-bottom: 0.4em;background-color: white;}#sk-container-id-1 div.sk-label label {font-family: monospace;font-weight: bold;display: inline-block;line-height: 1.2em;}#sk-container-id-1 div.sk-label-container {text-align: center;}#sk-container-id-1 div.sk-container {/* jupyter's `normalize.less` sets `[hidden] { display: none; }` but bootstrap.min.css set `[hidden] { display: none !important; }` so we also need the `!important` here to be able to override the default hidden behavior on the sphinx rendered scikit-learn.org. See: https://github.com/scikit-learn/scikit-learn/issues/21755 */display: inline-block !important;position: relative;}#sk-container-id-1 div.sk-text-repr-fallback {display: none;}</style><div id=\"sk-container-id-1\" class=\"sk-top-container\"><div class=\"sk-text-repr-fallback\"><pre>LogisticRegression(max_iter=1000)</pre><b>In a Jupyter environment, please rerun this cell to show the HTML representation or trust the notebook. <br />On GitHub, the HTML representation is unable to render, please try loading this page with nbviewer.org.</b></div><div class=\"sk-container\" hidden><div class=\"sk-item\"><div class=\"sk-estimator sk-toggleable\"><input class=\"sk-toggleable__control sk-hidden--visually\" id=\"sk-estimator-id-1\" type=\"checkbox\" checked><label for=\"sk-estimator-id-1\" class=\"sk-toggleable__label sk-toggleable__label-arrow\">LogisticRegression</label><div class=\"sk-toggleable__content\"><pre>LogisticRegression(max_iter=1000)</pre></div></div></div></div></div>"
      ],
      "text/plain": [
       "LogisticRegression(max_iter=1000)"
      ]
     },
     "execution_count": 5,
     "metadata": {},
     "output_type": "execute_result"
    }
   ],
   "source": [
    "model = LogisticRegression(max_iter=1000) # 迭代次数，和梯度下降有关，默认的参数使100，没有拟合好，需要提升参数的次数\n",
    "\n",
    "model.fit(X_train,y_train)"
   ]
  },
  {
   "cell_type": "markdown",
   "id": "83bfa754",
   "metadata": {},
   "source": [
    "#### 预测"
   ]
  },
  {
   "cell_type": "code",
   "execution_count": 6,
   "id": "1f7fed22",
   "metadata": {
    "ExecuteTime": {
     "end_time": "2022-06-09T07:31:33.207155Z",
     "start_time": "2022-06-09T07:31:33.192215Z"
    }
   },
   "outputs": [
    {
     "data": {
      "text/plain": [
       "'真实类别：'"
      ]
     },
     "metadata": {},
     "output_type": "display_data"
    },
    {
     "data": {
      "text/plain": [
       "array([1, 1, 2, 2, 2, 0, 1, 0, 1, 1, 1, 2, 0, 2, 2, 1, 1, 0, 0, 1, 2, 0,\n",
       "       2])"
      ]
     },
     "metadata": {},
     "output_type": "display_data"
    },
    {
     "data": {
      "text/plain": [
       "'算法预测：'"
      ]
     },
     "metadata": {},
     "output_type": "display_data"
    },
    {
     "data": {
      "text/plain": [
       "array([1, 1, 2, 2, 2, 0, 1, 0, 1, 1, 1, 2, 0, 2, 2, 1, 1, 0, 0, 1, 2, 0,\n",
       "       2])"
      ]
     },
     "metadata": {},
     "output_type": "display_data"
    }
   ],
   "source": [
    "y_ = model.predict(X_test)\n",
    "display('真实类别：',y_test)\n",
    "display('算法预测：',y_)"
   ]
  },
  {
   "cell_type": "code",
   "execution_count": 7,
   "id": "6e387cd7",
   "metadata": {
    "ExecuteTime": {
     "end_time": "2022-06-09T07:31:33.222101Z",
     "start_time": "2022-06-09T07:31:33.208151Z"
    }
   },
   "outputs": [
    {
     "data": {
      "text/plain": [
       "1.0"
      ]
     },
     "execution_count": 7,
     "metadata": {},
     "output_type": "execute_result"
    }
   ],
   "source": [
    "model.score(X_test,y_test)"
   ]
  },
  {
   "cell_type": "markdown",
   "id": "bb40be59",
   "metadata": {},
   "source": [
    "#### 概率"
   ]
  },
  {
   "cell_type": "code",
   "execution_count": 9,
   "id": "f9e18eda",
   "metadata": {},
   "outputs": [],
   "source": [
    "np.set_printoptions(suppress=True)"
   ]
  },
  {
   "cell_type": "code",
   "execution_count": 10,
   "id": "53f495c2",
   "metadata": {
    "ExecuteTime": {
     "end_time": "2022-06-09T07:31:33.237816Z",
     "start_time": "2022-06-09T07:31:33.225097Z"
    }
   },
   "outputs": [
    {
     "data": {
      "text/plain": [
       "array([[0.02044708, 0.91741574, 0.06213718],\n",
       "       [0.01803971, 0.8909547 , 0.09100559],\n",
       "       [0.00000879, 0.05922307, 0.94076814],\n",
       "       [0.00000067, 0.01274138, 0.98725794],\n",
       "       [0.00000014, 0.00375927, 0.99624059],\n",
       "       [0.97248303, 0.02751691, 0.00000006],\n",
       "       [0.00284904, 0.84076583, 0.15638512],\n",
       "       [0.9690234 , 0.03097649, 0.00000011],\n",
       "       [0.00140694, 0.68642198, 0.31217108],\n",
       "       [0.13335313, 0.86328774, 0.00335913],\n",
       "       [0.00909925, 0.93000883, 0.06089192],\n",
       "       [0.00080443, 0.40896084, 0.59023473],\n",
       "       [0.98513062, 0.01486934, 0.00000004],\n",
       "       [0.0021167 , 0.46210831, 0.53577499],\n",
       "       [0.0000001 , 0.00508969, 0.99491021],\n",
       "       [0.01189214, 0.97045816, 0.0176497 ],\n",
       "       [0.00390304, 0.76625898, 0.22983797],\n",
       "       [0.97288362, 0.02711634, 0.00000004],\n",
       "       [0.98559354, 0.01440644, 0.00000002],\n",
       "       [0.02363246, 0.93294014, 0.04342739],\n",
       "       [0.0009074 , 0.23435185, 0.76474075],\n",
       "       [0.98252907, 0.01747089, 0.00000005],\n",
       "       [0.00000104, 0.01596367, 0.98403529]])"
      ]
     },
     "execution_count": 10,
     "metadata": {},
     "output_type": "execute_result"
    }
   ],
   "source": [
    "model.predict_proba(X_test)"
   ]
  },
  {
   "cell_type": "markdown",
   "id": "5564d11d",
   "metadata": {},
   "source": [
    "#### 方程，线性回归方程"
   ]
  },
  {
   "cell_type": "markdown",
   "id": "f2143198",
   "metadata": {},
   "source": [
    "- 三个方程，三分类问题"
   ]
  },
  {
   "cell_type": "code",
   "execution_count": 11,
   "id": "ad14b796",
   "metadata": {
    "ExecuteTime": {
     "end_time": "2022-06-09T07:31:33.253587Z",
     "start_time": "2022-06-09T07:31:33.239769Z"
    }
   },
   "outputs": [
    {
     "data": {
      "text/plain": [
       "array([[-0.42278477,  0.89359311, -2.41612846, -1.02874322],\n",
       "       [ 0.43637506, -0.32533478, -0.19742805, -0.79845084],\n",
       "       [-0.01359029, -0.56825833,  2.6135565 ,  1.82719405]])"
      ]
     },
     "execution_count": 11,
     "metadata": {},
     "output_type": "execute_result"
    }
   ],
   "source": [
    "w_ = model.coef_\n",
    "w_"
   ]
  },
  {
   "cell_type": "code",
   "execution_count": 13,
   "id": "d929a79d",
   "metadata": {
    "ExecuteTime": {
     "end_time": "2022-06-09T07:32:40.406156Z",
     "start_time": "2022-06-09T07:32:40.397186Z"
    }
   },
   "outputs": [
    {
     "data": {
      "text/plain": [
       "array([  9.66515056,   2.48862917, -12.15377973])"
      ]
     },
     "execution_count": 13,
     "metadata": {},
     "output_type": "execute_result"
    }
   ],
   "source": [
    "b_ = model.intercept_\n",
    "b_"
   ]
  },
  {
   "cell_type": "markdown",
   "id": "8c092813",
   "metadata": {},
   "source": [
    "#### 手动计算概率"
   ]
  },
  {
   "cell_type": "code",
   "execution_count": 177,
   "id": "92875455",
   "metadata": {
    "ExecuteTime": {
     "end_time": "2022-06-09T07:39:33.479174Z",
     "start_time": "2022-06-09T07:39:33.469207Z"
    },
    "scrolled": true
   },
   "outputs": [
    {
     "data": {
      "text/plain": [
       "array([[0.97754451, 0.02245546, 0.00000003],\n",
       "       [0.00002269, 0.03559619, 0.96438111],\n",
       "       [0.00778803, 0.89474849, 0.09746348],\n",
       "       [0.08136146, 0.91461311, 0.00402542],\n",
       "       [0.01008948, 0.57484769, 0.41506283],\n",
       "       [0.00355854, 0.41223687, 0.58420459],\n",
       "       [0.02465211, 0.91150878, 0.06383912],\n",
       "       [0.98561179, 0.01438818, 0.00000003],\n",
       "       [0.00012086, 0.11913934, 0.88073979],\n",
       "       [0.94966947, 0.05033035, 0.00000017],\n",
       "       [0.07361101, 0.92094118, 0.00544781],\n",
       "       [0.96690091, 0.033099  , 0.00000009],\n",
       "       [0.97475356, 0.02524637, 0.00000007],\n",
       "       [0.0334601 , 0.94945181, 0.01708809],\n",
       "       [0.29283985, 0.70573553, 0.00142462],\n",
       "       [0.98448304, 0.01551693, 0.00000003],\n",
       "       [0.00328052, 0.8273788 , 0.16934068],\n",
       "       [0.01448564, 0.73721358, 0.24830079],\n",
       "       [0.0000299 , 0.13491685, 0.86505325],\n",
       "       [0.98040689, 0.01959306, 0.00000005],\n",
       "       [0.00000227, 0.03042016, 0.96957758],\n",
       "       [0.01065964, 0.92680796, 0.0625324 ],\n",
       "       [0.97330438, 0.02669555, 0.00000007]])"
      ]
     },
     "execution_count": 177,
     "metadata": {},
     "output_type": "execute_result"
    }
   ],
   "source": [
    "z= X_test.dot(w_.T) + b_\n",
    "\n",
    "def softmax(x):\n",
    "    return np.e**x/((np.e**x).sum(axis = 1)).reshape(-1,1)\n",
    "softmax(z)"
   ]
  },
  {
   "cell_type": "code",
   "execution_count": null,
   "id": "5e2bb306",
   "metadata": {},
   "outputs": [],
   "source": []
  }
 ],
 "metadata": {
  "hide_input": false,
  "kernelspec": {
   "display_name": "Python 3 (ipykernel)",
   "language": "python",
   "name": "python3"
  },
  "language_info": {
   "codemirror_mode": {
    "name": "ipython",
    "version": 3
   },
   "file_extension": ".py",
   "mimetype": "text/x-python",
   "name": "python",
   "nbconvert_exporter": "python",
   "pygments_lexer": "ipython3",
   "version": "3.10.13"
  },
  "toc": {
   "base_numbering": 1,
   "nav_menu": {},
   "number_sections": true,
   "sideBar": false,
   "skip_h1_title": false,
   "title_cell": "Table of Contents",
   "title_sidebar": "Contents",
   "toc_cell": false,
   "toc_position": {
    "height": "397.333px",
    "left": "22px",
    "top": "154px",
    "width": "256px"
   },
   "toc_section_display": true,
   "toc_window_display": false
  }
 },
 "nbformat": 4,
 "nbformat_minor": 5
}
