{
 "cells": [
  {
   "cell_type": "markdown",
   "id": "9ff5951b",
   "metadata": {},
   "source": [
    "- 存在于这个linear_model中，说明逻辑斯蒂回归和**线性回归**，有关系！！\n",
    "- 逻辑斯蒂回归内部，是一个 **<span style=\"color:red\">线性回归模型 + sigmoid函数</span>** ，进行概率的转化\n",
    "- 概率 0 到 1 根据数字的大小，分类 设置阈值 < 0.5 甲类，大于等于 0.5 乙类\n",
    "- 关键：逻辑斯蒂回归用于 **<span style=\"color:red\">解决分类问题</span>**\n",
    "- 逻辑斯蒂回归，名字虽然带着回归，不可以解决回归问题，它是一个 **<span style=\"color:red\">分类算法</span>**\n",
    "    - 老婆饼，没有老婆\n",
    "    - 红烧狮子头，有狮子吗？"
   ]
  },
  {
   "cell_type": "markdown",
   "id": "23300e39",
   "metadata": {},
   "source": [
    "# 逻辑斯蒂回归使用"
   ]
  },
  {
   "cell_type": "code",
   "execution_count": 1,
   "id": "a7c75cf8",
   "metadata": {
    "ExecuteTime": {
     "end_time": "2022-06-09T07:31:33.020775Z",
     "start_time": "2022-06-09T07:31:33.006820Z"
    },
    "execution": {
     "iopub.execute_input": "2024-03-10T14:15:21.046037Z",
     "iopub.status.busy": "2024-03-10T14:15:21.045036Z",
     "iopub.status.idle": "2024-03-10T14:15:24.816806Z",
     "shell.execute_reply": "2024-03-10T14:15:24.816806Z",
     "shell.execute_reply.started": "2024-03-10T14:15:21.046037Z"
    }
   },
   "outputs": [],
   "source": [
    "from sklearn.linear_model import LogisticRegression # 逻辑斯蒂回归\n",
    "import numpy as np\n",
    "import matplotlib.pyplot as plt"
   ]
  },
  {
   "cell_type": "markdown",
   "id": "7abbfeba",
   "metadata": {},
   "source": [
    "## sigmoid曲线绘制"
   ]
  },
  {
   "cell_type": "code",
   "execution_count": 2,
   "id": "b26200f5",
   "metadata": {
    "ExecuteTime": {
     "end_time": "2022-06-09T07:31:33.114460Z",
     "start_time": "2022-06-09T07:31:33.022770Z"
    },
    "execution": {
     "iopub.execute_input": "2024-03-10T15:47:34.521709Z",
     "iopub.status.busy": "2024-03-10T15:47:34.520711Z",
     "iopub.status.idle": "2024-03-10T15:47:35.523680Z",
     "shell.execute_reply": "2024-03-10T15:47:35.521686Z",
     "shell.execute_reply.started": "2024-03-10T15:47:34.521709Z"
    }
   },
   "outputs": [
    {
     "data": {
      "text/plain": [
       "[<matplotlib.lines.Line2D at 0x24d4c6c47f0>]"
      ]
     },
     "execution_count": 2,
     "metadata": {},
     "output_type": "execute_result"
    },
    {
     "data": {
      "image/png": "[encoded data removed]",
      "text/plain": [
       "<Figure size 640x480 with 1 Axes>"
      ]
     },
     "metadata": {},
     "output_type": "display_data"
    }
   ],
   "source": [
    "def sigmoid(x):\n",
    "    return 1/(1 + np.exp(-x))\n",
    "\n",
    "x = np.linspace(-5,5,100)\n",
    "y = sigmoid(x)\n",
    "plt.plot(x,y,color = 'green')"
   ]
  },
  {
   "cell_type": "markdown",
   "id": "c71d5490",
   "metadata": {},
   "source": [
    "## 逻辑斯蒂回归分类"
   ]
  },
  {
   "cell_type": "code",
   "execution_count": 3,
   "id": "afac64d1",
   "metadata": {
    "ExecuteTime": {
     "end_time": "2022-06-09T07:31:33.129466Z",
     "start_time": "2022-06-09T07:31:33.116453Z"
    },
    "execution": {
     "iopub.execute_input": "2024-03-10T15:47:38.514777Z",
     "iopub.status.busy": "2024-03-10T15:47:38.513780Z",
     "iopub.status.idle": "2024-03-10T15:47:38.737725Z",
     "shell.execute_reply": "2024-03-10T15:47:38.737725Z",
     "shell.execute_reply.started": "2024-03-10T15:47:38.514777Z"
    }
   },
   "outputs": [],
   "source": [
    "from sklearn.linear_model import LogisticRegression\n",
    "from sklearn.datasets import load_iris"
   ]
  },
  {
   "cell_type": "markdown",
   "id": "828cd6b3",
   "metadata": {},
   "source": [
    "#### 加载数据"
   ]
  },
  {
   "cell_type": "code",
   "execution_count": 4,
   "id": "d5c786cf",
   "metadata": {
    "ExecuteTime": {
     "end_time": "2022-06-09T07:31:33.144361Z",
     "start_time": "2022-06-09T07:31:33.132421Z"
    },
    "execution": {
     "iopub.execute_input": "2024-03-10T15:47:43.633226Z",
     "iopub.status.busy": "2024-03-10T15:47:43.631232Z",
     "iopub.status.idle": "2024-03-10T15:47:43.677489Z",
     "shell.execute_reply": "2024-03-10T15:47:43.675728Z",
     "shell.execute_reply.started": "2024-03-10T15:47:43.633226Z"
    }
   },
   "outputs": [
    {
     "data": {
      "text/plain": [
       "(150, 4)"
      ]
     },
     "metadata": {},
     "output_type": "display_data"
    },
    {
     "data": {
      "text/plain": [
       "array([0, 0, 0, 0, 0, 0, 0, 0, 0, 0, 0, 0, 0, 0, 0, 0, 0, 0, 0, 0, 0, 0,\n",
       "       0, 0, 0, 0, 0, 0, 0, 0, 0, 0, 0, 0, 0, 0, 0, 0, 0, 0, 0, 0, 0, 0,\n",
       "       0, 0, 0, 0, 0, 0, 1, 1, 1, 1, 1, 1, 1, 1, 1, 1, 1, 1, 1, 1, 1, 1,\n",
       "       1, 1, 1, 1, 1, 1, 1, 1, 1, 1, 1, 1, 1, 1, 1, 1, 1, 1, 1, 1, 1, 1,\n",
       "       1, 1, 1, 1, 1, 1, 1, 1, 1, 1, 1, 1, 2, 2, 2, 2, 2, 2, 2, 2, 2, 2,\n",
       "       2, 2, 2, 2, 2, 2, 2, 2, 2, 2, 2, 2, 2, 2, 2, 2, 2, 2, 2, 2, 2, 2,\n",
       "       2, 2, 2, 2, 2, 2, 2, 2, 2, 2, 2, 2, 2, 2, 2, 2, 2, 2])"
      ]
     },
     "metadata": {},
     "output_type": "display_data"
    }
   ],
   "source": [
    "X,y = load_iris(return_X_y=True)  # 直接返回数据\n",
    "display(X.shape,y)"
   ]
  },
  {
   "cell_type": "markdown",
   "id": "cfe6ec6f",
   "metadata": {},
   "source": [
    "#### 拆分"
   ]
  },
  {
   "cell_type": "code",
   "execution_count": 5,
   "id": "bec0e11e",
   "metadata": {
    "ExecuteTime": {
     "end_time": "2022-06-09T07:31:33.160307Z",
     "start_time": "2022-06-09T07:31:33.146354Z"
    },
    "execution": {
     "iopub.execute_input": "2024-03-10T15:47:46.644138Z",
     "iopub.status.busy": "2024-03-10T15:47:46.643142Z",
     "iopub.status.idle": "2024-03-10T15:47:46.677040Z",
     "shell.execute_reply": "2024-03-10T15:47:46.675045Z",
     "shell.execute_reply.started": "2024-03-10T15:47:46.644138Z"
    }
   },
   "outputs": [
    {
     "data": {
      "text/plain": [
       "(127, 4)"
      ]
     },
     "metadata": {},
     "output_type": "display_data"
    },
    {
     "data": {
      "text/plain": [
       "(23, 4)"
      ]
     },
     "metadata": {},
     "output_type": "display_data"
    }
   ],
   "source": [
    "from sklearn.model_selection import train_test_split\n",
    "\n",
    "X_train,X_test,y_train,y_test = train_test_split(X,y,test_size=0.15) # 15%保留作为测试数据\n",
    "display(X_train.shape,X_test.shape)"
   ]
  },
  {
   "cell_type": "markdown",
   "id": "9a323138",
   "metadata": {},
   "source": [
    "#### 建模"
   ]
  },
  {
   "cell_type": "code",
   "execution_count": 6,
   "id": "38d269b1",
   "metadata": {
    "ExecuteTime": {
     "end_time": "2022-06-09T07:31:33.191209Z",
     "start_time": "2022-06-09T07:31:33.161304Z"
    },
    "execution": {
     "iopub.execute_input": "2024-03-10T15:47:49.652012Z",
     "iopub.status.busy": "2024-03-10T15:47:49.649019Z",
     "iopub.status.idle": "2024-03-10T15:47:49.718638Z",
     "shell.execute_reply": "2024-03-10T15:47:49.718638Z",
     "shell.execute_reply.started": "2024-03-10T15:47:49.652012Z"
    }
   },
   "outputs": [
    {
     "data": {
      "text/html": [
       "<style>#sk-container-id-1 {color: black;}#sk-container-id-1 pre{padding: 0;}#sk-container-id-1 div.sk-toggleable {background-color: white;}#sk-container-id-1 label.sk-toggleable__label {cursor: pointer;display: block;width: 100%;margin-bottom: 0;padding: 0.3em;box-sizing: border-box;text-align: center;}#sk-container-id-1 label.sk-toggleable__label-arrow:before {content: \"▸\";float: left;margin-right: 0.25em;color: #696969;}#sk-container-id-1 label.sk-toggleable__label-arrow:hover:before {color: black;}#sk-container-id-1 div.sk-estimator:hover label.sk-toggleable__label-arrow:before {color: black;}#sk-container-id-1 div.sk-toggleable__content {max-height: 0;max-width: 0;overflow: hidden;text-align: left;background-color: #f0f8ff;}#sk-container-id-1 div.sk-toggleable__content pre {margin: 0.2em;color: black;border-radius: 0.25em;background-color: #f0f8ff;}#sk-container-id-1 input.sk-toggleable__control:checked~div.sk-toggleable__content {max-height: 200px;max-width: 100%;overflow: auto;}#sk-container-id-1 input.sk-toggleable__control:checked~label.sk-toggleable__label-arrow:before {content: \"▾\";}#sk-container-id-1 div.sk-estimator input.sk-toggleable__control:checked~label.sk-toggleable__label {background-color: #d4ebff;}#sk-container-id-1 div.sk-label input.sk-toggleable__control:checked~label.sk-toggleable__label {background-color: #d4ebff;}#sk-container-id-1 input.sk-hidden--visually {border: 0;clip: rect(1px 1px 1px 1px);clip: rect(1px, 1px, 1px, 1px);height: 1px;margin: -1px;overflow: hidden;padding: 0;position: absolute;width: 1px;}#sk-container-id-1 div.sk-estimator {font-family: monospace;background-color: #f0f8ff;border: 1px dotted black;border-radius: 0.25em;box-sizing: border-box;margin-bottom: 0.5em;}#sk-container-id-1 div.sk-estimator:hover {background-color: #d4ebff;}#sk-container-id-1 div.sk-parallel-item::after {content: \"\";width: 100%;border-bottom: 1px solid gray;flex-grow: 1;}#sk-container-id-1 div.sk-label:hover label.sk-toggleable__label {background-color: #d4ebff;}#sk-container-id-1 div.sk-serial::before {content: \"\";position: absolute;border-left: 1px solid gray;box-sizing: border-box;top: 0;bottom: 0;left: 50%;z-index: 0;}#sk-container-id-1 div.sk-serial {display: flex;flex-direction: column;align-items: center;background-color: white;padding-right: 0.2em;padding-left: 0.2em;position: relative;}#sk-container-id-1 div.sk-item {position: relative;z-index: 1;}#sk-container-id-1 div.sk-parallel {display: flex;align-items: stretch;justify-content: center;background-color: white;position: relative;}#sk-container-id-1 div.sk-item::before, #sk-container-id-1 div.sk-parallel-item::before {content: \"\";position: absolute;border-left: 1px solid gray;box-sizing: border-box;top: 0;bottom: 0;left: 50%;z-index: -1;}#sk-container-id-1 div.sk-parallel-item {display: flex;flex-direction: column;z-index: 1;position: relative;background-color: white;}#sk-container-id-1 div.sk-parallel-item:first-child::after {align-self: flex-end;width: 50%;}#sk-container-id-1 div.sk-parallel-item:last-child::after {align-self: flex-start;width: 50%;}#sk-container-id-1 div.sk-parallel-item:only-child::after {width: 0;}#sk-container-id-1 div.sk-dashed-wrapped {border: 1px dashed gray;margin: 0 0.4em 0.5em 0.4em;box-sizing: border-box;padding-bottom: 0.4em;background-color: white;}#sk-container-id-1 div.sk-label label {font-family: monospace;font-weight: bold;display: inline-block;line-height: 1.2em;}#sk-container-id-1 div.sk-label-container {text-align: center;}#sk-container-id-1 div.sk-container {/* jupyter's `normalize.less` sets `[hidden] { display: none; }` but bootstrap.min.css set `[hidden] { display: none !important; }` so we also need the `!important` here to be able to override the default hidden behavior on the sphinx rendered scikit-learn.org. See: https://github.com/scikit-learn/scikit-learn/issues/21755 */display: inline-block !important;position: relative;}#sk-container-id-1 div.sk-text-repr-fallback {display: none;}</style><div id=\"sk-container-id-1\" class=\"sk-top-container\"><div class=\"sk-text-repr-fallback\"><pre>LogisticRegression(max_iter=1000)</pre><b>In a Jupyter environment, please rerun this cell to show the HTML representation or trust the notebook. <br />On GitHub, the HTML representation is unable to render, please try loading this page with nbviewer.org.</b></div><div class=\"sk-container\" hidden><div class=\"sk-item\"><div class=\"sk-estimator sk-toggleable\"><input class=\"sk-toggleable__control sk-hidden--visually\" id=\"sk-estimator-id-1\" type=\"checkbox\" checked><label for=\"sk-estimator-id-1\" class=\"sk-toggleable__label sk-toggleable__label-arrow\">LogisticRegression</label><div class=\"sk-toggleable__content\"><pre>LogisticRegression(max_iter=1000)</pre></div></div></div></div></div>"
      ],
      "text/plain": [
       "LogisticRegression(max_iter=1000)"
      ]
     },
     "execution_count": 6,
     "metadata": {},
     "output_type": "execute_result"
    }
   ],
   "source": [
    "model = LogisticRegression(max_iter=1000) # 迭代次数，和梯度下降有关，默认的参数使100，没有拟合好，需要提升参数的次数\n",
    "\n",
    "model.fit(X_train,y_train)"
   ]
  },
  {
   "cell_type": "markdown",
   "id": "83bfa754",
   "metadata": {},
   "source": [
    "#### 预测"
   ]
  },
  {
   "cell_type": "code",
   "execution_count": 7,
   "id": "1f7fed22",
   "metadata": {
    "ExecuteTime": {
     "end_time": "2022-06-09T07:31:33.207155Z",
     "start_time": "2022-06-09T07:31:33.192215Z"
    },
    "execution": {
     "iopub.execute_input": "2024-03-10T15:47:58.368862Z",
     "iopub.status.busy": "2024-03-10T15:47:58.366867Z",
     "iopub.status.idle": "2024-03-10T15:47:58.405197Z",
     "shell.execute_reply": "2024-03-10T15:47:58.403203Z",
     "shell.execute_reply.started": "2024-03-10T15:47:58.368862Z"
    }
   },
   "outputs": [
    {
     "data": {
      "text/plain": [
       "'真实类别：'"
      ]
     },
     "metadata": {},
     "output_type": "display_data"
    },
    {
     "data": {
      "text/plain": [
       "array([2, 1, 0, 0, 1, 0, 0, 0, 2, 0, 0, 2, 0, 0, 0, 1, 0, 2, 0, 0, 2, 1,\n",
       "       1])"
      ]
     },
     "metadata": {},
     "output_type": "display_data"
    },
    {
     "data": {
      "text/plain": [
       "'算法预测：'"
      ]
     },
     "metadata": {},
     "output_type": "display_data"
    },
    {
     "data": {
      "text/plain": [
       "array([2, 1, 0, 0, 1, 0, 0, 0, 2, 0, 0, 2, 0, 0, 0, 1, 0, 2, 0, 0, 2, 1,\n",
       "       1])"
      ]
     },
     "metadata": {},
     "output_type": "display_data"
    }
   ],
   "source": [
    "y_ = model.predict(X_test)\n",
    "display('真实类别：',y_test)\n",
    "display('算法预测：',y_)"
   ]
  },
  {
   "cell_type": "code",
   "execution_count": 8,
   "id": "6e387cd7",
   "metadata": {
    "ExecuteTime": {
     "end_time": "2022-06-09T07:31:33.222101Z",
     "start_time": "2022-06-09T07:31:33.208151Z"
    },
    "execution": {
     "iopub.execute_input": "2024-03-10T15:48:00.745134Z",
     "iopub.status.busy": "2024-03-10T15:48:00.742133Z",
     "iopub.status.idle": "2024-03-10T15:48:00.775043Z",
     "shell.execute_reply": "2024-03-10T15:48:00.773048Z",
     "shell.execute_reply.started": "2024-03-10T15:48:00.745134Z"
    }
   },
   "outputs": [
    {
     "data": {
      "text/plain": [
       "1.0"
      ]
     },
     "execution_count": 8,
     "metadata": {},
     "output_type": "execute_result"
    }
   ],
   "source": [
    "model.score(X_test,y_test)"
   ]
  },
  {
   "cell_type": "markdown",
   "id": "bb40be59",
   "metadata": {},
   "source": [
    "#### 概率"
   ]
  },
  {
   "cell_type": "code",
   "execution_count": 9,
   "id": "f9e18eda",
   "metadata": {
    "execution": {
     "iopub.execute_input": "2024-03-10T15:48:03.414094Z",
     "iopub.status.busy": "2024-03-10T15:48:03.410108Z",
     "iopub.status.idle": "2024-03-10T15:48:03.434038Z",
     "shell.execute_reply": "2024-03-10T15:48:03.431049Z",
     "shell.execute_reply.started": "2024-03-10T15:48:03.414094Z"
    }
   },
   "outputs": [],
   "source": [
    "np.set_printoptions(suppress=True)"
   ]
  },
  {
   "cell_type": "code",
   "execution_count": 10,
   "id": "53f495c2",
   "metadata": {
    "ExecuteTime": {
     "end_time": "2022-06-09T07:31:33.237816Z",
     "start_time": "2022-06-09T07:31:33.225097Z"
    },
    "execution": {
     "iopub.execute_input": "2024-03-10T15:48:05.004359Z",
     "iopub.status.busy": "2024-03-10T15:48:05.003361Z",
     "iopub.status.idle": "2024-03-10T15:48:05.020874Z",
     "shell.execute_reply": "2024-03-10T15:48:05.019319Z",
     "shell.execute_reply.started": "2024-03-10T15:48:05.004359Z"
    }
   },
   "outputs": [
    {
     "data": {
      "text/plain": [
       "array([[0.00000105, 0.00751981, 0.99247914],\n",
       "       [0.00347166, 0.83781654, 0.1587118 ],\n",
       "       [0.96082103, 0.0391789 , 0.00000007],\n",
       "       [0.98939775, 0.01060224, 0.00000001],\n",
       "       [0.00340845, 0.75756175, 0.2390298 ],\n",
       "       [0.994406  , 0.005594  , 0.        ],\n",
       "       [0.96702189, 0.03297805, 0.00000005],\n",
       "       [0.98287189, 0.01712806, 0.00000005],\n",
       "       [0.00000133, 0.00451192, 0.99548675],\n",
       "       [0.98280219, 0.0171978 , 0.00000001],\n",
       "       [0.9673646 , 0.03263535, 0.00000005],\n",
       "       [0.00017286, 0.16866102, 0.83116612],\n",
       "       [0.9827442 , 0.01725578, 0.00000002],\n",
       "       [0.9606987 , 0.03930112, 0.00000018],\n",
       "       [0.93900211, 0.06099743, 0.00000046],\n",
       "       [0.01860549, 0.95109644, 0.03029807],\n",
       "       [0.94273981, 0.05726005, 0.00000014],\n",
       "       [0.00013317, 0.14763456, 0.85223227],\n",
       "       [0.96896486, 0.03103504, 0.0000001 ],\n",
       "       [0.97011615, 0.02988376, 0.00000009],\n",
       "       [0.00000067, 0.0162064 , 0.98379293],\n",
       "       [0.0110334 , 0.71123419, 0.27773241],\n",
       "       [0.03890805, 0.95131805, 0.0097739 ]])"
      ]
     },
     "execution_count": 10,
     "metadata": {},
     "output_type": "execute_result"
    }
   ],
   "source": [
    "model.predict_proba(X_test)"
   ]
  },
  {
   "cell_type": "markdown",
   "id": "5564d11d",
   "metadata": {},
   "source": [
    "#### 方程，线性回归方程"
   ]
  },
  {
   "cell_type": "markdown",
   "id": "f2143198",
   "metadata": {},
   "source": [
    "- 三个方程，三分类问题"
   ]
  },
  {
   "cell_type": "code",
   "execution_count": 11,
   "id": "ad14b796",
   "metadata": {
    "ExecuteTime": {
     "end_time": "2022-06-09T07:31:33.253587Z",
     "start_time": "2022-06-09T07:31:33.239769Z"
    },
    "execution": {
     "iopub.execute_input": "2024-03-10T15:48:07.753512Z",
     "iopub.status.busy": "2024-03-10T15:48:07.750521Z",
     "iopub.status.idle": "2024-03-10T15:48:07.772921Z",
     "shell.execute_reply": "2024-03-10T15:48:07.769636Z",
     "shell.execute_reply.started": "2024-03-10T15:48:07.753512Z"
    }
   },
   "outputs": [
    {
     "data": {
      "text/plain": [
       "array([[-0.40162054,  0.92954456, -2.42052638, -1.04069857],\n",
       "       [ 0.60538591, -0.32666083, -0.27603125, -0.82418735],\n",
       "       [-0.20376536, -0.60288373,  2.69655763,  1.86488592]])"
      ]
     },
     "execution_count": 11,
     "metadata": {},
     "output_type": "execute_result"
    }
   ],
   "source": [
    "w_ = model.coef_\n",
    "w_"
   ]
  },
  {
   "cell_type": "code",
   "execution_count": 12,
   "id": "d929a79d",
   "metadata": {
    "ExecuteTime": {
     "end_time": "2022-06-09T07:32:40.406156Z",
     "start_time": "2022-06-09T07:32:40.397186Z"
    },
    "execution": {
     "iopub.execute_input": "2024-03-10T15:48:09.869859Z",
     "iopub.status.busy": "2024-03-10T15:48:09.868444Z",
     "iopub.status.idle": "2024-03-10T15:48:09.883824Z",
     "shell.execute_reply": "2024-03-10T15:48:09.881863Z",
     "shell.execute_reply.started": "2024-03-10T15:48:09.869635Z"
    }
   },
   "outputs": [
    {
     "data": {
      "text/plain": [
       "array([  9.36959828,   1.89145983, -11.26105811])"
      ]
     },
     "execution_count": 12,
     "metadata": {},
     "output_type": "execute_result"
    }
   ],
   "source": [
    "b_ = model.intercept_\n",
    "b_"
   ]
  },
  {
   "cell_type": "markdown",
   "id": "92383ea2",
   "metadata": {},
   "source": [
    "# 概率的计算"
   ]
  },
  {
   "cell_type": "markdown",
   "id": "b5e7d21a",
   "metadata": {},
   "source": [
    "## 二分类"
   ]
  },
  {
   "cell_type": "code",
   "execution_count": 13,
   "id": "1ad8ff6f",
   "metadata": {
    "ExecuteTime": {
     "end_time": "2022-06-10T12:38:16.125763Z",
     "start_time": "2022-06-10T12:38:16.109806Z"
    },
    "execution": {
     "iopub.execute_input": "2024-03-10T15:51:56.659844Z",
     "iopub.status.busy": "2024-03-10T15:51:56.658886Z",
     "iopub.status.idle": "2024-03-10T15:51:56.680786Z",
     "shell.execute_reply": "2024-03-10T15:51:56.678791Z",
     "shell.execute_reply.started": "2024-03-10T15:51:56.659844Z"
    }
   },
   "outputs": [
    {
     "data": {
      "text/plain": [
       "array([0, 0, 0, 0, 0, 0, 0, 0, 0, 0, 0, 0, 0, 0, 0, 0, 0, 0, 0, 0, 0, 0,\n",
       "       0, 0, 0, 0, 0, 0, 0, 0, 0, 0, 0, 0, 0, 0, 0, 0, 0, 0, 0, 0, 0, 0,\n",
       "       0, 0, 0, 0, 0, 0, 1, 1, 1, 1, 1, 1, 1, 1, 1, 1, 1, 1, 1, 1, 1, 1,\n",
       "       1, 1, 1, 1, 1, 1, 1, 1, 1, 1, 1, 1, 1, 1, 1, 1, 1, 1, 1, 1, 1, 1,\n",
       "       1, 1, 1, 1, 1, 1, 1, 1, 1, 1, 1, 1, 2, 2, 2, 2, 2, 2, 2, 2, 2, 2,\n",
       "       2, 2, 2, 2, 2, 2, 2, 2, 2, 2, 2, 2, 2, 2, 2, 2, 2, 2, 2, 2, 2, 2,\n",
       "       2, 2, 2, 2, 2, 2, 2, 2, 2, 2, 2, 2, 2, 2, 2, 2, 2, 2])"
      ]
     },
     "execution_count": 13,
     "metadata": {},
     "output_type": "execute_result"
    }
   ],
   "source": [
    "import numpy as np\n",
    "from sklearn import datasets\n",
    "from sklearn.linear_model import LogisticRegression\n",
    "from sklearn.model_selection import train_test_split\n",
    "\n",
    "X,y = datasets.load_iris(return_X_y=True)\n",
    "y"
   ]
  },
  {
   "cell_type": "code",
   "execution_count": 14,
   "id": "1e167762-a18c-40d0-8e4f-2080c7932432",
   "metadata": {
    "execution": {
     "iopub.execute_input": "2024-03-10T15:52:34.261330Z",
     "iopub.status.busy": "2024-03-10T15:52:34.260333Z",
     "iopub.status.idle": "2024-03-10T15:52:34.272911Z",
     "shell.execute_reply": "2024-03-10T15:52:34.271469Z",
     "shell.execute_reply.started": "2024-03-10T15:52:34.261330Z"
    }
   },
   "outputs": [
    {
     "data": {
      "text/plain": [
       "array([ True,  True,  True,  True,  True,  True,  True,  True,  True,\n",
       "        True,  True,  True,  True,  True,  True,  True,  True,  True,\n",
       "        True,  True,  True,  True,  True,  True,  True,  True,  True,\n",
       "        True,  True,  True,  True,  True,  True,  True,  True,  True,\n",
       "        True,  True,  True,  True,  True,  True,  True,  True,  True,\n",
       "        True,  True,  True,  True,  True,  True,  True,  True,  True,\n",
       "        True,  True,  True,  True,  True,  True,  True,  True,  True,\n",
       "        True,  True,  True,  True,  True,  True,  True,  True,  True,\n",
       "        True,  True,  True,  True,  True,  True,  True,  True,  True,\n",
       "        True,  True,  True,  True,  True,  True,  True,  True,  True,\n",
       "        True,  True,  True,  True,  True,  True,  True,  True,  True,\n",
       "        True, False, False, False, False, False, False, False, False,\n",
       "       False, False, False, False, False, False, False, False, False,\n",
       "       False, False, False, False, False, False, False, False, False,\n",
       "       False, False, False, False, False, False, False, False, False,\n",
       "       False, False, False, False, False, False, False, False, False,\n",
       "       False, False, False, False, False, False])"
      ]
     },
     "execution_count": 14,
     "metadata": {},
     "output_type": "execute_result"
    }
   ],
   "source": [
    "cond = y != 2 # 将0和1筛选出来\n",
    "cond"
   ]
  },
  {
   "cell_type": "code",
   "execution_count": 15,
   "id": "db2d5222-0987-4e4c-b10f-84eb0f0b79b9",
   "metadata": {
    "execution": {
     "iopub.execute_input": "2024-03-10T15:54:58.221438Z",
     "iopub.status.busy": "2024-03-10T15:54:58.220438Z",
     "iopub.status.idle": "2024-03-10T15:54:58.252789Z",
     "shell.execute_reply": "2024-03-10T15:54:58.250795Z",
     "shell.execute_reply.started": "2024-03-10T15:54:58.221438Z"
    }
   },
   "outputs": [
    {
     "data": {
      "text/plain": [
       "(100, 4)"
      ]
     },
     "metadata": {},
     "output_type": "display_data"
    },
    {
     "data": {
      "text/plain": [
       "(85, 4)"
      ]
     },
     "metadata": {},
     "output_type": "display_data"
    },
    {
     "data": {
      "text/plain": [
       "(15, 4)"
      ]
     },
     "metadata": {},
     "output_type": "display_data"
    },
    {
     "data": {
      "text/plain": [
       "array([0, 0, 0, 0, 0, 0, 0, 0, 0, 0, 0, 0, 0, 0, 0, 0, 0, 0, 0, 0, 0, 0,\n",
       "       0, 0, 0, 0, 0, 0, 0, 0, 0, 0, 0, 0, 0, 0, 0, 0, 0, 0, 0, 0, 0, 0,\n",
       "       0, 0, 0, 0, 0, 0, 1, 1, 1, 1, 1, 1, 1, 1, 1, 1, 1, 1, 1, 1, 1, 1,\n",
       "       1, 1, 1, 1, 1, 1, 1, 1, 1, 1, 1, 1, 1, 1, 1, 1, 1, 1, 1, 1, 1, 1,\n",
       "       1, 1, 1, 1, 1, 1, 1, 1, 1, 1, 1, 1])"
      ]
     },
     "metadata": {},
     "output_type": "display_data"
    }
   ],
   "source": [
    "X = X[cond]\n",
    "y = y[cond]\n",
    "\n",
    "X_train,X_test,y_train,y_test = train_test_split(X,y,test_size = 0.15)\n",
    "display(X.shape,X_train.shape,X_test.shape,y)"
   ]
  },
  {
   "cell_type": "code",
   "execution_count": 16,
   "id": "f111c784",
   "metadata": {
    "ExecuteTime": {
     "end_time": "2022-06-10T12:38:16.141724Z",
     "start_time": "2022-06-10T12:38:16.127757Z"
    },
    "execution": {
     "iopub.execute_input": "2024-03-10T15:55:04.322106Z",
     "iopub.status.busy": "2024-03-10T15:55:04.320111Z",
     "iopub.status.idle": "2024-03-10T15:55:04.348376Z",
     "shell.execute_reply": "2024-03-10T15:55:04.347376Z",
     "shell.execute_reply.started": "2024-03-10T15:55:04.322106Z"
    }
   },
   "outputs": [
    {
     "data": {
      "text/html": [
       "<style>#sk-container-id-2 {color: black;}#sk-container-id-2 pre{padding: 0;}#sk-container-id-2 div.sk-toggleable {background-color: white;}#sk-container-id-2 label.sk-toggleable__label {cursor: pointer;display: block;width: 100%;margin-bottom: 0;padding: 0.3em;box-sizing: border-box;text-align: center;}#sk-container-id-2 label.sk-toggleable__label-arrow:before {content: \"▸\";float: left;margin-right: 0.25em;color: #696969;}#sk-container-id-2 label.sk-toggleable__label-arrow:hover:before {color: black;}#sk-container-id-2 div.sk-estimator:hover label.sk-toggleable__label-arrow:before {color: black;}#sk-container-id-2 div.sk-toggleable__content {max-height: 0;max-width: 0;overflow: hidden;text-align: left;background-color: #f0f8ff;}#sk-container-id-2 div.sk-toggleable__content pre {margin: 0.2em;color: black;border-radius: 0.25em;background-color: #f0f8ff;}#sk-container-id-2 input.sk-toggleable__control:checked~div.sk-toggleable__content {max-height: 200px;max-width: 100%;overflow: auto;}#sk-container-id-2 input.sk-toggleable__control:checked~label.sk-toggleable__label-arrow:before {content: \"▾\";}#sk-container-id-2 div.sk-estimator input.sk-toggleable__control:checked~label.sk-toggleable__label {background-color: #d4ebff;}#sk-container-id-2 div.sk-label input.sk-toggleable__control:checked~label.sk-toggleable__label {background-color: #d4ebff;}#sk-container-id-2 input.sk-hidden--visually {border: 0;clip: rect(1px 1px 1px 1px);clip: rect(1px, 1px, 1px, 1px);height: 1px;margin: -1px;overflow: hidden;padding: 0;position: absolute;width: 1px;}#sk-container-id-2 div.sk-estimator {font-family: monospace;background-color: #f0f8ff;border: 1px dotted black;border-radius: 0.25em;box-sizing: border-box;margin-bottom: 0.5em;}#sk-container-id-2 div.sk-estimator:hover {background-color: #d4ebff;}#sk-container-id-2 div.sk-parallel-item::after {content: \"\";width: 100%;border-bottom: 1px solid gray;flex-grow: 1;}#sk-container-id-2 div.sk-label:hover label.sk-toggleable__label {background-color: #d4ebff;}#sk-container-id-2 div.sk-serial::before {content: \"\";position: absolute;border-left: 1px solid gray;box-sizing: border-box;top: 0;bottom: 0;left: 50%;z-index: 0;}#sk-container-id-2 div.sk-serial {display: flex;flex-direction: column;align-items: center;background-color: white;padding-right: 0.2em;padding-left: 0.2em;position: relative;}#sk-container-id-2 div.sk-item {position: relative;z-index: 1;}#sk-container-id-2 div.sk-parallel {display: flex;align-items: stretch;justify-content: center;background-color: white;position: relative;}#sk-container-id-2 div.sk-item::before, #sk-container-id-2 div.sk-parallel-item::before {content: \"\";position: absolute;border-left: 1px solid gray;box-sizing: border-box;top: 0;bottom: 0;left: 50%;z-index: -1;}#sk-container-id-2 div.sk-parallel-item {display: flex;flex-direction: column;z-index: 1;position: relative;background-color: white;}#sk-container-id-2 div.sk-parallel-item:first-child::after {align-self: flex-end;width: 50%;}#sk-container-id-2 div.sk-parallel-item:last-child::after {align-self: flex-start;width: 50%;}#sk-container-id-2 div.sk-parallel-item:only-child::after {width: 0;}#sk-container-id-2 div.sk-dashed-wrapped {border: 1px dashed gray;margin: 0 0.4em 0.5em 0.4em;box-sizing: border-box;padding-bottom: 0.4em;background-color: white;}#sk-container-id-2 div.sk-label label {font-family: monospace;font-weight: bold;display: inline-block;line-height: 1.2em;}#sk-container-id-2 div.sk-label-container {text-align: center;}#sk-container-id-2 div.sk-container {/* jupyter's `normalize.less` sets `[hidden] { display: none; }` but bootstrap.min.css set `[hidden] { display: none !important; }` so we also need the `!important` here to be able to override the default hidden behavior on the sphinx rendered scikit-learn.org. See: https://github.com/scikit-learn/scikit-learn/issues/21755 */display: inline-block !important;position: relative;}#sk-container-id-2 div.sk-text-repr-fallback {display: none;}</style><div id=\"sk-container-id-2\" class=\"sk-top-container\"><div class=\"sk-text-repr-fallback\"><pre>LogisticRegression()</pre><b>In a Jupyter environment, please rerun this cell to show the HTML representation or trust the notebook. <br />On GitHub, the HTML representation is unable to render, please try loading this page with nbviewer.org.</b></div><div class=\"sk-container\" hidden><div class=\"sk-item\"><div class=\"sk-estimator sk-toggleable\"><input class=\"sk-toggleable__control sk-hidden--visually\" id=\"sk-estimator-id-2\" type=\"checkbox\" checked><label for=\"sk-estimator-id-2\" class=\"sk-toggleable__label sk-toggleable__label-arrow\">LogisticRegression</label><div class=\"sk-toggleable__content\"><pre>LogisticRegression()</pre></div></div></div></div></div>"
      ],
      "text/plain": [
       "LogisticRegression()"
      ]
     },
     "execution_count": 16,
     "metadata": {},
     "output_type": "execute_result"
    }
   ],
   "source": [
    "model = LogisticRegression()\n",
    "model.fit(X_train,y_train)"
   ]
  },
  {
   "cell_type": "code",
   "execution_count": 17,
   "id": "f767ef84",
   "metadata": {
    "ExecuteTime": {
     "end_time": "2022-06-10T12:38:16.157657Z",
     "start_time": "2022-06-10T12:38:16.142702Z"
    },
    "execution": {
     "iopub.execute_input": "2024-03-10T15:55:20.864164Z",
     "iopub.status.busy": "2024-03-10T15:55:20.864164Z",
     "iopub.status.idle": "2024-03-10T15:55:20.896333Z",
     "shell.execute_reply": "2024-03-10T15:55:20.895336Z",
     "shell.execute_reply.started": "2024-03-10T15:55:20.864164Z"
    }
   },
   "outputs": [
    {
     "name": "stdout",
     "output_type": "stream",
     "text": [
      "算法预测： [1 0 0 0 1 0 1 0 1 1 0 1 0 1 1]\n",
      "真实结果： [1 0 0 0 1 0 1 0 1 1 0 1 0 1 1]\n"
     ]
    }
   ],
   "source": [
    "y_ = model.predict(X_test)\n",
    "print('算法预测：',y_)\n",
    "print('真实结果：',y_test)"
   ]
  },
  {
   "cell_type": "code",
   "execution_count": 18,
   "id": "edee9d69",
   "metadata": {
    "ExecuteTime": {
     "end_time": "2022-06-10T12:38:16.173134Z",
     "start_time": "2022-06-10T12:38:16.159655Z"
    },
    "execution": {
     "iopub.execute_input": "2024-03-10T15:55:46.171406Z",
     "iopub.status.busy": "2024-03-10T15:55:46.168462Z",
     "iopub.status.idle": "2024-03-10T15:55:46.207184Z",
     "shell.execute_reply": "2024-03-10T15:55:46.205186Z",
     "shell.execute_reply.started": "2024-03-10T15:55:46.170408Z"
    }
   },
   "outputs": [
    {
     "data": {
      "text/plain": [
       "array([[0.01161167, 0.98838833],\n",
       "       [0.97763018, 0.02236982],\n",
       "       [0.95145567, 0.04854433],\n",
       "       [0.99455653, 0.00544347],\n",
       "       [0.00429237, 0.99570763],\n",
       "       [0.98501125, 0.01498875],\n",
       "       [0.00412452, 0.99587548],\n",
       "       [0.97747071, 0.02252929],\n",
       "       [0.04093559, 0.95906441],\n",
       "       [0.15533209, 0.84466791],\n",
       "       [0.98216697, 0.01783303],\n",
       "       [0.08877146, 0.91122854],\n",
       "       [0.97514147, 0.02485853],\n",
       "       [0.07619317, 0.92380683],\n",
       "       [0.02503348, 0.97496652]])"
      ]
     },
     "execution_count": 18,
     "metadata": {},
     "output_type": "execute_result"
    }
   ],
   "source": [
    "proba_ = model.predict_proba(X_test) # 算法计算的概率\n",
    "proba_\n",
    "# 第一列是类别 0 的概率，第二列是类别 1 的概率"
   ]
  },
  {
   "cell_type": "code",
   "execution_count": 19,
   "id": "59831a85",
   "metadata": {
    "ExecuteTime": {
     "end_time": "2022-06-10T12:38:16.189195Z",
     "start_time": "2022-06-10T12:38:16.175128Z"
    },
    "execution": {
     "iopub.execute_input": "2024-03-10T15:58:40.833732Z",
     "iopub.status.busy": "2024-03-10T15:58:40.833732Z",
     "iopub.status.idle": "2024-03-10T15:58:40.867299Z",
     "shell.execute_reply": "2024-03-10T15:58:40.865342Z",
     "shell.execute_reply.started": "2024-03-10T15:58:40.833732Z"
    }
   },
   "outputs": [
    {
     "data": {
      "text/plain": [
       "array([1, 0, 0, 0, 1, 0, 1, 0, 1, 1, 0, 1, 0, 1, 1], dtype=int64)"
      ]
     },
     "execution_count": 19,
     "metadata": {},
     "output_type": "execute_result"
    }
   ],
   "source": [
    "proba_.argmax(axis = 1) # 找到最大值的索引，找列索引"
   ]
  },
  {
   "cell_type": "code",
   "execution_count": 20,
   "id": "5bf0ddb9-55e2-46ee-9460-eef03ea76f1b",
   "metadata": {
    "execution": {
     "iopub.execute_input": "2024-03-10T15:58:43.462636Z",
     "iopub.status.busy": "2024-03-10T15:58:43.447546Z",
     "iopub.status.idle": "2024-03-10T15:58:43.482957Z",
     "shell.execute_reply": "2024-03-10T15:58:43.480085Z",
     "shell.execute_reply.started": "2024-03-10T15:58:43.462636Z"
    }
   },
   "outputs": [
    {
     "data": {
      "text/plain": [
       "array([1, 0, 0, 0, 1, 0, 1, 0, 1, 1, 0, 1, 0, 1, 1])"
      ]
     },
     "execution_count": 20,
     "metadata": {},
     "output_type": "execute_result"
    }
   ],
   "source": [
    "model.predict(X_test)  # predict的内部就是调用了argmax来进行类别的输出"
   ]
  },
  {
   "cell_type": "markdown",
   "id": "8bde7ec7",
   "metadata": {},
   "source": [
    "### 概率手动计算"
   ]
  },
  {
   "cell_type": "code",
   "execution_count": 21,
   "id": "17508d82",
   "metadata": {
    "ExecuteTime": {
     "end_time": "2022-06-10T12:38:16.205160Z",
     "start_time": "2022-06-10T12:38:16.192005Z"
    },
    "execution": {
     "iopub.execute_input": "2024-03-10T15:59:28.010592Z",
     "iopub.status.busy": "2024-03-10T15:59:28.010592Z",
     "iopub.status.idle": "2024-03-10T15:59:28.038726Z",
     "shell.execute_reply": "2024-03-10T15:59:28.037122Z",
     "shell.execute_reply.started": "2024-03-10T15:59:28.010592Z"
    }
   },
   "outputs": [
    {
     "data": {
      "text/plain": [
       "array([[ 0.44029933, -0.79118695,  2.2067412 ,  0.93029916]])"
      ]
     },
     "metadata": {},
     "output_type": "display_data"
    },
    {
     "data": {
      "text/plain": [
       "array([-6.77778491])"
      ]
     },
     "metadata": {},
     "output_type": "display_data"
    }
   ],
   "source": [
    "w_ = model.coef_\n",
    "b_ = model.intercept_\n",
    "display(w_,b_)"
   ]
  },
  {
   "cell_type": "markdown",
   "id": "d0fbcfc0",
   "metadata": {},
   "source": [
    "和训练数据，进行多元线性回归的计算"
   ]
  },
  {
   "cell_type": "code",
   "execution_count": 22,
   "id": "95295bcf",
   "metadata": {
    "ExecuteTime": {
     "end_time": "2022-06-10T12:38:16.220111Z",
     "start_time": "2022-06-10T12:38:16.207154Z"
    },
    "execution": {
     "iopub.execute_input": "2024-03-10T16:00:21.060395Z",
     "iopub.status.busy": "2024-03-10T16:00:21.059398Z",
     "iopub.status.idle": "2024-03-10T16:00:21.076767Z",
     "shell.execute_reply": "2024-03-10T16:00:21.075807Z",
     "shell.execute_reply.started": "2024-03-10T16:00:21.060395Z"
    }
   },
   "outputs": [
    {
     "data": {
      "text/plain": [
       "(15, 4)"
      ]
     },
     "execution_count": 22,
     "metadata": {},
     "output_type": "execute_result"
    }
   ],
   "source": [
    "X_test.shape"
   ]
  },
  {
   "cell_type": "code",
   "execution_count": 23,
   "id": "14d677f5",
   "metadata": {
    "ExecuteTime": {
     "end_time": "2022-06-10T12:38:16.236200Z",
     "start_time": "2022-06-10T12:38:16.224092Z"
    },
    "execution": {
     "iopub.execute_input": "2024-03-10T16:00:21.474400Z",
     "iopub.status.busy": "2024-03-10T16:00:21.472409Z",
     "iopub.status.idle": "2024-03-10T16:00:21.487329Z",
     "shell.execute_reply": "2024-03-10T16:00:21.486333Z",
     "shell.execute_reply.started": "2024-03-10T16:00:21.474400Z"
    }
   },
   "outputs": [
    {
     "data": {
      "text/plain": [
       "(1, 4)"
      ]
     },
     "execution_count": 23,
     "metadata": {},
     "output_type": "execute_result"
    }
   ],
   "source": [
    "w_.shape"
   ]
  },
  {
   "cell_type": "code",
   "execution_count": 28,
   "id": "1fc4486e-bd71-4993-a2e8-c93089d8874c",
   "metadata": {
    "execution": {
     "iopub.execute_input": "2024-03-10T16:14:19.879544Z",
     "iopub.status.busy": "2024-03-10T16:14:19.878547Z",
     "iopub.status.idle": "2024-03-10T16:14:19.905528Z",
     "shell.execute_reply": "2024-03-10T16:14:19.902432Z",
     "shell.execute_reply.started": "2024-03-10T16:14:19.879544Z"
    }
   },
   "outputs": [
    {
     "data": {
      "text/plain": [
       "(15, 1)"
      ]
     },
     "metadata": {},
     "output_type": "display_data"
    }
   ],
   "source": [
    "z = X_test.dot(w_.T) + b_\n",
    "display(z.shape)"
   ]
  },
  {
   "cell_type": "code",
   "execution_count": 30,
   "id": "729f3fd9",
   "metadata": {
    "ExecuteTime": {
     "end_time": "2022-06-10T12:38:16.251956Z",
     "start_time": "2022-06-10T12:38:16.238260Z"
    },
    "execution": {
     "iopub.execute_input": "2024-03-10T16:15:43.562029Z",
     "iopub.status.busy": "2024-03-10T16:15:43.561033Z",
     "iopub.status.idle": "2024-03-10T16:15:43.579016Z",
     "shell.execute_reply": "2024-03-10T16:15:43.579016Z",
     "shell.execute_reply.started": "2024-03-10T16:15:43.562029Z"
    }
   },
   "outputs": [
    {
     "data": {
      "text/plain": [
       "array([[0.98838833],\n",
       "       [0.02236982],\n",
       "       [0.04854433],\n",
       "       [0.00544347],\n",
       "       [0.99570763],\n",
       "       [0.01498875],\n",
       "       [0.99587548],\n",
       "       [0.02252929],\n",
       "       [0.95906441],\n",
       "       [0.84466791],\n",
       "       [0.01783303],\n",
       "       [0.91122854],\n",
       "       [0.02485853],\n",
       "       [0.92380683],\n",
       "       [0.97496652]])"
      ]
     },
     "execution_count": 30,
     "metadata": {},
     "output_type": "execute_result"
    }
   ],
   "source": [
    "def sigmoid(z):\n",
    "    return 1/(1 + np.exp(-z))\n",
    "\n",
    "# 自己算出来的概率，只有一列，默认情况下，计算的类别为 1的概率\n",
    "# 正样本，阳性。医院，清一色阴性，化验，\n",
    "# negative ,阴性，0\n",
    "# positive ，阳性，1 往往很多问题，都是关注阳性，所以，代码中返回的也是 1，阳性【默认】\n",
    "# 代码中，对 1，特别关注\n",
    "p = sigmoid(z) # 概率，就计算出来\n",
    "p"
   ]
  },
  {
   "cell_type": "code",
   "execution_count": 31,
   "id": "c421b84e-da21-4045-854c-2de89fc61674",
   "metadata": {
    "execution": {
     "iopub.execute_input": "2024-03-10T16:18:16.656056Z",
     "iopub.status.busy": "2024-03-10T16:18:16.655060Z",
     "iopub.status.idle": "2024-03-10T16:18:16.679095Z",
     "shell.execute_reply": "2024-03-10T16:18:16.677439Z",
     "shell.execute_reply.started": "2024-03-10T16:18:16.656056Z"
    }
   },
   "outputs": [
    {
     "data": {
      "text/plain": [
       "array([[0.01161167, 0.98838833],\n",
       "       [0.97763018, 0.02236982],\n",
       "       [0.95145567, 0.04854433],\n",
       "       [0.99455653, 0.00544347],\n",
       "       [0.00429237, 0.99570763],\n",
       "       [0.98501125, 0.01498875],\n",
       "       [0.00412452, 0.99587548],\n",
       "       [0.97747071, 0.02252929],\n",
       "       [0.04093559, 0.95906441],\n",
       "       [0.15533209, 0.84466791],\n",
       "       [0.98216697, 0.01783303],\n",
       "       [0.08877146, 0.91122854],\n",
       "       [0.97514147, 0.02485853],\n",
       "       [0.07619317, 0.92380683],\n",
       "       [0.02503348, 0.97496652]])"
      ]
     },
     "execution_count": 31,
     "metadata": {},
     "output_type": "execute_result"
    }
   ],
   "source": [
    "np.concatenate([1- p,p],axis = 1) # 类别 0 的概率"
   ]
  },
  {
   "cell_type": "markdown",
   "id": "7efa425a",
   "metadata": {},
   "source": [
    "## 多分类-ovr"
   ]
  },
  {
   "cell_type": "code",
   "execution_count": 32,
   "id": "7e390679",
   "metadata": {
    "ExecuteTime": {
     "end_time": "2022-06-10T12:58:22.086720Z",
     "start_time": "2022-06-10T12:58:22.062800Z"
    },
    "execution": {
     "iopub.execute_input": "2024-03-10T16:19:52.983278Z",
     "iopub.status.busy": "2024-03-10T16:19:52.983278Z",
     "iopub.status.idle": "2024-03-10T16:19:53.020549Z",
     "shell.execute_reply": "2024-03-10T16:19:53.018597Z",
     "shell.execute_reply.started": "2024-03-10T16:19:52.983278Z"
    }
   },
   "outputs": [
    {
     "data": {
      "text/plain": [
       "(150, 4)"
      ]
     },
     "metadata": {},
     "output_type": "display_data"
    },
    {
     "data": {
      "text/plain": [
       "(127, 4)"
      ]
     },
     "metadata": {},
     "output_type": "display_data"
    },
    {
     "data": {
      "text/plain": [
       "(23, 4)"
      ]
     },
     "metadata": {},
     "output_type": "display_data"
    },
    {
     "data": {
      "text/plain": [
       "array([0, 0, 0, 0, 0, 0, 0, 0, 0, 0, 0, 0, 0, 0, 0, 0, 0, 0, 0, 0, 0, 0,\n",
       "       0, 0, 0, 0, 0, 0, 0, 0, 0, 0, 0, 0, 0, 0, 0, 0, 0, 0, 0, 0, 0, 0,\n",
       "       0, 0, 0, 0, 0, 0, 1, 1, 1, 1, 1, 1, 1, 1, 1, 1, 1, 1, 1, 1, 1, 1,\n",
       "       1, 1, 1, 1, 1, 1, 1, 1, 1, 1, 1, 1, 1, 1, 1, 1, 1, 1, 1, 1, 1, 1,\n",
       "       1, 1, 1, 1, 1, 1, 1, 1, 1, 1, 1, 1, 2, 2, 2, 2, 2, 2, 2, 2, 2, 2,\n",
       "       2, 2, 2, 2, 2, 2, 2, 2, 2, 2, 2, 2, 2, 2, 2, 2, 2, 2, 2, 2, 2, 2,\n",
       "       2, 2, 2, 2, 2, 2, 2, 2, 2, 2, 2, 2, 2, 2, 2, 2, 2, 2])"
      ]
     },
     "metadata": {},
     "output_type": "display_data"
    }
   ],
   "source": [
    "# import numpy as np\n",
    "# from sklearn import datasets\n",
    "# from sklearn.linear_model import LogisticRegression\n",
    "# from sklearn.model_selection import train_test_split\n",
    "\n",
    "X,y = datasets.load_iris(return_X_y=True)\n",
    "\n",
    "X_train,X_test,y_train,y_test = train_test_split(X,y,test_size = 0.15)\n",
    "display(X.shape,X_train.shape,X_test.shape,y)"
   ]
  },
  {
   "cell_type": "code",
   "execution_count": 40,
   "id": "bd523970-0cbb-4074-a62d-a17cf3f43207",
   "metadata": {
    "execution": {
     "iopub.execute_input": "2024-03-10T16:45:48.336348Z",
     "iopub.status.busy": "2024-03-10T16:45:48.334354Z",
     "iopub.status.idle": "2024-03-10T16:45:48.374246Z",
     "shell.execute_reply": "2024-03-10T16:45:48.373254Z",
     "shell.execute_reply.started": "2024-03-10T16:45:48.336348Z"
    }
   },
   "outputs": [
    {
     "name": "stderr",
     "output_type": "stream",
     "text": [
      "D:\\anaconda3\\lib\\site-packages\\sklearn\\linear_model\\_logistic.py:460: ConvergenceWarning: lbfgs failed to converge (status=1):\n",
      "STOP: TOTAL NO. of ITERATIONS REACHED LIMIT.\n",
      "\n",
      "Increase the number of iterations (max_iter) or scale the data as shown in:\n",
      "    https://scikit-learn.org/stable/modules/preprocessing.html\n",
      "Please also refer to the documentation for alternative solver options:\n",
      "    https://scikit-learn.org/stable/modules/linear_model.html#logistic-regression\n",
      "  n_iter_i = _check_optimize_result(\n"
     ]
    },
    {
     "data": {
      "text/html": [
       "<style>#sk-container-id-4 {color: black;}#sk-container-id-4 pre{padding: 0;}#sk-container-id-4 div.sk-toggleable {background-color: white;}#sk-container-id-4 label.sk-toggleable__label {cursor: pointer;display: block;width: 100%;margin-bottom: 0;padding: 0.3em;box-sizing: border-box;text-align: center;}#sk-container-id-4 label.sk-toggleable__label-arrow:before {content: \"▸\";float: left;margin-right: 0.25em;color: #696969;}#sk-container-id-4 label.sk-toggleable__label-arrow:hover:before {color: black;}#sk-container-id-4 div.sk-estimator:hover label.sk-toggleable__label-arrow:before {color: black;}#sk-container-id-4 div.sk-toggleable__content {max-height: 0;max-width: 0;overflow: hidden;text-align: left;background-color: #f0f8ff;}#sk-container-id-4 div.sk-toggleable__content pre {margin: 0.2em;color: black;border-radius: 0.25em;background-color: #f0f8ff;}#sk-container-id-4 input.sk-toggleable__control:checked~div.sk-toggleable__content {max-height: 200px;max-width: 100%;overflow: auto;}#sk-container-id-4 input.sk-toggleable__control:checked~label.sk-toggleable__label-arrow:before {content: \"▾\";}#sk-container-id-4 div.sk-estimator input.sk-toggleable__control:checked~label.sk-toggleable__label {background-color: #d4ebff;}#sk-container-id-4 div.sk-label input.sk-toggleable__control:checked~label.sk-toggleable__label {background-color: #d4ebff;}#sk-container-id-4 input.sk-hidden--visually {border: 0;clip: rect(1px 1px 1px 1px);clip: rect(1px, 1px, 1px, 1px);height: 1px;margin: -1px;overflow: hidden;padding: 0;position: absolute;width: 1px;}#sk-container-id-4 div.sk-estimator {font-family: monospace;background-color: #f0f8ff;border: 1px dotted black;border-radius: 0.25em;box-sizing: border-box;margin-bottom: 0.5em;}#sk-container-id-4 div.sk-estimator:hover {background-color: #d4ebff;}#sk-container-id-4 div.sk-parallel-item::after {content: \"\";width: 100%;border-bottom: 1px solid gray;flex-grow: 1;}#sk-container-id-4 div.sk-label:hover label.sk-toggleable__label {background-color: #d4ebff;}#sk-container-id-4 div.sk-serial::before {content: \"\";position: absolute;border-left: 1px solid gray;box-sizing: border-box;top: 0;bottom: 0;left: 50%;z-index: 0;}#sk-container-id-4 div.sk-serial {display: flex;flex-direction: column;align-items: center;background-color: white;padding-right: 0.2em;padding-left: 0.2em;position: relative;}#sk-container-id-4 div.sk-item {position: relative;z-index: 1;}#sk-container-id-4 div.sk-parallel {display: flex;align-items: stretch;justify-content: center;background-color: white;position: relative;}#sk-container-id-4 div.sk-item::before, #sk-container-id-4 div.sk-parallel-item::before {content: \"\";position: absolute;border-left: 1px solid gray;box-sizing: border-box;top: 0;bottom: 0;left: 50%;z-index: -1;}#sk-container-id-4 div.sk-parallel-item {display: flex;flex-direction: column;z-index: 1;position: relative;background-color: white;}#sk-container-id-4 div.sk-parallel-item:first-child::after {align-self: flex-end;width: 50%;}#sk-container-id-4 div.sk-parallel-item:last-child::after {align-self: flex-start;width: 50%;}#sk-container-id-4 div.sk-parallel-item:only-child::after {width: 0;}#sk-container-id-4 div.sk-dashed-wrapped {border: 1px dashed gray;margin: 0 0.4em 0.5em 0.4em;box-sizing: border-box;padding-bottom: 0.4em;background-color: white;}#sk-container-id-4 div.sk-label label {font-family: monospace;font-weight: bold;display: inline-block;line-height: 1.2em;}#sk-container-id-4 div.sk-label-container {text-align: center;}#sk-container-id-4 div.sk-container {/* jupyter's `normalize.less` sets `[hidden] { display: none; }` but bootstrap.min.css set `[hidden] { display: none !important; }` so we also need the `!important` here to be able to override the default hidden behavior on the sphinx rendered scikit-learn.org. See: https://github.com/scikit-learn/scikit-learn/issues/21755 */display: inline-block !important;position: relative;}#sk-container-id-4 div.sk-text-repr-fallback {display: none;}</style><div id=\"sk-container-id-4\" class=\"sk-top-container\"><div class=\"sk-text-repr-fallback\"><pre>LogisticRegression()</pre><b>In a Jupyter environment, please rerun this cell to show the HTML representation or trust the notebook. <br />On GitHub, the HTML representation is unable to render, please try loading this page with nbviewer.org.</b></div><div class=\"sk-container\" hidden><div class=\"sk-item\"><div class=\"sk-estimator sk-toggleable\"><input class=\"sk-toggleable__control sk-hidden--visually\" id=\"sk-estimator-id-4\" type=\"checkbox\" checked><label for=\"sk-estimator-id-4\" class=\"sk-toggleable__label sk-toggleable__label-arrow\">LogisticRegression</label><div class=\"sk-toggleable__content\"><pre>LogisticRegression()</pre></div></div></div></div></div>"
      ],
      "text/plain": [
       "LogisticRegression()"
      ]
     },
     "execution_count": 40,
     "metadata": {},
     "output_type": "execute_result"
    }
   ],
   "source": [
    "model = LogisticRegression()  # 这里没有设置multi_class，注意观察后果\n",
    "model.fit(X_train,y_train)"
   ]
  },
  {
   "cell_type": "code",
   "execution_count": 41,
   "id": "c5e4e7e8",
   "metadata": {
    "ExecuteTime": {
     "end_time": "2022-06-10T12:58:22.134561Z",
     "start_time": "2022-06-10T12:58:22.121604Z"
    },
    "execution": {
     "iopub.execute_input": "2024-03-10T16:46:08.083609Z",
     "iopub.status.busy": "2024-03-10T16:46:08.083609Z",
     "iopub.status.idle": "2024-03-10T16:46:08.106137Z",
     "shell.execute_reply": "2024-03-10T16:46:08.104176Z",
     "shell.execute_reply.started": "2024-03-10T16:46:08.083609Z"
    }
   },
   "outputs": [
    {
     "data": {
      "text/plain": [
       "array([0, 0, 1, 0, 0, 1, 1, 1, 0, 1, 0, 0, 2, 1, 1, 1, 2, 1, 0, 2, 2, 2,\n",
       "       2])"
      ]
     },
     "metadata": {},
     "output_type": "display_data"
    },
    {
     "data": {
      "text/plain": [
       "array([0, 0, 1, 0, 0, 1, 1, 1, 0, 1, 0, 0, 2, 1, 1, 1, 2, 1, 0, 2, 2, 2,\n",
       "       2])"
      ]
     },
     "metadata": {},
     "output_type": "display_data"
    }
   ],
   "source": [
    "y_ = model.predict(X_test)\n",
    "display(y_,y_test)"
   ]
  },
  {
   "cell_type": "code",
   "execution_count": 42,
   "id": "4fa22782",
   "metadata": {
    "ExecuteTime": {
     "end_time": "2022-06-10T12:58:22.149531Z",
     "start_time": "2022-06-10T12:58:22.136556Z"
    },
    "execution": {
     "iopub.execute_input": "2024-03-10T16:46:08.842150Z",
     "iopub.status.busy": "2024-03-10T16:46:08.841152Z",
     "iopub.status.idle": "2024-03-10T16:46:08.849129Z",
     "shell.execute_reply": "2024-03-10T16:46:08.848176Z",
     "shell.execute_reply.started": "2024-03-10T16:46:08.842150Z"
    }
   },
   "outputs": [],
   "source": [
    "np.set_printoptions(suppress=True)"
   ]
  },
  {
   "cell_type": "code",
   "execution_count": 43,
   "id": "b310da43",
   "metadata": {
    "ExecuteTime": {
     "end_time": "2022-06-10T12:58:22.165281Z",
     "start_time": "2022-06-10T12:58:22.152500Z"
    },
    "execution": {
     "iopub.execute_input": "2024-03-10T16:46:09.972102Z",
     "iopub.status.busy": "2024-03-10T16:46:09.971105Z",
     "iopub.status.idle": "2024-03-10T16:46:09.996041Z",
     "shell.execute_reply": "2024-03-10T16:46:09.995042Z",
     "shell.execute_reply.started": "2024-03-10T16:46:09.971105Z"
    }
   },
   "outputs": [
    {
     "data": {
      "text/plain": [
       "array([[0.97635613, 0.02364381, 0.00000006],\n",
       "       [0.97482936, 0.02517053, 0.00000011],\n",
       "       [0.00436816, 0.84175704, 0.1538748 ],\n",
       "       [0.98390517, 0.01609479, 0.00000004],\n",
       "       [0.97886223, 0.02113769, 0.00000008],\n",
       "       [0.0053125 , 0.67446643, 0.32022107],\n",
       "       [0.03689719, 0.90493149, 0.05817132],\n",
       "       [0.05639312, 0.88482459, 0.05878229],\n",
       "       [0.96864799, 0.03135178, 0.00000023],\n",
       "       [0.0235669 , 0.90419777, 0.07223533],\n",
       "       [0.97851202, 0.02148789, 0.00000008],\n",
       "       [0.97436838, 0.02563154, 0.00000008],\n",
       "       [0.00013039, 0.14888994, 0.85097967],\n",
       "       [0.01388447, 0.74044748, 0.24566805],\n",
       "       [0.00691905, 0.90272209, 0.09035886],\n",
       "       [0.18043216, 0.8153325 , 0.00423534],\n",
       "       [0.00000771, 0.01360779, 0.9863845 ],\n",
       "       [0.09453539, 0.89071637, 0.01474824],\n",
       "       [0.98530702, 0.01469293, 0.00000005],\n",
       "       [0.00000014, 0.00642689, 0.99357297],\n",
       "       [0.00000236, 0.03703875, 0.96295889],\n",
       "       [0.00002395, 0.04125773, 0.95871832],\n",
       "       [0.0007619 , 0.22910974, 0.77012837]])"
      ]
     },
     "execution_count": 43,
     "metadata": {},
     "output_type": "execute_result"
    }
   ],
   "source": [
    "proba_ = model.predict_proba(X_test)\n",
    "proba_"
   ]
  },
  {
   "cell_type": "code",
   "execution_count": 44,
   "id": "8b80877c",
   "metadata": {
    "ExecuteTime": {
     "end_time": "2022-06-10T13:01:58.571798Z",
     "start_time": "2022-06-10T13:01:58.559838Z"
    },
    "execution": {
     "iopub.execute_input": "2024-03-10T16:46:11.298786Z",
     "iopub.status.busy": "2024-03-10T16:46:11.297789Z",
     "iopub.status.idle": "2024-03-10T16:46:11.308759Z",
     "shell.execute_reply": "2024-03-10T16:46:11.307775Z",
     "shell.execute_reply.started": "2024-03-10T16:46:11.298786Z"
    }
   },
   "outputs": [
    {
     "data": {
      "text/plain": [
       "array([0, 0, 1, 0, 0, 1, 1, 1, 0, 1, 0, 0, 2, 1, 1, 1, 2, 1, 0, 2, 2, 2,\n",
       "       2], dtype=int64)"
      ]
     },
     "execution_count": 44,
     "metadata": {},
     "output_type": "execute_result"
    }
   ],
   "source": [
    "proba_.argmax(axis = 1) # 根据概率，进行类别划分"
   ]
  },
  {
   "cell_type": "markdown",
   "id": "0213658b",
   "metadata": {},
   "source": [
    "### 计算3分类的概率"
   ]
  },
  {
   "cell_type": "code",
   "execution_count": 45,
   "id": "8bb4ce12",
   "metadata": {
    "ExecuteTime": {
     "end_time": "2022-06-10T12:58:22.181102Z",
     "start_time": "2022-06-10T12:58:22.168179Z"
    },
    "execution": {
     "iopub.execute_input": "2024-03-10T16:46:12.827428Z",
     "iopub.status.busy": "2024-03-10T16:46:12.826430Z",
     "iopub.status.idle": "2024-03-10T16:46:12.844382Z",
     "shell.execute_reply": "2024-03-10T16:46:12.843386Z",
     "shell.execute_reply.started": "2024-03-10T16:46:12.827428Z"
    }
   },
   "outputs": [
    {
     "data": {
      "text/plain": [
       "array([[-0.45537345,  0.89372823, -2.3585985 , -0.9893562 ],\n",
       "       [ 0.55845603, -0.39596887, -0.18731503, -0.92737791],\n",
       "       [-0.10308258, -0.49775936,  2.54591353,  1.91673412]])"
      ]
     },
     "metadata": {},
     "output_type": "display_data"
    },
    {
     "data": {
      "text/plain": [
       "array([  9.6069966 ,   2.01553266, -11.62252926])"
      ]
     },
     "metadata": {},
     "output_type": "display_data"
    }
   ],
   "source": [
    "w_ = model.coef_\n",
    "b_ = model.intercept_\n",
    "display(w_,b_)"
   ]
  },
  {
   "cell_type": "code",
   "execution_count": 49,
   "id": "f30ba939",
   "metadata": {
    "ExecuteTime": {
     "end_time": "2022-06-10T12:58:22.196588Z",
     "start_time": "2022-06-10T12:58:22.184019Z"
    },
    "execution": {
     "iopub.execute_input": "2024-03-10T16:47:59.574262Z",
     "iopub.status.busy": "2024-03-10T16:47:59.573266Z",
     "iopub.status.idle": "2024-03-10T16:47:59.595258Z",
     "shell.execute_reply": "2024-03-10T16:47:59.593641Z",
     "shell.execute_reply.started": "2024-03-10T16:47:59.574262Z"
    }
   },
   "outputs": [
    {
     "data": {
      "text/plain": [
       "array([[0.99884736, 0.95451482, 0.00005499],\n",
       "       [0.99856774, 0.94737376, 0.00007967],\n",
       "       [0.05016443, 0.91053358, 0.65040395],\n",
       "       [0.9991313 , 0.94953097, 0.00004621],\n",
       "       [0.99878176, 0.94653583, 0.00006889]])"
      ]
     },
     "execution_count": 49,
     "metadata": {},
     "output_type": "execute_result"
    }
   ],
   "source": [
    "# 手动计算的！！！\n",
    "z = X_test.dot(w_.T) + b_\n",
    "\n",
    "def sigmoid(z):\n",
    "    return 1/(1 + np.exp(-z))\n",
    "# 自己算出来的概率，只有一列，默认情况下，计算的类别为1的概率\n",
    "# 正样本，阳性。医院，清一色阴性，化验，\n",
    "# negative ,阴性，0\n",
    "# positive ，阳性，1 往往很多问题，都是关注阳性，所以，代码中返回的也是1，阳性【默认】\n",
    "# 代码中，对1，特别关注\n",
    "p = sigmoid(z) # 概率，就计算出来\n",
    "p[:5]  # ！！！！！！！！！！！！！！！！！！！！！但是加起来概率和不是 1"
   ]
  },
  {
   "cell_type": "code",
   "execution_count": 55,
   "id": "4dce79ef-d1e9-450e-a629-44785e26653b",
   "metadata": {
    "execution": {
     "iopub.execute_input": "2024-03-10T16:50:17.519620Z",
     "iopub.status.busy": "2024-03-10T16:50:17.518626Z",
     "iopub.status.idle": "2024-03-10T16:50:17.537572Z",
     "shell.execute_reply": "2024-03-10T16:50:17.535618Z",
     "shell.execute_reply.started": "2024-03-10T16:50:17.519620Z"
    }
   },
   "outputs": [
    {
     "data": {
      "text/plain": [
       "array([[0.51133336, 0.48863849, 0.00002815],\n",
       "       [0.51313303, 0.48682603, 0.00004094],\n",
       "       [0.03113672, 0.56516198, 0.4037013 ],\n",
       "       [0.51271461, 0.48726168, 0.00002371],\n",
       "       [0.51341046, 0.48655413, 0.00003541]])"
      ]
     },
     "execution_count": 55,
     "metadata": {},
     "output_type": "execute_result"
    }
   ],
   "source": [
    "(p/(p.sum(axis = 1)).reshape(-1,1))[:5]  # 除以每行的和 normalization"
   ]
  },
  {
   "cell_type": "code",
   "execution_count": 56,
   "id": "9567a6de-8b1f-407f-8ad9-e4f58c903dd4",
   "metadata": {
    "execution": {
     "iopub.execute_input": "2024-03-10T16:52:11.703413Z",
     "iopub.status.busy": "2024-03-10T16:52:11.702417Z",
     "iopub.status.idle": "2024-03-10T16:52:11.719369Z",
     "shell.execute_reply": "2024-03-10T16:52:11.717374Z",
     "shell.execute_reply.started": "2024-03-10T16:52:11.703413Z"
    }
   },
   "outputs": [
    {
     "data": {
      "text/plain": [
       "array([[0.97635613, 0.02364381, 0.00000006],\n",
       "       [0.97482936, 0.02517053, 0.00000011],\n",
       "       [0.00436816, 0.84175704, 0.1538748 ],\n",
       "       [0.98390517, 0.01609479, 0.00000004],\n",
       "       [0.97886223, 0.02113769, 0.00000008]])"
      ]
     },
     "execution_count": 56,
     "metadata": {},
     "output_type": "execute_result"
    }
   ],
   "source": [
    "model.predict_proba(X_test)[:5]   # 可以看到，手动算的虽然加起来概率和为 1，但和模型算的概率不一样"
   ]
  },
  {
   "cell_type": "markdown",
   "id": "1cee1c9e-5141-4bf1-bcb2-8a4e5c746124",
   "metadata": {},
   "source": [
    "model.predict_proba(X)\n",
    "- For a multi_class problem,\n",
    "- if multi_class is set to be **\"multinomial\"**\n",
    "the **softmax function** is used to find the predicted probability of\n",
    "each class.\n",
    "- Else use a **one-vs-rest(ovr)** approach, i.e calculate the probability\n",
    "of each class assuming it to be positive using the **logistic function(sigmoid)**.\n",
    "and **normalize** these values across all the classes."
   ]
  },
  {
   "cell_type": "code",
   "execution_count": null,
   "id": "8c143878-462b-49b1-9284-7991cc2743ba",
   "metadata": {},
   "outputs": [],
   "source": []
  },
  {
   "cell_type": "markdown",
   "id": "eb74779d-7bab-4e6a-b5ef-c69b02ef2e3d",
   "metadata": {},
   "source": [
    "### 设置multi_class='ovr'"
   ]
  },
  {
   "cell_type": "markdown",
   "id": "b402c033-4583-4e99-8b0e-cff546c30722",
   "metadata": {},
   "source": [
    "multi_class : {'auto', 'ovr', 'multinomial'}, default='auto'   \n",
    "- If the option chosen is 'ovr', then a binary problem is fit for each\n",
    "    label.\n",
    "- For 'multinomial' the loss minimised is the multinomial loss fit\n",
    "    across the entire probability distribution, *even when the data is\n",
    "    binary*. 'multinomial' is unavailable when solver='liblinear'.\n",
    "- 'auto' selects 'ovr' if the data is binary, or if solver='liblinear',\n",
    "    and otherwise selects 'multinomial'."
   ]
  },
  {
   "cell_type": "code",
   "execution_count": 57,
   "id": "03cbed5c-0d38-4f61-8e81-90c3ae554a99",
   "metadata": {
    "execution": {
     "iopub.execute_input": "2024-03-10T16:56:25.207083Z",
     "iopub.status.busy": "2024-03-10T16:56:25.202881Z",
     "iopub.status.idle": "2024-03-10T16:56:25.256287Z",
     "shell.execute_reply": "2024-03-10T16:56:25.254292Z",
     "shell.execute_reply.started": "2024-03-10T16:56:25.206869Z"
    }
   },
   "outputs": [
    {
     "data": {
      "text/html": [
       "<style>#sk-container-id-5 {color: black;}#sk-container-id-5 pre{padding: 0;}#sk-container-id-5 div.sk-toggleable {background-color: white;}#sk-container-id-5 label.sk-toggleable__label {cursor: pointer;display: block;width: 100%;margin-bottom: 0;padding: 0.3em;box-sizing: border-box;text-align: center;}#sk-container-id-5 label.sk-toggleable__label-arrow:before {content: \"▸\";float: left;margin-right: 0.25em;color: #696969;}#sk-container-id-5 label.sk-toggleable__label-arrow:hover:before {color: black;}#sk-container-id-5 div.sk-estimator:hover label.sk-toggleable__label-arrow:before {color: black;}#sk-container-id-5 div.sk-toggleable__content {max-height: 0;max-width: 0;overflow: hidden;text-align: left;background-color: #f0f8ff;}#sk-container-id-5 div.sk-toggleable__content pre {margin: 0.2em;color: black;border-radius: 0.25em;background-color: #f0f8ff;}#sk-container-id-5 input.sk-toggleable__control:checked~div.sk-toggleable__content {max-height: 200px;max-width: 100%;overflow: auto;}#sk-container-id-5 input.sk-toggleable__control:checked~label.sk-toggleable__label-arrow:before {content: \"▾\";}#sk-container-id-5 div.sk-estimator input.sk-toggleable__control:checked~label.sk-toggleable__label {background-color: #d4ebff;}#sk-container-id-5 div.sk-label input.sk-toggleable__control:checked~label.sk-toggleable__label {background-color: #d4ebff;}#sk-container-id-5 input.sk-hidden--visually {border: 0;clip: rect(1px 1px 1px 1px);clip: rect(1px, 1px, 1px, 1px);height: 1px;margin: -1px;overflow: hidden;padding: 0;position: absolute;width: 1px;}#sk-container-id-5 div.sk-estimator {font-family: monospace;background-color: #f0f8ff;border: 1px dotted black;border-radius: 0.25em;box-sizing: border-box;margin-bottom: 0.5em;}#sk-container-id-5 div.sk-estimator:hover {background-color: #d4ebff;}#sk-container-id-5 div.sk-parallel-item::after {content: \"\";width: 100%;border-bottom: 1px solid gray;flex-grow: 1;}#sk-container-id-5 div.sk-label:hover label.sk-toggleable__label {background-color: #d4ebff;}#sk-container-id-5 div.sk-serial::before {content: \"\";position: absolute;border-left: 1px solid gray;box-sizing: border-box;top: 0;bottom: 0;left: 50%;z-index: 0;}#sk-container-id-5 div.sk-serial {display: flex;flex-direction: column;align-items: center;background-color: white;padding-right: 0.2em;padding-left: 0.2em;position: relative;}#sk-container-id-5 div.sk-item {position: relative;z-index: 1;}#sk-container-id-5 div.sk-parallel {display: flex;align-items: stretch;justify-content: center;background-color: white;position: relative;}#sk-container-id-5 div.sk-item::before, #sk-container-id-5 div.sk-parallel-item::before {content: \"\";position: absolute;border-left: 1px solid gray;box-sizing: border-box;top: 0;bottom: 0;left: 50%;z-index: -1;}#sk-container-id-5 div.sk-parallel-item {display: flex;flex-direction: column;z-index: 1;position: relative;background-color: white;}#sk-container-id-5 div.sk-parallel-item:first-child::after {align-self: flex-end;width: 50%;}#sk-container-id-5 div.sk-parallel-item:last-child::after {align-self: flex-start;width: 50%;}#sk-container-id-5 div.sk-parallel-item:only-child::after {width: 0;}#sk-container-id-5 div.sk-dashed-wrapped {border: 1px dashed gray;margin: 0 0.4em 0.5em 0.4em;box-sizing: border-box;padding-bottom: 0.4em;background-color: white;}#sk-container-id-5 div.sk-label label {font-family: monospace;font-weight: bold;display: inline-block;line-height: 1.2em;}#sk-container-id-5 div.sk-label-container {text-align: center;}#sk-container-id-5 div.sk-container {/* jupyter's `normalize.less` sets `[hidden] { display: none; }` but bootstrap.min.css set `[hidden] { display: none !important; }` so we also need the `!important` here to be able to override the default hidden behavior on the sphinx rendered scikit-learn.org. See: https://github.com/scikit-learn/scikit-learn/issues/21755 */display: inline-block !important;position: relative;}#sk-container-id-5 div.sk-text-repr-fallback {display: none;}</style><div id=\"sk-container-id-5\" class=\"sk-top-container\"><div class=\"sk-text-repr-fallback\"><pre>LogisticRegression(multi_class=&#x27;ovr&#x27;)</pre><b>In a Jupyter environment, please rerun this cell to show the HTML representation or trust the notebook. <br />On GitHub, the HTML representation is unable to render, please try loading this page with nbviewer.org.</b></div><div class=\"sk-container\" hidden><div class=\"sk-item\"><div class=\"sk-estimator sk-toggleable\"><input class=\"sk-toggleable__control sk-hidden--visually\" id=\"sk-estimator-id-5\" type=\"checkbox\" checked><label for=\"sk-estimator-id-5\" class=\"sk-toggleable__label sk-toggleable__label-arrow\">LogisticRegression</label><div class=\"sk-toggleable__content\"><pre>LogisticRegression(multi_class=&#x27;ovr&#x27;)</pre></div></div></div></div></div>"
      ],
      "text/plain": [
       "LogisticRegression(multi_class='ovr')"
      ]
     },
     "execution_count": 57,
     "metadata": {},
     "output_type": "execute_result"
    }
   ],
   "source": [
    "# logistic回归设置了multi_class='ovr'，概率计算方式就是sigmoid\n",
    "model = LogisticRegression(multi_class='ovr')\n",
    "model.fit(X_train,y_train)"
   ]
  },
  {
   "cell_type": "code",
   "execution_count": 58,
   "id": "178dd886-a03e-4570-b251-6a5f25486e52",
   "metadata": {
    "execution": {
     "iopub.execute_input": "2024-03-10T16:56:43.834296Z",
     "iopub.status.busy": "2024-03-10T16:56:43.834296Z",
     "iopub.status.idle": "2024-03-10T16:56:43.867710Z",
     "shell.execute_reply": "2024-03-10T16:56:43.865716Z",
     "shell.execute_reply.started": "2024-03-10T16:56:43.834296Z"
    }
   },
   "outputs": [
    {
     "data": {
      "text/plain": [
       "array([[0.92825403, 0.07174261, 0.00000336],\n",
       "       [0.810069  , 0.1899262 , 0.00000479],\n",
       "       [0.00677732, 0.74048285, 0.25273983],\n",
       "       [0.91967827, 0.08031879, 0.00000294],\n",
       "       [0.93870169, 0.06129363, 0.00000467]])"
      ]
     },
     "execution_count": 58,
     "metadata": {},
     "output_type": "execute_result"
    }
   ],
   "source": [
    "model.predict_proba(X_test)[:5]"
   ]
  },
  {
   "cell_type": "code",
   "execution_count": 59,
   "id": "ad355257-360a-45db-962f-3033e3f4b8fe",
   "metadata": {
    "execution": {
     "iopub.execute_input": "2024-03-10T17:00:00.305811Z",
     "iopub.status.busy": "2024-03-10T17:00:00.304814Z",
     "iopub.status.idle": "2024-03-10T17:00:00.328385Z",
     "shell.execute_reply": "2024-03-10T17:00:00.328385Z",
     "shell.execute_reply.started": "2024-03-10T17:00:00.305811Z"
    }
   },
   "outputs": [
    {
     "data": {
      "text/plain": [
       "array([[0.92825403, 0.07174261, 0.00000336],\n",
       "       [0.810069  , 0.1899262 , 0.00000479],\n",
       "       [0.00677732, 0.74048285, 0.25273983],\n",
       "       [0.91967827, 0.08031879, 0.00000294],\n",
       "       [0.93870169, 0.06129363, 0.00000467]])"
      ]
     },
     "execution_count": 59,
     "metadata": {},
     "output_type": "execute_result"
    }
   ],
   "source": [
    "w_ = model.coef_\n",
    "b_ = model.intercept_\n",
    "z = X_test.dot(w_.T) + b_\n",
    "\n",
    "def sigmoid(z):\n",
    "    return 1/(1 + np.exp(-z))\n",
    "\n",
    "p = sigmoid(z)\n",
    "(p/(p.sum(axis = 1)).reshape(-1,1))[:5]  # 除以每行的和 normalization"
   ]
  },
  {
   "cell_type": "markdown",
   "id": "8eb51b3c",
   "metadata": {},
   "source": [
    "## 多分类-multinomial"
   ]
  },
  {
   "cell_type": "code",
   "execution_count": 60,
   "id": "898b2e62",
   "metadata": {
    "ExecuteTime": {
     "end_time": "2022-06-10T13:16:29.103807Z",
     "start_time": "2022-06-10T13:16:29.088772Z"
    },
    "execution": {
     "iopub.execute_input": "2024-03-11T01:45:07.015659Z",
     "iopub.status.busy": "2024-03-11T01:45:07.012866Z",
     "iopub.status.idle": "2024-03-11T01:45:07.983186Z",
     "shell.execute_reply": "2024-03-11T01:45:07.983186Z",
     "shell.execute_reply.started": "2024-03-11T01:45:07.014662Z"
    }
   },
   "outputs": [
    {
     "data": {
      "text/plain": [
       "(150, 4)"
      ]
     },
     "metadata": {},
     "output_type": "display_data"
    },
    {
     "data": {
      "text/plain": [
       "(127, 4)"
      ]
     },
     "metadata": {},
     "output_type": "display_data"
    },
    {
     "data": {
      "text/plain": [
       "(23, 4)"
      ]
     },
     "metadata": {},
     "output_type": "display_data"
    },
    {
     "data": {
      "text/plain": [
       "array([0, 0, 0, 0, 0, 0, 0, 0, 0, 0, 0, 0, 0, 0, 0, 0, 0, 0, 0, 0, 0, 0,\n",
       "       0, 0, 0, 0, 0, 0, 0, 0, 0, 0, 0, 0, 0, 0, 0, 0, 0, 0, 0, 0, 0, 0,\n",
       "       0, 0, 0, 0, 0, 0, 1, 1, 1, 1, 1, 1, 1, 1, 1, 1, 1, 1, 1, 1, 1, 1,\n",
       "       1, 1, 1, 1, 1, 1, 1, 1, 1, 1, 1, 1, 1, 1, 1, 1, 1, 1, 1, 1, 1, 1,\n",
       "       1, 1, 1, 1, 1, 1, 1, 1, 1, 1, 1, 1, 2, 2, 2, 2, 2, 2, 2, 2, 2, 2,\n",
       "       2, 2, 2, 2, 2, 2, 2, 2, 2, 2, 2, 2, 2, 2, 2, 2, 2, 2, 2, 2, 2, 2,\n",
       "       2, 2, 2, 2, 2, 2, 2, 2, 2, 2, 2, 2, 2, 2, 2, 2, 2, 2])"
      ]
     },
     "metadata": {},
     "output_type": "display_data"
    }
   ],
   "source": [
    "import numpy as np\n",
    "from sklearn import datasets\n",
    "from sklearn.linear_model import LogisticRegression\n",
    "from sklearn.model_selection import train_test_split\n",
    "\n",
    "X,y = datasets.load_iris(return_X_y=True)\n",
    "\n",
    "X_train,X_test,y_train,y_test = train_test_split(X,y,test_size = 0.15)\n",
    "display(X.shape,X_train.shape,X_test.shape,y)"
   ]
  },
  {
   "cell_type": "code",
   "execution_count": 61,
   "id": "95e35ddd",
   "metadata": {
    "ExecuteTime": {
     "end_time": "2022-06-10T13:16:31.583475Z",
     "start_time": "2022-06-10T13:16:31.538597Z"
    },
    "execution": {
     "iopub.execute_input": "2024-03-11T01:45:11.391144Z",
     "iopub.status.busy": "2024-03-11T01:45:11.389150Z",
     "iopub.status.idle": "2024-03-11T01:45:11.608630Z",
     "shell.execute_reply": "2024-03-11T01:45:11.606849Z",
     "shell.execute_reply.started": "2024-03-11T01:45:11.391144Z"
    }
   },
   "outputs": [
    {
     "name": "stderr",
     "output_type": "stream",
     "text": [
      "D:\\anaconda3\\lib\\site-packages\\sklearn\\linear_model\\_logistic.py:460: ConvergenceWarning: lbfgs failed to converge (status=1):\n",
      "STOP: TOTAL NO. of ITERATIONS REACHED LIMIT.\n",
      "\n",
      "Increase the number of iterations (max_iter) or scale the data as shown in:\n",
      "    https://scikit-learn.org/stable/modules/preprocessing.html\n",
      "Please also refer to the documentation for alternative solver options:\n",
      "    https://scikit-learn.org/stable/modules/linear_model.html#logistic-regression\n",
      "  n_iter_i = _check_optimize_result(\n"
     ]
    },
    {
     "data": {
      "text/html": [
       "<style>#sk-container-id-6 {color: black;}#sk-container-id-6 pre{padding: 0;}#sk-container-id-6 div.sk-toggleable {background-color: white;}#sk-container-id-6 label.sk-toggleable__label {cursor: pointer;display: block;width: 100%;margin-bottom: 0;padding: 0.3em;box-sizing: border-box;text-align: center;}#sk-container-id-6 label.sk-toggleable__label-arrow:before {content: \"▸\";float: left;margin-right: 0.25em;color: #696969;}#sk-container-id-6 label.sk-toggleable__label-arrow:hover:before {color: black;}#sk-container-id-6 div.sk-estimator:hover label.sk-toggleable__label-arrow:before {color: black;}#sk-container-id-6 div.sk-toggleable__content {max-height: 0;max-width: 0;overflow: hidden;text-align: left;background-color: #f0f8ff;}#sk-container-id-6 div.sk-toggleable__content pre {margin: 0.2em;color: black;border-radius: 0.25em;background-color: #f0f8ff;}#sk-container-id-6 input.sk-toggleable__control:checked~div.sk-toggleable__content {max-height: 200px;max-width: 100%;overflow: auto;}#sk-container-id-6 input.sk-toggleable__control:checked~label.sk-toggleable__label-arrow:before {content: \"▾\";}#sk-container-id-6 div.sk-estimator input.sk-toggleable__control:checked~label.sk-toggleable__label {background-color: #d4ebff;}#sk-container-id-6 div.sk-label input.sk-toggleable__control:checked~label.sk-toggleable__label {background-color: #d4ebff;}#sk-container-id-6 input.sk-hidden--visually {border: 0;clip: rect(1px 1px 1px 1px);clip: rect(1px, 1px, 1px, 1px);height: 1px;margin: -1px;overflow: hidden;padding: 0;position: absolute;width: 1px;}#sk-container-id-6 div.sk-estimator {font-family: monospace;background-color: #f0f8ff;border: 1px dotted black;border-radius: 0.25em;box-sizing: border-box;margin-bottom: 0.5em;}#sk-container-id-6 div.sk-estimator:hover {background-color: #d4ebff;}#sk-container-id-6 div.sk-parallel-item::after {content: \"\";width: 100%;border-bottom: 1px solid gray;flex-grow: 1;}#sk-container-id-6 div.sk-label:hover label.sk-toggleable__label {background-color: #d4ebff;}#sk-container-id-6 div.sk-serial::before {content: \"\";position: absolute;border-left: 1px solid gray;box-sizing: border-box;top: 0;bottom: 0;left: 50%;z-index: 0;}#sk-container-id-6 div.sk-serial {display: flex;flex-direction: column;align-items: center;background-color: white;padding-right: 0.2em;padding-left: 0.2em;position: relative;}#sk-container-id-6 div.sk-item {position: relative;z-index: 1;}#sk-container-id-6 div.sk-parallel {display: flex;align-items: stretch;justify-content: center;background-color: white;position: relative;}#sk-container-id-6 div.sk-item::before, #sk-container-id-6 div.sk-parallel-item::before {content: \"\";position: absolute;border-left: 1px solid gray;box-sizing: border-box;top: 0;bottom: 0;left: 50%;z-index: -1;}#sk-container-id-6 div.sk-parallel-item {display: flex;flex-direction: column;z-index: 1;position: relative;background-color: white;}#sk-container-id-6 div.sk-parallel-item:first-child::after {align-self: flex-end;width: 50%;}#sk-container-id-6 div.sk-parallel-item:last-child::after {align-self: flex-start;width: 50%;}#sk-container-id-6 div.sk-parallel-item:only-child::after {width: 0;}#sk-container-id-6 div.sk-dashed-wrapped {border: 1px dashed gray;margin: 0 0.4em 0.5em 0.4em;box-sizing: border-box;padding-bottom: 0.4em;background-color: white;}#sk-container-id-6 div.sk-label label {font-family: monospace;font-weight: bold;display: inline-block;line-height: 1.2em;}#sk-container-id-6 div.sk-label-container {text-align: center;}#sk-container-id-6 div.sk-container {/* jupyter's `normalize.less` sets `[hidden] { display: none; }` but bootstrap.min.css set `[hidden] { display: none !important; }` so we also need the `!important` here to be able to override the default hidden behavior on the sphinx rendered scikit-learn.org. See: https://github.com/scikit-learn/scikit-learn/issues/21755 */display: inline-block !important;position: relative;}#sk-container-id-6 div.sk-text-repr-fallback {display: none;}</style><div id=\"sk-container-id-6\" class=\"sk-top-container\"><div class=\"sk-text-repr-fallback\"><pre>LogisticRegression(multi_class=&#x27;multinomial&#x27;)</pre><b>In a Jupyter environment, please rerun this cell to show the HTML representation or trust the notebook. <br />On GitHub, the HTML representation is unable to render, please try loading this page with nbviewer.org.</b></div><div class=\"sk-container\" hidden><div class=\"sk-item\"><div class=\"sk-estimator sk-toggleable\"><input class=\"sk-toggleable__control sk-hidden--visually\" id=\"sk-estimator-id-6\" type=\"checkbox\" checked><label for=\"sk-estimator-id-6\" class=\"sk-toggleable__label sk-toggleable__label-arrow\">LogisticRegression</label><div class=\"sk-toggleable__content\"><pre>LogisticRegression(multi_class=&#x27;multinomial&#x27;)</pre></div></div></div></div></div>"
      ],
      "text/plain": [
       "LogisticRegression(multi_class='multinomial')"
      ]
     },
     "execution_count": 61,
     "metadata": {},
     "output_type": "execute_result"
    }
   ],
   "source": [
    "model = LogisticRegression(multi_class='multinomial')\n",
    "model.fit(X_train,y_train)"
   ]
  },
  {
   "cell_type": "code",
   "execution_count": 62,
   "id": "a8767b70",
   "metadata": {
    "ExecuteTime": {
     "end_time": "2022-06-10T13:17:08.276916Z",
     "start_time": "2022-06-10T13:17:08.255917Z"
    },
    "execution": {
     "iopub.execute_input": "2024-03-11T01:45:30.443319Z",
     "iopub.status.busy": "2024-03-11T01:45:30.441402Z",
     "iopub.status.idle": "2024-03-11T01:45:30.475233Z",
     "shell.execute_reply": "2024-03-11T01:45:30.473238Z",
     "shell.execute_reply.started": "2024-03-11T01:45:30.443319Z"
    }
   },
   "outputs": [
    {
     "data": {
      "text/plain": [
       "array([1, 0, 2, 2, 1, 1, 1, 1, 0, 0, 1, 0, 1, 1, 2, 0, 1, 2, 1, 0, 2, 0,\n",
       "       0])"
      ]
     },
     "metadata": {},
     "output_type": "display_data"
    },
    {
     "data": {
      "text/plain": [
       "array([1, 0, 2, 2, 1, 1, 1, 1, 0, 0, 1, 0, 1, 1, 2, 0, 1, 2, 1, 0, 2, 0,\n",
       "       0])"
      ]
     },
     "metadata": {},
     "output_type": "display_data"
    }
   ],
   "source": [
    "y_ = model.predict(X_test)\n",
    "display(y_,y_test)"
   ]
  },
  {
   "cell_type": "code",
   "execution_count": 63,
   "id": "4f508d19",
   "metadata": {
    "ExecuteTime": {
     "end_time": "2022-06-10T13:17:26.286701Z",
     "start_time": "2022-06-10T13:17:26.273701Z"
    },
    "execution": {
     "iopub.execute_input": "2024-03-11T01:45:35.997192Z",
     "iopub.status.busy": "2024-03-11T01:45:35.996245Z",
     "iopub.status.idle": "2024-03-11T01:45:36.037130Z",
     "shell.execute_reply": "2024-03-11T01:45:36.035135Z",
     "shell.execute_reply.started": "2024-03-11T01:45:35.997192Z"
    }
   },
   "outputs": [
    {
     "data": {
      "text/plain": [
       "array([[0.00466207, 0.87946311, 0.11587482],\n",
       "       [0.967516  , 0.03248394, 0.00000006],\n",
       "       [0.0000023 , 0.02801864, 0.97197906],\n",
       "       [0.00001235, 0.02703777, 0.97294988],\n",
       "       [0.08930845, 0.90649208, 0.00419947],\n",
       "       [0.10306836, 0.88552295, 0.01140868],\n",
       "       [0.02633957, 0.91208239, 0.06157804],\n",
       "       [0.00347208, 0.85782316, 0.13870476],\n",
       "       [0.97294757, 0.02705237, 0.00000006],\n",
       "       [0.98473049, 0.0152695 , 0.00000001],\n",
       "       [0.17209119, 0.82429216, 0.00361665],\n",
       "       [0.95149088, 0.04850899, 0.00000013],\n",
       "       [0.04603368, 0.93743493, 0.01653138],\n",
       "       [0.2025912 , 0.79391665, 0.00349216],\n",
       "       [0.00281914, 0.44929746, 0.5478834 ],\n",
       "       [0.96787671, 0.03212324, 0.00000005],\n",
       "       [0.00129886, 0.56388559, 0.43481554],\n",
       "       [0.00002325, 0.0390884 , 0.96088835],\n",
       "       [0.02964234, 0.92119065, 0.04916701],\n",
       "       [0.99502669, 0.0049733 , 0.        ],\n",
       "       [0.00001109, 0.05073846, 0.94925045],\n",
       "       [0.94999424, 0.05000548, 0.00000028],\n",
       "       [0.9849133 , 0.01508667, 0.00000002]])"
      ]
     },
     "execution_count": 63,
     "metadata": {},
     "output_type": "execute_result"
    }
   ],
   "source": [
    "model.predict_proba(X_test)   # 和为 1"
   ]
  },
  {
   "cell_type": "markdown",
   "id": "a81884e8",
   "metadata": {},
   "source": [
    "### 手动计算概率，softmax函数"
   ]
  },
  {
   "cell_type": "code",
   "execution_count": 64,
   "id": "41def878",
   "metadata": {
    "ExecuteTime": {
     "end_time": "2022-06-10T13:24:37.656170Z",
     "start_time": "2022-06-10T13:24:37.633247Z"
    },
    "execution": {
     "iopub.execute_input": "2024-03-11T01:46:18.331278Z",
     "iopub.status.busy": "2024-03-11T01:46:18.318786Z",
     "iopub.status.idle": "2024-03-11T01:46:18.370447Z",
     "shell.execute_reply": "2024-03-11T01:46:18.368453Z",
     "shell.execute_reply.started": "2024-03-11T01:46:18.330280Z"
    }
   },
   "outputs": [
    {
     "data": {
      "text/plain": [
       "array([[-0.43850603,  0.89117888, -2.3958725 , -1.00474538],\n",
       "       [ 0.48063005, -0.19680695, -0.22594196, -0.88935853],\n",
       "       [-0.04212402, -0.69437193,  2.62181447,  1.89410391]])"
      ]
     },
     "metadata": {},
     "output_type": "display_data"
    },
    {
     "data": {
      "text/plain": [
       "array([  9.81926892,   2.01629881, -11.83556773])"
      ]
     },
     "metadata": {},
     "output_type": "display_data"
    }
   ],
   "source": [
    "w_ = model.coef_\n",
    "b_ = model.intercept_\n",
    "display(w_,b_)"
   ]
  },
  {
   "cell_type": "code",
   "execution_count": 65,
   "id": "587c9a45",
   "metadata": {
    "ExecuteTime": {
     "end_time": "2022-06-10T13:32:13.991375Z",
     "start_time": "2022-06-10T13:32:13.984426Z"
    },
    "execution": {
     "iopub.execute_input": "2024-03-11T01:59:47.447226Z",
     "iopub.status.busy": "2024-03-11T01:59:47.445270Z",
     "iopub.status.idle": "2024-03-11T01:59:47.659141Z",
     "shell.execute_reply": "2024-03-11T01:59:47.657614Z",
     "shell.execute_reply.started": "2024-03-11T01:59:47.446233Z"
    }
   },
   "outputs": [
    {
     "data": {
      "text/plain": [
       "array([[0.00466207, 0.87946311, 0.11587482],\n",
       "       [0.967516  , 0.03248394, 0.00000006],\n",
       "       [0.0000023 , 0.02801864, 0.97197906],\n",
       "       [0.00001235, 0.02703777, 0.97294988],\n",
       "       [0.08930845, 0.90649208, 0.00419947],\n",
       "       [0.10306836, 0.88552295, 0.01140868],\n",
       "       [0.02633957, 0.91208239, 0.06157804],\n",
       "       [0.00347208, 0.85782316, 0.13870476],\n",
       "       [0.97294757, 0.02705237, 0.00000006],\n",
       "       [0.98473049, 0.0152695 , 0.00000001],\n",
       "       [0.17209119, 0.82429216, 0.00361665],\n",
       "       [0.95149088, 0.04850899, 0.00000013],\n",
       "       [0.04603368, 0.93743493, 0.01653138],\n",
       "       [0.2025912 , 0.79391665, 0.00349216],\n",
       "       [0.00281914, 0.44929746, 0.5478834 ],\n",
       "       [0.96787671, 0.03212324, 0.00000005],\n",
       "       [0.00129886, 0.56388559, 0.43481554],\n",
       "       [0.00002325, 0.0390884 , 0.96088835],\n",
       "       [0.02964234, 0.92119065, 0.04916701],\n",
       "       [0.99502669, 0.0049733 , 0.        ],\n",
       "       [0.00001109, 0.05073846, 0.94925045],\n",
       "       [0.94999424, 0.05000548, 0.00000028],\n",
       "       [0.9849133 , 0.01508667, 0.00000002]])"
      ]
     },
     "execution_count": 65,
     "metadata": {},
     "output_type": "execute_result"
    }
   ],
   "source": [
    "np.set_printoptions(suppress=True)\n",
    "\n",
    "z = X_test.dot(w_.T) + b_\n",
    "\n",
    "def softmax(z):\n",
    "    return np.exp(z)/(np.exp(z).sum(axis = 1)).reshape(-1,1)  # np.exp(z)还可以写成 np.e**z\n",
    "\n",
    "softmax(z)"
   ]
  },
  {
   "cell_type": "markdown",
   "id": "da1d1cb6-2358-49e7-b42e-a1d6a20eded5",
   "metadata": {},
   "source": [
    "# 演示np.sum()的axis"
   ]
  },
  {
   "cell_type": "code",
   "execution_count": 66,
   "id": "294a7a72",
   "metadata": {
    "ExecuteTime": {
     "end_time": "2022-06-10T13:33:59.213721Z",
     "start_time": "2022-06-10T13:33:59.196025Z"
    },
    "execution": {
     "iopub.execute_input": "2024-03-11T02:04:12.803397Z",
     "iopub.status.busy": "2024-03-11T02:04:12.800411Z",
     "iopub.status.idle": "2024-03-11T02:04:12.850393Z",
     "shell.execute_reply": "2024-03-11T02:04:12.849276Z",
     "shell.execute_reply.started": "2024-03-11T02:04:12.803397Z"
    }
   },
   "outputs": [
    {
     "data": {
      "text/plain": [
       "array([[3, 1, 6],\n",
       "       [6, 0, 8],\n",
       "       [5, 8, 9],\n",
       "       [8, 5, 7],\n",
       "       [8, 4, 9]])"
      ]
     },
     "execution_count": 66,
     "metadata": {},
     "output_type": "execute_result"
    }
   ],
   "source": [
    "A = np.random.randint(0,10,size = (5,3))\n",
    "A"
   ]
  },
  {
   "cell_type": "code",
   "execution_count": 67,
   "id": "0b8cb540-9aac-4322-8cf6-57bf613d6a04",
   "metadata": {
    "execution": {
     "iopub.execute_input": "2024-03-11T02:04:24.520345Z",
     "iopub.status.busy": "2024-03-11T02:04:24.519346Z",
     "iopub.status.idle": "2024-03-11T02:04:24.555699Z",
     "shell.execute_reply": "2024-03-11T02:04:24.551668Z",
     "shell.execute_reply.started": "2024-03-11T02:04:24.520345Z"
    }
   },
   "outputs": [
    {
     "data": {
      "text/plain": [
       "87"
      ]
     },
     "execution_count": 67,
     "metadata": {},
     "output_type": "execute_result"
    }
   ],
   "source": [
    "A.sum()"
   ]
  },
  {
   "cell_type": "code",
   "execution_count": 68,
   "id": "ecefdb4c",
   "metadata": {
    "ExecuteTime": {
     "end_time": "2022-06-10T13:34:21.756749Z",
     "start_time": "2022-06-10T13:34:21.740310Z"
    },
    "execution": {
     "iopub.execute_input": "2024-03-11T02:04:33.250549Z",
     "iopub.status.busy": "2024-03-11T02:04:33.248557Z",
     "iopub.status.idle": "2024-03-11T02:04:33.272751Z",
     "shell.execute_reply": "2024-03-11T02:04:33.266508Z",
     "shell.execute_reply.started": "2024-03-11T02:04:33.249553Z"
    }
   },
   "outputs": [
    {
     "data": {
      "text/plain": [
       "array([30, 18, 39])"
      ]
     },
     "execution_count": 68,
     "metadata": {},
     "output_type": "execute_result"
    }
   ],
   "source": [
    "A.sum(axis = 0)"
   ]
  },
  {
   "cell_type": "code",
   "execution_count": 69,
   "id": "d3621c78",
   "metadata": {
    "execution": {
     "iopub.execute_input": "2024-03-11T02:04:46.912778Z",
     "iopub.status.busy": "2024-03-11T02:04:46.912778Z",
     "iopub.status.idle": "2024-03-11T02:04:46.956157Z",
     "shell.execute_reply": "2024-03-11T02:04:46.953166Z",
     "shell.execute_reply.started": "2024-03-11T02:04:46.912778Z"
    }
   },
   "outputs": [
    {
     "data": {
      "text/plain": [
       "array([10, 14, 22, 20, 21])"
      ]
     },
     "execution_count": 69,
     "metadata": {},
     "output_type": "execute_result"
    }
   ],
   "source": [
    "A.sum(axis = 1)"
   ]
  }
 ],
 "metadata": {
  "hide_input": false,
  "kernelspec": {
   "display_name": "Python 3 (ipykernel)",
   "language": "python",
   "name": "python3"
  },
  "language_info": {
   "codemirror_mode": {
    "name": "ipython",
    "version": 3
   },
   "file_extension": ".py",
   "mimetype": "text/x-python",
   "name": "python",
   "nbconvert_exporter": "python",
   "pygments_lexer": "ipython3",
   "version": "3.10.13"
  },
  "toc": {
   "base_numbering": 1,
   "nav_menu": {},
   "number_sections": true,
   "sideBar": true,
   "skip_h1_title": false,
   "title_cell": "Table of Contents",
   "title_sidebar": "Contents",
   "toc_cell": false,
   "toc_position": {
    "height": "calc(100% - 180px)",
    "left": "10px",
    "top": "150px",
    "width": "256px"
   },
   "toc_section_display": true,
   "toc_window_display": true
  }
 },
 "nbformat": 4,
 "nbformat_minor": 5
}
